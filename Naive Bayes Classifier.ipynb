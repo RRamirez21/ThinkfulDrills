{
  "nbformat": 4,
  "nbformat_minor": 0,
  "metadata": {
    "colab": {
      "name": "Challenge:Feedback_Analysis.ipynb",
      "version": "0.3.2",
      "provenance": [],
      "collapsed_sections": []
    },
    "kernelspec": {
      "name": "python3",
      "display_name": "Python 3"
    }
  },
  "cells": [
    {
      "metadata": {
        "id": "r9nnjpklle4M",
        "colab_type": "text"
      },
      "cell_type": "markdown",
      "source": [
        "# Challenge: Feedback Analysis\n",
        "\n",
        "We've mentioned that Naive Bayes is particularly good for text classification problems. Before we made a spam filter. Now we'll perform a sentiment analysis, classifying whether feedback left on a website is either positive or negative.\n",
        "\n",
        "Again the UCI Machine Learning database has a [nice labeled dataset of sentiment](https://archive.ics.uci.edu/ml/datasets/Sentiment+Labelled+Sentences) labelled sentences for us to use. This dataset was created for the paper. [From Group to Individual Labels using Deep Features](http://mdenil.com/media/papers/2015-deep-multi-instance-learning.pdf), Kotzias et. al., KDD 2015.\n",
        "\n",
        "Pick one of the company data files and build your own classifier. When you're satisfied with its performance (at this point just using the accuracy measure shown in the example), test it on one of the other datasets to see how well these kinds of classifiers translate from one context to another. Include your model and a brief writeup of your feature engineering and selection process."
      ]
    },
    {
      "metadata": {
        "id": "Y1dK5qY9mNe1",
        "colab_type": "code",
        "colab": {}
      },
      "cell_type": "code",
      "source": [
        "%matplotlib inline\n",
        "import numpy as np\n",
        "import pandas as pd\n",
        "import scipy\n",
        "import sklearn\n",
        "import matplotlib.pyplot as plt\n",
        "import seaborn as sns"
      ],
      "execution_count": 0,
      "outputs": []
    },
    {
      "metadata": {
        "id": "DswZGpxPmUhm",
        "colab_type": "code",
        "colab": {}
      },
      "cell_type": "code",
      "source": [
        "data_path = (\"https://raw.githubusercontent.com/RRamirez21/ThinkfulDrills/master/imdb_labelled.txt\")\n",
        "sms_raw = pd.read_csv(data_path, delimiter= '\\t', header=None)\n",
        "sms_raw.columns = ['statement', 'positive']"
      ],
      "execution_count": 0,
      "outputs": []
    },
    {
      "metadata": {
        "id": "YKN_qjADilLE",
        "colab_type": "code",
        "outputId": "8d699fce-90e6-4a83-a154-4aa048665b1e",
        "colab": {
          "base_uri": "https://localhost:8080/",
          "height": 142
        }
      },
      "cell_type": "code",
      "source": [
        "sms_raw.head(3)"
      ],
      "execution_count": 33,
      "outputs": [
        {
          "output_type": "execute_result",
          "data": {
            "text/html": [
              "<div>\n",
              "<style scoped>\n",
              "    .dataframe tbody tr th:only-of-type {\n",
              "        vertical-align: middle;\n",
              "    }\n",
              "\n",
              "    .dataframe tbody tr th {\n",
              "        vertical-align: top;\n",
              "    }\n",
              "\n",
              "    .dataframe thead th {\n",
              "        text-align: right;\n",
              "    }\n",
              "</style>\n",
              "<table border=\"1\" class=\"dataframe\">\n",
              "  <thead>\n",
              "    <tr style=\"text-align: right;\">\n",
              "      <th></th>\n",
              "      <th>statement</th>\n",
              "      <th>positive</th>\n",
              "    </tr>\n",
              "  </thead>\n",
              "  <tbody>\n",
              "    <tr>\n",
              "      <th>0</th>\n",
              "      <td>A very, very, very slow-moving, aimless movie ...</td>\n",
              "      <td>0</td>\n",
              "    </tr>\n",
              "    <tr>\n",
              "      <th>1</th>\n",
              "      <td>Not sure who was more lost - the flat characte...</td>\n",
              "      <td>0</td>\n",
              "    </tr>\n",
              "    <tr>\n",
              "      <th>2</th>\n",
              "      <td>Attempting artiness with black &amp; white and cle...</td>\n",
              "      <td>0</td>\n",
              "    </tr>\n",
              "  </tbody>\n",
              "</table>\n",
              "</div>"
            ],
            "text/plain": [
              "                                           statement  positive\n",
              "0  A very, very, very slow-moving, aimless movie ...         0\n",
              "1  Not sure who was more lost - the flat characte...         0\n",
              "2  Attempting artiness with black & white and cle...         0"
            ]
          },
          "metadata": {
            "tags": []
          },
          "execution_count": 33
        }
      ]
    },
    {
      "metadata": {
        "id": "vZ00QpIgBNQ2",
        "colab_type": "text"
      },
      "cell_type": "markdown",
      "source": [
        "We remove the casing and punctuation from our statement feature, as we don't believe that it will affect the prediction of whether a statement has a positive or negative sentiment."
      ]
    },
    {
      "metadata": {
        "id": "pYuSCDwGfmdO",
        "colab_type": "code",
        "colab": {}
      },
      "cell_type": "code",
      "source": [
        "sms_raw['statement'] = sms_raw['statement'].str.lower()"
      ],
      "execution_count": 0,
      "outputs": []
    },
    {
      "metadata": {
        "id": "kxkQviiDfsyG",
        "colab_type": "code",
        "outputId": "ec23d2cc-ecbc-48b4-d884-84f298195b61",
        "colab": {
          "base_uri": "https://localhost:8080/",
          "height": 34
        }
      },
      "cell_type": "code",
      "source": [
        "sms_raw['positive'].unique()"
      ],
      "execution_count": 47,
      "outputs": [
        {
          "output_type": "execute_result",
          "data": {
            "text/plain": [
              "array([0, 1])"
            ]
          },
          "metadata": {
            "tags": []
          },
          "execution_count": 47
        }
      ]
    },
    {
      "metadata": {
        "id": "4kDIoUOhA-uo",
        "colab_type": "code",
        "outputId": "0a79b0df-3131-49a2-a2a8-ae1be9bfb73c",
        "colab": {
          "base_uri": "https://localhost:8080/",
          "height": 85
        }
      },
      "cell_type": "code",
      "source": [
        "sms_raw['statement'].head(3)"
      ],
      "execution_count": 48,
      "outputs": [
        {
          "output_type": "execute_result",
          "data": {
            "text/plain": [
              "0    a very, very, very slow-moving, aimless movie ...\n",
              "1    not sure who was more lost - the flat characte...\n",
              "2    attempting artiness with black & white and cle...\n",
              "Name: statement, dtype: object"
            ]
          },
          "metadata": {
            "tags": []
          },
          "execution_count": 48
        }
      ]
    },
    {
      "metadata": {
        "id": "juIbcqHqBUl-",
        "colab_type": "code",
        "outputId": "e9e2bb33-c2bf-4516-da98-e73e0d66411d",
        "colab": {
          "base_uri": "https://localhost:8080/",
          "height": 34
        }
      },
      "cell_type": "code",
      "source": [
        "sms_raw.shape[0]"
      ],
      "execution_count": 49,
      "outputs": [
        {
          "output_type": "execute_result",
          "data": {
            "text/plain": [
              "748"
            ]
          },
          "metadata": {
            "tags": []
          },
          "execution_count": 49
        }
      ]
    },
    {
      "metadata": {
        "id": "Thq7-9nKBZZN",
        "colab_type": "text"
      },
      "cell_type": "markdown",
      "source": [
        "The dataset is well balanced, with a ~2% difference in the number of negative vs positive comments."
      ]
    },
    {
      "metadata": {
        "id": "sxZggTOVBhbk",
        "colab_type": "code",
        "outputId": "edbfcebc-d5a5-4786-fb4a-bbe7957b4e4d",
        "colab": {
          "base_uri": "https://localhost:8080/",
          "height": 34
        }
      },
      "cell_type": "code",
      "source": [
        "percentageOfPositiveComments = (sms_raw['positive'].sum() / sms_raw.shape[0]) * 100\n",
        "print(\"The percentage of ṕositive comments is \" + str(percentageOfPositiveComments) )"
      ],
      "execution_count": 50,
      "outputs": [
        {
          "output_type": "stream",
          "text": [
            "The percentage of ṕositive comments is 51.60427807486631\n"
          ],
          "name": "stdout"
        }
      ]
    },
    {
      "metadata": {
        "id": "c_fwr8NoHyJB",
        "colab_type": "text"
      },
      "cell_type": "markdown",
      "source": [
        "We use a simple group of keywords to identify positive statements and compare to the actual percentage of positive comments known above."
      ]
    },
    {
      "metadata": {
        "id": "W-ojvfFaksid",
        "colab_type": "code",
        "colab": {}
      },
      "cell_type": "code",
      "source": [
        "keywords = ['best', 'good', 'great', 'exciting', 'excellent', 'awesome', 'cool', 'amazing', 'well', 'better', 'memorable', 'unforgettable', 'moving']\n",
        "\n",
        "for key in keywords:\n",
        "\n",
        "    sms_raw[str(key)] = sms_raw.statement.str.contains(\n",
        "        ' ' + str(key) + ' ',\n",
        "        case=False\n",
        "    )"
      ],
      "execution_count": 0,
      "outputs": []
    },
    {
      "metadata": {
        "id": "hu5-DFhFunaB",
        "colab_type": "code",
        "outputId": "eae95ad6-a41b-496b-8bd5-7061d743a196",
        "colab": {
          "base_uri": "https://localhost:8080/",
          "height": 331
        }
      },
      "cell_type": "code",
      "source": [
        "sns.heatmap(sms_raw.corr())"
      ],
      "execution_count": 41,
      "outputs": [
        {
          "output_type": "execute_result",
          "data": {
            "text/plain": [
              "<matplotlib.axes._subplots.AxesSubplot at 0x7f97e6cc22b0>"
            ]
          },
          "metadata": {
            "tags": []
          },
          "execution_count": 41
        },
        {
          "output_type": "display_data",
          "data": {
            "image/png": "[encoded data removed]",
            "text/plain": [
              "<matplotlib.figure.Figure at 0x7f97e6c2aef0>"
            ]
          },
          "metadata": {
            "tags": []
          }
        }
      ]
    },
    {
      "metadata": {
        "id": "h101udiYm-VM",
        "colab_type": "code",
        "colab": {}
      },
      "cell_type": "code",
      "source": [
        "data = sms_raw[keywords]\n",
        "target = sms_raw['positive']"
      ],
      "execution_count": 0,
      "outputs": []
    },
    {
      "metadata": {
        "id": "fo-f3YfiBX3H",
        "colab_type": "code",
        "outputId": "190b0a6e-5ba9-4c6b-8072-d120a86fc1f1",
        "colab": {
          "base_uri": "https://localhost:8080/",
          "height": 34
        }
      },
      "cell_type": "code",
      "source": [
        "from sklearn.naive_bayes import BernoulliNB\n",
        "\n",
        "bnb = BernoulliNB()\n",
        "\n",
        "bnb.fit(data, target)\n",
        "\n",
        "y_pred = bnb.predict(data)\n",
        "\n",
        "print(\"Number of mislabeled points out of a total {} points : {}\".format(\n",
        "    data.shape[0],\n",
        "    (target != y_pred).sum()\n",
        "))"
      ],
      "execution_count": 54,
      "outputs": [
        {
          "output_type": "stream",
          "text": [
            "Number of mislabeled points out of a total 748 points : 331\n"
          ],
          "name": "stdout"
        }
      ]
    }
  ]
}
