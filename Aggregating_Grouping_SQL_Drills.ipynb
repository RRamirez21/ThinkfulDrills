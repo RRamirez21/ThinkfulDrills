{
  "nbformat": 4,
  "nbformat_minor": 0,
  "metadata": {
    "colab": {
      "name": "Aggregating_Grouping_SQL_Drills.ipynb",
      "version": "0.3.2",
      "provenance": [],
      "collapsed_sections": []
    },
    "kernelspec": {
      "name": "python3",
      "display_name": "Python 3"
    }
  },
  "cells": [
    {
      "metadata": {
        "id": "YdRo2j8HU3Lk",
        "colab_type": "text"
      },
      "cell_type": "markdown",
      "source": [
        "#Aggregating and Grouping SQL Drills\n",
        "1. What was the hottest day in our data set? Where was that?\n",
        "2. How many trips started at each station?\n",
        "3. What's the shortest trip that happened?\n",
        "4. What is the average trip duration, by end station?"
      ]
    },
    {
      "metadata": {
        "id": "zO6hsIOPUzKI",
        "colab_type": "code",
        "colab": {}
      },
      "cell_type": "code",
      "source": [
        "SELECT \n",
        "  MAX(MaxTemperatureF)\n",
        "FROM weather\n",
        "#Returns 134\n",
        "SELECT\n",
        "  ZIP\n",
        "FROM \n",
        "  weather\n",
        "WHERE \n",
        "  MaxTemperatureF = 134\n",
        "#Returns 94063"
      ],
      "execution_count": 0,
      "outputs": []
    },
    {
      "metadata": {
        "id": "k9q3qKFIVHq3",
        "colab_type": "code",
        "colab": {}
      },
      "cell_type": "code",
      "source": [
        "SELECT\n",
        "\tCOUNT(start_station)\n",
        "FROM\n",
        "\ttrips\n",
        "#Returns 313689"
      ],
      "execution_count": 0,
      "outputs": []
    },
    {
      "metadata": {
        "id": "hzX5RfMAVK04",
        "colab_type": "code",
        "colab": {}
      },
      "cell_type": "code",
      "source": [
        "SELECT\n",
        "  MIN(duration)\n",
        "FROM\n",
        "  trips\n",
        "#Returns 60\n",
        "SELECT\n",
        "  trip_id\n",
        "FROM \n",
        "  trips\n",
        "WHERE \n",
        "  duration = 60\n",
        "#Returns 22 occurences of this trip"
      ],
      "execution_count": 0,
      "outputs": []
    },
    {
      "metadata": {
        "id": "dcTQV_ElVLOP",
        "colab_type": "code",
        "colab": {}
      },
      "cell_type": "code",
      "source": [
        "SELECT\n",
        "  AVG(duration)\n",
        "FROM \n",
        "  trips\n",
        "GROUP BY\n",
        "  end_station\n",
        "#Returns 80 total values, 1 for the average duration of each end_station"
      ],
      "execution_count": 0,
      "outputs": []
    }
  ]
}