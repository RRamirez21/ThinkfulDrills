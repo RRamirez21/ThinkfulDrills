{
  "nbformat": 4,
  "nbformat_minor": 0,
  "metadata": {
    "colab": {
      "name": "Tuning_KNN.ipynb",
      "version": "0.3.2",
      "provenance": [],
      "collapsed_sections": []
    },
    "kernelspec": {
      "name": "python3",
      "display_name": "Python 3"
    }
  },
  "cells": [
    {
      "metadata": {
        "id": "s8B5Qb98KIIS",
        "colab_type": "text"
      },
      "cell_type": "markdown",
      "source": [
        "# DRILL:\n",
        "Let's say we work at a credit card company and we're trying to figure out if people are going to pay their bills on time. We have everyone's purchases, split into four main categories: groceries, dining out, utilities, and entertainment. What are some ways you might use KNN to create this model? What aspects of KNN would be useful? Write up your thoughts in submit a link below."
      ]
    },
    {
      "metadata": {
        "id": "x0Pk89-sKNRe",
        "colab_type": "text"
      },
      "cell_type": "markdown",
      "source": [
        "With KNN, we can use our past customer data to create a model that will tell us how likely a person is to pay their bills on time, based on their spending habits in each of the four categories. \n",
        "\n",
        "KNN looks at the $k$ nearests datapoint to predict an outcome variable. Each of the $k$ neighbors gets to vote on what the predicted outcome is. The higher the number of $k$ considered, the \"smoother\" our predictions are, making them less sensitive to the values of outlying points. Features with lower ranges of values are more likely to influence the neighboring metric. Given the different ranges our four features, we should attempt to normalize the data to rescale all ranges to lie within a bound (0, 1). Once the model is fine-tuned, the credit card company can use the predictions to estimate their revenue and update their budgets and/or business model accordingly. A helpful aspect of KNN is that it allows the production of complex and non-linear decision boundaries, while maintaining a high interpretability of the model, like in the example shown in the image below. ![](https://github.com/andandandand/images-for-colab-notebooks/blob/master/knn-decision-boundary.png?raw=true)"
      ]
    }
  ]
}