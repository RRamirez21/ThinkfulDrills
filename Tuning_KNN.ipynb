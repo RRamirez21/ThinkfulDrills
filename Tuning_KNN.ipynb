{
  "nbformat": 4,
  "nbformat_minor": 0,
  "metadata": {
    "colab": {
      "name": "Tuning_KNN.ipynb",
      "version": "0.3.2",
      "provenance": [],
      "collapsed_sections": []
    },
    "kernelspec": {
      "name": "python3",
      "display_name": "Python 3"
    }
  },
  "cells": [
    {
      "metadata": {
        "id": "s8B5Qb98KIIS",
        "colab_type": "text"
      },
      "cell_type": "markdown",
      "source": [
        "# DRILL:\n",
        "Let's say we work at a credit card company and we're trying to figure out if people are going to pay their bills on time. We have everyone's purchases, split into four main categories: groceries, dining out, utilities, and entertainment. What are some ways you might use KNN to create this model? What aspects of KNN would be useful? Write up your thoughts in submit a link below."
      ]
    },
    {
      "metadata": {
        "id": "x0Pk89-sKNRe",
        "colab_type": "text"
      },
      "cell_type": "markdown",
      "source": [
        "With KNN, we can use our past customer data to create a model that will tell us how likely a person is to pay their bills on time, based on their spending habits in each of the four categories. \n",
        "\n",
        "Instead of looking at just the single nearest datapoint to predict an outcome, we look at several of the nearest neighbors, with k representing the number of neighbors we choose to look at. Each of the k neighbors gets to vote on what the predicted outcome should be. This \"smooths\" out our predictions to keep outliers from skewing predictions.\n",
        "\n",
        "Given our four categories, we know that food is more of a necessity than entertainment so we expect that spending is likely higher for groceries and dining out. If we see that is the case, we may normalize the data to rescale within a bound (0, 1). Once the model is fine-tuned, the credit card company can use the predictions to estimate their revenue and update their budgets and/or business model accordingly. \n",
        "\n",
        "For example, if a person spends $200 or more on entertainment in a billing cycle, the model may predict they will not pay their bills on time. The credit card company can then create incentives to decrease entertainment spending, thereby increasing the likelihood that the customer pays their bills on time. They may also provide the customers with more time to pay their bill if they pass that threshold. In a more long term sense, a credit card company may create an agreement with some entertainment providers for them to subsidize a small portion of the consumers cost in exchange for the entertainment company seeing a steady stream of income."
      ]
    }
  ]
}