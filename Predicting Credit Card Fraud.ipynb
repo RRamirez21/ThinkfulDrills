{
  "nbformat": 4,
  "nbformat_minor": 0,
  "metadata": {
    "colab": {
      "name": "Predicting Credit Card Fraud.ipynb",
      "version": "0.3.2",
      "provenance": [],
      "collapsed_sections": []
    },
    "kernelspec": {
      "name": "python3",
      "display_name": "Python 3"
    }
  },
  "cells": [
    {
      "metadata": {
        "id": "adlv-Q_PCE1a",
        "colab_type": "text"
      },
      "cell_type": "markdown",
      "source": [
        "# Credit Card Fraud\n",
        "\n",
        "Using this [credit card fraud](https://www.kaggle.com/mlg-ulb/creditcardfraud) dataset develop an algorithm to predict fraud. Prioritize correctly finding fraud rather than correctly labeling non-fraudulent transactions.\n",
        "\n",
        "$$ \\textit{sensitivity}= \\textit{recall} = \\frac{tp}{tp + fn}$$ (picking all fraudulent transactions)\n",
        "\n",
        "\n",
        "$$ \\textit{precision} = \\frac{tp}{tp + fp}$$ labeling as fraudsters only people who are fraudsters (low false positives)\n",
        "\n",
        "\n",
        "$$ \\textit{specificity} = \\frac{tn}{tn + fn}$$ (correcly labeling non-fraudulent transactions as non-fraudulent )"
      ]
    },
    {
      "metadata": {
        "id": "PBZX501E8n0L",
        "colab_type": "code",
        "colab": {}
      },
      "cell_type": "code",
      "source": [
        "import numpy as np\n",
        "import pandas as pd\n",
        "import seaborn as sns\n",
        "import matplotlib.pyplot as plt\n",
        "from scipy import stats\n",
        "import time \n",
        "from sklearn import metrics\n",
        "import random\n",
        "import plotly.offline as py\n",
        "import plotly.graph_objs as go\n",
        "import warnings\n",
        "\n",
        "# Suppress annoying harmless error.\n",
        "warnings.filterwarnings(\n",
        "    action=\"ignore\")"
      ],
      "execution_count": 0,
      "outputs": []
    },
    {
      "metadata": {
        "id": "YpZKjRxu9hh0",
        "colab_type": "code",
        "outputId": "3446d963-64b7-416f-e180-e8c5caae89a9",
        "colab": {
          "base_uri": "https://localhost:8080/",
          "height": 270
        }
      },
      "cell_type": "code",
      "source": [
        "credit_path = 'https://www.dropbox.com/s/wlw3ubszsteo69h/creditcard.csv?dl=1'\n",
        "df = pd.read_csv(credit_path)\n",
        "print (\"Shape of data: \", df.shape)\n",
        "display(df.head(5))"
      ],
      "execution_count": 0,
      "outputs": [
        {
          "output_type": "stream",
          "text": [
            "Shape of data:  (284807, 31)\n"
          ],
          "name": "stdout"
        },
        {
          "output_type": "display_data",
          "data": {
            "text/html": [
              "<div>\n",
              "<style scoped>\n",
              "    .dataframe tbody tr th:only-of-type {\n",
              "        vertical-align: middle;\n",
              "    }\n",
              "\n",
              "    .dataframe tbody tr th {\n",
              "        vertical-align: top;\n",
              "    }\n",
              "\n",
              "    .dataframe thead th {\n",
              "        text-align: right;\n",
              "    }\n",
              "</style>\n",
              "<table border=\"1\" class=\"dataframe\">\n",
              "  <thead>\n",
              "    <tr style=\"text-align: right;\">\n",
              "      <th></th>\n",
              "      <th>Time</th>\n",
              "      <th>V1</th>\n",
              "      <th>V2</th>\n",
              "      <th>V3</th>\n",
              "      <th>V4</th>\n",
              "      <th>V5</th>\n",
              "      <th>V6</th>\n",
              "      <th>V7</th>\n",
              "      <th>V8</th>\n",
              "      <th>V9</th>\n",
              "      <th>...</th>\n",
              "      <th>V21</th>\n",
              "      <th>V22</th>\n",
              "      <th>V23</th>\n",
              "      <th>V24</th>\n",
              "      <th>V25</th>\n",
              "      <th>V26</th>\n",
              "      <th>V27</th>\n",
              "      <th>V28</th>\n",
              "      <th>Amount</th>\n",
              "      <th>Class</th>\n",
              "    </tr>\n",
              "  </thead>\n",
              "  <tbody>\n",
              "    <tr>\n",
              "      <th>0</th>\n",
              "      <td>0.0</td>\n",
              "      <td>-1.359807</td>\n",
              "      <td>-0.072781</td>\n",
              "      <td>2.536347</td>\n",
              "      <td>1.378155</td>\n",
              "      <td>-0.338321</td>\n",
              "      <td>0.462388</td>\n",
              "      <td>0.239599</td>\n",
              "      <td>0.098698</td>\n",
              "      <td>0.363787</td>\n",
              "      <td>...</td>\n",
              "      <td>-0.018307</td>\n",
              "      <td>0.277838</td>\n",
              "      <td>-0.110474</td>\n",
              "      <td>0.066928</td>\n",
              "      <td>0.128539</td>\n",
              "      <td>-0.189115</td>\n",
              "      <td>0.133558</td>\n",
              "      <td>-0.021053</td>\n",
              "      <td>149.62</td>\n",
              "      <td>0</td>\n",
              "    </tr>\n",
              "    <tr>\n",
              "      <th>1</th>\n",
              "      <td>0.0</td>\n",
              "      <td>1.191857</td>\n",
              "      <td>0.266151</td>\n",
              "      <td>0.166480</td>\n",
              "      <td>0.448154</td>\n",
              "      <td>0.060018</td>\n",
              "      <td>-0.082361</td>\n",
              "      <td>-0.078803</td>\n",
              "      <td>0.085102</td>\n",
              "      <td>-0.255425</td>\n",
              "      <td>...</td>\n",
              "      <td>-0.225775</td>\n",
              "      <td>-0.638672</td>\n",
              "      <td>0.101288</td>\n",
              "      <td>-0.339846</td>\n",
              "      <td>0.167170</td>\n",
              "      <td>0.125895</td>\n",
              "      <td>-0.008983</td>\n",
              "      <td>0.014724</td>\n",
              "      <td>2.69</td>\n",
              "      <td>0</td>\n",
              "    </tr>\n",
              "    <tr>\n",
              "      <th>2</th>\n",
              "      <td>1.0</td>\n",
              "      <td>-1.358354</td>\n",
              "      <td>-1.340163</td>\n",
              "      <td>1.773209</td>\n",
              "      <td>0.379780</td>\n",
              "      <td>-0.503198</td>\n",
              "      <td>1.800499</td>\n",
              "      <td>0.791461</td>\n",
              "      <td>0.247676</td>\n",
              "      <td>-1.514654</td>\n",
              "      <td>...</td>\n",
              "      <td>0.247998</td>\n",
              "      <td>0.771679</td>\n",
              "      <td>0.909412</td>\n",
              "      <td>-0.689281</td>\n",
              "      <td>-0.327642</td>\n",
              "      <td>-0.139097</td>\n",
              "      <td>-0.055353</td>\n",
              "      <td>-0.059752</td>\n",
              "      <td>378.66</td>\n",
              "      <td>0</td>\n",
              "    </tr>\n",
              "    <tr>\n",
              "      <th>3</th>\n",
              "      <td>1.0</td>\n",
              "      <td>-0.966272</td>\n",
              "      <td>-0.185226</td>\n",
              "      <td>1.792993</td>\n",
              "      <td>-0.863291</td>\n",
              "      <td>-0.010309</td>\n",
              "      <td>1.247203</td>\n",
              "      <td>0.237609</td>\n",
              "      <td>0.377436</td>\n",
              "      <td>-1.387024</td>\n",
              "      <td>...</td>\n",
              "      <td>-0.108300</td>\n",
              "      <td>0.005274</td>\n",
              "      <td>-0.190321</td>\n",
              "      <td>-1.175575</td>\n",
              "      <td>0.647376</td>\n",
              "      <td>-0.221929</td>\n",
              "      <td>0.062723</td>\n",
              "      <td>0.061458</td>\n",
              "      <td>123.50</td>\n",
              "      <td>0</td>\n",
              "    </tr>\n",
              "    <tr>\n",
              "      <th>4</th>\n",
              "      <td>2.0</td>\n",
              "      <td>-1.158233</td>\n",
              "      <td>0.877737</td>\n",
              "      <td>1.548718</td>\n",
              "      <td>0.403034</td>\n",
              "      <td>-0.407193</td>\n",
              "      <td>0.095921</td>\n",
              "      <td>0.592941</td>\n",
              "      <td>-0.270533</td>\n",
              "      <td>0.817739</td>\n",
              "      <td>...</td>\n",
              "      <td>-0.009431</td>\n",
              "      <td>0.798278</td>\n",
              "      <td>-0.137458</td>\n",
              "      <td>0.141267</td>\n",
              "      <td>-0.206010</td>\n",
              "      <td>0.502292</td>\n",
              "      <td>0.219422</td>\n",
              "      <td>0.215153</td>\n",
              "      <td>69.99</td>\n",
              "      <td>0</td>\n",
              "    </tr>\n",
              "  </tbody>\n",
              "</table>\n",
              "<p>5 rows × 31 columns</p>\n",
              "</div>"
            ],
            "text/plain": [
              "   Time        V1        V2        V3        V4        V5        V6        V7  \\\n",
              "0   0.0 -1.359807 -0.072781  2.536347  1.378155 -0.338321  0.462388  0.239599   \n",
              "1   0.0  1.191857  0.266151  0.166480  0.448154  0.060018 -0.082361 -0.078803   \n",
              "2   1.0 -1.358354 -1.340163  1.773209  0.379780 -0.503198  1.800499  0.791461   \n",
              "3   1.0 -0.966272 -0.185226  1.792993 -0.863291 -0.010309  1.247203  0.237609   \n",
              "4   2.0 -1.158233  0.877737  1.548718  0.403034 -0.407193  0.095921  0.592941   \n",
              "\n",
              "         V8        V9  ...         V21       V22       V23       V24  \\\n",
              "0  0.098698  0.363787  ...   -0.018307  0.277838 -0.110474  0.066928   \n",
              "1  0.085102 -0.255425  ...   -0.225775 -0.638672  0.101288 -0.339846   \n",
              "2  0.247676 -1.514654  ...    0.247998  0.771679  0.909412 -0.689281   \n",
              "3  0.377436 -1.387024  ...   -0.108300  0.005274 -0.190321 -1.175575   \n",
              "4 -0.270533  0.817739  ...   -0.009431  0.798278 -0.137458  0.141267   \n",
              "\n",
              "        V25       V26       V27       V28  Amount  Class  \n",
              "0  0.128539 -0.189115  0.133558 -0.021053  149.62      0  \n",
              "1  0.167170  0.125895 -0.008983  0.014724    2.69      0  \n",
              "2 -0.327642 -0.139097 -0.055353 -0.059752  378.66      0  \n",
              "3  0.647376 -0.221929  0.062723  0.061458  123.50      0  \n",
              "4 -0.206010  0.502292  0.219422  0.215153   69.99      0  \n",
              "\n",
              "[5 rows x 31 columns]"
            ]
          },
          "metadata": {
            "tags": []
          }
        }
      ]
    },
    {
      "metadata": {
        "id": "lw1fiR0_AYjL",
        "colab_type": "code",
        "outputId": "c3676664-a0b1-4170-a2ed-14089ef9c2ed",
        "colab": {
          "base_uri": "https://localhost:8080/",
          "height": 253
        }
      },
      "cell_type": "code",
      "source": [
        "df_norm = (df - df.min()) / (df.max() - df.min())\n",
        "display(df_norm.head(5))"
      ],
      "execution_count": 0,
      "outputs": [
        {
          "output_type": "display_data",
          "data": {
            "text/html": [
              "<div>\n",
              "<style scoped>\n",
              "    .dataframe tbody tr th:only-of-type {\n",
              "        vertical-align: middle;\n",
              "    }\n",
              "\n",
              "    .dataframe tbody tr th {\n",
              "        vertical-align: top;\n",
              "    }\n",
              "\n",
              "    .dataframe thead th {\n",
              "        text-align: right;\n",
              "    }\n",
              "</style>\n",
              "<table border=\"1\" class=\"dataframe\">\n",
              "  <thead>\n",
              "    <tr style=\"text-align: right;\">\n",
              "      <th></th>\n",
              "      <th>Time</th>\n",
              "      <th>V1</th>\n",
              "      <th>V2</th>\n",
              "      <th>V3</th>\n",
              "      <th>V4</th>\n",
              "      <th>V5</th>\n",
              "      <th>V6</th>\n",
              "      <th>V7</th>\n",
              "      <th>V8</th>\n",
              "      <th>V9</th>\n",
              "      <th>...</th>\n",
              "      <th>V21</th>\n",
              "      <th>V22</th>\n",
              "      <th>V23</th>\n",
              "      <th>V24</th>\n",
              "      <th>V25</th>\n",
              "      <th>V26</th>\n",
              "      <th>V27</th>\n",
              "      <th>V28</th>\n",
              "      <th>Amount</th>\n",
              "      <th>Class</th>\n",
              "    </tr>\n",
              "  </thead>\n",
              "  <tbody>\n",
              "    <tr>\n",
              "      <th>0</th>\n",
              "      <td>0.000000</td>\n",
              "      <td>0.935192</td>\n",
              "      <td>0.766490</td>\n",
              "      <td>0.881365</td>\n",
              "      <td>0.313023</td>\n",
              "      <td>0.763439</td>\n",
              "      <td>0.267669</td>\n",
              "      <td>0.266815</td>\n",
              "      <td>0.786444</td>\n",
              "      <td>0.475312</td>\n",
              "      <td>...</td>\n",
              "      <td>0.561184</td>\n",
              "      <td>0.522992</td>\n",
              "      <td>0.663793</td>\n",
              "      <td>0.391253</td>\n",
              "      <td>0.585122</td>\n",
              "      <td>0.394557</td>\n",
              "      <td>0.418976</td>\n",
              "      <td>0.312697</td>\n",
              "      <td>0.005824</td>\n",
              "      <td>0.0</td>\n",
              "    </tr>\n",
              "    <tr>\n",
              "      <th>1</th>\n",
              "      <td>0.000000</td>\n",
              "      <td>0.978542</td>\n",
              "      <td>0.770067</td>\n",
              "      <td>0.840298</td>\n",
              "      <td>0.271796</td>\n",
              "      <td>0.766120</td>\n",
              "      <td>0.262192</td>\n",
              "      <td>0.264875</td>\n",
              "      <td>0.786298</td>\n",
              "      <td>0.453981</td>\n",
              "      <td>...</td>\n",
              "      <td>0.557840</td>\n",
              "      <td>0.480237</td>\n",
              "      <td>0.666938</td>\n",
              "      <td>0.336440</td>\n",
              "      <td>0.587290</td>\n",
              "      <td>0.446013</td>\n",
              "      <td>0.416345</td>\n",
              "      <td>0.313423</td>\n",
              "      <td>0.000105</td>\n",
              "      <td>0.0</td>\n",
              "    </tr>\n",
              "    <tr>\n",
              "      <th>2</th>\n",
              "      <td>0.000006</td>\n",
              "      <td>0.935217</td>\n",
              "      <td>0.753118</td>\n",
              "      <td>0.868141</td>\n",
              "      <td>0.268766</td>\n",
              "      <td>0.762329</td>\n",
              "      <td>0.281122</td>\n",
              "      <td>0.270177</td>\n",
              "      <td>0.788042</td>\n",
              "      <td>0.410603</td>\n",
              "      <td>...</td>\n",
              "      <td>0.565477</td>\n",
              "      <td>0.546030</td>\n",
              "      <td>0.678939</td>\n",
              "      <td>0.289354</td>\n",
              "      <td>0.559515</td>\n",
              "      <td>0.402727</td>\n",
              "      <td>0.415489</td>\n",
              "      <td>0.311911</td>\n",
              "      <td>0.014739</td>\n",
              "      <td>0.0</td>\n",
              "    </tr>\n",
              "    <tr>\n",
              "      <th>3</th>\n",
              "      <td>0.000006</td>\n",
              "      <td>0.941878</td>\n",
              "      <td>0.765304</td>\n",
              "      <td>0.868484</td>\n",
              "      <td>0.213661</td>\n",
              "      <td>0.765647</td>\n",
              "      <td>0.275559</td>\n",
              "      <td>0.266803</td>\n",
              "      <td>0.789434</td>\n",
              "      <td>0.414999</td>\n",
              "      <td>...</td>\n",
              "      <td>0.559734</td>\n",
              "      <td>0.510277</td>\n",
              "      <td>0.662607</td>\n",
              "      <td>0.223826</td>\n",
              "      <td>0.614245</td>\n",
              "      <td>0.389197</td>\n",
              "      <td>0.417669</td>\n",
              "      <td>0.314371</td>\n",
              "      <td>0.004807</td>\n",
              "      <td>0.0</td>\n",
              "    </tr>\n",
              "    <tr>\n",
              "      <th>4</th>\n",
              "      <td>0.000012</td>\n",
              "      <td>0.938617</td>\n",
              "      <td>0.776520</td>\n",
              "      <td>0.864251</td>\n",
              "      <td>0.269796</td>\n",
              "      <td>0.762975</td>\n",
              "      <td>0.263984</td>\n",
              "      <td>0.268968</td>\n",
              "      <td>0.782484</td>\n",
              "      <td>0.490950</td>\n",
              "      <td>...</td>\n",
              "      <td>0.561327</td>\n",
              "      <td>0.547271</td>\n",
              "      <td>0.663392</td>\n",
              "      <td>0.401270</td>\n",
              "      <td>0.566343</td>\n",
              "      <td>0.507497</td>\n",
              "      <td>0.420561</td>\n",
              "      <td>0.317490</td>\n",
              "      <td>0.002724</td>\n",
              "      <td>0.0</td>\n",
              "    </tr>\n",
              "  </tbody>\n",
              "</table>\n",
              "<p>5 rows × 31 columns</p>\n",
              "</div>"
            ],
            "text/plain": [
              "       Time        V1        V2        V3        V4        V5        V6  \\\n",
              "0  0.000000  0.935192  0.766490  0.881365  0.313023  0.763439  0.267669   \n",
              "1  0.000000  0.978542  0.770067  0.840298  0.271796  0.766120  0.262192   \n",
              "2  0.000006  0.935217  0.753118  0.868141  0.268766  0.762329  0.281122   \n",
              "3  0.000006  0.941878  0.765304  0.868484  0.213661  0.765647  0.275559   \n",
              "4  0.000012  0.938617  0.776520  0.864251  0.269796  0.762975  0.263984   \n",
              "\n",
              "         V7        V8        V9  ...         V21       V22       V23  \\\n",
              "0  0.266815  0.786444  0.475312  ...    0.561184  0.522992  0.663793   \n",
              "1  0.264875  0.786298  0.453981  ...    0.557840  0.480237  0.666938   \n",
              "2  0.270177  0.788042  0.410603  ...    0.565477  0.546030  0.678939   \n",
              "3  0.266803  0.789434  0.414999  ...    0.559734  0.510277  0.662607   \n",
              "4  0.268968  0.782484  0.490950  ...    0.561327  0.547271  0.663392   \n",
              "\n",
              "        V24       V25       V26       V27       V28    Amount  Class  \n",
              "0  0.391253  0.585122  0.394557  0.418976  0.312697  0.005824    0.0  \n",
              "1  0.336440  0.587290  0.446013  0.416345  0.313423  0.000105    0.0  \n",
              "2  0.289354  0.559515  0.402727  0.415489  0.311911  0.014739    0.0  \n",
              "3  0.223826  0.614245  0.389197  0.417669  0.314371  0.004807    0.0  \n",
              "4  0.401270  0.566343  0.507497  0.420561  0.317490  0.002724    0.0  \n",
              "\n",
              "[5 rows x 31 columns]"
            ]
          },
          "metadata": {
            "tags": []
          }
        }
      ]
    },
    {
      "metadata": {
        "id": "3bxY23-XBYaV",
        "colab_type": "code",
        "colab": {}
      },
      "cell_type": "code",
      "source": [
        "df_norm = (df - df.min()) / (df.max() - df.min())\n",
        "\n",
        "X = df_norm[list(set(list(df_norm.columns)) - set(['Class']))]\n",
        "Y = df['Class']"
      ],
      "execution_count": 0,
      "outputs": []
    },
    {
      "metadata": {
        "id": "hFN3Bnv2BoJH",
        "colab_type": "code",
        "colab": {}
      },
      "cell_type": "code",
      "source": [
        "df_fraud = df_norm[df_norm['Class'] == 1]\n",
        "df_non_fraud = df_norm[df_norm['Class'] == 0]\n",
        "tvals = []\n",
        "pvals = []\n",
        "\n",
        "for col in df_norm.columns:\n",
        "    tval, pval = stats.ttest_ind(df_fraud[col], df_non_fraud[col], equal_var=False)\n",
        "    tvals.append(tval)\n",
        "    pvals.append(pval)\n",
        "    \n",
        "df_t = pd.DataFrame()\n",
        "df_t['Column'] = df_norm.columns\n",
        "df_t['T-value'] = tvals\n",
        "df_t['P-value'] = pvals"
      ],
      "execution_count": 0,
      "outputs": []
    },
    {
      "metadata": {
        "id": "pHMzyshYBpBm",
        "colab_type": "code",
        "colab": {}
      },
      "cell_type": "code",
      "source": [
        "df_eval = pd.DataFrame()\n",
        "evals = np.zeros(3)\n",
        "\n",
        "fraud_idx = list(Y[Y == 1].index)\n",
        "random.shuffle(fraud_idx)\n",
        "\n",
        "non_fraud_idx = list(set(Y.index) - set(fraud_idx))\n",
        "random.shuffle(non_fraud_idx)\n",
        "\n",
        "fraud_train_idx = fraud_idx[:int(0.7 * len(fraud_idx))]\n",
        "fraud_test_idx = fraud_idx[int(0.7 * len(fraud_idx)):]\n",
        "\n",
        "non_fraud_train_idx = non_fraud_idx[:int(0.1 * len(non_fraud_idx))]\n",
        "non_fraud_test_idx = non_fraud_idx[int(0.1 * len(non_fraud_idx)):]\n",
        "\n",
        "train_idx = fraud_train_idx + non_fraud_train_idx\n",
        "test_idx = fraud_test_idx + non_fraud_test_idx\n",
        "\n",
        "\n",
        "X_train = X.iloc[train_idx]\n",
        "X_test = X.iloc[test_idx]\n",
        "Y_train = Y.iloc[train_idx]\n",
        "Y_test = Y.iloc[test_idx]"
      ],
      "execution_count": 0,
      "outputs": []
    },
    {
      "metadata": {
        "id": "GC9MQB06CzXJ",
        "colab_type": "code",
        "colab": {}
      },
      "cell_type": "code",
      "source": [
        "def evaluate(model_name, Y_pred):\n",
        "    cross_tab = pd.crosstab(Y_test, Y_pred)\n",
        "    \n",
        "    evals[0] = (cross_tab.iloc[0,0] + cross_tab.iloc[1,1]) / cross_tab.sum().sum()\n",
        " \n",
        "    evals[1] = cross_tab.iloc[1,1] / (cross_tab.iloc[1,0] + cross_tab.iloc[1,1])\n",
        " \n",
        "    fpr, tpr, thresholds = metrics.roc_curve(Y_test, Y_pred, pos_label=1)\n",
        "    auc = metrics.auc(fpr, tpr)\n",
        "    evals[2] = auc\n",
        "    df_eval[model_name] = evals"
      ],
      "execution_count": 0,
      "outputs": []
    },
    {
      "metadata": {
        "id": "Ujw5l1BmDDfr",
        "colab_type": "code",
        "outputId": "5fb2dc86-726b-4623-a2a0-06444bdff5b7",
        "colab": {
          "base_uri": "https://localhost:8080/",
          "height": 34
        }
      },
      "cell_type": "code",
      "source": [
        "start = time.time()\n",
        "base_pred = np.zeros(len(Y_test) - 1)\n",
        "base_pred = np.append(base_pred, 1)\n",
        "print (\"Runtime %0.2f\" % (time.time() - start))\n",
        "evaluate('Baseline', base_pred)"
      ],
      "execution_count": 0,
      "outputs": [
        {
          "output_type": "stream",
          "text": [
            "Runtime 0.00\n"
          ],
          "name": "stdout"
        }
      ]
    },
    {
      "metadata": {
        "id": "2Z8EdOpnEmyb",
        "colab_type": "code",
        "outputId": "92150bc2-0f17-4d82-93bb-e6d5f82e8496",
        "colab": {
          "base_uri": "https://localhost:8080/",
          "height": 34
        }
      },
      "cell_type": "code",
      "source": [
        "from sklearn.naive_bayes import BernoulliNB \n",
        "start = time.time()\n",
        "bnb = BernoulliNB()\n",
        "bnb.fit(X_train,Y_train)\n",
        "bnb_pred = bnb.predict(X_test)\n",
        "print (\"Runtime %0.2f\" % (time.time() - start))\n",
        "evaluate('Naive Bayes', bnb_pred)"
      ],
      "execution_count": 0,
      "outputs": [
        {
          "output_type": "stream",
          "text": [
            "Runtime 0.17\n"
          ],
          "name": "stdout"
        }
      ]
    },
    {
      "metadata": {
        "id": "9gxszLFVDGGF",
        "colab_type": "code",
        "outputId": "45171771-4d96-42e2-f411-855a682090bf",
        "colab": {
          "base_uri": "https://localhost:8080/",
          "height": 393
        }
      },
      "cell_type": "code",
      "source": [
        "from sklearn.metrics import confusion_matrix\n",
        "\n",
        "conf_matx_bnb = confusion_matrix(Y_test, bnb_pred)\n",
        "\n",
        "recall_bnb = conf_matx_bnb[1,1]/(conf_matx_bnb[1,1]+conf_matx_bnb[1,0])\n",
        "\n",
        "print('The Naive Bayes model Recall is: {}'.format(recall_bnb))\n",
        "\n",
        "sns.heatmap(conf_matx_bnb,  \n",
        "            annot=True, \n",
        "            linewidths=0.5)\n",
        "plt.title('Naive Bayes Confusion Matrix for Training Set')\n",
        "plt.xlabel('Predicted Class')\n",
        "plt.ylabel('Real Class')\n",
        "plt.show()"
      ],
      "execution_count": 0,
      "outputs": [
        {
          "output_type": "stream",
          "text": [
            "The Naive Bayes model Recall is: 0.0\n"
          ],
          "name": "stdout"
        },
        {
          "output_type": "display_data",
          "data": {
            "image/png": "[encoded data removed]",
            "text/plain": [
              "<Figure size 576x396 with 2 Axes>"
            ]
          },
          "metadata": {
            "tags": []
          }
        }
      ]
    },
    {
      "metadata": {
        "id": "ebh9s589F-RU",
        "colab_type": "code",
        "outputId": "612e9921-42d8-4ecc-abcc-55d9f7981ef0",
        "colab": {
          "base_uri": "https://localhost:8080/",
          "height": 34
        }
      },
      "cell_type": "code",
      "source": [
        "from sklearn.neighbors import KNeighborsClassifier\n",
        "\n",
        "start = time.time()\n",
        "knn_model = KNeighborsClassifier(n_neighbors=1, algorithm='ball_tree', n_jobs = 5)\n",
        "knn_model.fit(X_train, Y_train)\n",
        "knn_pred = knn_model.predict(X_test)\n",
        "print (\"Runtime %0.2f\" % (time.time() - start))\n",
        "evaluate('KNN',knn_pred)"
      ],
      "execution_count": 0,
      "outputs": [
        {
          "output_type": "stream",
          "text": [
            "Runtime 275.47\n"
          ],
          "name": "stdout"
        }
      ]
    },
    {
      "metadata": {
        "id": "v8Wl27rqI4uP",
        "colab_type": "code",
        "outputId": "fdf2f449-d59a-411e-9a0c-d1a5752171af",
        "colab": {
          "base_uri": "https://localhost:8080/",
          "height": 393
        }
      },
      "cell_type": "code",
      "source": [
        "conf_matx_knn = confusion_matrix(Y_test, knn_pred)\n",
        "\n",
        "recall_knn = conf_matx_knn[1,1]/(conf_matx_knn[1,1]+conf_matx_knn[1,0])\n",
        "\n",
        "print('The KNN model Recall is: {}'.format(recall_knn))\n",
        "\n",
        "sns.heatmap(conf_matx_knn,  \n",
        "            annot=True, \n",
        "            linewidths=0.5)\n",
        "plt.title('KNN Confusion Matrix for Training Set')\n",
        "plt.xlabel('Predicted Class')\n",
        "plt.ylabel('Real Class')\n",
        "plt.show()"
      ],
      "execution_count": 0,
      "outputs": [
        {
          "output_type": "stream",
          "text": [
            "The KNN model Recall is: 0.8445945945945946\n"
          ],
          "name": "stdout"
        },
        {
          "output_type": "display_data",
          "data": {
            "image/png": "[encoded data removed]",
            "text/plain": [
              "<Figure size 576x396 with 2 Axes>"
            ]
          },
          "metadata": {
            "tags": []
          }
        }
      ]
    },
    {
      "metadata": {
        "id": "BP0ntWc0JPE7",
        "colab_type": "code",
        "outputId": "cd037380-6418-47f1-8683-2d0b453699e9",
        "colab": {
          "base_uri": "https://localhost:8080/",
          "height": 34
        }
      },
      "cell_type": "code",
      "source": [
        "from sklearn import ensemble\n",
        "\n",
        "start = time.time()\n",
        "rfc = ensemble.RandomForestClassifier(n_jobs = 3)\n",
        "rfc.fit(X_train, Y_train)\n",
        "rfc_pred = rfc.predict(X_test)\n",
        "print (\"Runtime %0.2f\" % (time.time() - start))\n",
        "evaluate('Random Forest', rfc_pred)"
      ],
      "execution_count": 0,
      "outputs": [
        {
          "output_type": "stream",
          "text": [
            "Runtime 1.84\n"
          ],
          "name": "stdout"
        }
      ]
    },
    {
      "metadata": {
        "id": "DMxOSAQNJa5-",
        "colab_type": "code",
        "outputId": "58e10c9c-4fac-4f84-e1a9-28c26e2fb9b4",
        "colab": {
          "base_uri": "https://localhost:8080/",
          "height": 393
        }
      },
      "cell_type": "code",
      "source": [
        "conf_matx_rfc = confusion_matrix(Y_test, rfc_pred)\n",
        "\n",
        "recall_rfc = conf_matx_rfc[1,1]/(conf_matx_rfc[1,1]+conf_matx_rfc[1,0])\n",
        "\n",
        "print('The Random Forest Classifier model Recall is: {}'.format(recall_rfc))\n",
        "\n",
        "sns.heatmap(conf_matx_rfc,  \n",
        "            annot=True, \n",
        "            linewidths=0.5)\n",
        "plt.title('Random Forest Classifier Confusion Matrix for Training Set')\n",
        "plt.xlabel('Predicted Class')\n",
        "plt.ylabel('Real Class')\n",
        "plt.show()"
      ],
      "execution_count": 0,
      "outputs": [
        {
          "output_type": "stream",
          "text": [
            "The Random Forest Classifier model Recall is: 0.8445945945945946\n"
          ],
          "name": "stdout"
        },
        {
          "output_type": "display_data",
          "data": {
            "image/png": "[encoded data removed]",
            "text/plain": [
              "<Figure size 576x396 with 2 Axes>"
            ]
          },
          "metadata": {
            "tags": []
          }
        }
      ]
    },
    {
      "metadata": {
        "id": "YFK7XjbynGA2",
        "colab_type": "code",
        "outputId": "b61c8517-7e79-4122-9644-f647d0840461",
        "colab": {
          "base_uri": "https://localhost:8080/",
          "height": 34
        }
      },
      "cell_type": "code",
      "source": [
        "from sklearn import svm\n",
        "\n",
        "start = time.time()\n",
        "svc_model = svm.SVC(C = 100, kernel = 'rbf')\n",
        "svc_model.fit(X_train, Y_train)\n",
        "svc_pred = svc_model.predict(X_test)\n",
        "print (\"Runtime %0.2f\" % (time.time() - start))\n",
        "evaluate('SVM', svc_pred)"
      ],
      "execution_count": 0,
      "outputs": [
        {
          "output_type": "stream",
          "text": [
            "Runtime 5.15\n"
          ],
          "name": "stdout"
        }
      ]
    },
    {
      "metadata": {
        "id": "Kwbuh4etneOd",
        "colab_type": "code",
        "outputId": "265ed2b4-1110-4256-fcfb-9fc7b5836dc4",
        "colab": {
          "base_uri": "https://localhost:8080/",
          "height": 393
        }
      },
      "cell_type": "code",
      "source": [
        "conf_matx_svc = confusion_matrix(Y_test, svc_pred)\n",
        "\n",
        "recall_svc = conf_matx_svc [1,1]/(conf_matx_svc[1,1]+conf_matx_svc[1,0])\n",
        "print('The Support Vector Classifier model Recall is: {}'.format(recall_svc))\n",
        "\n",
        "sns.heatmap(conf_matx_svc,  \n",
        "            annot=True, \n",
        "            linewidths=0.5)\n",
        "plt.title('Support Vector Classifier Confusion Matrix for Training Set')\n",
        "plt.xlabel('Predicted Class')\n",
        "plt.ylabel('Real Class')\n",
        "plt.show()"
      ],
      "execution_count": 0,
      "outputs": [
        {
          "output_type": "stream",
          "text": [
            "The Support Vector Classifier model Recall is: 0.831081081081081\n"
          ],
          "name": "stdout"
        },
        {
          "output_type": "display_data",
          "data": {
            "image/png": "[encoded data removed]",
            "text/plain": [
              "<Figure size 576x396 with 2 Axes>"
            ]
          },
          "metadata": {
            "tags": []
          }
        }
      ]
    },
    {
      "metadata": {
        "id": "qVvd6DZzmatu",
        "colab_type": "code",
        "outputId": "04d7af75-21a6-4776-de32-e02df79c043d",
        "colab": {
          "base_uri": "https://localhost:8080/",
          "height": 34
        }
      },
      "cell_type": "code",
      "source": [
        "from sklearn import linear_model\n",
        "\n",
        "start = time.time()\n",
        "ridge_model = linear_model.RidgeClassifier(alpha = 1e-4)\n",
        "ridge_model.fit(X_train, Y_train)\n",
        "ridge_pred = ridge_model.predict(X_test)\n",
        "print (\"Runtime %0.2f\" % (time.time() - start))\n",
        "evaluate('Ridge Regression', ridge_pred)"
      ],
      "execution_count": 0,
      "outputs": [
        {
          "output_type": "stream",
          "text": [
            "Runtime 0.07\n"
          ],
          "name": "stdout"
        }
      ]
    },
    {
      "metadata": {
        "id": "fJhy7VkON2l5",
        "colab_type": "code",
        "outputId": "45724ca4-2b19-475e-961f-90ea6490188c",
        "colab": {
          "base_uri": "https://localhost:8080/",
          "height": 393
        }
      },
      "cell_type": "code",
      "source": [
        "conf_matx_ridge = confusion_matrix(Y_test, ridge_pred)\n",
        "\n",
        "recall_ridge = conf_matx_ridge[1,1]/(conf_matx_ridge[1,1]+conf_matx_ridge[1,0])\n",
        "print('The Ridge Classifier model Recall is: {}'.format(recall_ridge))\n",
        "\n",
        "sns.heatmap(conf_matx_ridge,  \n",
        "            annot=True, \n",
        "            linewidths=0.5)\n",
        "plt.title('Ridge Classifier Confusion Matrix for Training Set')\n",
        "plt.xlabel('Predicted Class')\n",
        "plt.ylabel('Real Class')\n",
        "plt.show()"
      ],
      "execution_count": 0,
      "outputs": [
        {
          "output_type": "stream",
          "text": [
            "The Ridge Classifier model Recall is: 0.5878378378378378\n"
          ],
          "name": "stdout"
        },
        {
          "output_type": "display_data",
          "data": {
            "image/png": "[encoded data removed]",
            "text/plain": [
              "<Figure size 576x396 with 2 Axes>"
            ]
          },
          "metadata": {
            "tags": []
          }
        }
      ]
    },
    {
      "metadata": {
        "id": "hAyiB8WIpmA1",
        "colab_type": "code",
        "outputId": "1d1e8fe3-501c-48aa-f783-4d27017aa729",
        "colab": {
          "base_uri": "https://localhost:8080/",
          "height": 34
        }
      },
      "cell_type": "code",
      "source": [
        "start = time.time()\n",
        "params = {'n_estimators': 1000,\n",
        "          'max_depth': 2,\n",
        "          'learning_rate': 0.001,\n",
        "          'loss': 'deviance'}\n",
        "gbc = ensemble.GradientBoostingClassifier(**params)\n",
        "gbc.fit(X_train, Y_train)\n",
        "gbc_pred = gbc.predict(X_test)\n",
        "print (\"Runtime %0.2f\" % (time.time() - start))\n",
        "evaluate('Gradient Boost', gbc_pred)"
      ],
      "execution_count": 0,
      "outputs": [
        {
          "output_type": "stream",
          "text": [
            "Runtime 55.84\n"
          ],
          "name": "stdout"
        }
      ]
    },
    {
      "metadata": {
        "id": "U1vvyYoJpqyx",
        "colab_type": "code",
        "outputId": "2e690f57-5ecf-4326-9899-dae8178cab5a",
        "colab": {
          "base_uri": "https://localhost:8080/",
          "height": 393
        }
      },
      "cell_type": "code",
      "source": [
        "conf_matx_gbc = confusion_matrix(Y_test, gbc_pred)\n",
        "\n",
        "recall_gbc = conf_matx_gbc[1,1]/(conf_matx_gbc[1,1]+conf_matx_gbc[1,0])\n",
        "print('The Gradient Boosting Classifier model Recall is: {}'.format(recall_gbc))\n",
        "\n",
        "sns.heatmap(conf_matx_gbc,  \n",
        "            annot=True, \n",
        "            linewidths=0.5)\n",
        "plt.title('Gradient Boosting Classifier Confusion Matrix for Training Set')\n",
        "plt.xlabel('Predicted Class')\n",
        "plt.ylabel('Real Class')\n",
        "plt.show()"
      ],
      "execution_count": 0,
      "outputs": [
        {
          "output_type": "stream",
          "text": [
            "The Gradient Boosting Classifier model Recall is: 0.8108108108108109\n"
          ],
          "name": "stdout"
        },
        {
          "output_type": "display_data",
          "data": {
            "image/png": "[encoded data removed]",
            "text/plain": [
              "<Figure size 576x396 with 2 Axes>"
            ]
          },
          "metadata": {
            "tags": []
          }
        }
      ]
    },
    {
      "metadata": {
        "id": "VCmVccy7JyI2",
        "colab_type": "code",
        "outputId": "d0f7ec53-5af8-4ad8-d216-da4914c404aa",
        "colab": {
          "base_uri": "https://localhost:8080/",
          "height": 34
        }
      },
      "cell_type": "code",
      "source": [
        "start = time.time()\n",
        "logreg_model = linear_model.LogisticRegression(penalty = 'l2', C=1e9)\n",
        "logreg_model.fit(X_train, Y_train)\n",
        "logreg_pred = logreg_model.predict(X_test)\n",
        "print (\"Runtime %0.2f\" % (time.time() - start))\n",
        "evaluate('Logistic Regression', logreg_pred)\n",
        "\n"
      ],
      "execution_count": 0,
      "outputs": [
        {
          "output_type": "stream",
          "text": [
            "Runtime 1.08\n"
          ],
          "name": "stdout"
        }
      ]
    },
    {
      "metadata": {
        "id": "u_GJREx3jRgY",
        "colab_type": "code",
        "outputId": "50340dcc-8ab9-4840-9f7a-eceefbd17939",
        "colab": {
          "base_uri": "https://localhost:8080/",
          "height": 393
        }
      },
      "cell_type": "code",
      "source": [
        "conf_matx_logreg = confusion_matrix(Y_test, logreg_pred)\n",
        "\n",
        "recall_logreg = conf_matx_logreg[1,1]/(conf_matx_logreg[1,1]+conf_matx_logreg[1,0])\n",
        "\n",
        "print('The Logistic Regression Recall is: {}'.format(recall_logreg))\n",
        "\n",
        "sns.heatmap(conf_matx_logreg,  \n",
        "            annot=True, \n",
        "            linewidths=0.5)\n",
        "plt.title('Logistic Regression Confusion Matrix for Training Set')\n",
        "plt.xlabel('Predicted Class')\n",
        "plt.ylabel('Real Class')\n",
        "plt.show()"
      ],
      "execution_count": 0,
      "outputs": [
        {
          "output_type": "stream",
          "text": [
            "The Logistic Regression Recall is: 0.8378378378378378\n"
          ],
          "name": "stdout"
        },
        {
          "output_type": "display_data",
          "data": {
            "image/png": "[encoded data removed]",
            "text/plain": [
              "<Figure size 576x396 with 2 Axes>"
            ]
          },
          "metadata": {
            "tags": []
          }
        }
      ]
    },
    {
      "metadata": {
        "id": "zN_64D2jmf9_",
        "colab_type": "code",
        "outputId": "79386e2e-c3ee-4fb7-cdf6-98959738574f",
        "colab": {
          "base_uri": "https://localhost:8080/",
          "height": 34
        }
      },
      "cell_type": "code",
      "source": [
        "start = time.time()\n",
        "lasso_model = linear_model.LogisticRegression(penalty = 'l1')\n",
        "lasso_model.fit(X_train, Y_train)\n",
        "lasso_pred = lasso_model.predict(X_test)\n",
        "print (\"Runtime %0.2f\" % (time.time() - start))\n",
        "evaluate('Lasso Regression', lasso_pred)"
      ],
      "execution_count": 0,
      "outputs": [
        {
          "output_type": "stream",
          "text": [
            "Runtime 5.59\n"
          ],
          "name": "stdout"
        }
      ]
    },
    {
      "metadata": {
        "id": "7d6cuF1dmkQ3",
        "colab_type": "code",
        "outputId": "578c2268-a2b3-41a2-b487-c6c183099ef6",
        "colab": {
          "base_uri": "https://localhost:8080/",
          "height": 393
        }
      },
      "cell_type": "code",
      "source": [
        "conf_matx_lasso = confusion_matrix(Y_test, lasso_pred)\n",
        "\n",
        "recall_lasso = conf_matx_lasso [1,1]/(conf_matx_lasso[1,1]+conf_matx_lasso[1,0])\n",
        "print('The Lasso Regressin model Recall is: {}'.format(recall_lasso))\n",
        "\n",
        "sns.heatmap(conf_matx_lasso,  \n",
        "            annot=True, \n",
        "            linewidths=0.5)\n",
        "plt.title('Lasso Regression Confusion Matrix for Training Set')\n",
        "plt.xlabel('Predicted Class')\n",
        "plt.ylabel('Real Class')\n",
        "plt.show()"
      ],
      "execution_count": 0,
      "outputs": [
        {
          "output_type": "stream",
          "text": [
            "The Lasso Regressin model Recall is: 0.8108108108108109\n"
          ],
          "name": "stdout"
        },
        {
          "output_type": "display_data",
          "data": {
            "image/png": "[encoded data removed]",
            "text/plain": [
              "<Figure size 576x396 with 2 Axes>"
            ]
          },
          "metadata": {
            "tags": []
          }
        }
      ]
    },
    {
      "metadata": {
        "id": "KRtNr656sCJd",
        "colab_type": "code",
        "outputId": "13b95d8c-2d61-4f18-9d86-6b710f08f6af",
        "colab": {
          "base_uri": "https://localhost:8080/",
          "height": 173
        }
      },
      "cell_type": "code",
      "source": [
        "df_eval.rename(index={0: 'Accuracy', \n",
        "                      1: 'AUC Score', \n",
        "                      2: 'Recall'\n",
        "                     }, inplace = True)\n",
        "\n",
        "from sklearn.model_selection import cross_val_score\n",
        "\n",
        "print('Naive Bayes cross validation score: ', cross_val_score(bnb, X_train, Y_train, cv=5))\n",
        "print('KNN Cross validation score: ', cross_val_score(knn_model, X_train, Y_train, cv=5))\n",
        "print('Random Forest Classification cross validation score: ', cross_val_score(rfc, X_train, Y_train, cv=5))\n",
        "print('SVC cross validation score: ', cross_val_score(svc_model, X_train, Y_train, cv=5))\n",
        "print('Ridge Classifier cross validation score: ', cross_val_score(ridge_model, X_train, Y_train, cv=5))\n",
        "print('Gradient Boost Classifier cross validation score: ', cross_val_score(gbc, X_train, Y_train, cv=5))\n",
        "print('Logistic Regression cross validation score: ', cross_val_score(logreg_model, X_train, Y_train, cv=5))\n",
        "print('Lasso Regression cross validation score: ', cross_val_score(lasso_model, X_train, Y_train, cv=5))"
      ],
      "execution_count": 0,
      "outputs": [
        {
          "output_type": "stream",
          "text": [
            "Naive Bayes cross validation score:  [0.98801251 0.98818419 0.98818419 0.98801043 0.98818213]\n",
            "KNN Cross validation score:  [0.99583044 0.99617724 0.99565595 0.99652476 0.99530761]\n",
            "Random Forest Classification cross validation score:  [0.99704656 0.99739357 0.99721981 0.99739357 0.99739312]\n",
            "SVC cross validation score:  [0.99722029 0.99774109 0.99669852 0.99739357 0.99635036]\n",
            "Ridge Classifier cross validation score:  [0.99409312 0.99391833 0.99374457 0.99374457 0.99530761]\n",
            "Gradient Boost Classifier cross validation score:  [0.99687283 0.99739357 0.99617724 0.99687228 0.99669795]\n",
            "Logistic Regression cross validation score:  [0.99652536 0.99739357 0.99669852 0.99652476 0.99652416]\n",
            "Lasso Regression cross validation score:  [0.99565671 0.99721981 0.99600348 0.99548219 0.99617657]\n"
          ],
          "name": "stdout"
        }
      ]
    },
    {
      "metadata": {
        "id": "iFOsrFgSvBVl",
        "colab_type": "code",
        "outputId": "1b27fb5d-e3f3-49f1-c03d-d33db1f35ffd",
        "colab": {
          "base_uri": "https://localhost:8080/",
          "height": 170
        }
      },
      "cell_type": "code",
      "source": [
        "from sklearn.metrics import f1_score\n",
        "\n",
        "print('F1 score for Baseline: {}'. format(f1_score(Y_test, base_pred)))\n",
        "print('F1 score for Naives Bayes: {}'. format(f1_score(Y_test, bnb_pred)))\n",
        "print('F1 score for KNN: {}'. format(f1_score(Y_test, knn_pred)))\n",
        "print('F1 score for Random Forest Classification: {}'. format(f1_score(Y_test, rfc_pred)))\n",
        "print('F1 score for SVC Classification: {}'. format(f1_score(Y_test, svc_pred)))\n",
        "print('F1 score for Ridge Classifier: {}'.format(f1_score(Y_test, ridge_pred)))\n",
        "print('F1 score for Gradient Boost: {}'. format(f1_score(Y_test, gbc_pred)))\n",
        "print('F1 score for Logistic Regression: {}'.format(f1_score(Y_test, logreg_pred)))\n",
        "print('F1 score for Lasso Regression: {}'.format(f1_score(Y_test, lasso_pred)))"
      ],
      "execution_count": 0,
      "outputs": [
        {
          "output_type": "stream",
          "text": [
            "F1 score for Baseline: 0.0\n",
            "F1 score for Naives Bayes: 0.0\n",
            "F1 score for KNN: 0.4084967320261438\n",
            "F1 score for Random Forest Classification: 0.6983240223463688\n",
            "F1 score for SVC Classification: 0.721407624633431\n",
            "F1 score for Ridge Classifier: 0.6516853932584269\n",
            "F1 score for Gradient Boost: 0.6486486486486487\n",
            "F1 score for Logistic Regression: 0.6408268733850129\n",
            "F1 score for Lasso Regression: 0.6741573033707865\n"
          ],
          "name": "stdout"
        }
      ]
    }
  ]
}
