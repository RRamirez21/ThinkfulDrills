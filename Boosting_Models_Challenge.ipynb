{
  "nbformat": 4,
  "nbformat_minor": 0,
  "metadata": {
    "colab": {
      "name": "Boosting_Models_Challenge.ipynb",
      "version": "0.3.2",
      "provenance": [],
      "collapsed_sections": []
    },
    "kernelspec": {
      "name": "python3",
      "display_name": "Python 3"
    }
  },
  "cells": [
    {
      "metadata": {
        "id": "3A-UF4cG76TE",
        "colab_type": "text"
      },
      "cell_type": "markdown",
      "source": [
        "# DRILL: Improve this gradient boost model\n",
        "While this model is already doing alright, we've seen from the Type I and Type II error rates that there is definitely room for improvement. Your task is to see how low you can get the error rates to go in the test set, based on your model in the training set. Strategies you might use include:\n",
        "\n",
        "* Creating new features\n",
        "* Applying more overfitting-prevention strategies like subsampling\n",
        "* More iterations\n",
        "* Trying a different loss function\n",
        "* Changing the structure of the weak learner: Allowing more leaves in the tree, or other modifications"
      ]
    },
    {
      "metadata": {
        "id": "0L24XPBx8BTl",
        "colab_type": "code",
        "colab": {}
      },
      "cell_type": "code",
      "source": [
        "import pandas as pd\n",
        "import numpy as np\n",
        "import scipy\n",
        "import matplotlib.pyplot as plt\n",
        "import timeit\n",
        "%matplotlib inline\n",
        "\n",
        "from sklearn import ensemble\n",
        "from sklearn import datasets\n",
        "from sklearn.utils import shuffle\n",
        "from sklearn.metrics import mean_squared_error\n",
        "from sklearn.decomposition import PCA\n",
        "from sklearn.model_selection import GridSearchCV"
      ],
      "execution_count": 0,
      "outputs": []
    },
    {
      "metadata": {
        "id": "K8nCOv1r8GCw",
        "colab_type": "code",
        "colab": {}
      },
      "cell_type": "code",
      "source": [
        "df = pd.read_csv((\n",
        "    \"https://raw.githubusercontent.com/Thinkful-Ed/data-201-resources/\"\n",
        "    \"master/ESS_practice_data/ESSdata_Thinkful.csv\")).dropna()\n",
        "\n",
        "# Definine outcome and predictors.\n",
        "# Set our outcome to 0 and 1.\n",
        "y = df['partner'] - 1\n",
        "X = df.loc[:, ~df.columns.isin(['partner', 'cntry', 'idno'])]\n",
        "\n",
        "# Make the categorical variable 'country' into dummies.\n",
        "X = pd.concat([X, pd.get_dummies(df['cntry'])], axis=1)\n",
        "\n",
        "# Create training and test sets.\n",
        "offset = int(X.shape[0] * 0.9)\n",
        "\n",
        "# Put 90% of the data in the training set.\n",
        "X_train, y_train = X[:offset], y[:offset]\n",
        "\n",
        "# And put 10% in the test set.\n",
        "X_test, y_test = X[offset:], y[offset:]"
      ],
      "execution_count": 0,
      "outputs": []
    },
    {
      "metadata": {
        "id": "m2kHUUZ18Ue7",
        "colab_type": "code",
        "outputId": "04a35210-17c7-4112-dbb4-229d04683f48",
        "colab": {
          "base_uri": "https://localhost:8080/",
          "height": 294
        }
      },
      "cell_type": "code",
      "source": [
        "feature_importance = clf.feature_importances_\n",
        "\n",
        "# Make importances relative to max importance.\n",
        "feature_importance = 100.0 * (feature_importance / feature_importance.max())\n",
        "sorted_idx = np.argsort(feature_importance)\n",
        "pos = np.arange(sorted_idx.shape[0]) + .5\n",
        "plt.subplot(1, 2, 2)\n",
        "plt.barh(pos, feature_importance[sorted_idx], align='center')\n",
        "plt.yticks(pos, X.columns[sorted_idx])\n",
        "plt.xlabel('Relative Importance')\n",
        "plt.title('Variable Importance')\n",
        "plt.show()"
      ],
      "execution_count": 0,
      "outputs": [
        {
          "output_type": "display_data",
          "data": {
            "image/png": "[encoded data removed]",
            "text/plain": [
              "<matplotlib.figure.Figure at 0x7f9e7d987ac8>"
            ]
          },
          "metadata": {
            "tags": []
          }
        }
      ]
    },
    {
      "metadata": {
        "id": "hkP7Gwui8ZOV",
        "colab_type": "code",
        "outputId": "55041a8b-3e6b-41ec-deeb-b9fbb0d845a4",
        "colab": {
          "base_uri": "https://localhost:8080/",
          "height": 185
        }
      },
      "cell_type": "code",
      "source": [
        "params = {'n_estimators': 50,\n",
        "          'max_depth': 6,\n",
        "          'subsample': 0.7,\n",
        "          'min_weight_fraction_leaf': 0.2,\n",
        "          'learning_rate': 0.08,\n",
        "          'min_samples_split': 0.1,\n",
        "          'loss': 'deviance'}\n",
        "\n",
        "start_time = timeit.default_timer()\n",
        "\n",
        "clf_B = ensemble.GradientBoostingClassifier(**params)\n",
        "clf_B.fit(X_train, y_train)\n",
        "print (\"Runtime: %0.2f seconds\" % (timeit.default_timer() - start_time))\n",
        "\n",
        "predict_train_B = clf_B.predict(X_train)\n",
        "predict_test_B = clf_B.predict(X_test)\n",
        "\n",
        "score_train = clf_B.score(X_train, y_train)\n",
        "score_test = clf_B.score(X_test, y_test)\n",
        "\n",
        "B = clf_B.score(X_test, y_test)\n",
        "\n",
        "accuracy_table(y_train, predict_train_B, y_test, predict_test_B)"
      ],
      "execution_count": 0,
      "outputs": [
        {
          "output_type": "stream",
          "text": [
            "Runtime: 0.25 seconds\n",
            "Training set accuracy:\n",
            "R-squared Score: 0.731860338243317\n",
            "Percent Type I errors: 0.047872340425531915\n",
            "Percent Type II errors: 0.22026732133115112\n",
            "\n",
            "Test set accuracy:\n",
            "R-squared Score: 0.7276073619631902\n",
            "Percent Type I errors: 0.0687116564417178\n",
            "Percent Type II errors: 0.20368098159509201\n"
          ],
          "name": "stdout"
        }
      ]
    },
    {
      "metadata": {
        "id": "UKnaUkyd8KVR",
        "colab_type": "code",
        "outputId": "f3b148eb-0a9e-4abd-a513-e94449d48b5c",
        "colab": {
          "base_uri": "https://localhost:8080/",
          "height": 168
        }
      },
      "cell_type": "code",
      "source": [
        "# We'll make 500 iterations, use 2-deep trees, and set our loss function.\n",
        "params = {'n_estimators': 500,\n",
        "          'max_depth': 2,\n",
        "          'loss': 'deviance'}\n",
        "\n",
        "# Initialize and fit the model.\n",
        "clf = ensemble.GradientBoostingClassifier(**params)\n",
        "clf.fit(X_train, y_train)\n",
        "\n",
        "predict_train = clf.predict(X_train)\n",
        "predict_test = clf.predict(X_test)\n",
        "\n",
        "A = clf.score(X_test, y_test)\n",
        "\n",
        "def accuracy_table(y_train, predict_train, y_test, predict_test):\n",
        "    # Accuracy tables.\n",
        "    table_train = pd.crosstab(y_train, predict_train, margins=True)\n",
        "    table_test = pd.crosstab(y_test, predict_test, margins=True)\n",
        "\n",
        "    train_tI_errors = table_train.loc[0.0,1.0] / table_train.loc['All','All']\n",
        "    train_tII_errors = table_train.loc[1.0,0.0] / table_train.loc['All','All']\n",
        "\n",
        "    test_tI_errors = table_test.loc[0.0,1.0]/table_test.loc['All','All']\n",
        "    test_tII_errors = table_test.loc[1.0,0.0]/table_test.loc['All','All']\n",
        "\n",
        "    print((\n",
        "        'Training set accuracy:\\n'\n",
        "        'R-squared Score: {}\\n'\n",
        "        'Percent Type I errors: {}\\n'\n",
        "        'Percent Type II errors: {}\\n\\n'\n",
        "        'Test set accuracy:\\n'\n",
        "        'R-squared Score: {}\\n'\n",
        "        'Percent Type I errors: {}\\n'\n",
        "        'Percent Type II errors: {}'\n",
        "    ).format(score_train, train_tI_errors, train_tII_errors, score_test, test_tI_errors, test_tII_errors))\n",
        "accuracy_table(y_train, predict_train, y_test, predict_test)"
      ],
      "execution_count": 0,
      "outputs": [
        {
          "output_type": "stream",
          "text": [
            "Training set accuracy:\n",
            "R-squared Score: 0.731860338243317\n",
            "Percent Type I errors: 0.04650845608292417\n",
            "Percent Type II errors: 0.17607746863066012\n",
            "\n",
            "Test set accuracy:\n",
            "R-squared Score: 0.7276073619631902\n",
            "Percent Type I errors: 0.06257668711656442\n",
            "Percent Type II errors: 0.18527607361963191\n"
          ],
          "name": "stdout"
        }
      ]
    },
    {
      "metadata": {
        "id": "GykbdDDs-tlZ",
        "colab_type": "code",
        "outputId": "a6766696-d677-4b8a-f23f-c43491175bb7",
        "colab": {
          "base_uri": "https://localhost:8080/",
          "height": 67
        }
      },
      "cell_type": "code",
      "source": [
        "df.columns"
      ],
      "execution_count": 0,
      "outputs": [
        {
          "output_type": "execute_result",
          "data": {
            "text/plain": [
              "Index(['cntry', 'idno', 'year', 'tvtot', 'ppltrst', 'pplfair', 'pplhlp',\n",
              "       'happy', 'sclmeet', 'sclact', 'gndr', 'agea', 'partner'],\n",
              "      dtype='object')"
            ]
          },
          "metadata": {
            "tags": []
          },
          "execution_count": 9
        }
      ]
    },
    {
      "metadata": {
        "id": "BYnwB-5jBo7a",
        "colab_type": "code",
        "outputId": "8b469a57-17c3-4716-f8b4-32707e553e3b",
        "colab": {
          "base_uri": "https://localhost:8080/",
          "height": 185
        }
      },
      "cell_type": "code",
      "source": [
        "X_feature = X[['tvtot', 'ppltrst', 'pplfair', 'pplhlp',\n",
        "       'happy', 'sclmeet', 'sclact', 'gndr', 'agea']]\n",
        "\n",
        "X_feat_train = X_feature[:offset]\n",
        "\n",
        "X_feat_test = X_feature[offset:]\n",
        "\n",
        "\n",
        "clf_C = ensemble.GradientBoostingClassifier(**params)\n",
        "clf_C.fit(X_train, y_train)\n",
        "print (\"Runtime: %0.2f seconds\" % (timeit.default_timer() - start_time))\n",
        "\n",
        "predict_train_C = clf_C.predict(X_train)\n",
        "predict_test_C = clf_C.predict(X_test)\n",
        "\n",
        "score_train = clf_C.score(X_train, y_train)\n",
        "score_test = clf_C.score(X_test, y_test)\n",
        "\n",
        "C = clf_C.score(X_test, y_test)\n",
        "\n",
        "accuracy_table(y_train, predict_train_C, y_test, predict_test_C)"
      ],
      "execution_count": 0,
      "outputs": [
        {
          "output_type": "stream",
          "text": [
            "Runtime: 3.65 seconds\n",
            "Training set accuracy:\n",
            "R-squared Score: 0.7774140752864157\n",
            "Percent Type I errors: 0.04650845608292417\n",
            "Percent Type II errors: 0.17607746863066012\n",
            "\n",
            "Test set accuracy:\n",
            "R-squared Score: 0.7521472392638037\n",
            "Percent Type I errors: 0.06257668711656442\n",
            "Percent Type II errors: 0.18527607361963191\n"
          ],
          "name": "stdout"
        }
      ]
    },
    {
      "metadata": {
        "id": "JITgsbN4Cr7I",
        "colab_type": "code",
        "outputId": "2cd7b7b0-6e31-4c70-aa88-7b2ca6d330aa",
        "colab": {
          "base_uri": "https://localhost:8080/",
          "height": 306
        }
      },
      "cell_type": "code",
      "source": [
        "X_feature['ppl'] = X_feature['ppltrst'] * X_feature['pplfair'] * X_feature['pplhlp']\n",
        "\n",
        "X_feat_train = X_feature[:offset]\n",
        "\n",
        "X_feat_test = X_feature[offset:]\n",
        "\n",
        "\n",
        "clf_D = ensemble.GradientBoostingClassifier(**params)\n",
        "clf_D.fit(X_train, y_train)\n",
        "print (\"Runtime: %0.2f seconds\" % (timeit.default_timer() - start_time))\n",
        "\n",
        "predict_train_D = clf_D.predict(X_train)\n",
        "predict_test_D = clf_D.predict(X_test)\n",
        "\n",
        "score_train = clf_D.score(X_train, y_train)\n",
        "score_test = clf_D.score(X_test, y_test)\n",
        "\n",
        "D = clf_D.score(X_test, y_test)\n",
        "\n",
        "accuracy_table(y_train, predict_train_D, y_test, predict_test_D)"
      ],
      "execution_count": 0,
      "outputs": [
        {
          "output_type": "stream",
          "text": [
            "/usr/local/lib/python3.6/dist-packages/ipykernel_launcher.py:1: SettingWithCopyWarning: \n",
            "A value is trying to be set on a copy of a slice from a DataFrame.\n",
            "Try using .loc[row_indexer,col_indexer] = value instead\n",
            "\n",
            "See the caveats in the documentation: http://pandas.pydata.org/pandas-docs/stable/indexing.html#indexing-view-versus-copy\n",
            "  \"\"\"Entry point for launching an IPython kernel.\n"
          ],
          "name": "stderr"
        },
        {
          "output_type": "stream",
          "text": [
            "Runtime: 5.53 seconds\n",
            "Training set accuracy:\n",
            "R-squared Score: 0.7774140752864157\n",
            "Percent Type I errors: 0.04650845608292417\n",
            "Percent Type II errors: 0.17607746863066012\n",
            "\n",
            "Test set accuracy:\n",
            "R-squared Score: 0.7521472392638037\n",
            "Percent Type I errors: 0.06257668711656442\n",
            "Percent Type II errors: 0.18527607361963191\n"
          ],
          "name": "stdout"
        }
      ]
    },
    {
      "metadata": {
        "id": "JQ6CyB6dDUfC",
        "colab_type": "code",
        "outputId": "7fa4377d-cb64-4676-f47b-8b6161f7d25f",
        "colab": {
          "base_uri": "https://localhost:8080/",
          "height": 185
        }
      },
      "cell_type": "code",
      "source": [
        "pca = PCA(n_components=5)\n",
        "X_pca = pca.fit_transform(X)\n",
        "\n",
        "X_pca_train = X_pca[:offset]\n",
        "\n",
        "X_pca_test = X_pca[offset:]\n",
        "\n",
        "clf_E = ensemble.GradientBoostingClassifier(**params)\n",
        "clf_E.fit(X_train, y_train)\n",
        "print (\"Runtime: %0.2f seconds\" % (timeit.default_timer() - start_time))\n",
        "\n",
        "predict_train_E = clf_E.predict(X_train)\n",
        "predict_test_E = clf_E.predict(X_test)\n",
        "\n",
        "score_train = clf_E.score(X_train, y_train)\n",
        "score_test = clf_E.score(X_test, y_test)\n",
        "\n",
        "E = clf_E.score(X_test, y_test)\n",
        "\n",
        "accuracy_table(y_train, predict_train_E, y_test, predict_test_E)"
      ],
      "execution_count": 0,
      "outputs": [
        {
          "output_type": "stream",
          "text": [
            "Runtime: 7.43 seconds\n",
            "Training set accuracy:\n",
            "R-squared Score: 0.7774140752864157\n",
            "Percent Type I errors: 0.04650845608292417\n",
            "Percent Type II errors: 0.17607746863066012\n",
            "\n",
            "Test set accuracy:\n",
            "R-squared Score: 0.7521472392638037\n",
            "Percent Type I errors: 0.06257668711656442\n",
            "Percent Type II errors: 0.18527607361963191\n"
          ],
          "name": "stdout"
        }
      ]
    },
    {
      "metadata": {
        "id": "sEXxuZ_6ERcp",
        "colab_type": "code",
        "outputId": "c108eaa1-ae4c-4eb5-b356-750016311b9a",
        "colab": {
          "base_uri": "https://localhost:8080/",
          "height": 101
        }
      },
      "cell_type": "code",
      "source": [
        "print('A = ', A)\n",
        "print('B = ', B)\n",
        "print('C = ', C)\n",
        "print('D = ', D)\n",
        "print('E = ', E)"
      ],
      "execution_count": 0,
      "outputs": [
        {
          "output_type": "stream",
          "text": [
            "A =  0.7521472392638037\n",
            "B =  0.7276073619631902\n",
            "C =  0.7521472392638037\n",
            "D =  0.7521472392638037\n",
            "E =  0.7521472392638037\n"
          ],
          "name": "stdout"
        }
      ]
    }
  ]
}