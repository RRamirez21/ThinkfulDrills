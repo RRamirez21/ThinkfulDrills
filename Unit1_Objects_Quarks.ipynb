{
  "nbformat": 4,
  "nbformat_minor": 0,
  "metadata": {
    "colab": {
      "name": "Unit1_Objects_Quarks.ipynb",
      "version": "0.3.2",
      "views": {},
      "default_view": {},
      "provenance": []
    },
    "kernelspec": {
      "name": "python3",
      "display_name": "Python 3"
    }
  },
  "cells": [
    {
      "metadata": {
        "id": "orMnaIrNwxgl",
        "colab_type": "code",
        "colab": {
          "autoexec": {
            "startup": false,
            "wait_interval": 0
          }
        }
      },
      "cell_type": "code",
      "source": [
        "'''You're modelling the interaction between a large number of quarks and have decided to create a Quark class so you can generate your own quark objects.\n",
        "\n",
        "Quarks are fundamental particles and the only fundamental particle to experience all four fundamental forces.\n",
        "\n",
        "Your task\n",
        "Your Quark class should allow you to create quarks of any valid color (\"red\", \"blue\", and \"green\") and any valid flavor ('up', 'down', 'strange', 'charm', 'top', and 'bottom').\n",
        "\n",
        "Every quark has the same baryon_number (BaryonNumber in C#): 1/3.\n",
        "\n",
        "Every quark should have an .interact() (.Interact() in C#) method that allows any quark to interact with another quark via the strong force. When two quarks interact they exchange colors.\n",
        "\n",
        "Example\n",
        ">>> q1 = Quark(\"red\", \"up\")\n",
        ">>> q1.color\n",
        "\"red\"\n",
        ">>> q1.flavor\n",
        "\"up\"\n",
        ">>> q2 = Quark(\"blue\", \"strange\")\n",
        ">>> q2.color\n",
        "\"blue\"\n",
        ">>> q2.baryon_number\n",
        "0.3333333333333333\n",
        ">>> q1.interact(q2)\n",
        ">>> q1.color\n",
        "\"blue\"\n",
        ">>> q2.color\n",
        "\"red\"'''\n",
        "\n",
        "class Quark(object):\n",
        "    def __init__(self, color, flavor):\n",
        "        self.color = color\n",
        "        self.flavor = flavor\n",
        "\n",
        "    baryon_number = 1 / 3\n",
        "    \n",
        "    def interact(self, other_quark):\n",
        "        self.color, other_quark.color = other_quark.color, self.color\n",
        "\n",
        "    def __repr__(self):\n",
        "        return \"{} {} quark\".format(self.color, self.flavor)"
      ],
      "execution_count": 0,
      "outputs": []
    }
  ]
}