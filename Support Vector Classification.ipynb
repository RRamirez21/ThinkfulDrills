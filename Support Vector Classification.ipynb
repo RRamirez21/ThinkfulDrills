{
  "nbformat": 4,
  "nbformat_minor": 0,
  "metadata": {
    "colab": {
      "name": "Support Vector Classification.ipynb",
      "version": "0.3.2",
      "provenance": [],
      "collapsed_sections": []
    },
    "kernelspec": {
      "name": "python3",
      "display_name": "Python 3"
    }
  },
  "cells": [
    {
      "metadata": {
        "id": "eQ9gI05fKNEm",
        "colab_type": "text"
      },
      "cell_type": "markdown",
      "source": [
        "# Challenge\n",
        "Transform this regression problem into a binary classifier and clean up the feature set. You can choose whether or not to include nutritional information, but try to cut your feature set down to the 30 most valuable features.\n",
        "\n",
        "When you've finished that, also take a moment to think about bias. Is there anything in this dataset that makes you think it could be biased, perhaps extremely so?\n",
        "\n",
        "There is. Several things in fact, but most glaringly is that we don't actually have a random sample. It could be, and probably is, that the people more likely to choose some kinds of recipes are more likely to give high reviews."
      ]
    },
    {
      "metadata": {
        "id": "N9G8vEvPKCRh",
        "colab_type": "code",
        "colab": {}
      },
      "cell_type": "code",
      "source": [
        "import numpy as np\n",
        "import pandas as pd\n",
        "import scipy\n",
        "import matplotlib.pyplot as plt\n",
        "import seaborn as sns\n",
        "%matplotlib inline\n",
        "from sklearn import svm\n",
        "from sklearn.model_selection import cross_val_score\n",
        "import time\n",
        "import warnings\n",
        "warnings.filterwarnings(\n",
        "    action=\"ignore\")"
      ],
      "execution_count": 0,
      "outputs": []
    },
    {
      "metadata": {
        "id": "5UJ7F4Y6M6Cu",
        "colab_type": "code",
        "colab": {}
      },
      "cell_type": "code",
      "source": [
        "df = pd.read_csv(\"https://www.dropbox.com/s/us8f0ltbaxgllw3/epi_r.csv?dl=1\")"
      ],
      "execution_count": 0,
      "outputs": []
    },
    {
      "metadata": {
        "id": "XRuJLrF1QQJs",
        "colab_type": "code",
        "outputId": "3fca5245-1282-4edb-cb9d-d15e7231389a",
        "colab": {
          "base_uri": "https://localhost:8080/",
          "height": 610
        }
      },
      "cell_type": "code",
      "source": [
        "df.head(5)"
      ],
      "execution_count": 3,
      "outputs": [
        {
          "output_type": "execute_result",
          "data": {
            "text/html": [
              "<div>\n",
              "<style scoped>\n",
              "    .dataframe tbody tr th:only-of-type {\n",
              "        vertical-align: middle;\n",
              "    }\n",
              "\n",
              "    .dataframe tbody tr th {\n",
              "        vertical-align: top;\n",
              "    }\n",
              "\n",
              "    .dataframe thead th {\n",
              "        text-align: right;\n",
              "    }\n",
              "</style>\n",
              "<table border=\"1\" class=\"dataframe\">\n",
              "  <thead>\n",
              "    <tr style=\"text-align: right;\">\n",
              "      <th></th>\n",
              "      <th>title</th>\n",
              "      <th>rating</th>\n",
              "      <th>calories</th>\n",
              "      <th>protein</th>\n",
              "      <th>fat</th>\n",
              "      <th>sodium</th>\n",
              "      <th>#cakeweek</th>\n",
              "      <th>#wasteless</th>\n",
              "      <th>22-minute meals</th>\n",
              "      <th>3-ingredient recipes</th>\n",
              "      <th>...</th>\n",
              "      <th>yellow squash</th>\n",
              "      <th>yogurt</th>\n",
              "      <th>yonkers</th>\n",
              "      <th>yuca</th>\n",
              "      <th>zucchini</th>\n",
              "      <th>cookbooks</th>\n",
              "      <th>leftovers</th>\n",
              "      <th>snack</th>\n",
              "      <th>snack week</th>\n",
              "      <th>turkey</th>\n",
              "    </tr>\n",
              "  </thead>\n",
              "  <tbody>\n",
              "    <tr>\n",
              "      <th>0</th>\n",
              "      <td>Lentil, Apple, and Turkey Wrap</td>\n",
              "      <td>2.500</td>\n",
              "      <td>426.0</td>\n",
              "      <td>30.0</td>\n",
              "      <td>7.0</td>\n",
              "      <td>559.0</td>\n",
              "      <td>0.0</td>\n",
              "      <td>0.0</td>\n",
              "      <td>0.0</td>\n",
              "      <td>0.0</td>\n",
              "      <td>...</td>\n",
              "      <td>0.0</td>\n",
              "      <td>0.0</td>\n",
              "      <td>0.0</td>\n",
              "      <td>0.0</td>\n",
              "      <td>0.0</td>\n",
              "      <td>0.0</td>\n",
              "      <td>0.0</td>\n",
              "      <td>0.0</td>\n",
              "      <td>0.0</td>\n",
              "      <td>1.0</td>\n",
              "    </tr>\n",
              "    <tr>\n",
              "      <th>1</th>\n",
              "      <td>Boudin Blanc Terrine with Red Onion Confit</td>\n",
              "      <td>4.375</td>\n",
              "      <td>403.0</td>\n",
              "      <td>18.0</td>\n",
              "      <td>23.0</td>\n",
              "      <td>1439.0</td>\n",
              "      <td>0.0</td>\n",
              "      <td>0.0</td>\n",
              "      <td>0.0</td>\n",
              "      <td>0.0</td>\n",
              "      <td>...</td>\n",
              "      <td>0.0</td>\n",
              "      <td>0.0</td>\n",
              "      <td>0.0</td>\n",
              "      <td>0.0</td>\n",
              "      <td>0.0</td>\n",
              "      <td>0.0</td>\n",
              "      <td>0.0</td>\n",
              "      <td>0.0</td>\n",
              "      <td>0.0</td>\n",
              "      <td>0.0</td>\n",
              "    </tr>\n",
              "    <tr>\n",
              "      <th>2</th>\n",
              "      <td>Potato and Fennel Soup Hodge</td>\n",
              "      <td>3.750</td>\n",
              "      <td>165.0</td>\n",
              "      <td>6.0</td>\n",
              "      <td>7.0</td>\n",
              "      <td>165.0</td>\n",
              "      <td>0.0</td>\n",
              "      <td>0.0</td>\n",
              "      <td>0.0</td>\n",
              "      <td>0.0</td>\n",
              "      <td>...</td>\n",
              "      <td>0.0</td>\n",
              "      <td>0.0</td>\n",
              "      <td>0.0</td>\n",
              "      <td>0.0</td>\n",
              "      <td>0.0</td>\n",
              "      <td>0.0</td>\n",
              "      <td>0.0</td>\n",
              "      <td>0.0</td>\n",
              "      <td>0.0</td>\n",
              "      <td>0.0</td>\n",
              "    </tr>\n",
              "    <tr>\n",
              "      <th>3</th>\n",
              "      <td>Mahi-Mahi in Tomato Olive Sauce</td>\n",
              "      <td>5.000</td>\n",
              "      <td>NaN</td>\n",
              "      <td>NaN</td>\n",
              "      <td>NaN</td>\n",
              "      <td>NaN</td>\n",
              "      <td>0.0</td>\n",
              "      <td>0.0</td>\n",
              "      <td>0.0</td>\n",
              "      <td>0.0</td>\n",
              "      <td>...</td>\n",
              "      <td>0.0</td>\n",
              "      <td>0.0</td>\n",
              "      <td>0.0</td>\n",
              "      <td>0.0</td>\n",
              "      <td>0.0</td>\n",
              "      <td>0.0</td>\n",
              "      <td>0.0</td>\n",
              "      <td>0.0</td>\n",
              "      <td>0.0</td>\n",
              "      <td>0.0</td>\n",
              "    </tr>\n",
              "    <tr>\n",
              "      <th>4</th>\n",
              "      <td>Spinach Noodle Casserole</td>\n",
              "      <td>3.125</td>\n",
              "      <td>547.0</td>\n",
              "      <td>20.0</td>\n",
              "      <td>32.0</td>\n",
              "      <td>452.0</td>\n",
              "      <td>0.0</td>\n",
              "      <td>0.0</td>\n",
              "      <td>0.0</td>\n",
              "      <td>0.0</td>\n",
              "      <td>...</td>\n",
              "      <td>0.0</td>\n",
              "      <td>0.0</td>\n",
              "      <td>0.0</td>\n",
              "      <td>0.0</td>\n",
              "      <td>0.0</td>\n",
              "      <td>0.0</td>\n",
              "      <td>0.0</td>\n",
              "      <td>0.0</td>\n",
              "      <td>0.0</td>\n",
              "      <td>0.0</td>\n",
              "    </tr>\n",
              "  </tbody>\n",
              "</table>\n",
              "<p>5 rows × 680 columns</p>\n",
              "</div>"
            ],
            "text/plain": [
              "                                         title  rating  calories  protein  \\\n",
              "0              Lentil, Apple, and Turkey Wrap    2.500     426.0     30.0   \n",
              "1  Boudin Blanc Terrine with Red Onion Confit    4.375     403.0     18.0   \n",
              "2                Potato and Fennel Soup Hodge    3.750     165.0      6.0   \n",
              "3             Mahi-Mahi in Tomato Olive Sauce    5.000       NaN      NaN   \n",
              "4                    Spinach Noodle Casserole    3.125     547.0     20.0   \n",
              "\n",
              "    fat  sodium  #cakeweek  #wasteless  22-minute meals  3-ingredient recipes  \\\n",
              "0   7.0   559.0        0.0         0.0              0.0                   0.0   \n",
              "1  23.0  1439.0        0.0         0.0              0.0                   0.0   \n",
              "2   7.0   165.0        0.0         0.0              0.0                   0.0   \n",
              "3   NaN     NaN        0.0         0.0              0.0                   0.0   \n",
              "4  32.0   452.0        0.0         0.0              0.0                   0.0   \n",
              "\n",
              "    ...    yellow squash  yogurt  yonkers  yuca  zucchini  cookbooks  \\\n",
              "0   ...              0.0     0.0      0.0   0.0       0.0        0.0   \n",
              "1   ...              0.0     0.0      0.0   0.0       0.0        0.0   \n",
              "2   ...              0.0     0.0      0.0   0.0       0.0        0.0   \n",
              "3   ...              0.0     0.0      0.0   0.0       0.0        0.0   \n",
              "4   ...              0.0     0.0      0.0   0.0       0.0        0.0   \n",
              "\n",
              "   leftovers  snack  snack week  turkey  \n",
              "0        0.0    0.0         0.0     1.0  \n",
              "1        0.0    0.0         0.0     0.0  \n",
              "2        0.0    0.0         0.0     0.0  \n",
              "3        0.0    0.0         0.0     0.0  \n",
              "4        0.0    0.0         0.0     0.0  \n",
              "\n",
              "[5 rows x 680 columns]"
            ]
          },
          "metadata": {
            "tags": []
          },
          "execution_count": 3
        }
      ]
    },
    {
      "metadata": {
        "id": "CW95mw3eK6kO",
        "colab_type": "code",
        "outputId": "7b1e0e4a-1476-4189-b795-92bec25516a1",
        "colab": {
          "base_uri": "https://localhost:8080/",
          "height": 170
        }
      },
      "cell_type": "code",
      "source": [
        "df.rating.describe()"
      ],
      "execution_count": 4,
      "outputs": [
        {
          "output_type": "execute_result",
          "data": {
            "text/plain": [
              "count    20052.000000\n",
              "mean         3.714467\n",
              "std          1.340829\n",
              "min          0.000000\n",
              "25%          3.750000\n",
              "50%          4.375000\n",
              "75%          4.375000\n",
              "max          5.000000\n",
              "Name: rating, dtype: float64"
            ]
          },
          "metadata": {
            "tags": []
          },
          "execution_count": 4
        }
      ]
    },
    {
      "metadata": {
        "id": "DqF_y4zBjioS",
        "colab_type": "code",
        "outputId": "b9a4caf8-cd61-4c04-e81a-aee67de4cec9",
        "colab": {
          "base_uri": "https://localhost:8080/",
          "height": 34
        }
      },
      "cell_type": "code",
      "source": [
        " set(['rating', 'title'])"
      ],
      "execution_count": 5,
      "outputs": [
        {
          "output_type": "execute_result",
          "data": {
            "text/plain": [
              "{'rating', 'title'}"
            ]
          },
          "metadata": {
            "tags": []
          },
          "execution_count": 5
        }
      ]
    },
    {
      "metadata": {
        "id": "7MIqTC9BQStB",
        "colab_type": "code",
        "colab": {}
      },
      "cell_type": "code",
      "source": [
        "X = df[list(set(list(df.columns)) - set(['rating', 'title']))]\n",
        "y = df['rating']"
      ],
      "execution_count": 0,
      "outputs": []
    },
    {
      "metadata": {
        "id": "1NaqRCt6QVi2",
        "colab_type": "code",
        "outputId": "59c4f28c-376b-4926-aedf-e80479fd4450",
        "colab": {
          "base_uri": "https://localhost:8080/",
          "height": 68
        }
      },
      "cell_type": "code",
      "source": [
        "# Classify high ratings (>4) and low ratings (<4)\n",
        "y_class = y.copy()\n",
        "y_class[y_class < 4] = 0\n",
        "y_class[y_class > 4] = 1\n",
        "y_class.value_counts()"
      ],
      "execution_count": 7,
      "outputs": [
        {
          "output_type": "execute_result",
          "data": {
            "text/plain": [
              "1.0    10738\n",
              "0.0     9314\n",
              "Name: rating, dtype: int64"
            ]
          },
          "metadata": {
            "tags": []
          },
          "execution_count": 7
        }
      ]
    },
    {
      "metadata": {
        "id": "7T2BPz97QbAJ",
        "colab_type": "code",
        "outputId": "72763741-d08d-4136-e5f2-7c00299eebd2",
        "colab": {
          "base_uri": "https://localhost:8080/",
          "height": 363
        }
      },
      "cell_type": "code",
      "source": [
        "#Reduce features\n",
        "X.describe()"
      ],
      "execution_count": 8,
      "outputs": [
        {
          "output_type": "execute_result",
          "data": {
            "text/html": [
              "<div>\n",
              "<style scoped>\n",
              "    .dataframe tbody tr th:only-of-type {\n",
              "        vertical-align: middle;\n",
              "    }\n",
              "\n",
              "    .dataframe tbody tr th {\n",
              "        vertical-align: top;\n",
              "    }\n",
              "\n",
              "    .dataframe thead th {\n",
              "        text-align: right;\n",
              "    }\n",
              "</style>\n",
              "<table border=\"1\" class=\"dataframe\">\n",
              "  <thead>\n",
              "    <tr style=\"text-align: right;\">\n",
              "      <th></th>\n",
              "      <th>lamb chop</th>\n",
              "      <th>cambridge</th>\n",
              "      <th>custard</th>\n",
              "      <th>easter</th>\n",
              "      <th>onion</th>\n",
              "      <th>coffee grinder</th>\n",
              "      <th>sauce</th>\n",
              "      <th>rhode island</th>\n",
              "      <th>salsa</th>\n",
              "      <th>grill/barbecue</th>\n",
              "      <th>...</th>\n",
              "      <th>muffin</th>\n",
              "      <th>thanksgiving</th>\n",
              "      <th>ginger</th>\n",
              "      <th>garlic</th>\n",
              "      <th>brown rice</th>\n",
              "      <th>cookie</th>\n",
              "      <th>gourmet</th>\n",
              "      <th>leek</th>\n",
              "      <th>yuca</th>\n",
              "      <th>mustard</th>\n",
              "    </tr>\n",
              "  </thead>\n",
              "  <tbody>\n",
              "    <tr>\n",
              "      <th>count</th>\n",
              "      <td>20052.000000</td>\n",
              "      <td>20052.000000</td>\n",
              "      <td>20052.000000</td>\n",
              "      <td>20052.000000</td>\n",
              "      <td>20052.000000</td>\n",
              "      <td>20052.000000</td>\n",
              "      <td>20052.000000</td>\n",
              "      <td>20052.000000</td>\n",
              "      <td>20052.000000</td>\n",
              "      <td>20052.000000</td>\n",
              "      <td>...</td>\n",
              "      <td>20052.000000</td>\n",
              "      <td>20052.000000</td>\n",
              "      <td>20052.000000</td>\n",
              "      <td>20052.000000</td>\n",
              "      <td>20052.000000</td>\n",
              "      <td>20052.000000</td>\n",
              "      <td>20052.000000</td>\n",
              "      <td>20052.000000</td>\n",
              "      <td>20052.000000</td>\n",
              "      <td>20052.000000</td>\n",
              "    </tr>\n",
              "    <tr>\n",
              "      <th>mean</th>\n",
              "      <td>0.002244</td>\n",
              "      <td>0.000199</td>\n",
              "      <td>0.000100</td>\n",
              "      <td>0.011670</td>\n",
              "      <td>0.111610</td>\n",
              "      <td>0.000848</td>\n",
              "      <td>0.053112</td>\n",
              "      <td>0.000399</td>\n",
              "      <td>0.000299</td>\n",
              "      <td>0.055057</td>\n",
              "      <td>...</td>\n",
              "      <td>0.000249</td>\n",
              "      <td>0.072711</td>\n",
              "      <td>0.057151</td>\n",
              "      <td>0.081937</td>\n",
              "      <td>0.001147</td>\n",
              "      <td>0.003441</td>\n",
              "      <td>0.331538</td>\n",
              "      <td>0.013266</td>\n",
              "      <td>0.000299</td>\n",
              "      <td>0.029922</td>\n",
              "    </tr>\n",
              "    <tr>\n",
              "      <th>std</th>\n",
              "      <td>0.047321</td>\n",
              "      <td>0.014123</td>\n",
              "      <td>0.009987</td>\n",
              "      <td>0.107397</td>\n",
              "      <td>0.314894</td>\n",
              "      <td>0.029105</td>\n",
              "      <td>0.224262</td>\n",
              "      <td>0.019971</td>\n",
              "      <td>0.017296</td>\n",
              "      <td>0.228097</td>\n",
              "      <td>...</td>\n",
              "      <td>0.015789</td>\n",
              "      <td>0.259668</td>\n",
              "      <td>0.232137</td>\n",
              "      <td>0.274275</td>\n",
              "      <td>0.033849</td>\n",
              "      <td>0.058561</td>\n",
              "      <td>0.470778</td>\n",
              "      <td>0.114412</td>\n",
              "      <td>0.017296</td>\n",
              "      <td>0.170377</td>\n",
              "    </tr>\n",
              "    <tr>\n",
              "      <th>min</th>\n",
              "      <td>0.000000</td>\n",
              "      <td>0.000000</td>\n",
              "      <td>0.000000</td>\n",
              "      <td>0.000000</td>\n",
              "      <td>0.000000</td>\n",
              "      <td>0.000000</td>\n",
              "      <td>0.000000</td>\n",
              "      <td>0.000000</td>\n",
              "      <td>0.000000</td>\n",
              "      <td>0.000000</td>\n",
              "      <td>...</td>\n",
              "      <td>0.000000</td>\n",
              "      <td>0.000000</td>\n",
              "      <td>0.000000</td>\n",
              "      <td>0.000000</td>\n",
              "      <td>0.000000</td>\n",
              "      <td>0.000000</td>\n",
              "      <td>0.000000</td>\n",
              "      <td>0.000000</td>\n",
              "      <td>0.000000</td>\n",
              "      <td>0.000000</td>\n",
              "    </tr>\n",
              "    <tr>\n",
              "      <th>25%</th>\n",
              "      <td>0.000000</td>\n",
              "      <td>0.000000</td>\n",
              "      <td>0.000000</td>\n",
              "      <td>0.000000</td>\n",
              "      <td>0.000000</td>\n",
              "      <td>0.000000</td>\n",
              "      <td>0.000000</td>\n",
              "      <td>0.000000</td>\n",
              "      <td>0.000000</td>\n",
              "      <td>0.000000</td>\n",
              "      <td>...</td>\n",
              "      <td>0.000000</td>\n",
              "      <td>0.000000</td>\n",
              "      <td>0.000000</td>\n",
              "      <td>0.000000</td>\n",
              "      <td>0.000000</td>\n",
              "      <td>0.000000</td>\n",
              "      <td>0.000000</td>\n",
              "      <td>0.000000</td>\n",
              "      <td>0.000000</td>\n",
              "      <td>0.000000</td>\n",
              "    </tr>\n",
              "    <tr>\n",
              "      <th>50%</th>\n",
              "      <td>0.000000</td>\n",
              "      <td>0.000000</td>\n",
              "      <td>0.000000</td>\n",
              "      <td>0.000000</td>\n",
              "      <td>0.000000</td>\n",
              "      <td>0.000000</td>\n",
              "      <td>0.000000</td>\n",
              "      <td>0.000000</td>\n",
              "      <td>0.000000</td>\n",
              "      <td>0.000000</td>\n",
              "      <td>...</td>\n",
              "      <td>0.000000</td>\n",
              "      <td>0.000000</td>\n",
              "      <td>0.000000</td>\n",
              "      <td>0.000000</td>\n",
              "      <td>0.000000</td>\n",
              "      <td>0.000000</td>\n",
              "      <td>0.000000</td>\n",
              "      <td>0.000000</td>\n",
              "      <td>0.000000</td>\n",
              "      <td>0.000000</td>\n",
              "    </tr>\n",
              "    <tr>\n",
              "      <th>75%</th>\n",
              "      <td>0.000000</td>\n",
              "      <td>0.000000</td>\n",
              "      <td>0.000000</td>\n",
              "      <td>0.000000</td>\n",
              "      <td>0.000000</td>\n",
              "      <td>0.000000</td>\n",
              "      <td>0.000000</td>\n",
              "      <td>0.000000</td>\n",
              "      <td>0.000000</td>\n",
              "      <td>0.000000</td>\n",
              "      <td>...</td>\n",
              "      <td>0.000000</td>\n",
              "      <td>0.000000</td>\n",
              "      <td>0.000000</td>\n",
              "      <td>0.000000</td>\n",
              "      <td>0.000000</td>\n",
              "      <td>0.000000</td>\n",
              "      <td>1.000000</td>\n",
              "      <td>0.000000</td>\n",
              "      <td>0.000000</td>\n",
              "      <td>0.000000</td>\n",
              "    </tr>\n",
              "    <tr>\n",
              "      <th>max</th>\n",
              "      <td>1.000000</td>\n",
              "      <td>1.000000</td>\n",
              "      <td>1.000000</td>\n",
              "      <td>1.000000</td>\n",
              "      <td>1.000000</td>\n",
              "      <td>1.000000</td>\n",
              "      <td>1.000000</td>\n",
              "      <td>1.000000</td>\n",
              "      <td>1.000000</td>\n",
              "      <td>1.000000</td>\n",
              "      <td>...</td>\n",
              "      <td>1.000000</td>\n",
              "      <td>1.000000</td>\n",
              "      <td>1.000000</td>\n",
              "      <td>1.000000</td>\n",
              "      <td>1.000000</td>\n",
              "      <td>1.000000</td>\n",
              "      <td>1.000000</td>\n",
              "      <td>1.000000</td>\n",
              "      <td>1.000000</td>\n",
              "      <td>1.000000</td>\n",
              "    </tr>\n",
              "  </tbody>\n",
              "</table>\n",
              "<p>8 rows × 678 columns</p>\n",
              "</div>"
            ],
            "text/plain": [
              "          lamb chop     cambridge       custard        easter         onion  \\\n",
              "count  20052.000000  20052.000000  20052.000000  20052.000000  20052.000000   \n",
              "mean       0.002244      0.000199      0.000100      0.011670      0.111610   \n",
              "std        0.047321      0.014123      0.009987      0.107397      0.314894   \n",
              "min        0.000000      0.000000      0.000000      0.000000      0.000000   \n",
              "25%        0.000000      0.000000      0.000000      0.000000      0.000000   \n",
              "50%        0.000000      0.000000      0.000000      0.000000      0.000000   \n",
              "75%        0.000000      0.000000      0.000000      0.000000      0.000000   \n",
              "max        1.000000      1.000000      1.000000      1.000000      1.000000   \n",
              "\n",
              "       coffee grinder         sauce  rhode island         salsa  \\\n",
              "count    20052.000000  20052.000000  20052.000000  20052.000000   \n",
              "mean         0.000848      0.053112      0.000399      0.000299   \n",
              "std          0.029105      0.224262      0.019971      0.017296   \n",
              "min          0.000000      0.000000      0.000000      0.000000   \n",
              "25%          0.000000      0.000000      0.000000      0.000000   \n",
              "50%          0.000000      0.000000      0.000000      0.000000   \n",
              "75%          0.000000      0.000000      0.000000      0.000000   \n",
              "max          1.000000      1.000000      1.000000      1.000000   \n",
              "\n",
              "       grill/barbecue      ...             muffin  thanksgiving        ginger  \\\n",
              "count    20052.000000      ...       20052.000000  20052.000000  20052.000000   \n",
              "mean         0.055057      ...           0.000249      0.072711      0.057151   \n",
              "std          0.228097      ...           0.015789      0.259668      0.232137   \n",
              "min          0.000000      ...           0.000000      0.000000      0.000000   \n",
              "25%          0.000000      ...           0.000000      0.000000      0.000000   \n",
              "50%          0.000000      ...           0.000000      0.000000      0.000000   \n",
              "75%          0.000000      ...           0.000000      0.000000      0.000000   \n",
              "max          1.000000      ...           1.000000      1.000000      1.000000   \n",
              "\n",
              "             garlic    brown rice        cookie       gourmet          leek  \\\n",
              "count  20052.000000  20052.000000  20052.000000  20052.000000  20052.000000   \n",
              "mean       0.081937      0.001147      0.003441      0.331538      0.013266   \n",
              "std        0.274275      0.033849      0.058561      0.470778      0.114412   \n",
              "min        0.000000      0.000000      0.000000      0.000000      0.000000   \n",
              "25%        0.000000      0.000000      0.000000      0.000000      0.000000   \n",
              "50%        0.000000      0.000000      0.000000      0.000000      0.000000   \n",
              "75%        0.000000      0.000000      0.000000      1.000000      0.000000   \n",
              "max        1.000000      1.000000      1.000000      1.000000      1.000000   \n",
              "\n",
              "               yuca       mustard  \n",
              "count  20052.000000  20052.000000  \n",
              "mean       0.000299      0.029922  \n",
              "std        0.017296      0.170377  \n",
              "min        0.000000      0.000000  \n",
              "25%        0.000000      0.000000  \n",
              "50%        0.000000      0.000000  \n",
              "75%        0.000000      0.000000  \n",
              "max        1.000000      1.000000  \n",
              "\n",
              "[8 rows x 678 columns]"
            ]
          },
          "metadata": {
            "tags": []
          },
          "execution_count": 8
        }
      ]
    },
    {
      "metadata": {
        "id": "jI-2jg9BQda-",
        "colab_type": "code",
        "outputId": "9ea29a17-e8db-419b-9693-01c2112d7a9b",
        "colab": {
          "base_uri": "https://localhost:8080/",
          "height": 51
        }
      },
      "cell_type": "code",
      "source": [
        "X_null = X.isnull().sum()\n",
        "null_cols = list(X_null[X_null > 0].index)\n",
        "print (\"We drop {} columns due to NaNs\\n{}\".format(len(null_cols), null_cols))\n",
        "X_feat = X.drop(columns = null_cols)"
      ],
      "execution_count": 9,
      "outputs": [
        {
          "output_type": "stream",
          "text": [
            "We drop 4 columns due to NaNs\n",
            "['protein', 'sodium', 'calories', 'fat']\n"
          ],
          "name": "stdout"
        }
      ]
    },
    {
      "metadata": {
        "id": "yLtBNKG6Qm7l",
        "colab_type": "code",
        "outputId": "c6023376-2465-4a6c-84f4-8f46098c8b75",
        "colab": {
          "base_uri": "https://localhost:8080/",
          "height": 34
        }
      },
      "cell_type": "code",
      "source": [
        "low_means = []\n",
        "for col in X_feat.columns:\n",
        "    if X_feat[col].mean() < 0.1:\n",
        "        low_means.append(col)\n",
        "print (\"We drop {} columns because they have an insignificant mean\".format(len(low_means)))\n",
        "X_feat = X_feat.drop(columns = low_means)"
      ],
      "execution_count": 10,
      "outputs": [
        {
          "output_type": "stream",
          "text": [
            "We drop 648 columns because they have an insignificant mean\n"
          ],
          "name": "stdout"
        }
      ]
    },
    {
      "metadata": {
        "id": "FBKa05ECwJ8u",
        "colab_type": "code",
        "outputId": "144d6ed3-af45-4e78-a7a4-da54f1a5ef72",
        "colab": {
          "base_uri": "https://localhost:8080/",
          "height": 363
        }
      },
      "cell_type": "code",
      "source": [
        "X.describe()"
      ],
      "execution_count": 11,
      "outputs": [
        {
          "output_type": "execute_result",
          "data": {
            "text/html": [
              "<div>\n",
              "<style scoped>\n",
              "    .dataframe tbody tr th:only-of-type {\n",
              "        vertical-align: middle;\n",
              "    }\n",
              "\n",
              "    .dataframe tbody tr th {\n",
              "        vertical-align: top;\n",
              "    }\n",
              "\n",
              "    .dataframe thead th {\n",
              "        text-align: right;\n",
              "    }\n",
              "</style>\n",
              "<table border=\"1\" class=\"dataframe\">\n",
              "  <thead>\n",
              "    <tr style=\"text-align: right;\">\n",
              "      <th></th>\n",
              "      <th>lamb chop</th>\n",
              "      <th>cambridge</th>\n",
              "      <th>custard</th>\n",
              "      <th>easter</th>\n",
              "      <th>onion</th>\n",
              "      <th>coffee grinder</th>\n",
              "      <th>sauce</th>\n",
              "      <th>rhode island</th>\n",
              "      <th>salsa</th>\n",
              "      <th>grill/barbecue</th>\n",
              "      <th>...</th>\n",
              "      <th>muffin</th>\n",
              "      <th>thanksgiving</th>\n",
              "      <th>ginger</th>\n",
              "      <th>garlic</th>\n",
              "      <th>brown rice</th>\n",
              "      <th>cookie</th>\n",
              "      <th>gourmet</th>\n",
              "      <th>leek</th>\n",
              "      <th>yuca</th>\n",
              "      <th>mustard</th>\n",
              "    </tr>\n",
              "  </thead>\n",
              "  <tbody>\n",
              "    <tr>\n",
              "      <th>count</th>\n",
              "      <td>20052.000000</td>\n",
              "      <td>20052.000000</td>\n",
              "      <td>20052.000000</td>\n",
              "      <td>20052.000000</td>\n",
              "      <td>20052.000000</td>\n",
              "      <td>20052.000000</td>\n",
              "      <td>20052.000000</td>\n",
              "      <td>20052.000000</td>\n",
              "      <td>20052.000000</td>\n",
              "      <td>20052.000000</td>\n",
              "      <td>...</td>\n",
              "      <td>20052.000000</td>\n",
              "      <td>20052.000000</td>\n",
              "      <td>20052.000000</td>\n",
              "      <td>20052.000000</td>\n",
              "      <td>20052.000000</td>\n",
              "      <td>20052.000000</td>\n",
              "      <td>20052.000000</td>\n",
              "      <td>20052.000000</td>\n",
              "      <td>20052.000000</td>\n",
              "      <td>20052.000000</td>\n",
              "    </tr>\n",
              "    <tr>\n",
              "      <th>mean</th>\n",
              "      <td>0.002244</td>\n",
              "      <td>0.000199</td>\n",
              "      <td>0.000100</td>\n",
              "      <td>0.011670</td>\n",
              "      <td>0.111610</td>\n",
              "      <td>0.000848</td>\n",
              "      <td>0.053112</td>\n",
              "      <td>0.000399</td>\n",
              "      <td>0.000299</td>\n",
              "      <td>0.055057</td>\n",
              "      <td>...</td>\n",
              "      <td>0.000249</td>\n",
              "      <td>0.072711</td>\n",
              "      <td>0.057151</td>\n",
              "      <td>0.081937</td>\n",
              "      <td>0.001147</td>\n",
              "      <td>0.003441</td>\n",
              "      <td>0.331538</td>\n",
              "      <td>0.013266</td>\n",
              "      <td>0.000299</td>\n",
              "      <td>0.029922</td>\n",
              "    </tr>\n",
              "    <tr>\n",
              "      <th>std</th>\n",
              "      <td>0.047321</td>\n",
              "      <td>0.014123</td>\n",
              "      <td>0.009987</td>\n",
              "      <td>0.107397</td>\n",
              "      <td>0.314894</td>\n",
              "      <td>0.029105</td>\n",
              "      <td>0.224262</td>\n",
              "      <td>0.019971</td>\n",
              "      <td>0.017296</td>\n",
              "      <td>0.228097</td>\n",
              "      <td>...</td>\n",
              "      <td>0.015789</td>\n",
              "      <td>0.259668</td>\n",
              "      <td>0.232137</td>\n",
              "      <td>0.274275</td>\n",
              "      <td>0.033849</td>\n",
              "      <td>0.058561</td>\n",
              "      <td>0.470778</td>\n",
              "      <td>0.114412</td>\n",
              "      <td>0.017296</td>\n",
              "      <td>0.170377</td>\n",
              "    </tr>\n",
              "    <tr>\n",
              "      <th>min</th>\n",
              "      <td>0.000000</td>\n",
              "      <td>0.000000</td>\n",
              "      <td>0.000000</td>\n",
              "      <td>0.000000</td>\n",
              "      <td>0.000000</td>\n",
              "      <td>0.000000</td>\n",
              "      <td>0.000000</td>\n",
              "      <td>0.000000</td>\n",
              "      <td>0.000000</td>\n",
              "      <td>0.000000</td>\n",
              "      <td>...</td>\n",
              "      <td>0.000000</td>\n",
              "      <td>0.000000</td>\n",
              "      <td>0.000000</td>\n",
              "      <td>0.000000</td>\n",
              "      <td>0.000000</td>\n",
              "      <td>0.000000</td>\n",
              "      <td>0.000000</td>\n",
              "      <td>0.000000</td>\n",
              "      <td>0.000000</td>\n",
              "      <td>0.000000</td>\n",
              "    </tr>\n",
              "    <tr>\n",
              "      <th>25%</th>\n",
              "      <td>0.000000</td>\n",
              "      <td>0.000000</td>\n",
              "      <td>0.000000</td>\n",
              "      <td>0.000000</td>\n",
              "      <td>0.000000</td>\n",
              "      <td>0.000000</td>\n",
              "      <td>0.000000</td>\n",
              "      <td>0.000000</td>\n",
              "      <td>0.000000</td>\n",
              "      <td>0.000000</td>\n",
              "      <td>...</td>\n",
              "      <td>0.000000</td>\n",
              "      <td>0.000000</td>\n",
              "      <td>0.000000</td>\n",
              "      <td>0.000000</td>\n",
              "      <td>0.000000</td>\n",
              "      <td>0.000000</td>\n",
              "      <td>0.000000</td>\n",
              "      <td>0.000000</td>\n",
              "      <td>0.000000</td>\n",
              "      <td>0.000000</td>\n",
              "    </tr>\n",
              "    <tr>\n",
              "      <th>50%</th>\n",
              "      <td>0.000000</td>\n",
              "      <td>0.000000</td>\n",
              "      <td>0.000000</td>\n",
              "      <td>0.000000</td>\n",
              "      <td>0.000000</td>\n",
              "      <td>0.000000</td>\n",
              "      <td>0.000000</td>\n",
              "      <td>0.000000</td>\n",
              "      <td>0.000000</td>\n",
              "      <td>0.000000</td>\n",
              "      <td>...</td>\n",
              "      <td>0.000000</td>\n",
              "      <td>0.000000</td>\n",
              "      <td>0.000000</td>\n",
              "      <td>0.000000</td>\n",
              "      <td>0.000000</td>\n",
              "      <td>0.000000</td>\n",
              "      <td>0.000000</td>\n",
              "      <td>0.000000</td>\n",
              "      <td>0.000000</td>\n",
              "      <td>0.000000</td>\n",
              "    </tr>\n",
              "    <tr>\n",
              "      <th>75%</th>\n",
              "      <td>0.000000</td>\n",
              "      <td>0.000000</td>\n",
              "      <td>0.000000</td>\n",
              "      <td>0.000000</td>\n",
              "      <td>0.000000</td>\n",
              "      <td>0.000000</td>\n",
              "      <td>0.000000</td>\n",
              "      <td>0.000000</td>\n",
              "      <td>0.000000</td>\n",
              "      <td>0.000000</td>\n",
              "      <td>...</td>\n",
              "      <td>0.000000</td>\n",
              "      <td>0.000000</td>\n",
              "      <td>0.000000</td>\n",
              "      <td>0.000000</td>\n",
              "      <td>0.000000</td>\n",
              "      <td>0.000000</td>\n",
              "      <td>1.000000</td>\n",
              "      <td>0.000000</td>\n",
              "      <td>0.000000</td>\n",
              "      <td>0.000000</td>\n",
              "    </tr>\n",
              "    <tr>\n",
              "      <th>max</th>\n",
              "      <td>1.000000</td>\n",
              "      <td>1.000000</td>\n",
              "      <td>1.000000</td>\n",
              "      <td>1.000000</td>\n",
              "      <td>1.000000</td>\n",
              "      <td>1.000000</td>\n",
              "      <td>1.000000</td>\n",
              "      <td>1.000000</td>\n",
              "      <td>1.000000</td>\n",
              "      <td>1.000000</td>\n",
              "      <td>...</td>\n",
              "      <td>1.000000</td>\n",
              "      <td>1.000000</td>\n",
              "      <td>1.000000</td>\n",
              "      <td>1.000000</td>\n",
              "      <td>1.000000</td>\n",
              "      <td>1.000000</td>\n",
              "      <td>1.000000</td>\n",
              "      <td>1.000000</td>\n",
              "      <td>1.000000</td>\n",
              "      <td>1.000000</td>\n",
              "    </tr>\n",
              "  </tbody>\n",
              "</table>\n",
              "<p>8 rows × 678 columns</p>\n",
              "</div>"
            ],
            "text/plain": [
              "          lamb chop     cambridge       custard        easter         onion  \\\n",
              "count  20052.000000  20052.000000  20052.000000  20052.000000  20052.000000   \n",
              "mean       0.002244      0.000199      0.000100      0.011670      0.111610   \n",
              "std        0.047321      0.014123      0.009987      0.107397      0.314894   \n",
              "min        0.000000      0.000000      0.000000      0.000000      0.000000   \n",
              "25%        0.000000      0.000000      0.000000      0.000000      0.000000   \n",
              "50%        0.000000      0.000000      0.000000      0.000000      0.000000   \n",
              "75%        0.000000      0.000000      0.000000      0.000000      0.000000   \n",
              "max        1.000000      1.000000      1.000000      1.000000      1.000000   \n",
              "\n",
              "       coffee grinder         sauce  rhode island         salsa  \\\n",
              "count    20052.000000  20052.000000  20052.000000  20052.000000   \n",
              "mean         0.000848      0.053112      0.000399      0.000299   \n",
              "std          0.029105      0.224262      0.019971      0.017296   \n",
              "min          0.000000      0.000000      0.000000      0.000000   \n",
              "25%          0.000000      0.000000      0.000000      0.000000   \n",
              "50%          0.000000      0.000000      0.000000      0.000000   \n",
              "75%          0.000000      0.000000      0.000000      0.000000   \n",
              "max          1.000000      1.000000      1.000000      1.000000   \n",
              "\n",
              "       grill/barbecue      ...             muffin  thanksgiving        ginger  \\\n",
              "count    20052.000000      ...       20052.000000  20052.000000  20052.000000   \n",
              "mean         0.055057      ...           0.000249      0.072711      0.057151   \n",
              "std          0.228097      ...           0.015789      0.259668      0.232137   \n",
              "min          0.000000      ...           0.000000      0.000000      0.000000   \n",
              "25%          0.000000      ...           0.000000      0.000000      0.000000   \n",
              "50%          0.000000      ...           0.000000      0.000000      0.000000   \n",
              "75%          0.000000      ...           0.000000      0.000000      0.000000   \n",
              "max          1.000000      ...           1.000000      1.000000      1.000000   \n",
              "\n",
              "             garlic    brown rice        cookie       gourmet          leek  \\\n",
              "count  20052.000000  20052.000000  20052.000000  20052.000000  20052.000000   \n",
              "mean       0.081937      0.001147      0.003441      0.331538      0.013266   \n",
              "std        0.274275      0.033849      0.058561      0.470778      0.114412   \n",
              "min        0.000000      0.000000      0.000000      0.000000      0.000000   \n",
              "25%        0.000000      0.000000      0.000000      0.000000      0.000000   \n",
              "50%        0.000000      0.000000      0.000000      0.000000      0.000000   \n",
              "75%        0.000000      0.000000      0.000000      1.000000      0.000000   \n",
              "max        1.000000      1.000000      1.000000      1.000000      1.000000   \n",
              "\n",
              "               yuca       mustard  \n",
              "count  20052.000000  20052.000000  \n",
              "mean       0.000299      0.029922  \n",
              "std        0.017296      0.170377  \n",
              "min        0.000000      0.000000  \n",
              "25%        0.000000      0.000000  \n",
              "50%        0.000000      0.000000  \n",
              "75%        0.000000      0.000000  \n",
              "max        1.000000      1.000000  \n",
              "\n",
              "[8 rows x 678 columns]"
            ]
          },
          "metadata": {
            "tags": []
          },
          "execution_count": 11
        }
      ]
    },
    {
      "metadata": {
        "id": "p16Vkgu4Qz6E",
        "colab_type": "code",
        "outputId": "72e20574-dcc5-4fc2-9290-eac320f3567b",
        "colab": {
          "base_uri": "https://localhost:8080/",
          "height": 34
        }
      },
      "cell_type": "code",
      "source": [
        "start = time.time()\n",
        "svc_model = svm.SVC()\n",
        "fit = svc_model.fit(X_feat, y_class)\n",
        "y_pred = svc_model.predict(X_feat)\n",
        "print (\"Runtime: %0.2f seconds\" % (time.time() - start))"
      ],
      "execution_count": 12,
      "outputs": [
        {
          "output_type": "stream",
          "text": [
            "Runtime: 70.51 seconds\n"
          ],
          "name": "stdout"
        }
      ]
    },
    {
      "metadata": {
        "id": "QXHaazM1Q0xb",
        "colab_type": "code",
        "outputId": "9bed8470-7865-4d15-add8-9e84b9e7906a",
        "colab": {
          "base_uri": "https://localhost:8080/",
          "height": 51
        }
      },
      "cell_type": "code",
      "source": [
        "start = time.time()\n",
        "svc_score = svc_model.score(X_feat, y_class)\n",
        "print (\"Runtime: %0.2f seconds\" % (time.time() - start))\n",
        "print (\"Baseline Score: %0.3f\" % (svc_score))"
      ],
      "execution_count": 13,
      "outputs": [
        {
          "output_type": "stream",
          "text": [
            "Runtime: 29.44 seconds\n",
            "Baseline Score: 0.579\n"
          ],
          "name": "stdout"
        }
      ]
    },
    {
      "metadata": {
        "id": "xf0-zv4UQ3r5",
        "colab_type": "code",
        "outputId": "a4ebb5e8-363e-4dad-a98c-8c3e629c92dd",
        "colab": {
          "base_uri": "https://localhost:8080/",
          "height": 51
        }
      },
      "cell_type": "code",
      "source": [
        "start = time.time()\n",
        "svc_iter_model = svm.SVC(C = 100)\n",
        "print (\"Runtime: %0.2f seconds\" % (time.time() - start))\n",
        "print (\"Iterated Score: %0.3f\" % (svc_score))"
      ],
      "execution_count": 14,
      "outputs": [
        {
          "output_type": "stream",
          "text": [
            "Runtime: 0.00 seconds\n",
            "Iterated Score: 0.579\n"
          ],
          "name": "stdout"
        }
      ]
    },
    {
      "metadata": {
        "id": "d3XPD5BSQ6PE",
        "colab_type": "code",
        "colab": {}
      },
      "cell_type": "code",
      "source": [
        "# Add nutritional information\n",
        "X_nut = df[list(set(list(df.columns)) - set(['rating', 'title']))]\n",
        "X_nut.drop(columns = low_means, inplace = True)\n",
        "X_nut = X_nut.fillna(X_nut.median())"
      ],
      "execution_count": 0,
      "outputs": []
    },
    {
      "metadata": {
        "id": "iOeTs4FbG4Wm",
        "colab_type": "code",
        "colab": {
          "base_uri": "https://localhost:8080/",
          "height": 34
        },
        "outputId": "7ce8cc8d-100b-45ab-f7aa-dc0ef6aba638"
      },
      "cell_type": "code",
      "source": [
        "majority_class_prediction = np.ones(y_class.shape)\n",
        "\n",
        "from sklearn.metrics import accuracy_score\n",
        "\n",
        "accuracy_score(y_class, majority_class_prediction)"
      ],
      "execution_count": 16,
      "outputs": [
        {
          "output_type": "execute_result",
          "data": {
            "text/plain": [
              "0.5355076800319171"
            ]
          },
          "metadata": {
            "tags": []
          },
          "execution_count": 16
        }
      ]
    },
    {
      "metadata": {
        "id": "OwIvnTjDQ_90",
        "colab_type": "code",
        "colab": {
          "base_uri": "https://localhost:8080/",
          "height": 51
        },
        "outputId": "a2456c31-085d-460d-e172-4cf592bd37bc"
      },
      "cell_type": "code",
      "source": [
        "svc_iter_cross_val_scores = cross_val_score(svc_iter_model, X_nut, y_class, cv=5)\n",
        "print (\"Runtime: %0.2f seconds\" % (time.time() - start))\n",
        "print (\"Mean Accuracy: %0.3f (+/- %0.3f)\" % (svc_iter_cross_val_scores.mean(), svc_iter_cross_val_scores.std()))"
      ],
      "execution_count": 17,
      "outputs": [
        {
          "output_type": "stream",
          "text": [
            "Runtime: 534.87 seconds\n",
            "Mean Accuracy: 0.603 (+/- 0.007)\n"
          ],
          "name": "stdout"
        }
      ]
    },
    {
      "metadata": {
        "id": "QBM9G-TYG8n_",
        "colab_type": "text"
      },
      "cell_type": "markdown",
      "source": [
        "We beat the majority class classifier by 0.07 accuracy. However, the dataset is biased since people are more likely to choose recipes that are more likely to give high reviews. In order to create a more accurate model, we will need to account for that bias."
      ]
    }
  ]
}
