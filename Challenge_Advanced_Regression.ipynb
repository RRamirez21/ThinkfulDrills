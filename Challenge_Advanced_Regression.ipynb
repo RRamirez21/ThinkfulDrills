{
  "nbformat": 4,
  "nbformat_minor": 0,
  "metadata": {
    "colab": {
      "name": "Challenge:Advanced_Regression.ipynb",
      "version": "0.3.2",
      "provenance": [],
      "collapsed_sections": []
    },
    "kernelspec": {
      "name": "python3",
      "display_name": "Python 3"
    }
  },
  "cells": [
    {
      "metadata": {
        "id": "2WsmSu7ghLS2",
        "colab_type": "text"
      },
      "cell_type": "markdown",
      "source": [
        "Pick a dataset of your choice with a binary outcome and the potential for at least 15 features. If you're drawing a blank, the [crime rates in 2013 dataset](https://ucr.fbi.gov/crime-in-the-u.s/2013/crime-in-the-u.s.-2013/tables/table-8/table_8_offenses_known_to_law_enforcement_by_state_by_city_2013.xls/view) has a lot of variables that could be made into a modelable binary outcome.\n",
        "\n",
        "Engineer your features, then create three models. Each model will be run on a training set and a test-set (or multiple test-sets, if you take a folds approach). The models should be:\n",
        "\n",
        "* Vanilla logistic regression\n",
        "* Ridge logistic regression\n",
        "* Lasso logistic regression\n",
        "\n",
        "\n",
        "In your report, evaluate all three models and decide on your best. Be clear about the decisions you made that led to these models (feature selection, regularization parameter selection, model evaluation criteria) and why you think that particular model is the best of the three. Also reflect on the strengths and limitations of regression as a modeling approach. Were there things you couldn't do but you wish you could have done?"
      ]
    },
    {
      "metadata": {
        "id": "bNWSRjm6g4XP",
        "colab_type": "code",
        "colab": {}
      },
      "cell_type": "code",
      "source": [
        "import math\n",
        "import warnings\n",
        "\n",
        "from IPython.display import display\n",
        "from matplotlib import pyplot as plt\n",
        "import numpy as np\n",
        "import pandas as pd\n",
        "import seaborn as sns\n",
        "from sklearn import linear_model\n",
        "from sklearn.model_selection import train_test_split\n",
        "import statsmodels.formula.api as smf\n",
        "from scipy.stats import mstats\n",
        "import statsmodels.api as sm\n",
        "\n",
        "# Display preferences.\n",
        "%matplotlib inline\n",
        "pd.options.display.float_format = '{:.3f}'.format\n",
        "\n",
        "# Suppress annoying harmless error.\n",
        "warnings.filterwarnings(\n",
        "    action=\"ignore\")"
      ],
      "execution_count": 0,
      "outputs": []
    },
    {
      "metadata": {
        "id": "y3WxGEFSoXtk",
        "colab_type": "code",
        "colab": {}
      },
      "cell_type": "code",
      "source": [
        "crime_path ='https://raw.githubusercontent.com/Thinkful-Ed/data-201-resources/master/New_York_offenses/NEW_YORK-Offenses_Known_to_Law_Enforcement_by_City_2013%20-%2013tbl8ny.csv'\n",
        "crime_data = pd.read_csv(crime_path, skiprows=4, skipfooter=3, engine='python')"
      ],
      "execution_count": 0,
      "outputs": []
    },
    {
      "metadata": {
        "id": "6yzm8xDz_1cJ",
        "colab_type": "code",
        "outputId": "e79ccdf7-9051-4f51-d475-e0418240fcf0",
        "colab": {
          "base_uri": "https://localhost:8080/",
          "height": 238
        }
      },
      "cell_type": "code",
      "source": [
        "crime_data.head(5)"
      ],
      "execution_count": 0,
      "outputs": [
        {
          "output_type": "execute_result",
          "data": {
            "text/html": [
              "<div>\n",
              "<style scoped>\n",
              "    .dataframe tbody tr th:only-of-type {\n",
              "        vertical-align: middle;\n",
              "    }\n",
              "\n",
              "    .dataframe tbody tr th {\n",
              "        vertical-align: top;\n",
              "    }\n",
              "\n",
              "    .dataframe thead th {\n",
              "        text-align: right;\n",
              "    }\n",
              "</style>\n",
              "<table border=\"1\" class=\"dataframe\">\n",
              "  <thead>\n",
              "    <tr style=\"text-align: right;\">\n",
              "      <th></th>\n",
              "      <th>City</th>\n",
              "      <th>Population</th>\n",
              "      <th>Violent\n",
              "crime</th>\n",
              "      <th>Murder and\n",
              "nonnegligent\n",
              "manslaughter</th>\n",
              "      <th>Rape\n",
              "(revised\n",
              "definition)1</th>\n",
              "      <th>Rape\n",
              "(legacy\n",
              "definition)2</th>\n",
              "      <th>Robbery</th>\n",
              "      <th>Aggravated\n",
              "assault</th>\n",
              "      <th>Property\n",
              "crime</th>\n",
              "      <th>Burglary</th>\n",
              "      <th>Larceny-\n",
              "theft</th>\n",
              "      <th>Motor\n",
              "vehicle\n",
              "theft</th>\n",
              "      <th>Arson3</th>\n",
              "    </tr>\n",
              "  </thead>\n",
              "  <tbody>\n",
              "    <tr>\n",
              "      <th>0</th>\n",
              "      <td>Adams Village</td>\n",
              "      <td>1,861</td>\n",
              "      <td>0</td>\n",
              "      <td>0</td>\n",
              "      <td>nan</td>\n",
              "      <td>0</td>\n",
              "      <td>0</td>\n",
              "      <td>0</td>\n",
              "      <td>12</td>\n",
              "      <td>2</td>\n",
              "      <td>10</td>\n",
              "      <td>0</td>\n",
              "      <td>0.000</td>\n",
              "    </tr>\n",
              "    <tr>\n",
              "      <th>1</th>\n",
              "      <td>Addison Town and Village</td>\n",
              "      <td>2,577</td>\n",
              "      <td>3</td>\n",
              "      <td>0</td>\n",
              "      <td>nan</td>\n",
              "      <td>0</td>\n",
              "      <td>0</td>\n",
              "      <td>3</td>\n",
              "      <td>24</td>\n",
              "      <td>3</td>\n",
              "      <td>20</td>\n",
              "      <td>1</td>\n",
              "      <td>0.000</td>\n",
              "    </tr>\n",
              "    <tr>\n",
              "      <th>2</th>\n",
              "      <td>Akron Village</td>\n",
              "      <td>2,846</td>\n",
              "      <td>3</td>\n",
              "      <td>0</td>\n",
              "      <td>nan</td>\n",
              "      <td>0</td>\n",
              "      <td>0</td>\n",
              "      <td>3</td>\n",
              "      <td>16</td>\n",
              "      <td>1</td>\n",
              "      <td>15</td>\n",
              "      <td>0</td>\n",
              "      <td>0.000</td>\n",
              "    </tr>\n",
              "    <tr>\n",
              "      <th>3</th>\n",
              "      <td>Albany</td>\n",
              "      <td>97,956</td>\n",
              "      <td>791</td>\n",
              "      <td>8</td>\n",
              "      <td>nan</td>\n",
              "      <td>30</td>\n",
              "      <td>227</td>\n",
              "      <td>526</td>\n",
              "      <td>4,090</td>\n",
              "      <td>705</td>\n",
              "      <td>3,243</td>\n",
              "      <td>142</td>\n",
              "      <td>nan</td>\n",
              "    </tr>\n",
              "    <tr>\n",
              "      <th>4</th>\n",
              "      <td>Albion Village</td>\n",
              "      <td>6,388</td>\n",
              "      <td>23</td>\n",
              "      <td>0</td>\n",
              "      <td>nan</td>\n",
              "      <td>3</td>\n",
              "      <td>4</td>\n",
              "      <td>16</td>\n",
              "      <td>223</td>\n",
              "      <td>53</td>\n",
              "      <td>165</td>\n",
              "      <td>5</td>\n",
              "      <td>nan</td>\n",
              "    </tr>\n",
              "  </tbody>\n",
              "</table>\n",
              "</div>"
            ],
            "text/plain": [
              "                       City Population Violent\\ncrime  \\\n",
              "0             Adams Village      1,861              0   \n",
              "1  Addison Town and Village      2,577              3   \n",
              "2             Akron Village      2,846              3   \n",
              "3                    Albany     97,956            791   \n",
              "4            Albion Village      6,388             23   \n",
              "\n",
              "   Murder and\\nnonnegligent\\nmanslaughter  Rape\\n(revised\\ndefinition)1  \\\n",
              "0                                       0                           nan   \n",
              "1                                       0                           nan   \n",
              "2                                       0                           nan   \n",
              "3                                       8                           nan   \n",
              "4                                       0                           nan   \n",
              "\n",
              "  Rape\\n(legacy\\ndefinition)2 Robbery Aggravated\\nassault Property\\ncrime  \\\n",
              "0                           0       0                   0              12   \n",
              "1                           0       0                   3              24   \n",
              "2                           0       0                   3              16   \n",
              "3                          30     227                 526           4,090   \n",
              "4                           3       4                  16             223   \n",
              "\n",
              "  Burglary Larceny-\\ntheft Motor\\nvehicle\\ntheft  Arson3  \n",
              "0        2              10                     0   0.000  \n",
              "1        3              20                     1   0.000  \n",
              "2        1              15                     0   0.000  \n",
              "3      705           3,243                   142     nan  \n",
              "4       53             165                     5     nan  "
            ]
          },
          "metadata": {
            "tags": []
          },
          "execution_count": 46
        }
      ]
    },
    {
      "metadata": {
        "id": "7jcUI-OFvFAZ",
        "colab_type": "code",
        "colab": {}
      },
      "cell_type": "code",
      "source": [
        "def convert_number(number):\n",
        "    try:\n",
        "        converted = float(number.replace(',', ''))\n",
        "    except:\n",
        "        converted = number\n",
        "    \n",
        "    return converted"
      ],
      "execution_count": 0,
      "outputs": []
    },
    {
      "metadata": {
        "id": "3CRY-E0lvMlO",
        "colab_type": "code",
        "colab": {}
      },
      "cell_type": "code",
      "source": [
        "crime_data.columns = ['city', 'population', 'violent_crime', 'murder_manslaughter', \n",
        "'rape', 'robbery', 'assault', 'property_crime', 'burglary', 'larceny_theft', \n",
        "'vehicle_theft', 'arson', 'murder']\n",
        "\n",
        "crime_data.fillna(0)\n",
        "crime_data['population'] = crime_data['population'].apply(lambda x: convert_number(x))\n",
        "crime_data['murder_manslaughter'] = crime_data['murder_manslaughter'].apply(lambda x: convert_number(x))\n",
        "crime_data['robbery'] = crime_data['robbery'].apply(lambda x: convert_number(x))\n",
        "crime_data['property_crime'] = crime_data['property_crime'].apply(lambda x: convert_number(x))\n",
        "crime_data['larceny_theft'] = crime_data['larceny_theft'].apply(lambda x: convert_number(x))\n",
        "crime_data['murder'] = crime_data['murder'].apply(lambda x: convert_number(x))"
      ],
      "execution_count": 0,
      "outputs": []
    },
    {
      "metadata": {
        "id": "Eh5j5XgQvPs9",
        "colab_type": "code",
        "colab": {}
      },
      "cell_type": "code",
      "source": [
        "crime_data = crime_data.drop('rape', 1)"
      ],
      "execution_count": 0,
      "outputs": []
    },
    {
      "metadata": {
        "id": "BGbCrCje0dyN",
        "colab_type": "code",
        "colab": {}
      },
      "cell_type": "code",
      "source": [
        "crime_data = crime_data.drop('city', 1)"
      ],
      "execution_count": 0,
      "outputs": []
    },
    {
      "metadata": {
        "id": "8XPmp9P0_Vht",
        "colab_type": "code",
        "colab": {}
      },
      "cell_type": "code",
      "source": [
        "crime_data['murder'] = crime_data['murder'].fillna(0)"
      ],
      "execution_count": 0,
      "outputs": []
    },
    {
      "metadata": {
        "id": "JOsYgUD9C1ue",
        "colab_type": "code",
        "outputId": "44e16d70-dd0f-430b-cdc2-8520366b4a0d",
        "colab": {
          "base_uri": "https://localhost:8080/",
          "height": 239
        }
      },
      "cell_type": "code",
      "source": [
        "plt.rcParams['figure.figsize'] = (6.0, 3.0)\n",
        "population = pd.DataFrame({\"Population\":crime_data[\"population\"], \"log(population)\":np.log(crime_data[\"population\"])})\n",
        "population.hist(bins = 10)\n",
        "crime_data['population'] = np.log(crime_data[\"population\"])"
      ],
      "execution_count": 0,
      "outputs": [
        {
          "output_type": "display_data",
          "data": {
            "image/png": "[encoded data removed]",
            "text/plain": [
              "<matplotlib.figure.Figure at 0x7efc3888d668>"
            ]
          },
          "metadata": {
            "tags": []
          }
        }
      ]
    },
    {
      "metadata": {
        "id": "hD_xbAGnC94l",
        "colab_type": "code",
        "outputId": "30a5e1c4-118f-4ab9-c171-ac2222c7ad8d",
        "colab": {
          "base_uri": "https://localhost:8080/",
          "height": 226
        }
      },
      "cell_type": "code",
      "source": [
        "plt.rcParams['figure.figsize'] = (6.0, 3.0)\n",
        "property_crime = pd.DataFrame({\"Property Crime\":crime_data[\"property_crime\"], \"log(property_crime)\":np.log1p(crime_data[\"property_crime\"])})\n",
        "property_crime.hist(bins=10)\n",
        "crime_data['property_crime'] = np.log1p(crime_data[\"property_crime\"])"
      ],
      "execution_count": 0,
      "outputs": [
        {
          "output_type": "display_data",
          "data": {
            "image/png": "[encoded data removed]",
            "text/plain": [
              "<matplotlib.figure.Figure at 0x7efc389114e0>"
            ]
          },
          "metadata": {
            "tags": []
          }
        }
      ]
    },
    {
      "metadata": {
        "id": "k4AtmvO-KJ7x",
        "colab_type": "code",
        "outputId": "805699b3-08c1-4d95-9310-3cdf0f3b2259",
        "colab": {
          "base_uri": "https://localhost:8080/",
          "height": 226
        }
      },
      "cell_type": "code",
      "source": [
        "plt.rcParams['figure.figsize'] = (6.0, 3.0)\n",
        "robbery = pd.DataFrame({\"Robbery\":crime_data[\"robbery\"], \"log(robbery)\":np.log1p(crime_data[\"robbery\"])})\n",
        "robbery.hist(bins=10)\n",
        "crime_data['robbery'] = np.log1p(crime_data[\"robbery\"])"
      ],
      "execution_count": 0,
      "outputs": [
        {
          "output_type": "display_data",
          "data": {
            "image/png": "[encoded data removed]",
            "text/plain": [
              "<matplotlib.figure.Figure at 0x7efc387b80f0>"
            ]
          },
          "metadata": {
            "tags": []
          }
        }
      ]
    },
    {
      "metadata": {
        "id": "rmRUmqs4pMJi",
        "colab_type": "code",
        "outputId": "ae10d9c0-646b-4e58-e4e4-5eaee7f35f9a",
        "colab": {
          "base_uri": "https://localhost:8080/",
          "height": 537
        }
      },
      "cell_type": "code",
      "source": [
        "corrmat = crime_data.corr()\n",
        "f, ax = plt.subplots(figsize=(12, 9))\n",
        "sns.set_style('darkgrid')\n",
        "sns.heatmap(corrmat, vmax=.8, square=True)\n",
        "plt.show()"
      ],
      "execution_count": 0,
      "outputs": [
        {
          "output_type": "display_data",
          "data": {
            "image/png": "[encoded data removed]",
            "text/plain": [
              "<matplotlib.figure.Figure at 0x7efc38903898>"
            ]
          },
          "metadata": {
            "tags": []
          }
        }
      ]
    },
    {
      "metadata": {
        "id": "Px1AsIdy2D5y",
        "colab_type": "code",
        "outputId": "5f83b740-19ce-446c-a444-602e5acdd082",
        "colab": {
          "base_uri": "https://localhost:8080/",
          "height": 34
        }
      },
      "cell_type": "code",
      "source": [
        "X_train, X_test, y_train, y_test = train_test_split(X, y, test_size=0.2, random_state=0)\n",
        "from sklearn.linear_model import LogisticRegression\n",
        "from sklearn import metrics\n",
        "logreg = LogisticRegression()\n",
        "logreg.fit(X_train, y_train)\n",
        "\n",
        "y_pred = logreg.predict(X_test)\n",
        "print('Accuracy of logistic regression classifier on test set: {:.2f}'.format(logreg.score(X_test, y_test)))"
      ],
      "execution_count": 0,
      "outputs": [
        {
          "output_type": "stream",
          "text": [
            "Accuracy of logistic regression classifier on test set: 0.81\n"
          ],
          "name": "stdout"
        }
      ]
    },
    {
      "metadata": {
        "id": "LmcLW0Yo2Ex5",
        "colab_type": "code",
        "outputId": "05c2aa8b-5450-49ab-dcd2-54be50aeac8c",
        "colab": {
          "base_uri": "https://localhost:8080/",
          "height": 34
        }
      },
      "cell_type": "code",
      "source": [
        "#Cross Validation\n",
        "from sklearn import model_selection\n",
        "from sklearn.model_selection import cross_val_score\n",
        "kfold = model_selection.KFold(n_splits=10, random_state=7)\n",
        "modelCV = LogisticRegression()\n",
        "scoring = 'accuracy'\n",
        "results = model_selection.cross_val_score(modelCV, X_train, y_train, cv=kfold, scoring=scoring)\n",
        "print(\"10-fold cross validation average accuracy: %.3f\" % (results.mean()))"
      ],
      "execution_count": 0,
      "outputs": [
        {
          "output_type": "stream",
          "text": [
            "10-fold cross validation average accuracy: 0.849\n"
          ],
          "name": "stdout"
        }
      ]
    },
    {
      "metadata": {
        "id": "z1E6NSfh2HYS",
        "colab_type": "code",
        "outputId": "1dfea23a-5055-43e4-d3c7-e8097d947463",
        "colab": {
          "base_uri": "https://localhost:8080/",
          "height": 238
        }
      },
      "cell_type": "code",
      "source": [
        "#Define the training and test sizes\n",
        "trainsize = int(crime_data.shape[0]*0.8)  \n",
        "df_test = crime_data.iloc[trainsize:, :].copy() \n",
        "df_train = crime_data.iloc[:trainsize, :].copy()\n",
        "\n",
        "#Set up regression model to predict defaults using all other variables as features\n",
        "regr1 = linear_model.LinearRegression()\n",
        "Y_train = df_train['murder'].values.reshape(-1, 1)\n",
        "X_train = df_train[['population', 'robbery', 'property_crime', 'larceny_theft']]\n",
        "regr1.fit(X_train, Y_train)\n",
        "print('\\nR-squared simple model:')\n",
        "print(regr1.score(X_train, Y_train))\n",
        "\n",
        "#Store the parameter estimates.\n",
        "origparams = np.append(regr1.coef_, regr1.intercept_) \n",
        "\n",
        "# Make new features to capture potential quadratic and cubic relationships\n",
        "# between the features.\n",
        "\n",
        "df_train['population_robbery'] = df_train['population'] * df_train['robbery'] \n",
        "df_train['population_property_crime'] = df_train['population'] * df_train['property_crime']\n",
        "df_train['population_larceny'] = df_train['population'] * df_train['larceny_theft'] \n",
        "df_train['larceny_robbery'] = df_train['larceny_theft'] * df_train['robbery']\n",
        "df_train['property_crime_robbery'] = df_train['property_crime'] * df_train['robbery']\n",
        "df_train['property_crime_larceny'] = df_train['property_crime'] * df_train['larceny_theft']\n",
        "df_train['robbery_sqrt'] = df_train['robbery'] ** 0.5\n",
        "df_train['robbery2'] = df_train['robbery'] ** 2\n",
        "df_train['robbery3'] = df_train['robbery'] ** 3\n",
        "df_train['larceny_sqrt'] = df_train['larceny_theft'] ** 0.5\n",
        "df_train['larceny2'] = df_train['larceny_theft'] ** 2\n",
        "df_train['larceny3'] = df_train['larceny_theft'] ** 3\n",
        "df_train['population_sqrt'] = df_train['population'] ** 0.5\n",
        "df_train['population2'] = df_train['population'] ** 2\n",
        "df_train['population3'] = df_train['population'] ** 3\n",
        "\n",
        "# Re-run the model with the new features.\n",
        "regrBig = linear_model.LinearRegression()\n",
        "X_train2 = df_train[['population', 'robbery', 'property_crime', 'larceny_theft',\n",
        "                     'population_robbery', 'population_property_crime','population_larceny',\n",
        "                     'larceny_robbery','property_crime_robbery','property_crime_larceny',\n",
        "                     'robbery_sqrt','robbery2','robbery3','larceny_sqrt','larceny2',\n",
        "                     'larceny3','population_sqrt','population2','population3']]\n",
        "regrBig.fit(X_train2, Y_train)\n",
        "print('\\nR-squared complex model:')\n",
        "print(regrBig.score(X_train2, Y_train))\n",
        "\n",
        "# Store the new parameter estimates for the same features.\n",
        "newparams = np.append(\n",
        "    regrBig.coef_[0,0:(len(origparams)-1)],\n",
        "    regrBig.intercept_)\n",
        "\n",
        "print('\\nParameter Estimates for the same predictors for the small model '\n",
        "      'and large model:')\n",
        "compare = np.column_stack((origparams, newparams))\n",
        "prettycompare = np.array2string(\n",
        "    compare,\n",
        "    formatter={'float_kind':'{0:.3f}'.format})\n",
        "print(prettycompare)"
      ],
      "execution_count": 0,
      "outputs": [
        {
          "output_type": "stream",
          "text": [
            "\n",
            "R-squared simple model:\n",
            "0.09280630769069742\n",
            "\n",
            "R-squared complex model:\n",
            "0.691317744555738\n",
            "\n",
            "Parameter Estimates for the same predictors for the small model and large model:\n",
            "[[-0.156 -107.319]\n",
            " [2.117 22.822]\n",
            " [0.534 3.382]\n",
            " [-0.000 -0.686]\n",
            " [0.141 351.903]]\n"
          ],
          "name": "stdout"
        }
      ]
    },
    {
      "metadata": {
        "id": "UvvAyqWq2WpS",
        "colab_type": "code",
        "outputId": "21c71483-d6ad-44fa-e377-82a2f1444efc",
        "colab": {
          "base_uri": "https://localhost:8080/",
          "height": 119
        }
      },
      "cell_type": "code",
      "source": [
        "# Test the simpler model with smaller coefficients.\n",
        "Y_test = df_test['murder'].values.reshape(-1, 1)\n",
        "X_test = df_test[['population', 'robbery', 'property_crime', 'larceny_theft']]\n",
        "print('\\nR-squared simple model:')\n",
        "print(regr1.score(X_test, Y_test))\n",
        "\n",
        "df_test['population_robbery'] = df_test['population'] * df_test['robbery'] \n",
        "df_test['population_property_crime'] = df_test['population'] * df_test['property_crime']\n",
        "df_test['population_larceny'] = df_test['population'] * df_test['larceny_theft'] \n",
        "df_test['larceny_robbery'] = df_test['larceny_theft'] * df_test['robbery']\n",
        "df_test['property_crime_robbery'] = df_test['property_crime'] * df_test['robbery']\n",
        "df_test['property_crime_larceny'] = df_test['property_crime'] * df_test['larceny_theft']\n",
        "df_test['robbery_sqrt'] = df_test['robbery'] ** 0.5\n",
        "df_test['robbery2'] = df_test['robbery'] ** 2\n",
        "df_test['robbery3'] = df_test['robbery'] ** 3\n",
        "df_test['larceny_sqrt'] = df_test['larceny_theft'] ** 0.5\n",
        "df_test['larceny2'] = df_test['larceny_theft'] ** 2\n",
        "df_test['larceny3'] = df_test['larceny_theft'] ** 3\n",
        "df_test['population_sqrt'] = df_test['population'] ** 0.5\n",
        "df_test['population2'] = df_test['population'] ** 2\n",
        "df_test['population3'] = df_test['population'] ** 3\n",
        "\n",
        "# Re-run the model with the new features.\n",
        "X_test2 = df_test[['population', 'robbery', 'property_crime', 'larceny_theft',\n",
        "                     'population_robbery', 'population_property_crime','population_larceny',\n",
        "                     'larceny_robbery','property_crime_robbery','property_crime_larceny',\n",
        "                     'robbery_sqrt','robbery2','robbery3','larceny_sqrt','larceny2',\n",
        "                     'larceny3','population_sqrt','population2','population3']]\n",
        "print('\\nR-squared complex model:')\n",
        "print(regrBig.score(X_test2, Y_test))"
      ],
      "execution_count": 0,
      "outputs": [
        {
          "output_type": "stream",
          "text": [
            "\n",
            "R-squared simple model:\n",
            "0.23395771227250084\n",
            "\n",
            "R-squared complex model:\n",
            "0.0972744646068836\n"
          ],
          "name": "stdout"
        }
      ]
    },
    {
      "metadata": {
        "id": "j4DIgSaC2bXx",
        "colab_type": "code",
        "outputId": "4e21ed2e-c053-41fc-cad0-cd24a21b0d27",
        "colab": {
          "base_uri": "https://localhost:8080/",
          "height": 170
        }
      },
      "cell_type": "code",
      "source": [
        "# Fitting a ridge regression model. \n",
        "ridgeregr = linear_model.Ridge(alpha=10, fit_intercept=False)\n",
        "ridgeregr.fit(X_train, Y_train)\n",
        "print(ridgeregr.score(X_train, Y_train))\n",
        "origparams = ridgeregr.coef_[0]\n",
        "print(origparams)\n",
        "\n",
        "ridgeregrBig = linear_model.Ridge(alpha=10, fit_intercept=False)\n",
        "ridgeregrBig.fit(X_train2, Y_train)\n",
        "print(ridgeregrBig.score(X_train2, Y_train))\n",
        "newparams = ridgeregrBig.coef_[0, 0:len(origparams)]\n",
        "print('\\nParameter Estimates for the same predictors for the small model and large model')\n",
        "compare = np.column_stack((origparams, newparams))\n",
        "prettycompare = np.array2string(compare,\n",
        "                               formatter = {'float_kind':'{0:.3f}'.format})\n",
        "print(prettycompare)"
      ],
      "execution_count": 0,
      "outputs": [
        {
          "output_type": "stream",
          "text": [
            "0.09260151376032133\n",
            "[-1.41440512e-01  1.89132393e+00  6.11147080e-01 -1.15565058e-04]\n",
            "0.6475119999668948\n",
            "\n",
            "Parameter Estimates for the same predictors for the small model and large model\n",
            "[[-0.141 -2.786]\n",
            " [1.891 1.857]\n",
            " [0.611 1.623]\n",
            " [-0.000 -0.282]]\n"
          ],
          "name": "stdout"
        }
      ]
    },
    {
      "metadata": {
        "id": "w1oyjBG72dwS",
        "colab_type": "code",
        "outputId": "9cb191b3-6fb2-4b18-b4ae-514a44f5a5cd",
        "colab": {
          "base_uri": "https://localhost:8080/",
          "height": 51
        }
      },
      "cell_type": "code",
      "source": [
        "#Print Predictive power\n",
        "print(ridgeregr.score(X_test, Y_test))\n",
        "print(ridgeregrBig.score(X_test2, Y_test))"
      ],
      "execution_count": 0,
      "outputs": [
        {
          "output_type": "stream",
          "text": [
            "0.2313240994319016\n",
            "-0.1346169688826322\n"
          ],
          "name": "stdout"
        }
      ]
    },
    {
      "metadata": {
        "id": "HHLGu7-a2hL-",
        "colab_type": "code",
        "outputId": "7697b202-ed7f-4552-db52-81341130fc58",
        "colab": {
          "base_uri": "https://localhost:8080/",
          "height": 272
        }
      },
      "cell_type": "code",
      "source": [
        "#Lasso Regressions\n",
        "#Small number of parameters\n",
        "lass = linear_model.Lasso(alpha=10)\n",
        "lassfit = lass.fit(X_train, Y_train)\n",
        "print('R² for the model with few features:')\n",
        "print(lass.score(X_train, Y_train))\n",
        "origparams = np.append(lassfit.coef_, lassfit.intercept_)\n",
        "print('\\nParameter estimates for the model with few features:')\n",
        "print(origparams)\n",
        "\n",
        "#Large number of parameters.\n",
        "lassBig = linear_model.Lasso(alpha=10)\n",
        "lassBig.fit(X_train2, Y_train)\n",
        "print('\\nR² for the model with many features:')\n",
        "print(lassBig.score(X_train2, Y_train))\n",
        "origparams = np.append(lassBig.coef_, lassBig.intercept_)\n",
        "print('\\nParameter estimates for the model with many features:')\n",
        "print(origparams)"
      ],
      "execution_count": 0,
      "outputs": [
        {
          "output_type": "stream",
          "text": [
            "R² for the model with few features:\n",
            "0.021401854584913615\n",
            "\n",
            "Parameter estimates for the model with few features:\n",
            "[0.         0.         0.         0.00114652 0.82139538]\n",
            "\n",
            "R² for the model with many features:\n",
            "0.3823629622267827\n",
            "\n",
            "Parameter estimates for the model with many features:\n",
            "[-0.00000000e+00 -0.00000000e+00 -0.00000000e+00  3.69064187e-02\n",
            " -0.00000000e+00 -0.00000000e+00 -4.28963646e-05 -3.65889527e-03\n",
            " -0.00000000e+00  5.12841188e-04 -0.00000000e+00 -0.00000000e+00\n",
            " -0.00000000e+00 -0.00000000e+00 -1.51854527e-06  3.59188325e-11\n",
            " -0.00000000e+00 -0.00000000e+00 -2.59406549e-03  1.02445200e+00]\n"
          ],
          "name": "stdout"
        }
      ]
    },
    {
      "metadata": {
        "id": "h2N97hPbzsit",
        "colab_type": "code",
        "outputId": "f4088d02-56d3-4b09-ec7f-a02cec6c63e1",
        "colab": {
          "base_uri": "https://localhost:8080/",
          "height": 51
        }
      },
      "cell_type": "code",
      "source": [
        "#Print Predictive power\n",
        "print(lass.score(X_test, Y_test))\n",
        "print(lassBig.score(X_test2, Y_test))"
      ],
      "execution_count": 0,
      "outputs": [
        {
          "output_type": "stream",
          "text": [
            "0.06846407051722536\n",
            "0.6805964541758176\n"
          ],
          "name": "stdout"
        }
      ]
    },
    {
      "metadata": {
        "id": "zR6P_A9A8KFc",
        "colab_type": "text"
      },
      "cell_type": "markdown",
      "source": [
        "Based on our accuracy scores, the vanilla regression is most accurate, followed by the Lasso Regression and Ridge Regression; respectively. However, because the model is increasingly complex and features likely correlate with one another, coefficients arrived at by our vanilla regression become increasingly large. This is a sign that the model is likely overfitting. "
      ]
    }
  ]
}