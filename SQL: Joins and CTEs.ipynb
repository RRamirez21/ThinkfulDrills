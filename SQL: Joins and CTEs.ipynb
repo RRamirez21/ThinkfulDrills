{
  "nbformat": 4,
  "nbformat_minor": 0,
  "metadata": {
    "colab": {
      "name": "Joins_CTEs_SQL_Drills.ipynb",
      "version": "0.3.2",
      "provenance": [],
      "collapsed_sections": []
    },
    "kernelspec": {
      "name": "python3",
      "display_name": "Python 3"
    }
  },
  "cells": [
    {
      "metadata": {
        "id": "7irlYftkr887",
        "colab_type": "text"
      },
      "cell_type": "markdown",
      "source": [
        "#Drills\n",
        "1. What are the three longest trips on rainy days?\n",
        "2. Which station is full most often?\n",
        "3. Return a list of stations with a count of number of trips starting at that station but ordered by dock count.\n",
        "\n",
        "(Challenge) What's the length of the longest trip for each day it rains anywhere?"
      ]
    },
    {
      "metadata": {
        "id": "4nZVYx7ar5Vi",
        "colab_type": "code",
        "colab": {}
      },
      "cell_type": "code",
      "source": [
        "WITH rainy as \n",
        "(\n",
        "SELECT \n",
        "DATE(date) rain_date\n",
        "From weather\n",
        "WHERE events = 'Rain'\n",
        "GROUP BY 1\n",
        ") \n",
        "SELECT\n",
        "t.trip_id,\n",
        "t.duration,\n",
        "DATE(t.start_date)\n",
        "FROM trips t\n",
        "JOIN rainy r\n",
        "on DATE(t.start_date) = r.rain_date\n",
        "ORDER BY duration DESC\n",
        "LIMIT 3"
      ],
      "execution_count": 0,
      "outputs": []
    },
    {
      "metadata": {
        "id": "K8OdFDztwxJ4",
        "colab_type": "code",
        "colab": {}
      },
      "cell_type": "code",
      "source": [
        "SELECT\n",
        "status.station_id,\n",
        "stations.name,\n",
        "COUNT(CASE WHEN docks_available=0 then 1 END) empty_count\n",
        "FROM status\n",
        "JOIN stations\n",
        "on stations.station_id = status.station_id\n",
        "GROUP BY 1,2\n",
        "ORDER BY empty_count DESC"
      ],
      "execution_count": 0,
      "outputs": []
    },
    {
      "metadata": {
        "id": "usxuSJ6jwx1_",
        "colab_type": "code",
        "colab": {}
      },
      "cell_type": "code",
      "source": [
        "SELECT\n",
        "start_station,\n",
        "dockcount,\n",
        "COUNT(*)\n",
        "FROM trips\n",
        "JOIN stations\n",
        "ON stations.name=trips.start_station\n",
        "GROUP BY 1, 2\n",
        "ORDER BY 2 DESC"
      ],
      "execution_count": 0,
      "outputs": []
    },
    {
      "metadata": {
        "id": "z9xDkzpww2Uu",
        "colab_type": "code",
        "colab": {}
      },
      "cell_type": "code",
      "source": [
        "WITH rainy as \n",
        "(\n",
        "SELECT \n",
        "DATE(date) weather_date\n",
        "From weather\n",
        "WHERE events = 'Rain'\n",
        "GROUP BY 1\n",
        "),\n",
        "rain_trips as (\n",
        "SELECT\n",
        "trip_id,\n",
        "duration,\n",
        "DATE(trips.start_date) rain_trips_date\n",
        "FROM trips\n",
        "JOIN rainy\n",
        "on rainy.weather_date = DATE(trips.start_date)\n",
        "ORDER BY duration DESC\n",
        ")\n",
        "SELECT \n",
        "rain_trips_date,\n",
        "max(duration) max_duration\n",
        "from rain_trips\n",
        "GROUP BY 1\n",
        "ORDER BY max_duration DESC"
      ],
      "execution_count": 0,
      "outputs": []
    }
  ]
}
