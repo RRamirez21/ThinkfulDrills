{
  "nbformat": 4,
  "nbformat_minor": 0,
  "metadata": {
    "colab": {
      "name": "Multiple modes - Randy 27-7-18.ipynb",
      "version": "0.3.2",
      "views": {},
      "default_view": {},
      "provenance": []
    },
    "kernelspec": {
      "name": "python3",
      "display_name": "Python 3"
    }
  },
  "cells": [
    {
      "metadata": {
        "id": "SGtHSPY9gwGT",
        "colab_type": "code",
        "colab": {
          "autoexec": {
            "startup": false,
            "wait_interval": 0
          }
        }
      },
      "cell_type": "code",
      "source": [
        "#for i in characterList:\n",
        "#  print(characterList.count(i))\n",
        "\n",
        "list(\"tomato\") # our set of characters\n",
        "set(\"tomato\") # our set of distinct characters\n",
        "\"tomato\".count(\"t\")\n",
        "# we need a dictionary to keep the count of characters\n",
        "\n",
        "word = \"redder\"\n",
        "characterSet = set(word)\n",
        "characterList = list(word)\n",
        "characterCount = {}\n",
        "keys = set(word)\n",
        "for k in keys:\n",
        "  characterCount[k]= characterList.count(k)\n",
        "\n",
        "  \n",
        "mode = max(characterCount.values())\n",
        "#if (len(characterSet) - list(characterCount.values()).count(mode) == 0 ):\n",
        "  # return an empty list \n",
        "  #return []\n",
        "\n",
        "\n"
      ],
      "execution_count": 0,
      "outputs": []
    },
    {
      "metadata": {
        "id": "UOj6mQUfJvSO",
        "colab_type": "code",
        "colab": {
          "autoexec": {
            "startup": false,
            "wait_interval": 0
          },
          "base_uri": "https://localhost:8080/",
          "height": 35
        },
        "outputId": "b9bd5da9-edbc-4f50-8e8d-18ea43bb5b67",
        "executionInfo": {
          "status": "ok",
          "timestamp": 1533087794358,
          "user_tz": 240,
          "elapsed": 571,
          "user": {
            "displayName": "Antonio Rueda Toicen",
            "photoUrl": "https://lh3.googleusercontent.com/a/default-user=s128",
            "userId": "101459211250025877627"
          }
        }
      },
      "cell_type": "code",
      "source": [
        ""
      ],
      "execution_count": 4,
      "outputs": [
        {
          "output_type": "execute_result",
          "data": {
            "text/plain": [
              "{'a', 'm', 'o', 't'}"
            ]
          },
          "metadata": {
            "tags": []
          },
          "execution_count": 4
        }
      ]
    },
    {
      "metadata": {
        "id": "dsTBFXYfIfEa",
        "colab_type": "code",
        "colab": {
          "autoexec": {
            "startup": false,
            "wait_interval": 0
          },
          "base_uri": "https://localhost:8080/",
          "height": 35
        },
        "outputId": "cff685a0-12f0-40fb-c698-ea547f6ca83e",
        "executionInfo": {
          "status": "ok",
          "timestamp": 1533088683570,
          "user_tz": 240,
          "elapsed": 441,
          "user": {
            "displayName": "Antonio Rueda Toicen",
            "photoUrl": "https://lh3.googleusercontent.com/a/default-user=s128",
            "userId": "101459211250025877627"
          }
        }
      },
      "cell_type": "code",
      "source": [
        "def modes(data):\n",
        "  \n",
        "  characterSet = set(data)\n",
        "  characterList = list(data)\n",
        "  characterCount = {}\n",
        "  keys = set(data)\n",
        "  for k in keys:\n",
        "    #print(characterList.count(k))\n",
        "    characterCount[k] = characterList.count(k)\n",
        " \n",
        "  #print(characterCount) \n",
        "  \n",
        "  mode = max(characterCount.values())\n",
        "  \n",
        "  valuesToReturn = []\n",
        "  for k in characterCount.keys():\n",
        "    if characterCount[k] == mode:\n",
        "      valuesToReturn.append(k)\n",
        "       \n",
        "  # if there is no mode, we return an empty list   \n",
        "  if (len(characterSet) - list(characterCount.values()).count(mode) == 0 ):\n",
        "    return []\n",
        "  \n",
        "  return sorted(valuesToReturn)\n",
        "\n",
        "\n",
        "modes(\"redder\")\n",
        "#modes(\"tomato\")"
      ],
      "execution_count": 27,
      "outputs": [
        {
          "output_type": "execute_result",
          "data": {
            "text/plain": [
              "[]"
            ]
          },
          "metadata": {
            "tags": []
          },
          "execution_count": 27
        }
      ]
    }
  ]
}