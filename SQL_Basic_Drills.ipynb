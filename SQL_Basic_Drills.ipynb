{
  "nbformat": 4,
  "nbformat_minor": 0,
  "metadata": {
    "colab": {
      "name": "SQL_Basic_Drills.ipynb",
      "version": "0.3.2",
      "provenance": [],
      "collapsed_sections": []
    },
    "kernelspec": {
      "name": "python3",
      "display_name": "Python 3"
    }
  },
  "cells": [
    {
      "metadata": {
        "id": "B6pHYnKRuDtB",
        "colab_type": "text"
      },
      "cell_type": "markdown",
      "source": [
        "#SQL Basic Drills\n",
        "Let's confirm some of this new knowledge with a few basic exercises. Write SQL queries to return:\n",
        "\n",
        "1. The IDs and durations for all trips of duration greater than 500, ordered by duration.\n",
        "\n",
        "2. Every column of the stations table for station id 84.\n",
        "\n",
        "3. The min temperatures of all the occurrences of rain in zip 94301."
      ]
    },
    {
      "metadata": {
        "id": "DdTqWSPQS8Xh",
        "colab_type": "code",
        "colab": {}
      },
      "cell_type": "code",
      "source": [
        "SELECT\n",
        "  trip_id,\n",
        "  duration\n",
        "FROM\n",
        "  trips\n",
        "WHERE\n",
        "  duration > 500\n",
        "ORDER BY duration DESC"
      ],
      "execution_count": 0,
      "outputs": []
    },
    {
      "metadata": {
        "id": "NoFyW1a3K2_l",
        "colab_type": "code",
        "colab": {}
      },
      "cell_type": "code",
      "source": [
        "SELECT\n",
        "  *\n",
        "FROM\n",
        "  stations\n",
        "WHERE\n",
        "  station_id = 84"
      ],
      "execution_count": 0,
      "outputs": []
    },
    {
      "metadata": {
        "id": "sZMCRZrbLOnl",
        "colab_type": "code",
        "colab": {}
      },
      "cell_type": "code",
      "source": [
        "SELECT\n",
        "  MinTemperatureF\n",
        "FROM\n",
        "  weather\n",
        "WHERE\n",
        "\tPrecipitationIn > 0 AND\n",
        "\tZIP = 94301"
      ],
      "execution_count": 0,
      "outputs": []
    }
  ]
}