{
  "nbformat": 4,
  "nbformat_minor": 0,
  "metadata": {
    "colab": {
      "name": "Challenge:Evaluate_An_Experimental_Analysis.ipynb",
      "version": "0.3.2",
      "provenance": [],
      "collapsed_sections": []
    },
    "kernelspec": {
      "name": "python3",
      "display_name": "Python 3"
    }
  },
  "cells": [
    {
      "metadata": {
        "id": "PTx19F639qwo",
        "colab_type": "text"
      },
      "cell_type": "markdown",
      "source": [
        "#Challenge: Evaluate an experiment analysis\n",
        "\n",
        "Now it's time to flex your critical evaluation skills. Read the following descriptions of an experiment and its analysis, identify the flaws in each, and describe what you would do to correct them."
      ]
    },
    {
      "metadata": {
        "id": "tqZispOb90XX",
        "colab_type": "text"
      },
      "cell_type": "markdown",
      "source": [
        "#Experiment 1\n",
        "The Sith Lords are concerned that their recruiting slogan, \"Give In to Your Anger,\" isn't very effective. Darth Vader develops an alternative slogan, \"Together We Can Rule the Galaxy.\" They compare the slogans on two groups of 50 captured droids each. In one group, Emperor Palpatine delivers the \"Anger\" slogan. In the other, Darth Vader presents the \"Together\" slogan. 20 droids convert to the Dark Side after hearing Palpatine's slogan, while only 5 droids convert after hearing Vader's. The Sith's data scientist concludes that \"Anger\" is a more effective slogan and should continue to be used."
      ]
    },
    {
      "metadata": {
        "id": "xcldUROjA4_6",
        "colab_type": "text"
      },
      "cell_type": "markdown",
      "source": [
        "To effectively evaluate the difference between both slogans, we need to make both samples as similar as possible. However, in this case, one slogan was presented by Emperor Palpatine, while another was given by Darth Vader. Additionally, we do not know the timing of each slogan. For instance, we can compare how long each slogan took to complete (i.e. was there a rally speech or was it just the slogan?), what time of day each speech was given, and how long each group of droids had been in captivity at the time of the speech, to ensure those are all similar. We can also ensure that the same environment (ex. Location, Lighting, Temperature, Audio Equipment) is used to deliver each slogan. Once we have eliminated as many differences from the sample groups as possible, then we can compare the two slogans."
      ]
    },
    {
      "metadata": {
        "id": "GJOLeRm_93Hd",
        "colab_type": "text"
      },
      "cell_type": "markdown",
      "source": [
        "#Experiment 2\n",
        "In the past, the Jedi have had difficulty with public relations. They send two envoys, Jar Jar Binks and Mace Windu, to four friendly and four unfriendly planets respectively, with the goal of promoting favorable feelings toward the Jedi. Upon their return, the envoys learn that Jar Jar was much more effective than Windu: Over 75% of the people surveyed said their attitudes had become more favorable after speaking with Jar Jar, while only 65% said their attitudes had become more favorable after speaking with Windu. This makes Windu angry, because he is sure that he had a better success rate than Jar Jar on every planet. The Jedi choose Jar Jar to be their representative in the future."
      ]
    },
    {
      "metadata": {
        "id": "3er5tTAbFdU6",
        "colab_type": "text"
      },
      "cell_type": "markdown",
      "source": [
        "In order to evaluate which envoy is a better representative, the conditions for both should be as similar as possible. However, in this case, Jar Jar was sent to the friendly planets, whereas Mace Windu was sent to the unfriendly planets. Aside from this advantage, we don't know the content of the messages given by each representative, nor do we know if the messages were given at different times of the day, or in radically different environments, or to radically different creatures. Additionally, we don't know the size of each planet so the percentage may be a misleading statistic if the friendly planets have significantly less people than the unfriendly planets. In order to account for these variables, I would try to standardize the same message and schedule their speeches at the same time of day on the same day of the week and randomly assign each to both two friendly and two unfriendly planets. I would also try to control for the environment in which the speech was given and review the statistics for the population of each planet, before deciding which envoy was a better representative."
      ]
    },
    {
      "metadata": {
        "id": "SHeTgHpv96JF",
        "colab_type": "text"
      },
      "cell_type": "markdown",
      "source": [
        "#Experiment 3\n",
        "A company with work sites in five different countries has sent you data on employee satisfaction rates for workers in Human Resources and workers in Information Technology. Most HR workers are concentrated in three of the countries, while IT workers are equally distributed across worksites. The company requests a report on satisfaction for each job type. You calculate average job satisfaction for HR and for IT and present the report."
      ]
    },
    {
      "metadata": {
        "id": "Pz_eUH4jIDKy",
        "colab_type": "text"
      },
      "cell_type": "markdown",
      "source": [
        "This experiment may have a bias simply by the nature of where the workers are located. However, there are also many other factors that can affect job satisfaction. For example, IT workers are typically paid more and have more relaxed work environments than their HR counterparts. Additionally, there may be poor-performing workers, poor attitudes, poor leadership, or other team dynamics (amount of team members) that can affect job satisfaction. In order to compare whether the countries have an effect on job satisfaction, we would need to compare samples of both departments where all of these variables were similar."
      ]
    },
    {
      "metadata": {
        "id": "ybhb6FyC98sC",
        "colab_type": "text"
      },
      "cell_type": "markdown",
      "source": [
        "#Experiment 4\n",
        "When people install the Happy Days Fitness Tracker app, they are asked to \"opt in\" to a data collection scheme where their level of physical activity data is automatically sent to the company for product research purposes. During your interview with the company, they tell you that the app is very effective because after installing the app, the data show that people's activity levels rise steadily."
      ]
    },
    {
      "metadata": {
        "id": "dlYDrVoe0b3o",
        "colab_type": "text"
      },
      "cell_type": "markdown",
      "source": [
        "This may be another case of self-selection bias because people who \"opt in\" may be more seriously committed to improving their fitness than those who do not \"opt in\". The \"opt in\" group is likely more comfortable sharing this data, precisely because they are proud of how much activity they do. Conversely, those who do not \"opt in,\" may be embarassed of how little activity they do. Additionally, because the company does not have any data on the customers who do not \"opt in,\" they do not know how the app affects those customers. Perhaps those customers see a reverse relationship with physical activity. We also do not know if the \"opt in\" affects any services within the app. For example, perhaps those who \"opt in\" receive more reminders to work out or receive more motivational quotes than those who do not \"opt in.\""
      ]
    },
    {
      "metadata": {
        "id": "65bL1ZFH-DPM",
        "colab_type": "text"
      },
      "cell_type": "markdown",
      "source": [
        "#Experiment 5\n",
        "To prevent cheating, a teacher writes three versions of a test. She stacks the three versions together, first all copies of Version A, then all copies of Version B, then all copies of Version C. As students arrive for the exam, each student takes a test. When grading the test, the teacher finds that students who took Version B scored higher than students who took either Version A or Version C. She concludes from this that Version B is easier, and discards it."
      ]
    },
    {
      "metadata": {
        "id": "TlBLv-fnKod7",
        "colab_type": "text"
      },
      "cell_type": "markdown",
      "source": [
        "While the environment is the same for each sample group, we don't know whether the distributions of the sample groups are similar amongst themselves. We may simply have had the more prepared students all coincidentally select Version B. Alternatively, the tests may have been placed in a manner where Version B was the closest test available as people who entered the room. In that case, the students who entered the room first (presumably better-performing), would be more likely to select Version B. Additionally, if the test was actually easier and the teacher was aware beforehand, she may have accidentally influenced favorable (presumably better-performing) students to select Version B. To control for this, I would create sample groups that each contain varying performers and are similar in nature. Additionally, I would make sure that the only difference between the tests, were the problems. There should be no difference between the versions in terms of the layout, font, color, etc."
      ]
    },
    {
      "metadata": {
        "id": "AK9_oWzx0RKB",
        "colab_type": "code",
        "colab": {}
      },
      "cell_type": "code",
      "source": [
        ""
      ],
      "execution_count": 0,
      "outputs": []
    }
  ]
}