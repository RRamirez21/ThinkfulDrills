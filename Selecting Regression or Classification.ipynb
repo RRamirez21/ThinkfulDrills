{
  "nbformat": 4,
  "nbformat_minor": 0,
  "metadata": {
    "colab": {
      "name": "Drill:Regression_or_Classification.ipynb",
      "version": "0.3.2",
      "provenance": [],
      "collapsed_sections": []
    },
    "kernelspec": {
      "name": "python3",
      "display_name": "Python 3"
    }
  },
  "cells": [
    {
      "metadata": {
        "id": "bTtlvY29UnFs",
        "colab_type": "text"
      },
      "cell_type": "markdown",
      "source": [
        "#Drill: Regression or Classification\n",
        "\n",
        "For each of the following situations, decide if you would model using a regression or classification model. Discuss your reasoning with your mentor next time you meet."
      ]
    },
    {
      "metadata": {
        "id": "nQiwEUdWWpf-",
        "colab_type": "text"
      },
      "cell_type": "markdown",
      "source": [
        "**The amount a person will spend on a given site in the next 24 months** should be a regression since this is a continuous outcome variable.\n"
      ]
    },
    {
      "metadata": {
        "id": "AwxoWTG7Wry9",
        "colab_type": "text"
      },
      "cell_type": "markdown",
      "source": [
        "**What color car someone is going to buy** should be a classification since color is a categorical variable.\n"
      ]
    },
    {
      "metadata": {
        "id": "b3FiRO8pWuNU",
        "colab_type": "text"
      },
      "cell_type": "markdown",
      "source": [
        "**How many children a family will have** should be a regression since this is a continuous outcome variable. When modeling population growth over time, \"1.7 children per family\" makes sense. When predicting the number of children for a particular family, an integer value is more appropriate in most situations. A discrete number of labels means that this problem can also be tackled as a classification. \n"
      ]
    },
    {
      "metadata": {
        "id": "cn3MXRXlWv3k",
        "colab_type": "text"
      },
      "cell_type": "markdown",
      "source": [
        "**Whether someone will sign up for a service** should be a classification since it is a categorical variable of either yes or no.\n",
        "\n",
        "If we were to estimate the ***probability*** of someone signing up for a service, this would be a regression, as probabilities are continuous values in the range of 0 to 1. \n"
      ]
    },
    {
      "metadata": {
        "id": "_pcJLZloWxBG",
        "colab_type": "text"
      },
      "cell_type": "markdown",
      "source": [
        "**The number of times someone will get sick in a year** \n",
        "\n",
        "The number of times that a person gets sick in a year is an integer number, so for predictions given to an individual make sense as both a classification and an integer regression. For purposes such as epidemiology, insurance planning and others based on decisions taken on large populations, a continuous number is useful. "
      ]
    },
    {
      "metadata": {
        "id": "DA-37gZRWyO_",
        "colab_type": "text"
      },
      "cell_type": "markdown",
      "source": [
        "**The probability someone will get sick in the next month** should be a regression because a probability is a continuous value between 0 and 1."
      ]
    },
    {
      "metadata": {
        "id": "5kiIcXKtWzmc",
        "colab_type": "text"
      },
      "cell_type": "markdown",
      "source": [
        "**Which medicine will work best for a given patient** should be a classification since our medicinal options are a categorical variable. However, if we wish to find the probability for the effectiveness of each medicine, we could also view this as a regression that aims to estimate a probability distribution."
      ]
    }
  ]
}
