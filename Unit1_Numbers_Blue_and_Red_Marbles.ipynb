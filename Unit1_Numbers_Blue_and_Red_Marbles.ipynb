{
  "nbformat": 4,
  "nbformat_minor": 0,
  "metadata": {
    "colab": {
      "name": "Unit1_Numbers_Blue_and_Red_Marbles.ipynb",
      "version": "0.3.2",
      "views": {},
      "default_view": {},
      "provenance": []
    },
    "kernelspec": {
      "name": "python3",
      "display_name": "Python 3"
    }
  },
  "cells": [
    {
      "metadata": {
        "id": "dP1M6AZpmiIL",
        "colab_type": "code",
        "colab": {
          "autoexec": {
            "startup": false,
            "wait_interval": 0
          }
        }
      },
      "cell_type": "code",
      "source": [
        "'''You and a friend have decided to play a game to drill your statistical intuitions. The game works like this:\n",
        "\n",
        "You have a bunch of red and blue marbles. To start the game you grab a handful of marbles of each color and put them into the bag, keeping track of how many of each color go in. You take turns reaching into the bag, guessing a color, and then pulling one marble out. You get a point if you guessed correctly. The trick is you only have three seconds to make your guess, so you have to think quickly.\n",
        "\n",
        "You've decided to write a function, guess_blue() to help automatically calculate whether you should guess \"blue\" or \"red\". The function should take four arguments:\n",
        "\n",
        "the number of blue marbles you put in the bag to start\n",
        "the number of red marbles you put in the bag to start\n",
        "the number of blue marbles pulled out so far, and\n",
        "the number of red marbles pulled out so far.\n",
        "guess_blue() should return the probability of drawing a blue marble, expressed as a float. For example, guess_blue(5, 5, 2, 3) should return 0.6.'''\n",
        "\n",
        "def guess_blue(blue_start, red_start, blue_pulled, red_pulled):\n",
        "    total_left = blue_start - blue_pulled + red_start - red_pulled\n",
        "    return (blue_start - blue_pulled)/total_left"
      ],
      "execution_count": 0,
      "outputs": []
    }
  ]
}