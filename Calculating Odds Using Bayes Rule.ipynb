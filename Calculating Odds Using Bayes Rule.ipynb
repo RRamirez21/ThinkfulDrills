{
  "nbformat": 4,
  "nbformat_minor": 0,
  "metadata": {
    "colab": {
      "name": "Unit_Exercises_in_Bayes_Rule.ipynb",
      "version": "0.3.2",
      "provenance": []
    },
    "kernelspec": {
      "name": "python3",
      "display_name": "Python 3"
    }
  },
  "cells": [
    {
      "metadata": {
        "id": "JKX1HqXr1o0C",
        "colab_type": "text"
      },
      "cell_type": "markdown",
      "source": [
        "A diagnostic test has a 98% probability of giving a positive result when applied to a person suffering from Thripshaw's Disease, and 10% probability of giving a (false) positive when applied to a non-sufferer. It is estimated that 0.5 % of the population are sufferers. Suppose that the test is now administered to a person whose disease status is unknown. Calculate the probability that the test will:\n",
        "\n",
        "Be positive;\n",
        "Correctly diagnose a sufferer of Thripshaw's;\n",
        "Correctly identify a non-sufferer of Thripshaw's;\n",
        "Misclassify the person."
      ]
    },
    {
      "metadata": {
        "id": "uJmEuOCX1uar",
        "colab_type": "text"
      },
      "cell_type": "markdown",
      "source": [
        "To find the odds of a positive, we need to know the combined odds of a positive result when applied to a sufferer and the odds of a positive result to a non-sufferer. The odds of a positive result to a sufferer are (.98 * .005) or (.0049). The odds of a positive result for a non-sufferer are (.1 * (1 - .005)) or (.0995). The combination of both those odds gives us .1044."
      ]
    },
    {
      "metadata": {
        "id": "bbHI-IhO3PaB",
        "colab_type": "text"
      },
      "cell_type": "markdown",
      "source": [
        "The odds of correctly diagnosing a sufferer of Thripshaw is given at 98% probability."
      ]
    },
    {
      "metadata": {
        "id": "Ntxg1oru3goO",
        "colab_type": "text"
      },
      "cell_type": "markdown",
      "source": [
        "Since the odds of incorrectly identifying a non-sufferer of Thripshaw is .10, the odds of correctly identifying a non-sufferer of Thripshaw is (1-.10) or (.90)"
      ]
    },
    {
      "metadata": {
        "id": "Pf4G0OJi3xJO",
        "colab_type": "text"
      },
      "cell_type": "markdown",
      "source": [
        "To find the odds of misclassifying the person, we need to know the combined odds of misclassifying each test. The odds of misclassifying a positive result to a sufferer is (.98*.005)) or (.0049) and the odds of misclassifying a positive result to a non-sufferer is (.9*.995)) or (.8955). The sum of those two is .9004. We subtract this from the entire population and our answer is (1 - .9004) or (.0996)."
      ]
    },
    {
      "metadata": {
        "id": "iQY7lYAf6mdn",
        "colab_type": "code",
        "colab": {}
      },
      "cell_type": "code",
      "source": [
        ""
      ],
      "execution_count": 0,
      "outputs": []
    }
  ]
}
