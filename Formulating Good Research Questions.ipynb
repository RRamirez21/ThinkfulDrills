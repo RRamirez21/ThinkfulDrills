{
  "nbformat": 4,
  "nbformat_minor": 0,
  "metadata": {
    "colab": {
      "name": "Drill:Formulating_Good_Research_Qs.ipynb",
      "version": "0.3.2",
      "provenance": [],
      "collapsed_sections": []
    },
    "kernelspec": {
      "name": "python3",
      "display_name": "Python 3"
    }
  },
  "cells": [
    {
      "metadata": {
        "id": "3GQSq-AbE-sT",
        "colab_type": "text"
      },
      "cell_type": "markdown",
      "source": [
        "# Formulating Good Research Questions\n",
        "Categorize each of the following research questions as \"good\" or \"bad\", and provide alternative formulations for the bad ones."
      ]
    },
    {
      "metadata": {
        "id": "gcUeY1ysLC9S",
        "colab_type": "text"
      },
      "cell_type": "markdown",
      "source": [
        "1. What is the 1994 rate of juvenile delinquency in the U.S.?\n",
        "\n",
        "This is a poor research question, because the rate is already known. In order to create a better research question, we should use this known information to learn more about something else. For example, what caused the difference or similarity in the US juvenile delinquency rate between 1994 and 1995?"
      ]
    },
    {
      "metadata": {
        "id": "pYm7ll8TLu2M",
        "colab_type": "text"
      },
      "cell_type": "markdown",
      "source": [
        "2. What can we do to reduce juvenile delinquency in the U.S.?\n",
        "\n",
        "This is a good research question, albeit somewhat vague, because there is information on recidivism rates. Additionally, we can calculate probablities based on likely factors, including income, education, and location.\n"
      ]
    },
    {
      "metadata": {
        "id": "ggPc-OqqMsKg",
        "colab_type": "text"
      },
      "cell_type": "markdown",
      "source": [
        "3. Does education play a role in reducing juvenile delinquents' return to crime?\n",
        "\n",
        "This is a good question because again, there is data available for recidivism and first time offenses and we can track how education affects the rates of crime moving forward. This would be interesting for a regression analysis. "
      ]
    },
    {
      "metadata": {
        "id": "XYmA0AvTMwj5",
        "colab_type": "text"
      },
      "cell_type": "markdown",
      "source": [
        "4. How many customers does AT&T currently serve in Washington, DC?\n",
        "\n",
        "This is a poor question because that information is already available. Additionally, the question does not seek any further insight from that data."
      ]
    },
    {
      "metadata": {
        "id": "2izoQfn9M15E",
        "colab_type": "text"
      },
      "cell_type": "markdown",
      "source": [
        "5. What factors lead consumers to choose AT&T over other service providers?\n",
        "\n",
        "This is a good question because there is likely survey information available which we can use to quantify the most important factors for new AT&T customers."
      ]
    },
    {
      "metadata": {
        "id": "r2fFDDK7M3am",
        "colab_type": "text"
      },
      "cell_type": "markdown",
      "source": [
        "6. How can AT&T attract more customers?\n",
        "\n",
        "This is a good research question because we can use survey data on which factors attracted current AT&T customers and calculate probabilities to see if those factors in the service can be used or improved to attract more customers.\n",
        "\n"
      ]
    },
    {
      "metadata": {
        "id": "KM_PgA7OM3kD",
        "colab_type": "text"
      },
      "cell_type": "markdown",
      "source": [
        "7. Why did the Challenger Shuttle explode?\n",
        "\n",
        "This is probably a bad research question because there likely isn't enough data to make probabilistic estimates of the factors that led to the explosion. \n",
        "\n",
        "Furthermore, the answer to this question depends on how much data would be available for exploration. For example, if we had failure rates for all the components in the shuttle, we could try performing statistical analyses to find the most likely causes of failure. However, [this was not how the incident was resolved in real life](https://en.wikipedia.org/wiki/Richard_Feynman#Challenger_disaster). \n",
        "\n"
      ]
    },
    {
      "metadata": {
        "id": "OTqwGTeEM3uV",
        "colab_type": "text"
      },
      "cell_type": "markdown",
      "source": [
        "8. Which genes are associated with increased risk of breast cancer?\n",
        "\n",
        "This is a good research question because there is experimental data available and we can use that to calculate the probabilities for each gene's association with breast cancer."
      ]
    },
    {
      "metadata": {
        "id": "DXh32dRtM33-",
        "colab_type": "text"
      },
      "cell_type": "markdown",
      "source": [
        "9. Is it better to read to children at night or in the morning?\n",
        "\n",
        "This is a bad research question because it is too vague. We need to define what \"better\" means quantitatively in order to more accurately assess the problem. Does this mean that the children have higher verbal IQ scores, or are more well behaved, or are more literate? Each of those aspects could be different research questions."
      ]
    },
    {
      "metadata": {
        "id": "8NaqF_JQNHOM",
        "colab_type": "text"
      },
      "cell_type": "markdown",
      "source": [
        "10. How does Google’s search algorithm work?\n",
        "\n",
        "This is a bad research question because it's ambiguous. \n",
        "\n",
        "The [PageRank algorithm](https://en.wikipedia.org/wiki/PageRank) has been publicly available for quite some time. However the precise fine tunings and implementation details are only known to current Google employees that are working on the project. A data science project trying to emulate Google search results is feasible (yet costly), though. We could try running a large number of queries on Google and trying to emulate its results with our own network analysis tool. We would need to take simplifying assumptions to make the project feasible. \n",
        "\n"
      ]
    }
  ]
}
