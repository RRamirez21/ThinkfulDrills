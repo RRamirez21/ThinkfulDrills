{
  "nbformat": 4,
  "nbformat_minor": 0,
  "metadata": {
    "colab": {
      "name": "Unit1_Loops_Grade_Calculator.ipynb",
      "version": "0.3.2",
      "views": {},
      "default_view": {},
      "provenance": []
    },
    "kernelspec": {
      "name": "python3",
      "display_name": "Python 3"
    }
  },
  "cells": [
    {
      "metadata": {
        "id": "YrdvvLeYteIg",
        "colab_type": "code",
        "colab": {
          "autoexec": {
            "startup": false,
            "wait_interval": 0
          }
        }
      },
      "cell_type": "code",
      "source": [
        "'''You're a statistics professor and the deadline for submitting your students' grades is tonight at midnight. Each student's grade is determined by their mean score across all of the tests they took this semester.\n",
        "\n",
        "You've decided to automate grade calculation by writing a function calculate_grade() that takes a list of test scores as an argument and returns a one character string representing the student's grade calculated as follows:\n",
        "\n",
        "90% <= mean score <= 100%: \"A\",\n",
        "80% <= mean score < 90%: \"B\",\n",
        "70% <= mean score < 80%: \"C\",\n",
        "60% <= mean score < 70%: \"D\",\n",
        "mean score < 60%: \"F\"\n",
        "For example, calculate_grade([92, 94, 99]) would return \"A\" since the mean score is 95, and calculate_grade([50, 60, 70, 80, 90]) would return \"C\" since the mean score is 70.\n",
        "\n",
        "Your function should handle an input list of any length.'''\n",
        "\n",
        "def calculate_grade(scores):\n",
        "    total_score = 0\n",
        "    for score in scores:\n",
        "        total_score += score\n",
        "    average_score = total_score / len(scores)\n",
        "        \n",
        "    if average_score >= 90:\n",
        "        return \"A\"\n",
        "    if average_score >= 80 and average_score < 90:\n",
        "        return \"B\"\n",
        "    if average_score >= 70 and average_score < 80:\n",
        "        return \"C\"\n",
        "    if average_score >= 60 and average_score < 70:\n",
        "        return \"D\"\n",
        "    else:\n",
        "        return \"F\""
      ],
      "execution_count": 0,
      "outputs": []
    }
  ]
}