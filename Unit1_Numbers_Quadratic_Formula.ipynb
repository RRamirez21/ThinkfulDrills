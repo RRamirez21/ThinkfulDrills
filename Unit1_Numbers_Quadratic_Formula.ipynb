{
  "nbformat": 4,
  "nbformat_minor": 0,
  "metadata": {
    "colab": {
      "name": "Unit1_Numbers_Quadratic_Formula.ipynb",
      "version": "0.3.2",
      "views": {},
      "default_view": {},
      "provenance": []
    },
    "kernelspec": {
      "name": "python3",
      "display_name": "Python 3"
    }
  },
  "cells": [
    {
      "metadata": {
        "id": "9v8X1EEBlDTA",
        "colab_type": "code",
        "colab": {
          "autoexec": {
            "startup": false,
            "wait_interval": 0
          }
        }
      },
      "cell_type": "code",
      "source": [
        "'''Remember all those quadratic equations you had to solve by hand in highschool? Well, no more! You're going to solve all the quadratic equations you might ever[1] have to wrangle with in the future once and for all by coding up the quadratic formula to handle them automatically.\n",
        "\n",
        "Write a function quadratic_formula() that takes three arguments, a, b, and c that represent the coefficients in a formula of the form ax^2 + bx + c = 0. Your function shoud return a list with two elements where each element is one of the two roots. If the formula produces a double root the result should be a list where both elements are that value.\n",
        "\n",
        "For example, quadratic_formula(2, 16, 1) should return the list [-0.06299606299409444, -7.937003937005906]. The order of the roots is not important.\n",
        "\n",
        "[1] Well, not ever ever. You don't need to worry about getting quadratic equations with complex roots where you need the square root of a negative number. All the test cases will be for equations with real roots.\n",
        "\n",
        "'''\n",
        "def quadratic_formula(a, b, c):\n",
        "    \n",
        "    square_root = ((b ** 2) - 4 * a * c) ** .5\n",
        "    \n",
        "    root1 = (-b + square_root) / (2 * a)\n",
        "    \n",
        "    root2 = (-b - square_root) / (2 * a)\n",
        "    \n",
        "    return [root1, root2]"
      ],
      "execution_count": 0,
      "outputs": []
    }
  ]
}