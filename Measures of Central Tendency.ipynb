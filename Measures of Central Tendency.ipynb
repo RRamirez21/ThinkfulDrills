{
  "nbformat": 4,
  "nbformat_minor": 0,
  "metadata": {
    "colab": {
      "name": "Unit3_Describing_Data.ipynb",
      "version": "0.3.2",
      "provenance": []
    },
    "kernelspec": {
      "name": "python3",
      "display_name": "Python 3"
    }
  },
  "cells": [
    {
      "metadata": {
        "id": "BKWT9xDbnUng",
        "colab_type": "code",
        "colab": {
          "base_uri": "https://localhost:8080/",
          "height": 126
        },
        "outputId": "52cdfe90-fa54-4df4-f628-b8901d24aa21"
      },
      "cell_type": "code",
      "source": [
        "import numpy as np\n",
        "ages =[14,12,11,10,8,6,8]\n",
        "\n",
        "def summarystats(ages):\n",
        "    print(\"mean: \",np.mean(ages))\n",
        "    print(\"median: \",np.median(ages))\n",
        "    print(\"variance: \",np.var(ages))\n",
        "    print(\"std. deviation :\",np.std(ages))\n",
        "    print(\"standard error :\",np.std(ages)/np.sqrt(len(ages)-1))\n",
        "    \n",
        "print(\"Mode is 8.\")\n",
        "summarystats(ages)"
      ],
      "execution_count": 4,
      "outputs": [
        {
          "output_type": "stream",
          "text": [
            "Mode is 8.\n",
            "mean:  9.857142857142858\n",
            "median:  10.0\n",
            "variance:  6.408163265306122\n",
            "std. deviation : 2.531435020952764\n",
            "standard error : 1.0334540197243194\n"
          ],
          "name": "stdout"
        }
      ]
    },
    {
      "metadata": {
        "id": "Iuw2mxX3n2zm",
        "colab_type": "text"
      },
      "cell_type": "markdown",
      "source": [
        "Given that the mean and median are close, If I had to use one measure of central tendancy and one estimate of variance, I would select the mean and standard deviation; respectively."
      ]
    },
    {
      "metadata": {
        "id": "E0E3HR28nwFQ",
        "colab_type": "code",
        "colab": {
          "base_uri": "https://localhost:8080/",
          "height": 126
        },
        "outputId": "3403ee6f-57fd-4e6c-da95-42d579496b5a"
      },
      "cell_type": "code",
      "source": [
        "ages2 =[14,12,11,10,8,7,8]\n",
        "print(\"The mode is 8.\")\n",
        "summarystats(ages2)"
      ],
      "execution_count": 7,
      "outputs": [
        {
          "output_type": "stream",
          "text": [
            "The mode is 8.\n",
            "mean:  10.0\n",
            "median:  10.0\n",
            "variance:  5.428571428571429\n",
            "std. deviation : 2.32992949004287\n",
            "standard error : 0.951189731211342\n"
          ],
          "name": "stdout"
        }
      ]
    },
    {
      "metadata": {
        "id": "-abOUmvZoZA1",
        "colab_type": "code",
        "colab": {
          "base_uri": "https://localhost:8080/",
          "height": 126
        },
        "outputId": "19017a28-060d-4af7-d3c3-380c51f845fd"
      },
      "cell_type": "code",
      "source": [
        "ages3 =[14,12,11,10,8,7,1]\n",
        "print(\"There is no mode.\")\n",
        "summarystats(ages3)"
      ],
      "execution_count": 8,
      "outputs": [
        {
          "output_type": "stream",
          "text": [
            "There is no mode.\n",
            "mean:  9.0\n",
            "median:  10.0\n",
            "variance:  15.428571428571429\n",
            "std. deviation : 3.927922024247863\n",
            "standard error : 1.6035674514745466\n"
          ],
          "name": "stdout"
        }
      ]
    },
    {
      "metadata": {
        "id": "qMldWLD3s_l5",
        "colab_type": "text"
      },
      "cell_type": "markdown",
      "source": [
        "Given the addition of an outlier, the mean and medain are no longer similar. Therefore, I would use the median as the measure of central tendency."
      ]
    },
    {
      "metadata": {
        "id": "NgRx3XcGtZwi",
        "colab_type": "text"
      },
      "cell_type": "markdown",
      "source": [
        "Based on the numbers, I would guess that the percentage would be the mean of the combined magazines. However, the SciPhi Phanatic is a niche magazine and therefore not likely to be an accurate representation of the fans. By removing that from the sample size, I would estimate that 20% of adult Americans were Brady Bunch fans on the 50th anniversary."
      ]
    }
  ]
}
