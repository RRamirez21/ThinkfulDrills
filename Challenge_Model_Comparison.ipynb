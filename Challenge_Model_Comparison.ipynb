{
  "nbformat": 4,
  "nbformat_minor": 0,
  "metadata": {
    "colab": {
      "name": "Challenge:Model_Comparison.ipynb",
      "version": "0.3.2",
      "provenance": [],
      "collapsed_sections": []
    },
    "kernelspec": {
      "name": "python3",
      "display_name": "Python 3"
    }
  },
  "cells": [
    {
      "metadata": {
        "id": "z7ZyUgfVBKvt",
        "colab_type": "text"
      },
      "cell_type": "markdown",
      "source": [
        "# Challenge: Model Comparison\n",
        "Find a data set and build a KNN Regression and an OLS regression. Compare the two. How similar are they? Do they miss in different ways? Describe the models' behaviors and why you favor one model or the other. Try to determine whether there is a situation where you would change your mind, or whether one is unambiguously better than the other. Lastly, try to note what it is about the data that causes the better model to outperform the weaker model. \n",
        "\n",
        "Source: https://www.kaggle.com/dongeorge/beer-consumption-sao-paulo/version/2#_=_"
      ]
    },
    {
      "metadata": {
        "id": "fe8G06wrBJRd",
        "colab_type": "code",
        "colab": {}
      },
      "cell_type": "code",
      "source": [
        "import pandas as pd\n",
        "import numpy as np\n",
        "import scipy\n",
        "from scipy import stats\n",
        "import sklearn\n",
        "from sklearn import linear_model\n",
        "import matplotlib.pyplot as plt\n",
        "%matplotlib inline\n",
        "\n",
        "import warnings\n",
        "warnings.filterwarnings(action=\"ignore\", module=\"scipy\", message=\"^internal gelsd\")"
      ],
      "execution_count": 0,
      "outputs": []
    },
    {
      "metadata": {
        "id": "W15NTMOkBbt2",
        "colab_type": "code",
        "colab": {}
      },
      "cell_type": "code",
      "source": [
        "drink_df = pd.read_csv('https://raw.githubusercontent.com/RRamirez21/ThinkfulDrills/master/Beer_Consumption.csv')"
      ],
      "execution_count": 0,
      "outputs": []
    },
    {
      "metadata": {
        "id": "qtZgm-tMBL2l",
        "colab_type": "code",
        "outputId": "3c43b5c0-80d5-45e6-adb6-b93729941c94",
        "colab": {
          "base_uri": "https://localhost:8080/",
          "height": 204
        }
      },
      "cell_type": "code",
      "source": [
        "drink_df.head(5)"
      ],
      "execution_count": 80,
      "outputs": [
        {
          "output_type": "execute_result",
          "data": {
            "text/html": [
              "<div>\n",
              "<style scoped>\n",
              "    .dataframe tbody tr th:only-of-type {\n",
              "        vertical-align: middle;\n",
              "    }\n",
              "\n",
              "    .dataframe tbody tr th {\n",
              "        vertical-align: top;\n",
              "    }\n",
              "\n",
              "    .dataframe thead th {\n",
              "        text-align: right;\n",
              "    }\n",
              "</style>\n",
              "<table border=\"1\" class=\"dataframe\">\n",
              "  <thead>\n",
              "    <tr style=\"text-align: right;\">\n",
              "      <th></th>\n",
              "      <th>date</th>\n",
              "      <th>midTemperature (C)</th>\n",
              "      <th>minTemperature (C)</th>\n",
              "      <th>maxTemperature (C)</th>\n",
              "      <th>precipitacion (mm)</th>\n",
              "      <th>weekend</th>\n",
              "      <th>beerConsumption (L)</th>\n",
              "    </tr>\n",
              "  </thead>\n",
              "  <tbody>\n",
              "    <tr>\n",
              "      <th>0</th>\n",
              "      <td>1/1/2015</td>\n",
              "      <td>27.30</td>\n",
              "      <td>23.9</td>\n",
              "      <td>32.5</td>\n",
              "      <td>0.0</td>\n",
              "      <td>0</td>\n",
              "      <td>25.461</td>\n",
              "    </tr>\n",
              "    <tr>\n",
              "      <th>1</th>\n",
              "      <td>1/2/2015</td>\n",
              "      <td>27.02</td>\n",
              "      <td>24.5</td>\n",
              "      <td>33.5</td>\n",
              "      <td>0.0</td>\n",
              "      <td>0</td>\n",
              "      <td>28.972</td>\n",
              "    </tr>\n",
              "    <tr>\n",
              "      <th>2</th>\n",
              "      <td>1/3/2015</td>\n",
              "      <td>24.82</td>\n",
              "      <td>22.4</td>\n",
              "      <td>29.9</td>\n",
              "      <td>0.0</td>\n",
              "      <td>1</td>\n",
              "      <td>30.814</td>\n",
              "    </tr>\n",
              "    <tr>\n",
              "      <th>3</th>\n",
              "      <td>1/4/2015</td>\n",
              "      <td>23.98</td>\n",
              "      <td>21.5</td>\n",
              "      <td>28.6</td>\n",
              "      <td>1.2</td>\n",
              "      <td>1</td>\n",
              "      <td>29.799</td>\n",
              "    </tr>\n",
              "    <tr>\n",
              "      <th>4</th>\n",
              "      <td>1/5/2015</td>\n",
              "      <td>23.82</td>\n",
              "      <td>21.0</td>\n",
              "      <td>28.3</td>\n",
              "      <td>0.0</td>\n",
              "      <td>0</td>\n",
              "      <td>28.900</td>\n",
              "    </tr>\n",
              "  </tbody>\n",
              "</table>\n",
              "</div>"
            ],
            "text/plain": [
              "       date  midTemperature (C)  minTemperature (C)  maxTemperature (C)  \\\n",
              "0  1/1/2015               27.30                23.9                32.5   \n",
              "1  1/2/2015               27.02                24.5                33.5   \n",
              "2  1/3/2015               24.82                22.4                29.9   \n",
              "3  1/4/2015               23.98                21.5                28.6   \n",
              "4  1/5/2015               23.82                21.0                28.3   \n",
              "\n",
              "   precipitacion (mm)  weekend  beerConsumption (L)  \n",
              "0                 0.0        0               25.461  \n",
              "1                 0.0        0               28.972  \n",
              "2                 0.0        1               30.814  \n",
              "3                 1.2        1               29.799  \n",
              "4                 0.0        0               28.900  "
            ]
          },
          "metadata": {
            "tags": []
          },
          "execution_count": 80
        }
      ]
    },
    {
      "metadata": {
        "id": "gPXPWE0KD4jj",
        "colab_type": "code",
        "colab": {}
      },
      "cell_type": "code",
      "source": [
        "drink_df.columns = ['date', 'midTemp', 'minTemp', 'maxTemp', \n",
        "'rain', 'weekend', 'beerCons']"
      ],
      "execution_count": 0,
      "outputs": []
    },
    {
      "metadata": {
        "id": "DvdRqtDheOex",
        "colab_type": "code",
        "outputId": "bca47dc4-cf16-4dae-b6d0-40932c020d04",
        "colab": {
          "base_uri": "https://localhost:8080/",
          "height": 34
        }
      },
      "cell_type": "code",
      "source": [
        "drink_df.shape\n"
      ],
      "execution_count": 82,
      "outputs": [
        {
          "output_type": "execute_result",
          "data": {
            "text/plain": [
              "(365, 7)"
            ]
          },
          "metadata": {
            "tags": []
          },
          "execution_count": 82
        }
      ]
    },
    {
      "metadata": {
        "id": "YQ9sv4mtfKcZ",
        "colab_type": "code",
        "colab": {}
      },
      "cell_type": "code",
      "source": [
        "new_list = [i for i in range(1, 366)]\n",
        "drink_df['date'] = new_list"
      ],
      "execution_count": 0,
      "outputs": []
    },
    {
      "metadata": {
        "id": "YHKiHoFQF3te",
        "colab_type": "code",
        "outputId": "9c63ee31-33b9-491c-9128-1160949e7636",
        "colab": {
          "base_uri": "https://localhost:8080/",
          "height": 204
        }
      },
      "cell_type": "code",
      "source": [
        "regr = linear_model.LinearRegression()\n",
        "Y = drink_df[['beerCons']]\n",
        "X = drink_df[['date', 'midTemp', 'minTemp', 'maxTemp', \n",
        "'rain', 'weekend']]\n",
        "\n",
        "regr.fit(X, Y)\n",
        "\n",
        "print('\\nCoefficients: \\n', regr.coef_)\n",
        "print('\\nIntercept: \\n', regr.intercept_)\n",
        "print('\\nR-squared: \\n')\n",
        "print(regr.score(X, Y))"
      ],
      "execution_count": 84,
      "outputs": [
        {
          "output_type": "stream",
          "text": [
            "\n",
            "Coefficients: \n",
            " [[ 4.02742932e-03 -3.07717015e-02  4.68156108e-02  6.75534966e-01\n",
            "  -5.84848567e-02  5.19887505e+00]]\n",
            "\n",
            "Intercept: \n",
            " [5.34565627]\n",
            "\n",
            "R-squared: \n",
            "\n",
            "0.7315787113951985\n"
          ],
          "name": "stdout"
        }
      ]
    },
    {
      "metadata": {
        "id": "ICeLzr9Exy_P",
        "colab_type": "code",
        "colab": {}
      },
      "cell_type": "code",
      "source": [
        "Xdf = X\n",
        "Ydf = Y\n",
        "\n",
        "from sklearn.model_selection import KFold\n",
        "X = Xdf.values\n",
        "y = Ydf.values"
      ],
      "execution_count": 0,
      "outputs": []
    },
    {
      "metadata": {
        "id": "1p-NTmwCxrDa",
        "colab_type": "code",
        "colab": {
          "base_uri": "https://localhost:8080/",
          "height": 204
        },
        "outputId": "1330c6d4-616a-4e44-bfd6-b022e2e6c483"
      },
      "cell_type": "code",
      "source": [
        "kf = KFold(n_splits=10, random_state=1, shuffle=True)\n",
        "kf.get_n_splits(X)\n",
        "\n",
        "print(kf)\n",
        "\n",
        "r2_scores=[]\n",
        "\n",
        "for train_index, test_index in kf.split(X):\n",
        "  #print(\"TRAIN:\", train_index, \"TEST:\", test_index)\n",
        "  X_train, X_test = X[train_index], X[test_index]\n",
        "  y_train, y_test = y[train_index], y[test_index]\n",
        "  regr.fit(X_train, y_train)\n",
        "  r2_scores.append(regr.score(X_test, y_test))\n",
        "  \n",
        "  \n",
        "r2_scores\n"
      ],
      "execution_count": 86,
      "outputs": [
        {
          "output_type": "stream",
          "text": [
            "KFold(n_splits=10, random_state=1, shuffle=True)\n"
          ],
          "name": "stdout"
        },
        {
          "output_type": "execute_result",
          "data": {
            "text/plain": [
              "[0.7266384627978563,\n",
              " 0.6818224014018928,\n",
              " 0.683215388831223,\n",
              " 0.8037159568623384,\n",
              " 0.5557461469357415,\n",
              " 0.7058978046954235,\n",
              " 0.7155132913792982,\n",
              " 0.7923353516143873,\n",
              " 0.6658209707511891,\n",
              " 0.6145861797589984]"
            ]
          },
          "metadata": {
            "tags": []
          },
          "execution_count": 86
        }
      ]
    },
    {
      "metadata": {
        "id": "5dnHM5QNyzlc",
        "colab_type": "code",
        "colab": {
          "base_uri": "https://localhost:8080/",
          "height": 34
        },
        "outputId": "2b70175a-c9b9-47e1-c1fc-24fe4f65479a"
      },
      "cell_type": "code",
      "source": [
        "np.mean(r2_scores)"
      ],
      "execution_count": 87,
      "outputs": [
        {
          "output_type": "execute_result",
          "data": {
            "text/plain": [
              "0.6945291955028349"
            ]
          },
          "metadata": {
            "tags": []
          },
          "execution_count": 87
        }
      ]
    },
    {
      "metadata": {
        "id": "l734FyLpB5md",
        "colab_type": "code",
        "outputId": "d3990522-5442-47d1-b702-eeed1e61a5aa",
        "colab": {
          "base_uri": "https://localhost:8080/",
          "height": 34
        }
      },
      "cell_type": "code",
      "source": [
        "from sklearn.neighbors import KNeighborsRegressor\n",
        "neighbors = KNeighborsRegressor(n_neighbors=5)\n",
        "X2 = drink_df[['date', 'midTemp', 'minTemp', 'maxTemp', \n",
        "'rain', 'weekend']]\n",
        "Y2 = drink_df[['beerCons']]\n",
        "y_pred = neighbors.fit(X2,Y2)\n",
        "\n",
        "## Predict beer consumption for the 180th day\n",
        "# midTemp = 27 Celsius\n",
        "# minTemp = 24 Celsius\n",
        "# maxTemp = 30 Celsius\n",
        "# rain    = 0 mm precipitation\n",
        "# weekend = 0 (no weekend)\n",
        "print('KNN predicts:', neighbors.predict([[180, 27, 24, 30 , 0, 0]]))"
      ],
      "execution_count": 88,
      "outputs": [
        {
          "output_type": "stream",
          "text": [
            "KNN predicts: [[23.1374]]\n"
          ],
          "name": "stdout"
        }
      ]
    },
    {
      "metadata": {
        "id": "Ay6YcYqLjYPn",
        "colab_type": "code",
        "outputId": "300f8bde-c47e-44bb-869c-c99f23bcd376",
        "colab": {
          "base_uri": "https://localhost:8080/",
          "height": 34
        }
      },
      "cell_type": "code",
      "source": [
        "print(y_pred.score(X2, Y2))"
      ],
      "execution_count": 89,
      "outputs": [
        {
          "output_type": "stream",
          "text": [
            "0.4755361628687208\n"
          ],
          "name": "stdout"
        }
      ]
    },
    {
      "metadata": {
        "id": "L3XJ6hEAzNpG",
        "colab_type": "code",
        "colab": {}
      },
      "cell_type": "code",
      "source": [
        "X2df = X2\n",
        "Y2df = Y2\n",
        "\n",
        "from sklearn.model_selection import KFold\n",
        "X2 = X2df.values\n",
        "y2 = Y2df.values"
      ],
      "execution_count": 0,
      "outputs": []
    },
    {
      "metadata": {
        "id": "bZOplOdg1S4o",
        "colab_type": "code",
        "colab": {
          "base_uri": "https://localhost:8080/",
          "height": 204
        },
        "outputId": "42b0dfbb-8df9-4b85-8458-98781a2cb7db"
      },
      "cell_type": "code",
      "source": [
        "kf2 = KFold(n_splits=10, random_state=1, shuffle=True)\n",
        "kf2.get_n_splits(X2)\n",
        "\n",
        "print(kf2)\n",
        "\n",
        "ypred_scores=[]\n",
        "\n",
        "for train_index, test_index in kf2.split(X2):\n",
        "  #print(\"TRAIN:\", train_index, \"TEST:\", test_index)\n",
        "  X_train, X_test = X2[train_index], X2[test_index]\n",
        "  y_train, y_test = y2[train_index], y2[test_index]\n",
        "  regr.fit(X_train, y_train)\n",
        "  ypred_scores.append(y_pred.score(X_test, y_test))\n",
        "  \n",
        "  \n",
        "ypred_scores\n"
      ],
      "execution_count": 91,
      "outputs": [
        {
          "output_type": "stream",
          "text": [
            "KFold(n_splits=10, random_state=1, shuffle=True)\n"
          ],
          "name": "stdout"
        },
        {
          "output_type": "execute_result",
          "data": {
            "text/plain": [
              "[0.4328209992729607,\n",
              " 0.32694105310245203,\n",
              " 0.5412079869960815,\n",
              " 0.5670738424709045,\n",
              " 0.21786036466409264,\n",
              " 0.36385967360681837,\n",
              " 0.5013545109977888,\n",
              " 0.5465000727548602,\n",
              " 0.5140975622245572,\n",
              " 0.3522425525148175]"
            ]
          },
          "metadata": {
            "tags": []
          },
          "execution_count": 91
        }
      ]
    },
    {
      "metadata": {
        "id": "t00YAG3vzJLH",
        "colab_type": "code",
        "colab": {
          "base_uri": "https://localhost:8080/",
          "height": 34
        },
        "outputId": "67ab32d1-81a3-46b8-caea-c212e0155eba"
      },
      "cell_type": "code",
      "source": [
        "np.mean(ypred_scores)"
      ],
      "execution_count": 94,
      "outputs": [
        {
          "output_type": "execute_result",
          "data": {
            "text/plain": [
              "0.43639586186053336"
            ]
          },
          "metadata": {
            "tags": []
          },
          "execution_count": 94
        }
      ]
    },
    {
      "metadata": {
        "id": "eI6N_WVF1zns",
        "colab_type": "text"
      },
      "cell_type": "markdown",
      "source": [
        "Our two models differ with the linear regression providing a more accurate results than our KNN model. Since the KNN works by selecting the nearest number instead of the mean of nearby results, it is not as accurate in this case (for a continuous variable). However, if we were to create categories by setting an arbitrary number of alcohol consumption (let's say 27 L), our KNN would be more accurate at indentifying the corresponding categories below and above that value. Additionally, if we were to look deeper into the data for re-occuring values, we could \"weight\" them to update our KNN model and improve our accuracy."
      ]
    }
  ]
}