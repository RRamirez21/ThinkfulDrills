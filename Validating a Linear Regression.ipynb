{
  "nbformat": 4,
  "nbformat_minor": 0,
  "metadata": {
    "colab": {
      "name": "Challenge:Validating_a_Linear_Regression.ipynb",
      "version": "0.3.2",
      "provenance": [],
      "collapsed_sections": []
    },
    "kernelspec": {
      "name": "python3",
      "display_name": "Python 3"
    }
  },
  "cells": [
    {
      "metadata": {
        "id": "4DywucdKUGte",
        "colab_type": "code",
        "colab": {}
      },
      "cell_type": "code",
      "source": [
        "%matplotlib inline\n",
        "import pandas as pd\n",
        "import numpy as np\n",
        "import scipy\n",
        "import sklearn\n",
        "import matplotlib.pyplot as plt\n",
        "import seaborn as sns\n",
        "from sklearn import linear_model\n",
        "\n",
        "pd.options.display.float_format = '{:.3f}'.format\n",
        "\n",
        "import warnings\n",
        "warnings.filterwarnings(action=\"ignore\", module=\"scipy\", message=\"^internal gelsd\")"
      ],
      "execution_count": 0,
      "outputs": []
    },
    {
      "metadata": {
        "id": "RjRxqRO2T1eN",
        "colab_type": "text"
      },
      "cell_type": "markdown",
      "source": [
        "# Challenge: Validating a linear regression\n",
        "In this case, your goal is to achieve a model with a consistent R2 and only statistically significant parameters across multiple samples.\n",
        "\n",
        "We'll use the property crime model you've been working on with, based on the FBI:UCR data. Since your model formulation to date has used the entire New York State 2013 dataset, you'll need to validate it using some of the other crime datasets available at the FBI:UCR website. Options include [other states crime rates in 2013](https://ucr.fbi.gov/crime-in-the-u.s/2013/crime-in-the-u.s.-2013/tables/table-8/table_8_offenses_known_to_law_enforcement_by_state_by_city_2013.xls/view) or [crime rates in New York State in other years](https://ucr.fbi.gov/crime-in-the-u.s/2014/crime-in-the-u.s.-2014/tables/table-8/table-8-by-state/Table_8_Offenses_Known_to_Law_Enforcement_by_New_York_by_City_2014.xls) or a combination of these.\n",
        "\n",
        "# Iterate\n",
        "Based on the results of your validation test, create a revised model, and then test both old and new models on a new holdout or set of folds."
      ]
    },
    {
      "metadata": {
        "id": "ZNt6uDU7T9cI",
        "colab_type": "code",
        "colab": {}
      },
      "cell_type": "code",
      "source": [
        "crime_path ='https://raw.githubusercontent.com/Thinkful-Ed/data-201-resources/master/New_York_offenses/NEW_YORK-Offenses_Known_to_Law_Enforcement_by_City_2013%20-%2013tbl8ny.csv'\n",
        "crime_data = pd.read_csv(crime_path, skiprows=4, skipfooter=3, engine='python')"
      ],
      "execution_count": 0,
      "outputs": []
    },
    {
      "metadata": {
        "id": "_F5dt0NRVINH",
        "colab_type": "code",
        "colab": {}
      },
      "cell_type": "code",
      "source": [
        "def convert_number(number):\n",
        "    try:\n",
        "        converted = float(number.replace(',', ''))\n",
        "    except:\n",
        "        converted = number\n",
        "    \n",
        "    return converted"
      ],
      "execution_count": 0,
      "outputs": []
    },
    {
      "metadata": {
        "id": "fdiywV9dqcxw",
        "colab_type": "code",
        "outputId": "c6484ca7-5993-4dd6-e225-b1efed72b4b6",
        "colab": {
          "base_uri": "https://localhost:8080/",
          "height": 119
        }
      },
      "cell_type": "code",
      "source": [
        "crime_data.columns"
      ],
      "execution_count": 237,
      "outputs": [
        {
          "output_type": "execute_result",
          "data": {
            "text/plain": [
              "Index(['City', 'Population', 'Violent\\ncrime',\n",
              "       'Murder and\\nnonnegligent\\nmanslaughter',\n",
              "       'Rape\\n(revised\\ndefinition)1', 'Rape\\n(legacy\\ndefinition)2',\n",
              "       'Robbery', 'Aggravated\\nassault', 'Property\\ncrime', 'Burglary',\n",
              "       'Larceny-\\ntheft', 'Motor\\nvehicle\\ntheft', 'Arson3'],\n",
              "      dtype='object')"
            ]
          },
          "metadata": {
            "tags": []
          },
          "execution_count": 237
        }
      ]
    },
    {
      "metadata": {
        "id": "Wx8j2XSCVLsU",
        "colab_type": "code",
        "colab": {}
      },
      "cell_type": "code",
      "source": [
        "crime_data.columns = ['city', 'population', 'violent_crime', 'murder_manslaughter', \n",
        "'rape', 'robbery', 'assault', 'property_crime', 'burglary', 'larceny_theft', \n",
        "'vehicle_theft', 'arson', 'murder']\n",
        "\n",
        "crime_data.fillna(0)\n",
        "crime_data['population'] = crime_data['population'].apply(lambda x: convert_number(x))\n",
        "crime_data['murder_manslaughter'] = crime_data['murder_manslaughter'].apply(lambda x: convert_number(x))\n",
        "crime_data['robbery'] = crime_data['robbery'].apply(lambda x: convert_number(x))\n",
        "crime_data['property_crime'] = crime_data['property_crime'].apply(lambda x: convert_number(x))\n",
        "crime_data['larceny_theft'] = crime_data['larceny_theft'].apply(lambda x: convert_number(x))"
      ],
      "execution_count": 0,
      "outputs": []
    },
    {
      "metadata": {
        "id": "WXlFgIXYUJtH",
        "colab_type": "code",
        "outputId": "767fe420-47db-4f77-f8d0-79c6313ffbaf",
        "colab": {
          "base_uri": "https://localhost:8080/",
          "height": 297
        }
      },
      "cell_type": "code",
      "source": [
        "crime_data.describe()"
      ],
      "execution_count": 239,
      "outputs": [
        {
          "output_type": "execute_result",
          "data": {
            "text/html": [
              "<div>\n",
              "<style scoped>\n",
              "    .dataframe tbody tr th:only-of-type {\n",
              "        vertical-align: middle;\n",
              "    }\n",
              "\n",
              "    .dataframe tbody tr th {\n",
              "        vertical-align: top;\n",
              "    }\n",
              "\n",
              "    .dataframe thead th {\n",
              "        text-align: right;\n",
              "    }\n",
              "</style>\n",
              "<table border=\"1\" class=\"dataframe\">\n",
              "  <thead>\n",
              "    <tr style=\"text-align: right;\">\n",
              "      <th></th>\n",
              "      <th>population</th>\n",
              "      <th>murder_manslaughter</th>\n",
              "      <th>rape</th>\n",
              "      <th>robbery</th>\n",
              "      <th>property_crime</th>\n",
              "      <th>larceny_theft</th>\n",
              "      <th>murder</th>\n",
              "    </tr>\n",
              "  </thead>\n",
              "  <tbody>\n",
              "    <tr>\n",
              "      <th>count</th>\n",
              "      <td>348.000</td>\n",
              "      <td>348.000</td>\n",
              "      <td>0.000</td>\n",
              "      <td>348.000</td>\n",
              "      <td>348.000</td>\n",
              "      <td>348.000</td>\n",
              "      <td>187.000</td>\n",
              "    </tr>\n",
              "    <tr>\n",
              "      <th>mean</th>\n",
              "      <td>40037.632</td>\n",
              "      <td>1.566</td>\n",
              "      <td>nan</td>\n",
              "      <td>5.865</td>\n",
              "      <td>121.261</td>\n",
              "      <td>119.684</td>\n",
              "      <td>1.872</td>\n",
              "    </tr>\n",
              "    <tr>\n",
              "      <th>std</th>\n",
              "      <td>450037.368</td>\n",
              "      <td>18.304</td>\n",
              "      <td>nan</td>\n",
              "      <td>60.425</td>\n",
              "      <td>1706.132</td>\n",
              "      <td>924.949</td>\n",
              "      <td>10.693</td>\n",
              "    </tr>\n",
              "    <tr>\n",
              "      <th>min</th>\n",
              "      <td>526.000</td>\n",
              "      <td>0.000</td>\n",
              "      <td>nan</td>\n",
              "      <td>0.000</td>\n",
              "      <td>0.000</td>\n",
              "      <td>0.000</td>\n",
              "      <td>0.000</td>\n",
              "    </tr>\n",
              "    <tr>\n",
              "      <th>25%</th>\n",
              "      <td>3003.000</td>\n",
              "      <td>0.000</td>\n",
              "      <td>nan</td>\n",
              "      <td>0.000</td>\n",
              "      <td>1.000</td>\n",
              "      <td>6.000</td>\n",
              "      <td>0.000</td>\n",
              "    </tr>\n",
              "    <tr>\n",
              "      <th>50%</th>\n",
              "      <td>7233.500</td>\n",
              "      <td>0.000</td>\n",
              "      <td>nan</td>\n",
              "      <td>0.000</td>\n",
              "      <td>4.000</td>\n",
              "      <td>17.500</td>\n",
              "      <td>0.000</td>\n",
              "    </tr>\n",
              "    <tr>\n",
              "      <th>75%</th>\n",
              "      <td>18427.500</td>\n",
              "      <td>0.000</td>\n",
              "      <td>nan</td>\n",
              "      <td>2.000</td>\n",
              "      <td>14.000</td>\n",
              "      <td>51.250</td>\n",
              "      <td>1.000</td>\n",
              "    </tr>\n",
              "    <tr>\n",
              "      <th>max</th>\n",
              "      <td>8396126.000</td>\n",
              "      <td>335.000</td>\n",
              "      <td>nan</td>\n",
              "      <td>1112.000</td>\n",
              "      <td>31767.000</td>\n",
              "      <td>16606.000</td>\n",
              "      <td>132.000</td>\n",
              "    </tr>\n",
              "  </tbody>\n",
              "</table>\n",
              "</div>"
            ],
            "text/plain": [
              "       population  murder_manslaughter  rape  robbery  property_crime  \\\n",
              "count     348.000              348.000 0.000  348.000         348.000   \n",
              "mean    40037.632                1.566   nan    5.865         121.261   \n",
              "std    450037.368               18.304   nan   60.425        1706.132   \n",
              "min       526.000                0.000   nan    0.000           0.000   \n",
              "25%      3003.000                0.000   nan    0.000           1.000   \n",
              "50%      7233.500                0.000   nan    0.000           4.000   \n",
              "75%     18427.500                0.000   nan    2.000          14.000   \n",
              "max   8396126.000              335.000   nan 1112.000       31767.000   \n",
              "\n",
              "       larceny_theft  murder  \n",
              "count        348.000 187.000  \n",
              "mean         119.684   1.872  \n",
              "std          924.949  10.693  \n",
              "min            0.000   0.000  \n",
              "25%            6.000   0.000  \n",
              "50%           17.500   0.000  \n",
              "75%           51.250   1.000  \n",
              "max        16606.000 132.000  "
            ]
          },
          "metadata": {
            "tags": []
          },
          "execution_count": 239
        }
      ]
    },
    {
      "metadata": {
        "id": "pW5X4GevVFXF",
        "colab_type": "code",
        "colab": {}
      },
      "cell_type": "code",
      "source": [
        "crime_data = crime_data.drop('rape', 1)"
      ],
      "execution_count": 0,
      "outputs": []
    },
    {
      "metadata": {
        "id": "Q_jW7mdUVAu4",
        "colab_type": "code",
        "outputId": "af700e2f-041e-458b-d1d1-9dcb7e6f8855",
        "colab": {
          "base_uri": "https://localhost:8080/",
          "height": 293
        }
      },
      "cell_type": "code",
      "source": [
        "crime_data['population'].hist(bins=5)\n",
        "plt.title('Population')\n",
        "plt.show()\n",
        "\n",
        "median = crime_data.population.median()\n",
        "std = crime_data.population.std()\n",
        "pop_ends = median + 2* std"
      ],
      "execution_count": 241,
      "outputs": [
        {
          "output_type": "display_data",
          "data": {
            "image/png": "[encoded data removed]",
            "text/plain": [
              "<matplotlib.figure.Figure at 0x7f092e659f98>"
            ]
          },
          "metadata": {
            "tags": []
          }
        }
      ]
    },
    {
      "metadata": {
        "id": "iCJcly8jU97x",
        "colab_type": "code",
        "outputId": "6c3ab0e2-1d1f-4edf-b948-893ba465acc2",
        "colab": {
          "base_uri": "https://localhost:8080/",
          "height": 280
        }
      },
      "cell_type": "code",
      "source": [
        "crime_data['murder_manslaughter'].hist(bins=5)\n",
        "plt.title('Murders')\n",
        "plt.show()\n",
        "\n",
        "median = crime_data['murder_manslaughter'].median()\n",
        "std = crime_data['murder_manslaughter'].std()\n",
        "mur_ends = median + 2* std"
      ],
      "execution_count": 242,
      "outputs": [
        {
          "output_type": "display_data",
          "data": {
            "image/png": "[encoded data removed]",
            "text/plain": [
              "<matplotlib.figure.Figure at 0x7f092e4a00b8>"
            ]
          },
          "metadata": {
            "tags": []
          }
        }
      ]
    },
    {
      "metadata": {
        "id": "GgWgAlQFU6-K",
        "colab_type": "code",
        "outputId": "bc628dc5-dd96-403d-e848-3e46400df93a",
        "colab": {
          "base_uri": "https://localhost:8080/",
          "height": 280
        }
      },
      "cell_type": "code",
      "source": [
        "crime_data['robbery'].hist(bins=5)\n",
        "plt.title('Robberies')\n",
        "plt.show()\n",
        "\n",
        "median = crime_data.robbery.median()\n",
        "std = crime_data.robbery.std()\n",
        "rob_ends = median + 2* std"
      ],
      "execution_count": 243,
      "outputs": [
        {
          "output_type": "display_data",
          "data": {
            "image/png": "[encoded data removed]",
            "text/plain": [
              "<matplotlib.figure.Figure at 0x7f092e4a0b38>"
            ]
          },
          "metadata": {
            "tags": []
          }
        }
      ]
    },
    {
      "metadata": {
        "id": "zUg9abxcU22S",
        "colab_type": "code",
        "outputId": "04fb942b-597b-4263-b74a-aed8e363676f",
        "colab": {
          "base_uri": "https://localhost:8080/",
          "height": 280
        }
      },
      "cell_type": "code",
      "source": [
        "crime_data['property_crime'].hist(bins=5)\n",
        "plt.title('Property Crime')\n",
        "plt.show()\n",
        "\n",
        "median = crime_data['property_crime'].median()\n",
        "std = crime_data['property_crime'].std()\n",
        "prop_ends = median + 2* std"
      ],
      "execution_count": 244,
      "outputs": [
        {
          "output_type": "display_data",
          "data": {
            "image/png": "[encoded data removed]",
            "text/plain": [
              "<matplotlib.figure.Figure at 0x7f092e341710>"
            ]
          },
          "metadata": {
            "tags": []
          }
        }
      ]
    },
    {
      "metadata": {
        "id": "fPobx_IlUybG",
        "colab_type": "code",
        "colab": {}
      },
      "cell_type": "code",
      "source": [
        "crime_data['population'] = crime_data.population.map(lambda x: x if x < pop_ends else None)\n",
        "crime_data['murder_manslaughter'] = crime_data['murder_manslaughter'].map(lambda x: x if x < mur_ends else None)\n",
        "crime_data['robbery'] = crime_data.robbery.map(lambda x: x if x < rob_ends else None)\n",
        "crime_data['property_crime'] = crime_data['property_crime'].map(lambda x: x if x < prop_ends else None)"
      ],
      "execution_count": 0,
      "outputs": []
    },
    {
      "metadata": {
        "id": "jmoPzS5tUqLB",
        "colab_type": "code",
        "colab": {}
      },
      "cell_type": "code",
      "source": [
        "crime_data['popSq'] = crime_data['population']**2"
      ],
      "execution_count": 0,
      "outputs": []
    },
    {
      "metadata": {
        "id": "4xTZTaCwUiTK",
        "colab_type": "code",
        "colab": {}
      },
      "cell_type": "code",
      "source": [
        "def convert_category(number):\n",
        "    value = convert_number(number)\n",
        "    \n",
        "    if value>0:\n",
        "        return 1\n",
        "    else:\n",
        "        return 0"
      ],
      "execution_count": 0,
      "outputs": []
    },
    {
      "metadata": {
        "id": "Uh4xQnwJUjir",
        "colab_type": "code",
        "outputId": "f2b8ad9e-e11b-4847-f3e7-2aac2d9be509",
        "colab": {
          "base_uri": "https://localhost:8080/",
          "height": 326
        }
      },
      "cell_type": "code",
      "source": [
        "crime_data['murder_categorical'] = crime_data['murder_manslaughter'].apply(lambda x: convert_category(x))\n",
        "crime_data['robbery_categorical'] = crime_data['robbery'].apply(lambda x: convert_category(x))\n",
        "crime_data.head()"
      ],
      "execution_count": 248,
      "outputs": [
        {
          "output_type": "execute_result",
          "data": {
            "text/html": [
              "<div>\n",
              "<style scoped>\n",
              "    .dataframe tbody tr th:only-of-type {\n",
              "        vertical-align: middle;\n",
              "    }\n",
              "\n",
              "    .dataframe tbody tr th {\n",
              "        vertical-align: top;\n",
              "    }\n",
              "\n",
              "    .dataframe thead th {\n",
              "        text-align: right;\n",
              "    }\n",
              "</style>\n",
              "<table border=\"1\" class=\"dataframe\">\n",
              "  <thead>\n",
              "    <tr style=\"text-align: right;\">\n",
              "      <th></th>\n",
              "      <th>city</th>\n",
              "      <th>population</th>\n",
              "      <th>violent_crime</th>\n",
              "      <th>murder_manslaughter</th>\n",
              "      <th>robbery</th>\n",
              "      <th>assault</th>\n",
              "      <th>property_crime</th>\n",
              "      <th>burglary</th>\n",
              "      <th>larceny_theft</th>\n",
              "      <th>vehicle_theft</th>\n",
              "      <th>arson</th>\n",
              "      <th>murder</th>\n",
              "      <th>popSq</th>\n",
              "      <th>murder_categorical</th>\n",
              "      <th>robbery_categorical</th>\n",
              "    </tr>\n",
              "  </thead>\n",
              "  <tbody>\n",
              "    <tr>\n",
              "      <th>0</th>\n",
              "      <td>Adams Village</td>\n",
              "      <td>1861.000</td>\n",
              "      <td>0</td>\n",
              "      <td>0.000</td>\n",
              "      <td>0.000</td>\n",
              "      <td>0</td>\n",
              "      <td>0.000</td>\n",
              "      <td>12</td>\n",
              "      <td>2.000</td>\n",
              "      <td>10</td>\n",
              "      <td>0</td>\n",
              "      <td>0.000</td>\n",
              "      <td>3463321.000</td>\n",
              "      <td>0</td>\n",
              "      <td>0</td>\n",
              "    </tr>\n",
              "    <tr>\n",
              "      <th>1</th>\n",
              "      <td>Addison Town and Village</td>\n",
              "      <td>2577.000</td>\n",
              "      <td>3</td>\n",
              "      <td>0.000</td>\n",
              "      <td>0.000</td>\n",
              "      <td>0</td>\n",
              "      <td>3.000</td>\n",
              "      <td>24</td>\n",
              "      <td>3.000</td>\n",
              "      <td>20</td>\n",
              "      <td>1</td>\n",
              "      <td>0.000</td>\n",
              "      <td>6640929.000</td>\n",
              "      <td>0</td>\n",
              "      <td>0</td>\n",
              "    </tr>\n",
              "    <tr>\n",
              "      <th>2</th>\n",
              "      <td>Akron Village</td>\n",
              "      <td>2846.000</td>\n",
              "      <td>3</td>\n",
              "      <td>0.000</td>\n",
              "      <td>0.000</td>\n",
              "      <td>0</td>\n",
              "      <td>3.000</td>\n",
              "      <td>16</td>\n",
              "      <td>1.000</td>\n",
              "      <td>15</td>\n",
              "      <td>0</td>\n",
              "      <td>0.000</td>\n",
              "      <td>8099716.000</td>\n",
              "      <td>0</td>\n",
              "      <td>0</td>\n",
              "    </tr>\n",
              "    <tr>\n",
              "      <th>3</th>\n",
              "      <td>Albany</td>\n",
              "      <td>97956.000</td>\n",
              "      <td>791</td>\n",
              "      <td>8.000</td>\n",
              "      <td>30.000</td>\n",
              "      <td>227</td>\n",
              "      <td>526.000</td>\n",
              "      <td>4,090</td>\n",
              "      <td>705.000</td>\n",
              "      <td>3,243</td>\n",
              "      <td>142</td>\n",
              "      <td>nan</td>\n",
              "      <td>9595377936.000</td>\n",
              "      <td>1</td>\n",
              "      <td>1</td>\n",
              "    </tr>\n",
              "    <tr>\n",
              "      <th>4</th>\n",
              "      <td>Albion Village</td>\n",
              "      <td>6388.000</td>\n",
              "      <td>23</td>\n",
              "      <td>0.000</td>\n",
              "      <td>3.000</td>\n",
              "      <td>4</td>\n",
              "      <td>16.000</td>\n",
              "      <td>223</td>\n",
              "      <td>53.000</td>\n",
              "      <td>165</td>\n",
              "      <td>5</td>\n",
              "      <td>nan</td>\n",
              "      <td>40806544.000</td>\n",
              "      <td>0</td>\n",
              "      <td>1</td>\n",
              "    </tr>\n",
              "  </tbody>\n",
              "</table>\n",
              "</div>"
            ],
            "text/plain": [
              "                       city  population violent_crime  murder_manslaughter  \\\n",
              "0             Adams Village    1861.000             0                0.000   \n",
              "1  Addison Town and Village    2577.000             3                0.000   \n",
              "2             Akron Village    2846.000             3                0.000   \n",
              "3                    Albany   97956.000           791                8.000   \n",
              "4            Albion Village    6388.000            23                0.000   \n",
              "\n",
              "   robbery assault  property_crime burglary  larceny_theft vehicle_theft  \\\n",
              "0    0.000       0           0.000       12          2.000            10   \n",
              "1    0.000       0           3.000       24          3.000            20   \n",
              "2    0.000       0           3.000       16          1.000            15   \n",
              "3   30.000     227         526.000    4,090        705.000         3,243   \n",
              "4    3.000       4          16.000      223         53.000           165   \n",
              "\n",
              "  arson  murder          popSq  murder_categorical  robbery_categorical  \n",
              "0     0   0.000    3463321.000                   0                    0  \n",
              "1     1   0.000    6640929.000                   0                    0  \n",
              "2     0   0.000    8099716.000                   0                    0  \n",
              "3   142     nan 9595377936.000                   1                    1  \n",
              "4     5     nan   40806544.000                   0                    1  "
            ]
          },
          "metadata": {
            "tags": []
          },
          "execution_count": 248
        }
      ]
    },
    {
      "metadata": {
        "id": "QekPH4z7Ubn_",
        "colab_type": "code",
        "outputId": "9a4eb864-f1a0-4806-93ae-f50ef2cf784d",
        "colab": {
          "base_uri": "https://localhost:8080/",
          "height": 204
        }
      },
      "cell_type": "code",
      "source": [
        "features = crime_data[['population', 'popSq', 'murder_categorical', 'robbery_categorical', 'property_crime']].dropna()\n",
        "features.head()"
      ],
      "execution_count": 249,
      "outputs": [
        {
          "output_type": "execute_result",
          "data": {
            "text/html": [
              "<div>\n",
              "<style scoped>\n",
              "    .dataframe tbody tr th:only-of-type {\n",
              "        vertical-align: middle;\n",
              "    }\n",
              "\n",
              "    .dataframe tbody tr th {\n",
              "        vertical-align: top;\n",
              "    }\n",
              "\n",
              "    .dataframe thead th {\n",
              "        text-align: right;\n",
              "    }\n",
              "</style>\n",
              "<table border=\"1\" class=\"dataframe\">\n",
              "  <thead>\n",
              "    <tr style=\"text-align: right;\">\n",
              "      <th></th>\n",
              "      <th>population</th>\n",
              "      <th>popSq</th>\n",
              "      <th>murder_categorical</th>\n",
              "      <th>robbery_categorical</th>\n",
              "      <th>property_crime</th>\n",
              "    </tr>\n",
              "  </thead>\n",
              "  <tbody>\n",
              "    <tr>\n",
              "      <th>0</th>\n",
              "      <td>1861.000</td>\n",
              "      <td>3463321.000</td>\n",
              "      <td>0</td>\n",
              "      <td>0</td>\n",
              "      <td>0.000</td>\n",
              "    </tr>\n",
              "    <tr>\n",
              "      <th>1</th>\n",
              "      <td>2577.000</td>\n",
              "      <td>6640929.000</td>\n",
              "      <td>0</td>\n",
              "      <td>0</td>\n",
              "      <td>3.000</td>\n",
              "    </tr>\n",
              "    <tr>\n",
              "      <th>2</th>\n",
              "      <td>2846.000</td>\n",
              "      <td>8099716.000</td>\n",
              "      <td>0</td>\n",
              "      <td>0</td>\n",
              "      <td>3.000</td>\n",
              "    </tr>\n",
              "    <tr>\n",
              "      <th>3</th>\n",
              "      <td>97956.000</td>\n",
              "      <td>9595377936.000</td>\n",
              "      <td>1</td>\n",
              "      <td>1</td>\n",
              "      <td>526.000</td>\n",
              "    </tr>\n",
              "    <tr>\n",
              "      <th>4</th>\n",
              "      <td>6388.000</td>\n",
              "      <td>40806544.000</td>\n",
              "      <td>0</td>\n",
              "      <td>1</td>\n",
              "      <td>16.000</td>\n",
              "    </tr>\n",
              "  </tbody>\n",
              "</table>\n",
              "</div>"
            ],
            "text/plain": [
              "   population          popSq  murder_categorical  robbery_categorical  \\\n",
              "0    1861.000    3463321.000                   0                    0   \n",
              "1    2577.000    6640929.000                   0                    0   \n",
              "2    2846.000    8099716.000                   0                    0   \n",
              "3   97956.000 9595377936.000                   1                    1   \n",
              "4    6388.000   40806544.000                   0                    1   \n",
              "\n",
              "   property_crime  \n",
              "0           0.000  \n",
              "1           3.000  \n",
              "2           3.000  \n",
              "3         526.000  \n",
              "4          16.000  "
            ]
          },
          "metadata": {
            "tags": []
          },
          "execution_count": 249
        }
      ]
    },
    {
      "metadata": {
        "id": "5fcDsxFTUNW9",
        "colab_type": "code",
        "outputId": "1517e48a-9ad5-4ead-912f-9adcfe6ea71a",
        "colab": {
          "base_uri": "https://localhost:8080/",
          "height": 187
        }
      },
      "cell_type": "code",
      "source": [
        "regr = linear_model.LinearRegression()\n",
        "Y = features['property_crime']\n",
        "X = features[['population', 'popSq', 'murder_categorical', 'robbery_categorical']]\n",
        "\n",
        "regr.fit(X, Y)\n",
        "\n",
        "print('\\nCoefficients: \\n', regr.coef_)\n",
        "print('\\nIntercept: \\n', regr.intercept_)\n",
        "print('\\nR-squared: \\n')\n",
        "print(regr.score(X, Y))"
      ],
      "execution_count": 250,
      "outputs": [
        {
          "output_type": "stream",
          "text": [
            "\n",
            "Coefficients: \n",
            " [-4.69223576e-04  2.51858430e-08  4.01799612e+01  1.00699455e+01]\n",
            "\n",
            "Intercept: \n",
            " 3.274131954874427\n",
            "\n",
            "R-squared: \n",
            "\n",
            "0.8681606031657333\n"
          ],
          "name": "stdout"
        }
      ]
    },
    {
      "metadata": {
        "id": "EBVzPViojjKg",
        "colab_type": "text"
      },
      "cell_type": "markdown",
      "source": [
        "Here we calculate the error and residual."
      ]
    },
    {
      "metadata": {
        "id": "JgUKMyKUjjlS",
        "colab_type": "code",
        "outputId": "5980cc5f-7c5c-4aa2-e53d-27303cd0e792",
        "colab": {
          "base_uri": "https://localhost:8080/",
          "height": 294
        }
      },
      "cell_type": "code",
      "source": [
        "predicted = regr.predict(X).ravel()\n",
        "actual = features['property_crime']\n",
        "\n",
        "residual = actual - predicted\n",
        "\n",
        "plt.hist(residual)\n",
        "plt.xlabel('Residual')\n",
        "plt.ylabel('Count')\n",
        "plt.title('Residual Counts')\n",
        "plt.show()"
      ],
      "execution_count": 251,
      "outputs": [
        {
          "output_type": "display_data",
          "data": {
            "image/png": "[encoded data removed]",
            "text/plain": [
              "<matplotlib.figure.Figure at 0x7f092e2cc4a8>"
            ]
          },
          "metadata": {
            "tags": []
          }
        }
      ]
    },
    {
      "metadata": {
        "id": "TYn4iwprjlvD",
        "colab_type": "code",
        "outputId": "43145483-f995-49d9-e128-ee0cf3904093",
        "colab": {
          "base_uri": "https://localhost:8080/",
          "height": 294
        }
      },
      "cell_type": "code",
      "source": [
        "plt.scatter(predicted, residual)\n",
        "plt.xlabel('Predicted')\n",
        "plt.ylabel('Residual')\n",
        "plt.axhline(y=0)\n",
        "plt.title('Residual vs. Predicted')\n",
        "plt.show()"
      ],
      "execution_count": 252,
      "outputs": [
        {
          "output_type": "display_data",
          "data": {
            "image/png": "[encoded data removed]",
            "text/plain": [
              "<matplotlib.figure.Figure at 0x7f092e2b8f98>"
            ]
          },
          "metadata": {
            "tags": []
          }
        }
      ]
    },
    {
      "metadata": {
        "id": "ROI9I0C0jpDG",
        "colab_type": "code",
        "outputId": "51c76072-3075-4139-b975-d903fd2f3760",
        "colab": {
          "base_uri": "https://localhost:8080/",
          "height": 374
        }
      },
      "cell_type": "code",
      "source": [
        "sns.heatmap(crime_data.corr())"
      ],
      "execution_count": 253,
      "outputs": [
        {
          "output_type": "execute_result",
          "data": {
            "text/plain": [
              "<matplotlib.axes._subplots.AxesSubplot at 0x7f092e1c4a90>"
            ]
          },
          "metadata": {
            "tags": []
          },
          "execution_count": 253
        },
        {
          "output_type": "display_data",
          "data": {
            "image/png": "[encoded data removed]",
            "text/plain": [
              "<matplotlib.figure.Figure at 0x7f092e659320>"
            ]
          },
          "metadata": {
            "tags": []
          }
        }
      ]
    },
    {
      "metadata": {
        "id": "8P8BY_CNkfP6",
        "colab_type": "code",
        "outputId": "1f5a6956-beaa-469e-88ee-03d841552392",
        "colab": {
          "base_uri": "https://localhost:8080/",
          "height": 204
        }
      },
      "cell_type": "code",
      "source": [
        "X_data = X\n",
        "X_data.head(5)"
      ],
      "execution_count": 254,
      "outputs": [
        {
          "output_type": "execute_result",
          "data": {
            "text/html": [
              "<div>\n",
              "<style scoped>\n",
              "    .dataframe tbody tr th:only-of-type {\n",
              "        vertical-align: middle;\n",
              "    }\n",
              "\n",
              "    .dataframe tbody tr th {\n",
              "        vertical-align: top;\n",
              "    }\n",
              "\n",
              "    .dataframe thead th {\n",
              "        text-align: right;\n",
              "    }\n",
              "</style>\n",
              "<table border=\"1\" class=\"dataframe\">\n",
              "  <thead>\n",
              "    <tr style=\"text-align: right;\">\n",
              "      <th></th>\n",
              "      <th>population</th>\n",
              "      <th>popSq</th>\n",
              "      <th>murder_categorical</th>\n",
              "      <th>robbery_categorical</th>\n",
              "    </tr>\n",
              "  </thead>\n",
              "  <tbody>\n",
              "    <tr>\n",
              "      <th>0</th>\n",
              "      <td>1861.000</td>\n",
              "      <td>3463321.000</td>\n",
              "      <td>0</td>\n",
              "      <td>0</td>\n",
              "    </tr>\n",
              "    <tr>\n",
              "      <th>1</th>\n",
              "      <td>2577.000</td>\n",
              "      <td>6640929.000</td>\n",
              "      <td>0</td>\n",
              "      <td>0</td>\n",
              "    </tr>\n",
              "    <tr>\n",
              "      <th>2</th>\n",
              "      <td>2846.000</td>\n",
              "      <td>8099716.000</td>\n",
              "      <td>0</td>\n",
              "      <td>0</td>\n",
              "    </tr>\n",
              "    <tr>\n",
              "      <th>3</th>\n",
              "      <td>97956.000</td>\n",
              "      <td>9595377936.000</td>\n",
              "      <td>1</td>\n",
              "      <td>1</td>\n",
              "    </tr>\n",
              "    <tr>\n",
              "      <th>4</th>\n",
              "      <td>6388.000</td>\n",
              "      <td>40806544.000</td>\n",
              "      <td>0</td>\n",
              "      <td>1</td>\n",
              "    </tr>\n",
              "  </tbody>\n",
              "</table>\n",
              "</div>"
            ],
            "text/plain": [
              "   population          popSq  murder_categorical  robbery_categorical\n",
              "0    1861.000    3463321.000                   0                    0\n",
              "1    2577.000    6640929.000                   0                    0\n",
              "2    2846.000    8099716.000                   0                    0\n",
              "3   97956.000 9595377936.000                   1                    1\n",
              "4    6388.000   40806544.000                   0                    1"
            ]
          },
          "metadata": {
            "tags": []
          },
          "execution_count": 254
        }
      ]
    },
    {
      "metadata": {
        "id": "8cLUZzRJkgLw",
        "colab_type": "code",
        "outputId": "aab07219-b9d0-4622-ade1-afdfe2afa022",
        "colab": {
          "base_uri": "https://localhost:8080/",
          "height": 119
        }
      },
      "cell_type": "code",
      "source": [
        "Y_target = Y\n",
        "Y_target.head(5)"
      ],
      "execution_count": 255,
      "outputs": [
        {
          "output_type": "execute_result",
          "data": {
            "text/plain": [
              "0     0.000\n",
              "1     3.000\n",
              "2     3.000\n",
              "3   526.000\n",
              "4    16.000\n",
              "Name: property_crime, dtype: float64"
            ]
          },
          "metadata": {
            "tags": []
          },
          "execution_count": 255
        }
      ]
    },
    {
      "metadata": {
        "id": "0AzDmPufYrdb",
        "colab_type": "code",
        "outputId": "009a7dc4-73fa-4276-bc37-593aff483206",
        "colab": {
          "base_uri": "https://localhost:8080/",
          "height": 297
        }
      },
      "cell_type": "code",
      "source": [
        "X.describe()"
      ],
      "execution_count": 256,
      "outputs": [
        {
          "output_type": "execute_result",
          "data": {
            "text/html": [
              "<div>\n",
              "<style scoped>\n",
              "    .dataframe tbody tr th:only-of-type {\n",
              "        vertical-align: middle;\n",
              "    }\n",
              "\n",
              "    .dataframe tbody tr th {\n",
              "        vertical-align: top;\n",
              "    }\n",
              "\n",
              "    .dataframe thead th {\n",
              "        text-align: right;\n",
              "    }\n",
              "</style>\n",
              "<table border=\"1\" class=\"dataframe\">\n",
              "  <thead>\n",
              "    <tr style=\"text-align: right;\">\n",
              "      <th></th>\n",
              "      <th>population</th>\n",
              "      <th>popSq</th>\n",
              "      <th>murder_categorical</th>\n",
              "      <th>robbery_categorical</th>\n",
              "    </tr>\n",
              "  </thead>\n",
              "  <tbody>\n",
              "    <tr>\n",
              "      <th>count</th>\n",
              "      <td>347.000</td>\n",
              "      <td>347.000</td>\n",
              "      <td>347.000</td>\n",
              "      <td>347.000</td>\n",
              "    </tr>\n",
              "    <tr>\n",
              "      <th>mean</th>\n",
              "      <td>15956.686</td>\n",
              "      <td>985840709.758</td>\n",
              "      <td>0.133</td>\n",
              "      <td>0.409</td>\n",
              "    </tr>\n",
              "    <tr>\n",
              "      <th>std</th>\n",
              "      <td>27080.219</td>\n",
              "      <td>5067232380.434</td>\n",
              "      <td>0.340</td>\n",
              "      <td>0.492</td>\n",
              "    </tr>\n",
              "    <tr>\n",
              "      <th>min</th>\n",
              "      <td>526.000</td>\n",
              "      <td>276676.000</td>\n",
              "      <td>0.000</td>\n",
              "      <td>0.000</td>\n",
              "    </tr>\n",
              "    <tr>\n",
              "      <th>25%</th>\n",
              "      <td>2997.000</td>\n",
              "      <td>8982153.000</td>\n",
              "      <td>0.000</td>\n",
              "      <td>0.000</td>\n",
              "    </tr>\n",
              "    <tr>\n",
              "      <th>50%</th>\n",
              "      <td>7187.000</td>\n",
              "      <td>51652969.000</td>\n",
              "      <td>0.000</td>\n",
              "      <td>0.000</td>\n",
              "    </tr>\n",
              "    <tr>\n",
              "      <th>75%</th>\n",
              "      <td>18160.500</td>\n",
              "      <td>329804222.500</td>\n",
              "      <td>0.000</td>\n",
              "      <td>1.000</td>\n",
              "    </tr>\n",
              "    <tr>\n",
              "      <th>max</th>\n",
              "      <td>258789.000</td>\n",
              "      <td>66971746521.000</td>\n",
              "      <td>1.000</td>\n",
              "      <td>1.000</td>\n",
              "    </tr>\n",
              "  </tbody>\n",
              "</table>\n",
              "</div>"
            ],
            "text/plain": [
              "       population           popSq  murder_categorical  robbery_categorical\n",
              "count     347.000         347.000             347.000              347.000\n",
              "mean    15956.686   985840709.758               0.133                0.409\n",
              "std     27080.219  5067232380.434               0.340                0.492\n",
              "min       526.000      276676.000               0.000                0.000\n",
              "25%      2997.000     8982153.000               0.000                0.000\n",
              "50%      7187.000    51652969.000               0.000                0.000\n",
              "75%     18160.500   329804222.500               0.000                1.000\n",
              "max    258789.000 66971746521.000               1.000                1.000"
            ]
          },
          "metadata": {
            "tags": []
          },
          "execution_count": 256
        }
      ]
    },
    {
      "metadata": {
        "id": "kVG4YHyEZMHd",
        "colab_type": "code",
        "colab": {}
      },
      "cell_type": "code",
      "source": [
        "Xdf = X\n",
        "Ydf = Y\n",
        "\n",
        "from sklearn.model_selection import KFold\n",
        "X = Xdf.values\n",
        "y = Ydf.values"
      ],
      "execution_count": 0,
      "outputs": []
    },
    {
      "metadata": {
        "id": "c_WzCQA2meI4",
        "colab_type": "code",
        "colab": {}
      },
      "cell_type": "code",
      "source": [
        "#We add a min max scaler before fitting the regression models\n",
        "\n",
        "from sklearn.preprocessing import MinMaxScaler\n",
        "\n",
        "scaler = MinMaxScaler()\n",
        "X = scaler.fit_transform(X)"
      ],
      "execution_count": 0,
      "outputs": []
    },
    {
      "metadata": {
        "id": "xN78nReJPOBK",
        "colab_type": "text"
      },
      "cell_type": "markdown",
      "source": [
        "## K-fold cross validation\n",
        "\n",
        "We shuffle the data and split it into 10 training and test folds. We evaluate the mean r square value of all the folds.  "
      ]
    },
    {
      "metadata": {
        "id": "OhM8EJ1RPX1m",
        "colab_type": "code",
        "outputId": "6d45fd86-1f39-4e8c-ee3b-b71f165f74fb",
        "colab": {
          "base_uri": "https://localhost:8080/",
          "height": 204
        }
      },
      "cell_type": "code",
      "source": [
        "# We set\n",
        "kf = KFold(n_splits=10, random_state=1, shuffle=True)\n",
        "kf.get_n_splits(X)\n",
        "\n",
        "print(kf)\n",
        "\n",
        "r2_scores=[]\n",
        "\n",
        "for train_index, test_index in kf.split(X):\n",
        "  #print(\"TRAIN:\", train_index, \"TEST:\", test_index)\n",
        "  X_train, X_test = X[train_index], X[test_index]\n",
        "  y_train, y_test = y[train_index], y[test_index]\n",
        "  regr.fit(X_train, y_train)\n",
        "  r2_scores.append(regr.score(X_test, y_test))\n",
        "  \n",
        "  \n",
        "r2_scores\n"
      ],
      "execution_count": 269,
      "outputs": [
        {
          "output_type": "stream",
          "text": [
            "KFold(n_splits=10, random_state=1, shuffle=True)\n"
          ],
          "name": "stdout"
        },
        {
          "output_type": "execute_result",
          "data": {
            "text/plain": [
              "[0.2822096581989495,\n",
              " 0.6021483459504344,\n",
              " -2.7675584751566498,\n",
              " 0.9917436263637852,\n",
              " 0.8952611375316926,\n",
              " -0.20866147978041671,\n",
              " 0.7426238422086836,\n",
              " 0.38117343296103584,\n",
              " 0.5511432988516207,\n",
              " -0.5035370090523554]"
            ]
          },
          "metadata": {
            "tags": []
          },
          "execution_count": 269
        }
      ]
    },
    {
      "metadata": {
        "id": "EBKk4itgV-Xg",
        "colab_type": "text"
      },
      "cell_type": "markdown",
      "source": [
        "The mean $r^2$ value after 10 fold cross validation"
      ]
    },
    {
      "metadata": {
        "id": "0IpVe7VITbQH",
        "colab_type": "code",
        "outputId": "b2010af1-9f25-498c-d5ae-a1c7a51fe764",
        "colab": {
          "base_uri": "https://localhost:8080/",
          "height": 34
        }
      },
      "cell_type": "code",
      "source": [
        "np.mean(r2_scores)"
      ],
      "execution_count": 270,
      "outputs": [
        {
          "output_type": "execute_result",
          "data": {
            "text/plain": [
              "0.096654637807678"
            ]
          },
          "metadata": {
            "tags": []
          },
          "execution_count": 270
        }
      ]
    },
    {
      "metadata": {
        "id": "ngiOnelJVoAe",
        "colab_type": "text"
      },
      "cell_type": "markdown",
      "source": [
        "## Discussion on the significance of low r square values in the social sciences"
      ]
    },
    {
      "metadata": {
        "id": "IsZ5UZ9uVz5H",
        "colab_type": "text"
      },
      "cell_type": "markdown",
      "source": [
        "+ https://www.researchgate.net/post/Low_R-squared_values_in_multiple_regression_analysis\n",
        "+ https://www.researchgate.net/post/what_is_the_acceptable_r-squared_value"
      ]
    }
  ]
}
