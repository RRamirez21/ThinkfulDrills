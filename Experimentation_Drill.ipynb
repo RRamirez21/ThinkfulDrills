{
  "nbformat": 4,
  "nbformat_minor": 0,
  "metadata": {
    "colab": {
      "name": "Experimentation_Drill.ipynb",
      "version": "0.3.2",
      "provenance": [],
      "collapsed_sections": []
    },
    "kernelspec": {
      "name": "python3",
      "display_name": "Python 3"
    }
  },
  "cells": [
    {
      "metadata": {
        "id": "uYJ8plquwCUT",
        "colab_type": "code",
        "colab": {}
      },
      "cell_type": "code",
      "source": [
        "%matplotlib inline\n",
        "import pandas as pd\n",
        "import numpy as np\n",
        "import seaborn as sns\n",
        "from matplotlib import pyplot as plt\n",
        "from scipy import stats"
      ],
      "execution_count": 0,
      "outputs": []
    },
    {
      "metadata": {
        "id": "wXrrdAKdv0_X",
        "colab_type": "code",
        "colab": {}
      },
      "cell_type": "code",
      "source": [
        "PATH = 'https://raw.githubusercontent.com/Thinkful-Ed/data-201-resources/master/1.4.11_experimentation_guided_example/experiment_data_2_wks.csv'\n",
        "experiment_data = pd.read_csv(PATH)"
      ],
      "execution_count": 0,
      "outputs": []
    },
    {
      "metadata": {
        "id": "nTQweXjCwG4H",
        "colab_type": "code",
        "colab": {
          "base_uri": "https://localhost:8080/",
          "height": 359
        },
        "outputId": "ce22a6c7-628b-4c3f-96ca-75bee0d09bd0"
      },
      "cell_type": "code",
      "source": [
        "experiment_data.head(10)"
      ],
      "execution_count": 3,
      "outputs": [
        {
          "output_type": "execute_result",
          "data": {
            "text/html": [
              "<div>\n",
              "<style scoped>\n",
              "    .dataframe tbody tr th:only-of-type {\n",
              "        vertical-align: middle;\n",
              "    }\n",
              "\n",
              "    .dataframe tbody tr th {\n",
              "        vertical-align: top;\n",
              "    }\n",
              "\n",
              "    .dataframe thead th {\n",
              "        text-align: right;\n",
              "    }\n",
              "</style>\n",
              "<table border=\"1\" class=\"dataframe\">\n",
              "  <thead>\n",
              "    <tr style=\"text-align: right;\">\n",
              "      <th></th>\n",
              "      <th>treatment_date</th>\n",
              "      <th>test</th>\n",
              "      <th>is_signed_up</th>\n",
              "      <th>signup_date</th>\n",
              "    </tr>\n",
              "  </thead>\n",
              "  <tbody>\n",
              "    <tr>\n",
              "      <th>0</th>\n",
              "      <td>2016-04-01</td>\n",
              "      <td>0</td>\n",
              "      <td>0</td>\n",
              "      <td>NaN</td>\n",
              "    </tr>\n",
              "    <tr>\n",
              "      <th>1</th>\n",
              "      <td>2016-04-01</td>\n",
              "      <td>0</td>\n",
              "      <td>0</td>\n",
              "      <td>NaN</td>\n",
              "    </tr>\n",
              "    <tr>\n",
              "      <th>2</th>\n",
              "      <td>2016-04-01</td>\n",
              "      <td>0</td>\n",
              "      <td>0</td>\n",
              "      <td>NaN</td>\n",
              "    </tr>\n",
              "    <tr>\n",
              "      <th>3</th>\n",
              "      <td>2016-04-01</td>\n",
              "      <td>0</td>\n",
              "      <td>0</td>\n",
              "      <td>NaN</td>\n",
              "    </tr>\n",
              "    <tr>\n",
              "      <th>4</th>\n",
              "      <td>2016-04-01</td>\n",
              "      <td>0</td>\n",
              "      <td>0</td>\n",
              "      <td>NaN</td>\n",
              "    </tr>\n",
              "    <tr>\n",
              "      <th>5</th>\n",
              "      <td>2016-04-01</td>\n",
              "      <td>0</td>\n",
              "      <td>0</td>\n",
              "      <td>NaN</td>\n",
              "    </tr>\n",
              "    <tr>\n",
              "      <th>6</th>\n",
              "      <td>2016-04-01</td>\n",
              "      <td>1</td>\n",
              "      <td>1</td>\n",
              "      <td>2016-04-02</td>\n",
              "    </tr>\n",
              "    <tr>\n",
              "      <th>7</th>\n",
              "      <td>2016-04-01</td>\n",
              "      <td>0</td>\n",
              "      <td>0</td>\n",
              "      <td>NaN</td>\n",
              "    </tr>\n",
              "    <tr>\n",
              "      <th>8</th>\n",
              "      <td>2016-04-01</td>\n",
              "      <td>0</td>\n",
              "      <td>0</td>\n",
              "      <td>NaN</td>\n",
              "    </tr>\n",
              "    <tr>\n",
              "      <th>9</th>\n",
              "      <td>2016-04-01</td>\n",
              "      <td>0</td>\n",
              "      <td>0</td>\n",
              "      <td>NaN</td>\n",
              "    </tr>\n",
              "  </tbody>\n",
              "</table>\n",
              "</div>"
            ],
            "text/plain": [
              "  treatment_date  test  is_signed_up signup_date\n",
              "0     2016-04-01     0             0         NaN\n",
              "1     2016-04-01     0             0         NaN\n",
              "2     2016-04-01     0             0         NaN\n",
              "3     2016-04-01     0             0         NaN\n",
              "4     2016-04-01     0             0         NaN\n",
              "5     2016-04-01     0             0         NaN\n",
              "6     2016-04-01     1             1  2016-04-02\n",
              "7     2016-04-01     0             0         NaN\n",
              "8     2016-04-01     0             0         NaN\n",
              "9     2016-04-01     0             0         NaN"
            ]
          },
          "metadata": {
            "tags": []
          },
          "execution_count": 3
        }
      ]
    },
    {
      "metadata": {
        "id": "Wb4spIZnwKRk",
        "colab_type": "text"
      },
      "cell_type": "markdown",
      "source": [
        "##How large is each group?"
      ]
    },
    {
      "metadata": {
        "id": "6tgiexX0wLfE",
        "colab_type": "code",
        "colab": {
          "base_uri": "https://localhost:8080/",
          "height": 51
        },
        "outputId": "a1e8939e-781e-48b2-9bb9-7abf99c29896"
      },
      "cell_type": "code",
      "source": [
        "print('Test sample size is: ', len(experiment_data[experiment_data.test == 0]))\n",
        "print('Control sample size is: ', len(experiment_data[experiment_data.test == 1]))"
      ],
      "execution_count": 6,
      "outputs": [
        {
          "output_type": "stream",
          "text": [
            "Test sample size is:  30241\n",
            "Control sample size is:  3372\n"
          ],
          "name": "stdout"
        }
      ]
    },
    {
      "metadata": {
        "id": "gGcgsbHJwrwB",
        "colab_type": "text"
      },
      "cell_type": "markdown",
      "source": [
        "## What is the signup rate of test and control?"
      ]
    },
    {
      "metadata": {
        "id": "1MZUuIUvwcti",
        "colab_type": "code",
        "colab": {
          "base_uri": "https://localhost:8080/",
          "height": 51
        },
        "outputId": "5f19ace3-cdc5-472c-ed6f-53180b5d978b"
      },
      "cell_type": "code",
      "source": [
        "print(\"Signup rate of the test sample is: \", experiment_data[experiment_data.test == 1].is_signed_up.mean())\n",
        "print(\"Signup rate of the control sample is: \", experiment_data[experiment_data.test == 0].is_signed_up.mean())"
      ],
      "execution_count": 8,
      "outputs": [
        {
          "output_type": "stream",
          "text": [
            "Signup rate of the test sample is:  0.13701067615658363\n",
            "Signup rate of the control sample is:  0.14708508316523924\n"
          ],
          "name": "stdout"
        }
      ]
    },
    {
      "metadata": {
        "id": "zQexlQiqw8bf",
        "colab_type": "text"
      },
      "cell_type": "markdown",
      "source": [
        "##Is the experiment already significant?"
      ]
    },
    {
      "metadata": {
        "id": "PM2okkO_xqbu",
        "colab_type": "code",
        "colab": {
          "base_uri": "https://localhost:8080/",
          "height": 34
        },
        "outputId": "1dd3bf93-c8c7-4bcc-fae3-4f8794f2a88b"
      },
      "cell_type": "code",
      "source": [
        "stats.ttest_ind(experiment_data[experiment_data.test == 1].is_signed_up,\n",
        "                experiment_data[experiment_data.test == 0].is_signed_up)"
      ],
      "execution_count": 9,
      "outputs": [
        {
          "output_type": "execute_result",
          "data": {
            "text/plain": [
              "Ttest_indResult(statistic=-1.5711354292574262, pvalue=0.11616060761145311)"
            ]
          },
          "metadata": {
            "tags": []
          },
          "execution_count": 9
        }
      ]
    },
    {
      "metadata": {
        "id": "PQPGoAOAw-B9",
        "colab_type": "code",
        "colab": {
          "base_uri": "https://localhost:8080/",
          "height": 284
        },
        "outputId": "1a60d096-3114-4529-f8d7-0cfcbf86e9f9"
      },
      "cell_type": "code",
      "source": [
        "fig = experiment_data[experiment_data.test==1][\n",
        "    ['treatment_date', 'is_signed_up']].groupby('treatment_date').mean().plot()\n",
        "experiment_data[experiment_data.test==0][\n",
        "    ['treatment_date', 'is_signed_up']].groupby('treatment_date').mean().plot(ax=fig)\n",
        "plt.legend(['test','control'])\n",
        "plt.title('Comparing Signup Rates by Treatment Date')\n",
        "plt.show()\n"
      ],
      "execution_count": 10,
      "outputs": [
        {
          "output_type": "display_data",
          "data": {
            "image/png": "[encoded data removed]",
            "text/plain": [
              "<matplotlib.figure.Figure at 0x7fd0c62cba20>"
            ]
          },
          "metadata": {
            "tags": []
          }
        }
      ]
    },
    {
      "metadata": {
        "id": "GiTovu8L1tMw",
        "colab_type": "code",
        "colab": {
          "base_uri": "https://localhost:8080/",
          "height": 272
        },
        "outputId": "b33cb5ca-c322-4e69-e05a-9cf58057b48f"
      },
      "cell_type": "code",
      "source": [
        "print('T-Test Results by Date')\n",
        "\n",
        "for date in experiment_data.treatment_date.unique():\n",
        "    dated_data = experiment_data[experiment_data.treatment_date == date]\n",
        "    print(stats.ttest_ind(dated_data[dated_data.test == 1].is_signed_up,\n",
        "                          dated_data[dated_data.test == 0].is_signed_up))"
      ],
      "execution_count": 11,
      "outputs": [
        {
          "output_type": "stream",
          "text": [
            "T-Test Results by Date\n",
            "Ttest_indResult(statistic=1.171015382328547, pvalue=0.24172432121696255)\n",
            "Ttest_indResult(statistic=0.39163213374090855, pvalue=0.6953630758340448)\n",
            "Ttest_indResult(statistic=0.24114731791032132, pvalue=0.8094651742723448)\n",
            "Ttest_indResult(statistic=1.006146671265253, pvalue=0.3144281887767212)\n",
            "Ttest_indResult(statistic=1.7950152227404037, pvalue=0.0727950243234006)\n",
            "Ttest_indResult(statistic=-0.07142256949339083, pvalue=0.9430681183812821)\n",
            "Ttest_indResult(statistic=-0.99645401324533, pvalue=0.31911047625459077)\n",
            "Ttest_indResult(statistic=-1.4059315672051254, pvalue=0.1598930922410899)\n",
            "Ttest_indResult(statistic=-2.772772511643487, pvalue=0.0055926512303104605)\n",
            "Ttest_indResult(statistic=-1.301097855458891, pvalue=0.19332775805677105)\n",
            "Ttest_indResult(statistic=-1.6243695706046337, pvalue=0.10443285596458776)\n",
            "Ttest_indResult(statistic=-2.559540254853317, pvalue=0.010550250694229046)\n",
            "Ttest_indResult(statistic=-0.851793126290792, pvalue=0.3944212121535955)\n",
            "Ttest_indResult(statistic=0.014473352887334019, pvalue=0.9884536957336474)\n"
          ],
          "name": "stdout"
        }
      ]
    },
    {
      "metadata": {
        "id": "hwCSda5R2etq",
        "colab_type": "text"
      },
      "cell_type": "markdown",
      "source": [
        "#Final Data Set"
      ]
    },
    {
      "metadata": {
        "id": "pmh_91pv1v9E",
        "colab_type": "code",
        "colab": {}
      },
      "cell_type": "code",
      "source": [
        "PATH = 'https://raw.githubusercontent.com/Thinkful-Ed/data-201-resources/master/1.4.11_experimentation_guided_example/experiment_data_final.csv'\n",
        "experiment_data = pd.read_csv(PATH)"
      ],
      "execution_count": 0,
      "outputs": []
    },
    {
      "metadata": {
        "id": "BPmhtMO421-2",
        "colab_type": "text"
      },
      "cell_type": "markdown",
      "source": [
        "##How large is each group?"
      ]
    },
    {
      "metadata": {
        "id": "Fvnq0-0F2h6m",
        "colab_type": "code",
        "colab": {
          "base_uri": "https://localhost:8080/",
          "height": 85
        },
        "outputId": "f43b8cd8-c698-4183-abea-306961cf464e"
      },
      "cell_type": "code",
      "source": [
        "print('test sample size:', len(experiment_data[experiment_data.test == 1]))\n",
        "print('control sample size:', len(experiment_data[experiment_data.test == 0]))\n",
        "print('test proportion:', experiment_data.test.mean())\n",
        "print()"
      ],
      "execution_count": 13,
      "outputs": [
        {
          "output_type": "stream",
          "text": [
            "test sample size: 19861\n",
            "control sample size: 46867\n",
            "test proportion: 0.2976411701234864\n",
            "\n"
          ],
          "name": "stdout"
        }
      ]
    },
    {
      "metadata": {
        "id": "A_zj8r2O2xHh",
        "colab_type": "text"
      },
      "cell_type": "markdown",
      "source": [
        "##What is the signup rate of test and control?"
      ]
    },
    {
      "metadata": {
        "id": "LEurMyYN2n3S",
        "colab_type": "code",
        "colab": {
          "base_uri": "https://localhost:8080/",
          "height": 51
        },
        "outputId": "19548f4e-ad24-4e0e-897a-be22f7475efe"
      },
      "cell_type": "code",
      "source": [
        "print('test signup rate:', experiment_data[experiment_data.test == 1].is_signed_up.mean())\n",
        "print('control signup rate:', experiment_data[experiment_data.test == 0].is_signed_up.mean())"
      ],
      "execution_count": 14,
      "outputs": [
        {
          "output_type": "stream",
          "text": [
            "test signup rate: 0.2421328231206888\n",
            "control signup rate: 0.19937269293959503\n"
          ],
          "name": "stdout"
        }
      ]
    },
    {
      "metadata": {
        "id": "OEIH3LX_2rA_",
        "colab_type": "text"
      },
      "cell_type": "markdown",
      "source": [
        "##Is the experiment already significant?"
      ]
    },
    {
      "metadata": {
        "id": "t7dwmgq-2qWz",
        "colab_type": "code",
        "colab": {
          "base_uri": "https://localhost:8080/",
          "height": 34
        },
        "outputId": "68a2cd06-3564-45aa-9514-cd4c59e8935c"
      },
      "cell_type": "code",
      "source": [
        "stats.ttest_ind(\n",
        "    experiment_data[experiment_data.test == 1].is_signed_up,\n",
        "    experiment_data[experiment_data.test == 0].is_signed_up)"
      ],
      "execution_count": 15,
      "outputs": [
        {
          "output_type": "execute_result",
          "data": {
            "text/plain": [
              "Ttest_indResult(statistic=12.368130184147793, pvalue=4.248167714911685e-35)"
            ]
          },
          "metadata": {
            "tags": []
          },
          "execution_count": 15
        }
      ]
    },
    {
      "metadata": {
        "id": "zlCNxfk82vXs",
        "colab_type": "code",
        "colab": {
          "base_uri": "https://localhost:8080/",
          "height": 284
        },
        "outputId": "03cce0ef-c2b3-46c3-af88-39a91c52922a"
      },
      "cell_type": "code",
      "source": [
        "fig = experiment_data[experiment_data.test==1][\n",
        "    ['treatment_date', 'is_signed_up']].groupby('treatment_date').mean().plot()\n",
        "experiment_data[experiment_data.test==0][\n",
        "    ['treatment_date', 'is_signed_up']].groupby('treatment_date').mean().plot(ax=fig)\n",
        "plt.legend(['test','control'])\n",
        "plt.title('Comparing Signup Rates by Treatment Date')\n",
        "plt.show()"
      ],
      "execution_count": 16,
      "outputs": [
        {
          "output_type": "display_data",
          "data": {
            "image/png": "[encoded data removed]",
            "text/plain": [
              "<matplotlib.figure.Figure at 0x7fd0c5d7afd0>"
            ]
          },
          "metadata": {
            "tags": []
          }
        }
      ]
    },
    {
      "metadata": {
        "id": "ZyJZHI903FOI",
        "colab_type": "code",
        "colab": {
          "base_uri": "https://localhost:8080/",
          "height": 510
        },
        "outputId": "eb4ae7eb-8ce7-4215-ee01-21f060292b42"
      },
      "cell_type": "code",
      "source": [
        "print('T-Test Results by Date')\n",
        "\n",
        "for date in experiment_data.treatment_date.unique():\n",
        "    dated_data = experiment_data[experiment_data.treatment_date == date]\n",
        "    print(stats.ttest_ind(dated_data[dated_data.test == 1].is_signed_up,\n",
        "                          dated_data[dated_data.test == 0].is_signed_up))"
      ],
      "execution_count": 17,
      "outputs": [
        {
          "output_type": "stream",
          "text": [
            "T-Test Results by Date\n",
            "Ttest_indResult(statistic=2.109324797220635, pvalue=0.03503362670270496)\n",
            "Ttest_indResult(statistic=0.6192500966292611, pvalue=0.5358074588708265)\n",
            "Ttest_indResult(statistic=0.5679550900332947, pvalue=0.5701279663761336)\n",
            "Ttest_indResult(statistic=1.6188051066317655, pvalue=0.1055969402778888)\n",
            "Ttest_indResult(statistic=2.8685447266859416, pvalue=0.004164832495654052)\n",
            "Ttest_indResult(statistic=0.96535203316303, pvalue=0.33447754270147856)\n",
            "Ttest_indResult(statistic=1.0646969669150483, pvalue=0.2870993136921545)\n",
            "Ttest_indResult(statistic=0.10372657556539404, pvalue=0.9173962881267106)\n",
            "Ttest_indResult(statistic=0.7109875532022712, pvalue=0.4771475732556426)\n",
            "Ttest_indResult(statistic=1.234910031428132, pvalue=0.2169634842483128)\n",
            "Ttest_indResult(statistic=1.7524585316828551, pvalue=0.07982714269646307)\n",
            "Ttest_indResult(statistic=1.0772576129054874, pvalue=0.2814883969553773)\n",
            "Ttest_indResult(statistic=1.9956610823589083, pvalue=0.046093372990527584)\n",
            "Ttest_indResult(statistic=2.190576987375158, pvalue=0.028590610558376178)\n",
            "Ttest_indResult(statistic=4.393044711102426, pvalue=1.156734925553791e-05)\n",
            "Ttest_indResult(statistic=4.4162962926027145, pvalue=1.0543319805092028e-05)\n",
            "Ttest_indResult(statistic=1.977119394030535, pvalue=0.048157504294823086)\n",
            "Ttest_indResult(statistic=3.693842588551102, pvalue=0.00022676346095040181)\n",
            "Ttest_indResult(statistic=2.028682833245348, pvalue=0.04261530840757032)\n",
            "Ttest_indResult(statistic=-0.34609310024739104, pvalue=0.7293110673074681)\n",
            "Ttest_indResult(statistic=2.670369799091768, pvalue=0.007635012863280303)\n",
            "Ttest_indResult(statistic=1.6737322676115967, pvalue=0.09430979343263889)\n",
            "Ttest_indResult(statistic=3.6535345391726826, pvalue=0.0002634281510955596)\n",
            "Ttest_indResult(statistic=4.066367671944011, pvalue=4.9090515562443485e-05)\n",
            "Ttest_indResult(statistic=2.4960654750055133, pvalue=0.012634238036145455)\n",
            "Ttest_indResult(statistic=1.5407844566379676, pvalue=0.12347524929388762)\n",
            "Ttest_indResult(statistic=2.4473664529397383, pvalue=0.014463489011552835)\n",
            "Ttest_indResult(statistic=2.7878099232811353, pvalue=0.005350553422600293)\n"
          ],
          "name": "stdout"
        }
      ]
    },
    {
      "metadata": {
        "id": "3RLMTCj83K_v",
        "colab_type": "code",
        "colab": {}
      },
      "cell_type": "code",
      "source": [
        ""
      ],
      "execution_count": 0,
      "outputs": []
    }
  ]
}