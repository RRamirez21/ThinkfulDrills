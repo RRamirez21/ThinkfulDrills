{
  "nbformat": 4,
  "nbformat_minor": 0,
  "metadata": {
    "colab": {
      "name": "KNN_Classifier.ipynb",
      "version": "0.3.2",
      "provenance": [],
      "collapsed_sections": []
    },
    "kernelspec": {
      "name": "python3",
      "display_name": "Python 3"
    }
  },
  "cells": [
    {
      "metadata": {
        "id": "FzJOCRo6r4UF",
        "colab_type": "text"
      },
      "cell_type": "markdown",
      "source": [
        "# Challenge: Implement the Nearest Neighbor algorithm\n",
        "The Nearest Neighbor algorithm is extremely simple. So simple, in fact, that you should be able to build it yourself from scratch using the Python you already know. Code a Nearest Neighbors algorithm that works for two dimensional data. You can use either arrays or dataframes to do this. Test it against the SKLearn package on the music dataset from above to ensure that it's correct. The goal here is to confirm your understanding of the model and continue to practice your Python skills. We're just expecting a brute force method here. After doing this, look up \"ball tree\" methods to see a more performant algorithm design."
      ]
    },
    {
      "metadata": {
        "id": "tNxB4kw8oH7p",
        "colab_type": "code",
        "colab": {}
      },
      "cell_type": "code",
      "source": [
        "import numpy as np\n",
        "import pandas as pd\n",
        "import matplotlib.pyplot as plt\n",
        "import scipy\n",
        "%matplotlib inline"
      ],
      "execution_count": 0,
      "outputs": []
    },
    {
      "metadata": {
        "id": "uww8JUXTsfjC",
        "colab_type": "code",
        "colab": {}
      },
      "cell_type": "code",
      "source": [
        "music = pd.DataFrame()\n",
        "\n",
        "# Some data to play with.\n",
        "music['duration'] = [184, 134, 243, 186, 122, 197, 294, 382, 102, 264, \n",
        "                     205, 110, 307, 110, 397, 153, 190, 192, 210, 403,\n",
        "                     164, 198, 204, 253, 234, 190, 182, 401, 376, 102]\n",
        "music['loudness'] = [18, 34, 43, 36, 22, 9, 29, 22, 10, 24, \n",
        "                     20, 10, 17, 51, 7, 13, 19, 12, 21, 22,\n",
        "                     16, 18, 4, 23, 34, 19, 14, 11, 37, 42]\n",
        "\n",
        "# We know whether the songs in our training data are jazz or not.\n",
        "music['jazz'] = [ 1, 0, 0, 0, 1, 1, 0, 1, 1, 0,\n",
        "                  0, 1, 1, 0, 1, 1, 0, 1, 1, 1,\n",
        "                  1, 1, 1, 1, 0, 0, 1, 1, 0, 0]"
      ],
      "execution_count": 0,
      "outputs": []
    },
    {
      "metadata": {
        "id": "WBel3k-ssiQT",
        "colab_type": "code",
        "colab": {}
      },
      "cell_type": "code",
      "source": [
        "def nearest_neighbor(a, b):\n",
        "  closest_distance = 1000\n",
        "  index_closest_distance = []\n",
        "  \n",
        "  for index, row in music.iterrows():\n",
        "    duration = row['duration']\n",
        "    loudness = row['loudness']\n",
        "    \n",
        "    distance = np.sqrt((a-duration)**2 + (b-loudness)**2)\n",
        "    \n",
        "    if distance < closest_distance:\n",
        "      closest_distance = distance\n",
        "      index_closest_distance = index\n",
        "\n",
        "  return music.iloc[index_closest_distance]['jazz']\n",
        "      "
      ],
      "execution_count": 0,
      "outputs": []
    },
    {
      "metadata": {
        "id": "dj5P0Ew7uXRB",
        "colab_type": "code",
        "colab": {
          "base_uri": "https://localhost:8080/",
          "height": 34
        },
        "outputId": "a60aaab9-7059-41f3-d472-7dfa7be072cc"
      },
      "cell_type": "code",
      "source": [
        "print('The scratch nearest neighbor algorithm predicts:', nearest_neighbor(24,190))"
      ],
      "execution_count": 11,
      "outputs": [
        {
          "output_type": "stream",
          "text": [
            "The scratch nearest neighbor algorithm predicts: 0\n"
          ],
          "name": "stdout"
        }
      ]
    },
    {
      "metadata": {
        "id": "6a0B1evxvfjH",
        "colab_type": "code",
        "colab": {
          "base_uri": "https://localhost:8080/",
          "height": 34
        },
        "outputId": "dd16190f-b154-46a3-d555-af0e09304e95"
      },
      "cell_type": "code",
      "source": [
        "from sklearn.neighbors import KNeighborsClassifier\n",
        "neighbors = KNeighborsClassifier(n_neighbors=1)\n",
        "X = music[['loudness', 'duration']]\n",
        "Y = music.jazz\n",
        "neighbors.fit(X,Y)\n",
        "\n",
        "## Predict for a song with 24 loudness that's 190 seconds long.\n",
        "print('KNN predicts:', neighbors.predict([[24, 190]]))"
      ],
      "execution_count": 13,
      "outputs": [
        {
          "output_type": "stream",
          "text": [
            "KNN predicts: [0]\n"
          ],
          "name": "stdout"
        }
      ]
    }
  ]
}
