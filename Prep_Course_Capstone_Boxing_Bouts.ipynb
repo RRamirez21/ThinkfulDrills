{
  "nbformat": 4,
  "nbformat_minor": 0,
  "metadata": {
    "colab": {
      "name": "Prep Course Capstone - Boxing Bouts.ipynb",
      "version": "0.3.2",
      "provenance": [],
      "collapsed_sections": []
    },
    "kernelspec": {
      "name": "python3",
      "display_name": "Python 3"
    }
  },
  "cells": [
    {
      "metadata": {
        "id": "ol4mwpyLhJbw",
        "colab_type": "text"
      },
      "cell_type": "markdown",
      "source": [
        "# Thinkful Data Science Unit 1: Capstone\n",
        "## Comparing Results of Boxing Bouts According to Physical Attributes\n",
        "-----------------\n",
        "### Author: Randy Ramirez\n",
        "\n",
        "**Email: ramirez6017@sbcglobal.net**"
      ]
    },
    {
      "metadata": {
        "id": "q65pHLC2DyeU",
        "colab_type": "text"
      },
      "cell_type": "markdown",
      "source": [
        "![Alternate Text](https://www.sport.cam.ac.uk/sites/www.sport.cam.ac.uk/files/styles/leading/public/images/sports_teams/boxing/boxing_2.jpg?itok=w7LktZOG)"
      ]
    },
    {
      "metadata": {
        "id": "UWHXriIutZBA",
        "colab_type": "text"
      },
      "cell_type": "markdown",
      "source": [
        "This dataset shows the physical attributes of two competing boxers (A and B; respectively) over the course of 387,427 bouts.  Along with the results of each bout, the dataset includes the age, height, weight, reach, stance, and pre-match boxing record of each boxer A and B.  The post-match results are either Win A, Win B, or Draw. These are further categorized into several decisions, along with the points awarded by each of the three judges.\n",
        "\n",
        "\n",
        "In this analysis, we will explore the relationship between the variables, such as comparison of age, height, weight, reach and stance, and also determine what characteristics are more likely to lead to a Win.\n",
        "\n",
        "\n",
        "*Data Source:* scraped from [BoxRec](https://en.wikipedia.org/wiki/BoxRec) by a Kaggle user who has taken down the previously shared data \n",
        "\n",
        "\n",
        "\n",
        "> *\"When asked how important BoxRec was to him, boxing promoter Lou DiBella stated that \"anyone in boxing who says he doesn't use BoxRec is either a complete imbecile or lying\" and Bruce Trampler, the matchmaker for Top Rank, said that \"short of actually being at a fight, they're the best source of information out there.\"[3]\"*\n",
        "\n",
        "In 2016, the Association of Boxing Commissions (ABC) voted to recognize Boxrec as an official record keeper alongside Fight Fax.[5]\n"
      ]
    },
    {
      "metadata": {
        "id": "OpscQJcG6hvo",
        "colab_type": "text"
      },
      "cell_type": "markdown",
      "source": [
        "# Contents\n",
        "\n",
        "- [Import Modules and Load Data](#Import-Modules-and-Load-Data)\n",
        "\n",
        "- [What Does the Data Look Like?](#What-Does-the-Data-Look-Like?)\n",
        "\n",
        "- [Organizing the Data](#Organizing-the-Data)\n",
        "    - [Creating a new dataframe](#Creating-a-new-dataframe)\n",
        "    - [Filter features of winning boxers](#Filter-features-of-winning-boxers)\n",
        "    - [Filter features of losing boxers](#Filter-features-of-losing-boxers)\n",
        "\n",
        "- [Clean the Data](#Clean-the-Data)\n",
        "    - [A note about reach](#A-note-about-reach)\n",
        "\n",
        "- [Exploratory Data Analysis](#Exploratory-Data-Analysis)\n",
        "    - [What are the average boxers' characteristics?](#What-are-the-average-boxers'-characteristics?) \n",
        "    - [How do these characteristics compare between winners and losers?](#How-do-these-characteristics-compare-between-winners-and-losers?) \n",
        "\n",
        "- [T-tests](#T-tests)\n",
        "    - [Preparing samples of winning and losing boxers](#Preparing-samples-of-winning-and-losing-boxers)\n",
        "    - [Are the differences between winners and losers statistically significant?](#Are-the-differences-between-winners-and-losers-statistically-significant?)\n",
        "\n",
        "- [Additional Research Proposal](#Additional-/-Research-/-Proposal)"
      ]
    },
    {
      "metadata": {
        "id": "2sEbXj5qz4oZ",
        "colab_type": "text"
      },
      "cell_type": "markdown",
      "source": [
        "--------------------\n",
        "# Import Modules and Load Data"
      ]
    },
    {
      "metadata": {
        "id": "I6ugrkrIz9g4",
        "colab_type": "code",
        "colab": {}
      },
      "cell_type": "code",
      "source": [
        "import pandas as pd\n",
        "import numpy as np\n",
        "import matplotlib.pyplot as plt\n",
        "import seaborn as sns"
      ],
      "execution_count": 0,
      "outputs": []
    },
    {
      "metadata": {
        "id": "S6TI2upj-mIx",
        "colab_type": "text"
      },
      "cell_type": "markdown",
      "source": [
        "We rename the two knockout columns to explicitly indicate their meaning."
      ]
    },
    {
      "metadata": {
        "id": "YilmLOAx86Dq",
        "colab_type": "code",
        "colab": {}
      },
      "cell_type": "code",
      "source": [
        "boxing = pd.read_csv(\"https://raw.githubusercontent.com/andandandand/CSV-datasets/master/bouts_out_new.csv\")\n",
        "boxing.rename(columns = {'kos_A': 'knockouts_A',\n",
        "                            'kos_B':'knockouts_B'}, inplace=True)"
      ],
      "execution_count": 0,
      "outputs": []
    },
    {
      "metadata": {
        "id": "l7NTCk_q60CN",
        "colab_type": "text"
      },
      "cell_type": "markdown",
      "source": [
        "----------------\n",
        "# What Does the Data Look Like?"
      ]
    },
    {
      "metadata": {
        "id": "KLeTey1NBy9q",
        "colab_type": "text"
      },
      "cell_type": "markdown",
      "source": [
        "Here we list all of the columns and confirm that the change above has been made."
      ]
    },
    {
      "metadata": {
        "id": "OyVKqtM3_K_W",
        "colab_type": "code",
        "colab": {
          "base_uri": "https://localhost:8080/",
          "height": 119
        },
        "outputId": "23b7cca8-5dc1-4cfd-99c1-9f9ec796db1f"
      },
      "cell_type": "code",
      "source": [
        "boxing.columns"
      ],
      "execution_count": 51,
      "outputs": [
        {
          "output_type": "execute_result",
          "data": {
            "text/plain": [
              "Index(['age_A', 'age_B', 'height_A', 'height_B', 'reach_A', 'reach_B',\n",
              "       'stance_A', 'stance_B', 'weight_A', 'weight_B', 'won_A', 'won_B',\n",
              "       'lost_A', 'lost_B', 'drawn_A', 'drawn_B', 'knockouts_A', 'knockouts_B',\n",
              "       'result', 'decision', 'judge1_A', 'judge1_B', 'judge2_A', 'judge2_B',\n",
              "       'judge3_A', 'judge3_B'],\n",
              "      dtype='object')"
            ]
          },
          "metadata": {
            "tags": []
          },
          "execution_count": 51
        }
      ]
    },
    {
      "metadata": {
        "id": "WO7ZmpAgDKhA",
        "colab_type": "text"
      },
      "cell_type": "markdown",
      "source": [
        "The data has 387,427 rows and 26 columns."
      ]
    },
    {
      "metadata": {
        "id": "iUOnFUCHC6-G",
        "colab_type": "code",
        "colab": {
          "base_uri": "https://localhost:8080/",
          "height": 34
        },
        "outputId": "4fe0b94a-6299-4503-828a-36b69571b95f"
      },
      "cell_type": "code",
      "source": [
        "boxing.shape"
      ],
      "execution_count": 52,
      "outputs": [
        {
          "output_type": "execute_result",
          "data": {
            "text/plain": [
              "(387427, 26)"
            ]
          },
          "metadata": {
            "tags": []
          },
          "execution_count": 52
        }
      ]
    },
    {
      "metadata": {
        "id": "hWfiC2N-ElO3",
        "colab_type": "text"
      },
      "cell_type": "markdown",
      "source": [
        "Here we see the acronyms for the various types of boxing decisions in our dataset: Split Decision (SD), Unanimous Decision (UD), Knockout (KO), Technical Knockout (TKO), Majority Decision (MD), Corner Retirement (RTD), Technical Decision (TD), Points Decision (PTS), Disqualification (DQ), and Newspaper Decision (NWS). It is important to note NWS is an antiquated method for scoring boxing matches in which a consensus of sportswriters would make a ruling on the results of the bout. However, both boxers' official record would show a Draw."
      ]
    },
    {
      "metadata": {
        "id": "4-GXcSVVDAmY",
        "colab_type": "code",
        "colab": {
          "base_uri": "https://localhost:8080/",
          "height": 51
        },
        "outputId": "c49a0835-0332-47c7-f1eb-33446334ed16"
      },
      "cell_type": "code",
      "source": [
        "boxing.decision.unique()"
      ],
      "execution_count": 53,
      "outputs": [
        {
          "output_type": "execute_result",
          "data": {
            "text/plain": [
              "array(['SD', 'UD', 'KO', 'TKO', 'MD', 'RTD', 'TD', 'PTS', 'DQ', 'NWS'],\n",
              "      dtype=object)"
            ]
          },
          "metadata": {
            "tags": []
          },
          "execution_count": 53
        }
      ]
    },
    {
      "metadata": {
        "id": "I4kw9tY5LONz",
        "colab_type": "text"
      },
      "cell_type": "markdown",
      "source": [
        "We want a count of all the values that are missing (NaN)."
      ]
    },
    {
      "metadata": {
        "id": "lcKb0KkILGLY",
        "colab_type": "code",
        "colab": {
          "base_uri": "https://localhost:8080/",
          "height": 476
        },
        "outputId": "cc73c5a6-9835-4449-8cc2-2a5f687954ba"
      },
      "cell_type": "code",
      "source": [
        "boxing.isnull().sum(axis = 0)"
      ],
      "execution_count": 54,
      "outputs": [
        {
          "output_type": "execute_result",
          "data": {
            "text/plain": [
              "age_A           34539\n",
              "age_B          129492\n",
              "height_A       138181\n",
              "height_B       252787\n",
              "reach_A        275085\n",
              "reach_B        349554\n",
              "stance_A       156418\n",
              "stance_B       156418\n",
              "weight_A       251854\n",
              "weight_B       257069\n",
              "won_A               0\n",
              "won_B               0\n",
              "lost_A              0\n",
              "lost_B              0\n",
              "drawn_A             0\n",
              "drawn_B             0\n",
              "knockouts_A         0\n",
              "knockouts_B        79\n",
              "result              0\n",
              "decision            0\n",
              "judge1_A       335179\n",
              "judge1_B       335367\n",
              "judge2_A       317056\n",
              "judge2_B       317395\n",
              "judge3_A       326196\n",
              "judge3_B       326404\n",
              "dtype: int64"
            ]
          },
          "metadata": {
            "tags": []
          },
          "execution_count": 54
        }
      ]
    },
    {
      "metadata": {
        "id": "1OZA2hJRfqNe",
        "colab_type": "text"
      },
      "cell_type": "markdown",
      "source": [
        "#Organizing the Data"
      ]
    },
    {
      "metadata": {
        "id": "qOnAMw6LMfM1",
        "colab_type": "text"
      },
      "cell_type": "markdown",
      "source": [
        "### Creating a new dataframe\n",
        "\n",
        "In order to sort by Wins, Losses and Draws, we create a new dataframe and consolidate the two boxing groups."
      ]
    },
    {
      "metadata": {
        "id": "vprdhR3J-OP-",
        "colab_type": "code",
        "colab": {}
      },
      "cell_type": "code",
      "source": [
        "newBoxingDf = pd.DataFrame({\"age\": [], \"height\": [], \"reach\": [], \"result\":[],  \"stance\": [], \"weight\": []})"
      ],
      "execution_count": 0,
      "outputs": []
    },
    {
      "metadata": {
        "id": "S0p65wNW57Ps",
        "colab_type": "text"
      },
      "cell_type": "markdown",
      "source": [
        "### Filter features of winning boxers"
      ]
    },
    {
      "metadata": {
        "id": "sA5OvY_c22rg",
        "colab_type": "code",
        "colab": {}
      },
      "cell_type": "code",
      "source": [
        "ageColumn = []\n",
        "heightColumn = []\n",
        "reachColumn = []\n",
        "resultColumn = []\n",
        "stanceColumn = []\n",
        "weightColumn = []\n",
        "\n",
        "for index, row in boxing.iterrows():  \n",
        "  \n",
        "  if row['result'] == 'win_A':\n",
        "    ageColumn.append(row['age_A'])\n",
        "    heightColumn.append(row['height_A'])\n",
        "    weightColumn.append(row['weight_A'])\n",
        "    resultColumn.append('won')\n",
        "    reachColumn.append(row['reach_A'])\n",
        "    stanceColumn.append(row['stance_A'])\n",
        "  elif row['result'] == 'win_B':\n",
        "    ageColumn.append(row['age_B'])\n",
        "    heightColumn.append(row['height_B'])\n",
        "    reachColumn.append(row['reach_B'])\n",
        "    stanceColumn.append(row['stance_B'])\n",
        "    weightColumn.append(row['weight_B'])\n",
        "    resultColumn.append('won')"
      ],
      "execution_count": 0,
      "outputs": []
    },
    {
      "metadata": {
        "id": "lO1pbPJ56EVC",
        "colab_type": "text"
      },
      "cell_type": "markdown",
      "source": [
        "### Filter features of losing boxers"
      ]
    },
    {
      "metadata": {
        "id": "CwLjIacd9YOH",
        "colab_type": "code",
        "colab": {}
      },
      "cell_type": "code",
      "source": [
        "for index, row in boxing.iterrows():  \n",
        "  \n",
        "  if row['result'] == 'win_B':\n",
        "    ageColumn.append(row['age_A'])\n",
        "    heightColumn.append(row['height_A'])\n",
        "    reachColumn.append(row['reach_A'])\n",
        "    resultColumn.append('lost')\n",
        "    stanceColumn.append(row['stance_A'])\n",
        "    weightColumn.append(row['weight_A'])\n",
        "  elif row['result'] == 'win_A':\n",
        "    ageColumn.append(row['age_B'])\n",
        "    heightColumn.append(row['height_B'])\n",
        "    reachColumn.append(row['reach_B'])\n",
        "    resultColumn.append('lost')\n",
        "    stanceColumn.append(row['stance_B'])\n",
        "    weightColumn.append(row['weight_B'])\n",
        "  elif row['result'] == 'draw':\n",
        "    ageColumn.append(row['age_A'])\n",
        "    ageColumn.append(row['age_B'])\n",
        "    heightColumn.append(row['height_A'])\n",
        "    heightColumn.append(row['height_B'])\n",
        "    reachColumn.append(row['reach_A'])\n",
        "    reachColumn.append(row['reach_B'])\n",
        "    resultColumn.append('draw')\n",
        "    resultColumn.append('draw')\n",
        "    stanceColumn.append(row['stance_A'])\n",
        "    stanceColumn.append(row['stance_B'])\n",
        "    weightColumn.append(row['weight_A'])\n",
        "    weightColumn.append(row['weight_B'])"
      ],
      "execution_count": 0,
      "outputs": []
    },
    {
      "metadata": {
        "id": "iK5KZ0vKLFZJ",
        "colab_type": "code",
        "colab": {
          "base_uri": "https://localhost:8080/",
          "height": 297
        },
        "outputId": "6168ae5c-f481-427a-c98f-9c1b6ca40678"
      },
      "cell_type": "code",
      "source": [
        "newBoxingDf = pd.DataFrame({\"age\": ageColumn, \"height\": heightColumn, \"reach\": reachColumn, \"result\": resultColumn,  \"stance\": stanceColumn, \"weight\": weightColumn})\n",
        "\n",
        "newBoxingDf.describe()"
      ],
      "execution_count": 58,
      "outputs": [
        {
          "output_type": "execute_result",
          "data": {
            "text/html": [
              "<div>\n",
              "<style scoped>\n",
              "    .dataframe tbody tr th:only-of-type {\n",
              "        vertical-align: middle;\n",
              "    }\n",
              "\n",
              "    .dataframe tbody tr th {\n",
              "        vertical-align: top;\n",
              "    }\n",
              "\n",
              "    .dataframe thead th {\n",
              "        text-align: right;\n",
              "    }\n",
              "</style>\n",
              "<table border=\"1\" class=\"dataframe\">\n",
              "  <thead>\n",
              "    <tr style=\"text-align: right;\">\n",
              "      <th></th>\n",
              "      <th>age</th>\n",
              "      <th>height</th>\n",
              "      <th>reach</th>\n",
              "      <th>weight</th>\n",
              "    </tr>\n",
              "  </thead>\n",
              "  <tbody>\n",
              "    <tr>\n",
              "      <th>count</th>\n",
              "      <td>610823.000000</td>\n",
              "      <td>383886.000000</td>\n",
              "      <td>150215.000000</td>\n",
              "      <td>265931.000000</td>\n",
              "    </tr>\n",
              "    <tr>\n",
              "      <th>mean</th>\n",
              "      <td>25.331238</td>\n",
              "      <td>172.820327</td>\n",
              "      <td>178.887035</td>\n",
              "      <td>146.707717</td>\n",
              "    </tr>\n",
              "    <tr>\n",
              "      <th>std</th>\n",
              "      <td>9.206592</td>\n",
              "      <td>9.236737</td>\n",
              "      <td>12.785571</td>\n",
              "      <td>30.431597</td>\n",
              "    </tr>\n",
              "    <tr>\n",
              "      <th>min</th>\n",
              "      <td>-74.000000</td>\n",
              "      <td>2.000000</td>\n",
              "      <td>1.000000</td>\n",
              "      <td>2.000000</td>\n",
              "    </tr>\n",
              "    <tr>\n",
              "      <th>25%</th>\n",
              "      <td>22.000000</td>\n",
              "      <td>166.000000</td>\n",
              "      <td>170.000000</td>\n",
              "      <td>126.000000</td>\n",
              "    </tr>\n",
              "    <tr>\n",
              "      <th>50%</th>\n",
              "      <td>25.000000</td>\n",
              "      <td>173.000000</td>\n",
              "      <td>178.000000</td>\n",
              "      <td>140.000000</td>\n",
              "    </tr>\n",
              "    <tr>\n",
              "      <th>75%</th>\n",
              "      <td>28.000000</td>\n",
              "      <td>178.000000</td>\n",
              "      <td>185.000000</td>\n",
              "      <td>160.000000</td>\n",
              "    </tr>\n",
              "    <tr>\n",
              "      <th>max</th>\n",
              "      <td>2016.000000</td>\n",
              "      <td>255.000000</td>\n",
              "      <td>456.000000</td>\n",
              "      <td>450.000000</td>\n",
              "    </tr>\n",
              "  </tbody>\n",
              "</table>\n",
              "</div>"
            ],
            "text/plain": [
              "                 age         height          reach         weight\n",
              "count  610823.000000  383886.000000  150215.000000  265931.000000\n",
              "mean       25.331238     172.820327     178.887035     146.707717\n",
              "std         9.206592       9.236737      12.785571      30.431597\n",
              "min       -74.000000       2.000000       1.000000       2.000000\n",
              "25%        22.000000     166.000000     170.000000     126.000000\n",
              "50%        25.000000     173.000000     178.000000     140.000000\n",
              "75%        28.000000     178.000000     185.000000     160.000000\n",
              "max      2016.000000     255.000000     456.000000     450.000000"
            ]
          },
          "metadata": {
            "tags": []
          },
          "execution_count": 58
        }
      ]
    },
    {
      "metadata": {
        "id": "0ZftGEMe68T2",
        "colab_type": "text"
      },
      "cell_type": "markdown",
      "source": [
        "------------------------\n",
        "# Clean the Data"
      ]
    },
    {
      "metadata": {
        "id": "qcSOpHs21DA4",
        "colab_type": "text"
      },
      "cell_type": "markdown",
      "source": [
        "First, we remove any missing (NaN) age values. Then we remove any rows with age values below 16 and beyond three standard deviations. Additionally, because reach is closely related to height, we remove reach values that are below the min and above the max of height. Finally, we see a snapshot of the dataframe, once we have finished importing and cleaning the data."
      ]
    },
    {
      "metadata": {
        "id": "yrZE4TYyXV0f",
        "colab_type": "code",
        "colab": {}
      },
      "cell_type": "code",
      "source": [
        "newBoxingDf.dropna(inplace=True)"
      ],
      "execution_count": 0,
      "outputs": []
    },
    {
      "metadata": {
        "id": "CAKh3QZ5x57c",
        "colab_type": "code",
        "colab": {}
      },
      "cell_type": "code",
      "source": [
        "newBoxingDf = newBoxingDf.drop(newBoxingDf[(newBoxingDf.age < 16)].index)"
      ],
      "execution_count": 0,
      "outputs": []
    },
    {
      "metadata": {
        "id": "fVBAbXQVz65U",
        "colab_type": "text"
      },
      "cell_type": "markdown",
      "source": [
        "### A note about reach\n",
        "\n",
        "\"Normally, the average reach of a person usually correlates with his or her height. However, most boxers have an arm span that is significantly longer than their height. The average reach of a boxer is usually 2.5” longer than a normal man his height. This is not to say boxing increases one’s reach. It just happens that longer armed humans have an advantage in boxing and hence tend to become boxers, but this is not absolute.\"\n",
        "\n",
        "[Source](https://howtheyplay.com/individual-sports/15-Boxing-Champions-with-the-Most-Impressive-ReachArm-Span-in-History)"
      ]
    },
    {
      "metadata": {
        "id": "fHOC1z6YjuYZ",
        "colab_type": "code",
        "colab": {}
      },
      "cell_type": "code",
      "source": [
        "newBoxingDf = newBoxingDf.drop(newBoxingDf[(newBoxingDf.reach > 216) | (newBoxingDf.reach < 148)].index)"
      ],
      "execution_count": 0,
      "outputs": []
    },
    {
      "metadata": {
        "id": "NocJB14WrsTB",
        "colab_type": "code",
        "colab": {
          "base_uri": "https://localhost:8080/",
          "height": 297
        },
        "outputId": "8ae020b0-cfa9-455f-ea57-a959e0e2bf9c"
      },
      "cell_type": "code",
      "source": [
        "normalAgeBoxers = newBoxingDf[ np.abs(newBoxingDf.age-newBoxingDf.age.mean()) <= (3*newBoxingDf.age.std())]\n",
        "\n",
        "normalAgeBoxers.describe()\n"
      ],
      "execution_count": 62,
      "outputs": [
        {
          "output_type": "execute_result",
          "data": {
            "text/html": [
              "<div>\n",
              "<style scoped>\n",
              "    .dataframe tbody tr th:only-of-type {\n",
              "        vertical-align: middle;\n",
              "    }\n",
              "\n",
              "    .dataframe tbody tr th {\n",
              "        vertical-align: top;\n",
              "    }\n",
              "\n",
              "    .dataframe thead th {\n",
              "        text-align: right;\n",
              "    }\n",
              "</style>\n",
              "<table border=\"1\" class=\"dataframe\">\n",
              "  <thead>\n",
              "    <tr style=\"text-align: right;\">\n",
              "      <th></th>\n",
              "      <th>age</th>\n",
              "      <th>height</th>\n",
              "      <th>reach</th>\n",
              "      <th>weight</th>\n",
              "    </tr>\n",
              "  </thead>\n",
              "  <tbody>\n",
              "    <tr>\n",
              "      <th>count</th>\n",
              "      <td>57855.000000</td>\n",
              "      <td>57855.000000</td>\n",
              "      <td>57855.000000</td>\n",
              "      <td>57855.000000</td>\n",
              "    </tr>\n",
              "    <tr>\n",
              "      <th>mean</th>\n",
              "      <td>25.861602</td>\n",
              "      <td>174.728995</td>\n",
              "      <td>179.868689</td>\n",
              "      <td>152.612462</td>\n",
              "    </tr>\n",
              "    <tr>\n",
              "      <th>std</th>\n",
              "      <td>5.331726</td>\n",
              "      <td>9.067955</td>\n",
              "      <td>11.289510</td>\n",
              "      <td>34.563242</td>\n",
              "    </tr>\n",
              "    <tr>\n",
              "      <th>min</th>\n",
              "      <td>16.000000</td>\n",
              "      <td>148.000000</td>\n",
              "      <td>150.000000</td>\n",
              "      <td>19.000000</td>\n",
              "    </tr>\n",
              "    <tr>\n",
              "      <th>25%</th>\n",
              "      <td>22.000000</td>\n",
              "      <td>168.000000</td>\n",
              "      <td>173.000000</td>\n",
              "      <td>128.000000</td>\n",
              "    </tr>\n",
              "    <tr>\n",
              "      <th>50%</th>\n",
              "      <td>25.000000</td>\n",
              "      <td>173.000000</td>\n",
              "      <td>178.000000</td>\n",
              "      <td>144.000000</td>\n",
              "    </tr>\n",
              "    <tr>\n",
              "      <th>75%</th>\n",
              "      <td>29.000000</td>\n",
              "      <td>180.000000</td>\n",
              "      <td>187.000000</td>\n",
              "      <td>167.000000</td>\n",
              "    </tr>\n",
              "    <tr>\n",
              "      <th>max</th>\n",
              "      <td>54.000000</td>\n",
              "      <td>213.000000</td>\n",
              "      <td>216.000000</td>\n",
              "      <td>334.000000</td>\n",
              "    </tr>\n",
              "  </tbody>\n",
              "</table>\n",
              "</div>"
            ],
            "text/plain": [
              "                age        height         reach        weight\n",
              "count  57855.000000  57855.000000  57855.000000  57855.000000\n",
              "mean      25.861602    174.728995    179.868689    152.612462\n",
              "std        5.331726      9.067955     11.289510     34.563242\n",
              "min       16.000000    148.000000    150.000000     19.000000\n",
              "25%       22.000000    168.000000    173.000000    128.000000\n",
              "50%       25.000000    173.000000    178.000000    144.000000\n",
              "75%       29.000000    180.000000    187.000000    167.000000\n",
              "max       54.000000    213.000000    216.000000    334.000000"
            ]
          },
          "metadata": {
            "tags": []
          },
          "execution_count": 62
        }
      ]
    },
    {
      "metadata": {
        "id": "V71d-6xO8A4q",
        "colab_type": "text"
      },
      "cell_type": "markdown",
      "source": [
        "------------------\n",
        "# Exploratory Data Analysis"
      ]
    },
    {
      "metadata": {
        "id": "wWOJtaSZddpU",
        "colab_type": "text"
      },
      "cell_type": "markdown",
      "source": [
        "###What are the boxers' distribution of characteristics?\n",
        "\n",
        "Histograms of the characteristics in our dataset indicate that most boxers are between 22-29 years old. Additionally, most of the boxers heights measures between 165-180 centimeters. This is similar to the boxers' reach, which is mostly clustered between 170-190 centimeters. Lastly, we see that the boxers mostly weight between130-170 pounds. However, this could be partially attributed to boxing being divided by weight class."
      ]
    },
    {
      "metadata": {
        "id": "LdDSC2x-0C1G",
        "colab_type": "code",
        "colab": {
          "base_uri": "https://localhost:8080/",
          "height": 378
        },
        "outputId": "90ead9d0-f7b6-45de-80de-0887f3143a32"
      },
      "cell_type": "code",
      "source": [
        "normalAgeBoxers.age.hist(stacked=True, bins=40)\n",
        "plt.xlabel('Ages by Year')\n",
        "plt.ylabel('Count')"
      ],
      "execution_count": 76,
      "outputs": [
        {
          "output_type": "execute_result",
          "data": {
            "text/plain": [
              "Text(0,0.5,'Count')"
            ]
          },
          "metadata": {
            "tags": []
          },
          "execution_count": 76
        },
        {
          "output_type": "display_data",
          "data": {
            "image/png": "[encoded data removed]",
            "text/plain": [
              "<matplotlib.figure.Figure at 0x7fe2e3cddcc0>"
            ]
          },
          "metadata": {
            "tags": []
          }
        }
      ]
    },
    {
      "metadata": {
        "id": "NYiOTlSVS5W-",
        "colab_type": "code",
        "colab": {
          "base_uri": "https://localhost:8080/",
          "height": 378
        },
        "outputId": "0821953e-a5dc-474c-c8bd-4a0503db5157"
      },
      "cell_type": "code",
      "source": [
        "normalAgeBoxers.height.hist(stacked=True, bins=20)\n",
        "plt.xlabel('Height in Centimeters')\n",
        "plt.ylabel('Count')"
      ],
      "execution_count": 75,
      "outputs": [
        {
          "output_type": "execute_result",
          "data": {
            "text/plain": [
              "Text(0,0.5,'Count')"
            ]
          },
          "metadata": {
            "tags": []
          },
          "execution_count": 75
        },
        {
          "output_type": "display_data",
          "data": {
            "image/png": "[encoded data removed]",
            "text/plain": [
              "<matplotlib.figure.Figure at 0x7fe2e40d9160>"
            ]
          },
          "metadata": {
            "tags": []
          }
        }
      ]
    },
    {
      "metadata": {
        "id": "LZ8GHbu7S-KH",
        "colab_type": "code",
        "colab": {
          "base_uri": "https://localhost:8080/",
          "height": 378
        },
        "outputId": "4926e8f9-0750-42ef-ee13-705c258e15b3"
      },
      "cell_type": "code",
      "source": [
        "normalAgeBoxers.reach.hist(stacked=True, bins=20)\n",
        "plt.xlabel('Reach in Centimeters')\n",
        "plt.ylabel('Count')"
      ],
      "execution_count": 79,
      "outputs": [
        {
          "output_type": "execute_result",
          "data": {
            "text/plain": [
              "Text(0,0.5,'Count')"
            ]
          },
          "metadata": {
            "tags": []
          },
          "execution_count": 79
        },
        {
          "output_type": "display_data",
          "data": {
            "image/png": "[encoded data removed]",
            "text/plain": [
              "<matplotlib.figure.Figure at 0x7fe2e38926a0>"
            ]
          },
          "metadata": {
            "tags": []
          }
        }
      ]
    },
    {
      "metadata": {
        "id": "G12Cwq97TJu3",
        "colab_type": "code",
        "colab": {
          "base_uri": "https://localhost:8080/",
          "height": 378
        },
        "outputId": "a6e44df6-a62c-42bd-97c7-56a476501989"
      },
      "cell_type": "code",
      "source": [
        "normalAgeBoxers.weight.hist(stacked=True, bins=20)\n",
        "plt.xlabel('Weight in Pounds')\n",
        "plt.ylabel('Count')"
      ],
      "execution_count": 78,
      "outputs": [
        {
          "output_type": "execute_result",
          "data": {
            "text/plain": [
              "Text(0,0.5,'Count')"
            ]
          },
          "metadata": {
            "tags": []
          },
          "execution_count": 78
        },
        {
          "output_type": "display_data",
          "data": {
            "image/png": "[encoded data removed]",
            "text/plain": [
              "<matplotlib.figure.Figure at 0x7fe2e38f8a20>"
            ]
          },
          "metadata": {
            "tags": []
          }
        }
      ]
    },
    {
      "metadata": {
        "id": "M_OP_6XzgdSu",
        "colab_type": "text"
      },
      "cell_type": "markdown",
      "source": [
        "###How do these characteristics compare between winners and losers?\n",
        "\n",
        "A violinplot of the characteristics for boxers in each result shows hints of the importance of height and reach advantage, with the reverse true for age and weight advantage. It appears that fighters who are lighter, taller, longer, and younger than their opponents are more likely to win. Comparing the internal box plots, we can also see the largest discrepancy between the measure of central tendency for winners and losers is in the age characteristic."
      ]
    },
    {
      "metadata": {
        "id": "zwW3I7b3tT9Y",
        "colab_type": "code",
        "colab": {
          "base_uri": "https://localhost:8080/",
          "height": 454
        },
        "outputId": "a4513fcc-e4af-464f-c815-946015c7ada2"
      },
      "cell_type": "code",
      "source": [
        "ax = sns.violinplot(x=\"result\", y=\"weight\", data=normalAgeBoxers, scale=\"count\")"
      ],
      "execution_count": 19,
      "outputs": [
        {
          "output_type": "stream",
          "text": [
            "/usr/local/lib/python3.6/dist-packages/seaborn/categorical.py:588: FutureWarning: remove_na is deprecated and is a private function. Do not use.\n",
            "  kde_data = remove_na(group_data)\n",
            "/usr/local/lib/python3.6/dist-packages/seaborn/categorical.py:816: FutureWarning: remove_na is deprecated and is a private function. Do not use.\n",
            "  violin_data = remove_na(group_data)\n"
          ],
          "name": "stderr"
        },
        {
          "output_type": "display_data",
          "data": {
            "image/png": "[encoded data removed]",
            "text/plain": [
              "<matplotlib.figure.Figure at 0x7fe2e42dd0b8>"
            ]
          },
          "metadata": {
            "tags": []
          }
        }
      ]
    },
    {
      "metadata": {
        "id": "O577IgSeyXc4",
        "colab_type": "code",
        "colab": {
          "base_uri": "https://localhost:8080/",
          "height": 454
        },
        "outputId": "d246b926-5d7a-481e-b91e-3fdf86b8b7ad"
      },
      "cell_type": "code",
      "source": [
        "ax = sns.violinplot(x=\"result\", y=\"height\", data=normalAgeBoxers, scale=\"count\")"
      ],
      "execution_count": 20,
      "outputs": [
        {
          "output_type": "stream",
          "text": [
            "/usr/local/lib/python3.6/dist-packages/seaborn/categorical.py:588: FutureWarning: remove_na is deprecated and is a private function. Do not use.\n",
            "  kde_data = remove_na(group_data)\n",
            "/usr/local/lib/python3.6/dist-packages/seaborn/categorical.py:816: FutureWarning: remove_na is deprecated and is a private function. Do not use.\n",
            "  violin_data = remove_na(group_data)\n"
          ],
          "name": "stderr"
        },
        {
          "output_type": "display_data",
          "data": {
            "image/png": "[encoded data removed]",
            "text/plain": [
              "<matplotlib.figure.Figure at 0x7fe2e40cf128>"
            ]
          },
          "metadata": {
            "tags": []
          }
        }
      ]
    },
    {
      "metadata": {
        "id": "kvEtC2DKyd8w",
        "colab_type": "code",
        "colab": {
          "base_uri": "https://localhost:8080/",
          "height": 454
        },
        "outputId": "a195c175-16c7-4950-8492-94699a558af0"
      },
      "cell_type": "code",
      "source": [
        "ax = sns.violinplot(x=\"result\", y=\"reach\", data=normalAgeBoxers, scale=\"count\")"
      ],
      "execution_count": 21,
      "outputs": [
        {
          "output_type": "stream",
          "text": [
            "/usr/local/lib/python3.6/dist-packages/seaborn/categorical.py:588: FutureWarning: remove_na is deprecated and is a private function. Do not use.\n",
            "  kde_data = remove_na(group_data)\n",
            "/usr/local/lib/python3.6/dist-packages/seaborn/categorical.py:816: FutureWarning: remove_na is deprecated and is a private function. Do not use.\n",
            "  violin_data = remove_na(group_data)\n"
          ],
          "name": "stderr"
        },
        {
          "output_type": "display_data",
          "data": {
            "image/png": "[encoded data removed]",
            "text/plain": [
              "<matplotlib.figure.Figure at 0x7fe2e4106588>"
            ]
          },
          "metadata": {
            "tags": []
          }
        }
      ]
    },
    {
      "metadata": {
        "id": "-HvVd_2NykH1",
        "colab_type": "code",
        "colab": {
          "base_uri": "https://localhost:8080/",
          "height": 454
        },
        "outputId": "238fac26-0932-4531-9c67-1c5840672714"
      },
      "cell_type": "code",
      "source": [
        "ax = sns.violinplot(x=\"result\", y=\"age\", data=normalAgeBoxers, scale=\"count\")"
      ],
      "execution_count": 22,
      "outputs": [
        {
          "output_type": "stream",
          "text": [
            "/usr/local/lib/python3.6/dist-packages/seaborn/categorical.py:588: FutureWarning: remove_na is deprecated and is a private function. Do not use.\n",
            "  kde_data = remove_na(group_data)\n",
            "/usr/local/lib/python3.6/dist-packages/seaborn/categorical.py:816: FutureWarning: remove_na is deprecated and is a private function. Do not use.\n",
            "  violin_data = remove_na(group_data)\n"
          ],
          "name": "stderr"
        },
        {
          "output_type": "display_data",
          "data": {
            "image/png": "[encoded data removed]",
            "text/plain": [
              "<matplotlib.figure.Figure at 0x7fe2e409e668>"
            ]
          },
          "metadata": {
            "tags": []
          }
        }
      ]
    },
    {
      "metadata": {
        "id": "BBdmg6SS7Npx",
        "colab_type": "text"
      },
      "cell_type": "markdown",
      "source": [
        "----------------------\n",
        "# T-tests"
      ]
    },
    {
      "metadata": {
        "id": "5jrczeYA8fv9",
        "colab_type": "code",
        "colab": {
          "base_uri": "https://localhost:8080/",
          "height": 54
        },
        "outputId": "c03c897d-f7a3-429f-bcf9-9115d47a2bde"
      },
      "cell_type": "code",
      "source": [
        "print(np.sum(normalAgeBoxers['result'] == 'won'))\n",
        "print(np.sum(normalAgeBoxers['result'] == 'lost'))\n"
      ],
      "execution_count": 23,
      "outputs": [
        {
          "output_type": "stream",
          "text": [
            "41930\n",
            "14009\n"
          ],
          "name": "stdout"
        }
      ]
    },
    {
      "metadata": {
        "id": "Ff6lKeL0le9R",
        "colab_type": "text"
      },
      "cell_type": "markdown",
      "source": [
        "###A note on the disparity in values between winning and losing boxers\n",
        "\n",
        "\"There admittedly are inaccuracies and anomalies, especially in the All Time ratings, mostly because of incomplete records in the BoxRec database. Although a boxer’s own record may be complete, his opponents’ records may not be complete. Pre-World War II boxers in particular are at somewhat of a disadvantage, vis-à-vis modern boxers. Their opponents’ records often are quite incomplete--because of the scarcity of source material or Editors' time--while the records of opponents of more current boxers may be quite complete.\"\n",
        "\n",
        "[Source](http://boxrec.com/media/index.php/BoxRec_Ratings_Description#Introduction)"
      ]
    },
    {
      "metadata": {
        "id": "PSBeQVcVVky0",
        "colab_type": "text"
      },
      "cell_type": "markdown",
      "source": [
        "###Preparing samples of winning and losing boxers\n",
        "Given the size of the losing boxers, we take a random sample of 14009 values from the winning boxers and set a random_state of 0 to make it reproducible."
      ]
    },
    {
      "metadata": {
        "id": "dyjpyNhH_a_F",
        "colab_type": "code",
        "colab": {}
      },
      "cell_type": "code",
      "source": [
        "losingBoxers = normalAgeBoxers[normalAgeBoxers['result']=='lost']\n",
        "\n",
        "losingBoxersSample = losingBoxers"
      ],
      "execution_count": 0,
      "outputs": []
    },
    {
      "metadata": {
        "id": "ov3yriMa99Lz",
        "colab_type": "code",
        "colab": {}
      },
      "cell_type": "code",
      "source": [
        "winningBoxers = normalAgeBoxers[normalAgeBoxers['result']=='won']\n",
        "\n",
        "winningBoxersSample = winningBoxers.sample(n=14009, random_state=0)"
      ],
      "execution_count": 0,
      "outputs": []
    },
    {
      "metadata": {
        "id": "dJOt8x3G8QdL",
        "colab_type": "code",
        "colab": {}
      },
      "cell_type": "code",
      "source": [
        "import scipy\n",
        "from scipy import stats\n",
        "from scipy.stats import ttest_ind"
      ],
      "execution_count": 0,
      "outputs": []
    },
    {
      "metadata": {
        "id": "nzGCT9EAalXJ",
        "colab_type": "text"
      },
      "cell_type": "markdown",
      "source": [
        "###Are the differences between winners and losers statistically significant?\n",
        "Our t-test comparing characteristics in winners versus losers, we see that the p-value is very small in each test. This indicates that it is nearly impossible that these samples could have come from the same data set by chance. Thus, we can see that the differences of each characteristict (age, weight, reach, and height; respectively) between winners and losers is statistically significant."
      ]
    },
    {
      "metadata": {
        "id": "4w9-1Cnhahjq",
        "colab_type": "code",
        "colab": {
          "base_uri": "https://localhost:8080/",
          "height": 35
        },
        "outputId": "1f5c5066-6635-4084-9ba8-d08e2d6dc744"
      },
      "cell_type": "code",
      "source": [
        "stats.ttest_ind(winningBoxersSample['age'], losingBoxersSample['age'])"
      ],
      "execution_count": 27,
      "outputs": [
        {
          "output_type": "execute_result",
          "data": {
            "text/plain": [
              "Ttest_indResult(statistic=-50.46842579275949, pvalue=0.0)"
            ]
          },
          "metadata": {
            "tags": []
          },
          "execution_count": 27
        }
      ]
    },
    {
      "metadata": {
        "id": "iTiGewhGDwWb",
        "colab_type": "code",
        "colab": {
          "base_uri": "https://localhost:8080/",
          "height": 35
        },
        "outputId": "10d572da-cbea-44c9-e799-59fceac899fb"
      },
      "cell_type": "code",
      "source": [
        "stats.ttest_ind(winningBoxersSample['weight'], losingBoxersSample['weight'])"
      ],
      "execution_count": 28,
      "outputs": [
        {
          "output_type": "execute_result",
          "data": {
            "text/plain": [
              "Ttest_indResult(statistic=-6.381442994153971, pvalue=1.7816780700517293e-10)"
            ]
          },
          "metadata": {
            "tags": []
          },
          "execution_count": 28
        }
      ]
    },
    {
      "metadata": {
        "id": "Gtz-MG2HEAiR",
        "colab_type": "code",
        "colab": {
          "base_uri": "https://localhost:8080/",
          "height": 35
        },
        "outputId": "6c025d14-cd6b-4557-e256-1622c2dbac64"
      },
      "cell_type": "code",
      "source": [
        "stats.ttest_ind(winningBoxersSample['reach'], losingBoxersSample['reach'])"
      ],
      "execution_count": 29,
      "outputs": [
        {
          "output_type": "execute_result",
          "data": {
            "text/plain": [
              "Ttest_indResult(statistic=4.353354075088023, pvalue=1.3454518787253618e-05)"
            ]
          },
          "metadata": {
            "tags": []
          },
          "execution_count": 29
        }
      ]
    },
    {
      "metadata": {
        "id": "ADHCcmV_EFBE",
        "colab_type": "code",
        "colab": {
          "base_uri": "https://localhost:8080/",
          "height": 35
        },
        "outputId": "0ae5929b-2e09-4643-a5c3-4b832f8aff4e"
      },
      "cell_type": "code",
      "source": [
        "stats.ttest_ind(winningBoxersSample['height'], losingBoxersSample['height'])"
      ],
      "execution_count": 30,
      "outputs": [
        {
          "output_type": "execute_result",
          "data": {
            "text/plain": [
              "Ttest_indResult(statistic=4.171265018113726, pvalue=3.038248693016981e-05)"
            ]
          },
          "metadata": {
            "tags": []
          },
          "execution_count": 30
        }
      ]
    },
    {
      "metadata": {
        "id": "541njlND7VxZ",
        "colab_type": "text"
      },
      "cell_type": "markdown",
      "source": [
        "----------------------\n",
        "# Additional Research Proposal\n",
        "\n",
        "Given the t-test results, it will be interesting to use a random forest and find which characteristics correlate most strongly with winning. Additionally, it may also be interesting to run the characteristics against the different decisions. For example, lighter boxers may win more than heavier boxers overall. However, heavier boxers may tend to win more via knockouts than lighter boxers."
      ]
    }
  ]
}