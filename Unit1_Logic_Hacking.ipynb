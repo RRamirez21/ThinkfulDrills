{
  "nbformat": 4,
  "nbformat_minor": 0,
  "metadata": {
    "colab": {
      "name": "Unit1_Logic_Hacking.ipynb",
      "version": "0.3.2",
      "views": {},
      "default_view": {},
      "provenance": []
    },
    "kernelspec": {
      "name": "python3",
      "display_name": "Python 3"
    }
  },
  "cells": [
    {
      "metadata": {
        "id": "Kzb9svQmsZQO",
        "colab_type": "code",
        "colab": {
          "autoexec": {
            "startup": false,
            "wait_interval": 0
          }
        }
      },
      "cell_type": "code",
      "source": [
        "'''As a member of the editorial board of the prestigous scientific Journal Proceedings of the National Academy of Sciences, you've decided to go back and review how well old articles you've published stand up to modern publication best practices. Specifically, you'd like to re-evaluate old findings in light of recent literature about \"researcher degrees of freedom\".\n",
        "\n",
        "You want to categorize all the old articles into three groups: \"Fine\", \"Needs review\" and \"Pants on fire\".\n",
        "\n",
        "In order to categorize them you've enlisted an army of unpaid grad students to review and give you two data points from each study: (1) the p-value behind the paper's primary conclusions, and (2) the number of recommended author requirements to limit researcher degrees of freedom the authors satisfied:\n",
        "\n",
        "* Authors must decide the rule for terminating data collection before data collection begins and report this rule in the article.\n",
        "* Authors must collect at least 20 observations per cell or else provide a compelling cost-of-data-collection justification. \n",
        "* Authors must list all variables collected in a study.\n",
        "* Authors must report all experimental conditions, including failed manipulations.\n",
        "* If observations are eliminated, authors must also report what the statistical results are if those observations are included.\n",
        "* If an analysis includes a covariate, authors must report the statistical results of the analysis without the covariate.\n",
        "Your army of tenure-hungry grad students will give you the p-value as a float between 1.0 and 0.0 exclusive, and the number of author requirements satisfied as an integer from 0 through 6 inclusive.\n",
        "\n",
        "You've decided to write a function, categorize_study() to automatically categorize each study based on these two inputs using the completely scientifically legitimate \"bs-factor\". The bs-factor for a particular paper is calculated as follows:\n",
        "\n",
        "bs-factor when the authors satisfy all six requirements is 1\n",
        "bs-factor when the authors satisfy only five requirements is 2\n",
        "bs-factor when the authors satisfy only four requirements is 4\n",
        "bs-factor when the authors satisfy only three requirements is 8...\n",
        "Your function should multiply the p-value by the bs-factor and use that product to return one of the following strings:\n",
        "\n",
        "product is less than 0.05: \"Fine\"\n",
        "product is 0.05 to 0.15: \"Needs review\"\n",
        "product is 0.15 or higher: \"Pants on fire\"\n",
        "You've also decided that all studies meeting none of the author requirements that would have been categorized as \"Fine\" should instead be categorized as \"Needs review\".\n",
        "\n",
        "For example:\n",
        "\n",
        "categorize_study(0.01, 3) should return \"Needs review\" because the p-value times the bs-factor is 0.08.\n",
        "\n",
        "categorize_study(0.04, 6) should return \"Fine\" because the p-value times the bs-factor is only 0.04.\n",
        "\n",
        "categorize_study(0.0001, 0) should return \"Needs review\" even though the p-value times the bs-factor is only 0.0064.\n",
        "\n",
        "categorize_study(0.012, 0) should return \"Pants on fire\" because the p-value times the bs-factor is 0.768.'''\n",
        "\n",
        "def categorize_study(p_value, requirements):\n",
        "    bs_factor = 2 ** (6 - requirements)\n",
        "    product = bs_factor * p_value\n",
        "    \n",
        "    if product < 0.05:\n",
        "        if requirements > 1:\n",
        "            result = \"Fine\"\n",
        "        else:\n",
        "            result = \"Needs review\"\n",
        "    elif product <=.15:\n",
        "        result = \"Needs review\"\n",
        "    elif product >.15:\n",
        "        result = \"Pants on fire\"\n",
        "    return result"
      ],
      "execution_count": 0,
      "outputs": []
    }
  ]
}