{
  "nbformat": 4,
  "nbformat_minor": 0,
  "metadata": {
    "colab": {
      "name": "Unit1_Logic_Red_and_Bumpy.ipynb",
      "version": "0.3.2",
      "views": {},
      "default_view": {},
      "provenance": []
    },
    "kernelspec": {
      "name": "python3",
      "display_name": "Python 3"
    }
  },
  "cells": [
    {
      "metadata": {
        "id": "bK6gPmTOsDaZ",
        "colab_type": "code",
        "colab": {
          "autoexec": {
            "startup": false,
            "wait_interval": 0
          }
        }
      },
      "cell_type": "code",
      "source": [
        "'''You're playing a game with a friend involving a bag of marbles. In the bag are ten marbles:\n",
        "\n",
        "1 smooth red marble\n",
        "4 bumpy red marbles\n",
        "2 bumpy yellow marbles\n",
        "1 smooth yellow marble\n",
        "1 bumpy green marble\n",
        "1 smooth green marble\n",
        "You can see that the probability of picking a smooth red marble from the bag is 1 / 10 or 0.10 and the probability of picking a bumpy yellow marble is 2 / 10 or 0.20.\n",
        "\n",
        "The game works like this: your friend puts her hand in the bag, chooses a marble (without looking at it) and tells you whether it's bumpy or smooth. Then you have to guess which color it is before she pulls it out and reveals whether you're correct or not.\n",
        "\n",
        "You know that the information about whether the marble is bumpy or smooth changes the probability of what color it is, and you want some help with your guesses.\n",
        "\n",
        "Write a function color_probability() that takes two arguments: a color ('red', 'yellow', or 'green') and a texture ('bumpy' or 'smooth') and returns the probability as a decimal fraction accurate to two places.\n",
        "\n",
        "The probability should be a string and should discard any digits after the 100ths place. For example, 2 / 3 or 0.6666666666666666 would become the string '0.66'. Note this is different from rounding.\n",
        "\n",
        "As a complete example, color_probability('red', 'bumpy') should return the string '0.57'.'''\n",
        "\n",
        "def color_probability(color, texture):\n",
        "    if texture == \"bumpy\":\n",
        "        if color == \"red\":\n",
        "            result = 4/7\n",
        "        elif color == \"yellow\":\n",
        "            result = 2/7\n",
        "        elif color == \"green\":\n",
        "            result = 1/7\n",
        "    else:\n",
        "        result = 1/3\n",
        "    return str(result)[:4]\n",
        "    "
      ],
      "execution_count": 0,
      "outputs": []
    }
  ]
}