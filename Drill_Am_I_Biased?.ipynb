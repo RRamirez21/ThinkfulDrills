{
  "nbformat": 4,
  "nbformat_minor": 0,
  "metadata": {
    "colab": {
      "name": "Drill:Am_I_Biased?.ipynb",
      "version": "0.3.2",
      "provenance": [],
      "collapsed_sections": []
    },
    "kernelspec": {
      "name": "python3",
      "display_name": "Python 3"
    }
  },
  "cells": [
    {
      "metadata": {
        "id": "R4jyzAwupP7y",
        "colab_type": "text"
      },
      "cell_type": "markdown",
      "source": [
        "#Drill: Am I Biased?\n",
        "For each of the following scenarios, call out the potential biases in the proposed experiment. Do your best to try to discover not only the bias, but the initial design. There is plenty of room for interpretation here, so make sure to state what assumptions you're making.\n",
        "\n",
        "1.   [You're testing advertising emails for a bathing suit company and you test one version of the email in February and the other in May.](#Bathing-Suit-Advertising-Emails)\n",
        "2.   [You open a clinic to treat anxiety and find that the people who visit show a higher rate of anxiety than the general population.](#Anxiety-Clinic-Rate)\n",
        "3.   [You launch a new ad billboard based campaign and see an increase in website visits in the first week.](#Ad-Billboard-Campaign)\n",
        "4.   [You launch a loyalty program but see no change in visits in the first week.](#Loyalty-Program-Visits)"
      ]
    },
    {
      "metadata": {
        "id": "S_gqs8gAqhbN",
        "colab_type": "text"
      },
      "cell_type": "markdown",
      "source": [
        "#Bathing Suit Emails\n",
        "A potential bias in the two email versions is the time of the year in which each was sent. Since May is much closer to Summer, which is when bathing suits are most frequently used, the second email is likely to be more impactful. Additionally, we assume that a second email version likely made improvements to the content, perhaps offering deeper discounts or more swimsuit variety, than the original email. Furthermore, there may be a bias in the time of the day, day of the week, or even week of the month, in which the two emails were sent. Lastly, if the same customers received both emails, the second email might be more impactful simply because it reinforced the first email."
      ]
    },
    {
      "metadata": {
        "id": "j9yQaemWqmvZ",
        "colab_type": "text"
      },
      "cell_type": "markdown",
      "source": [
        "#Anxiety Clinic Rate\n",
        "One bias in the anxiety rates among patients to the clinic is self-selection. Since people who have anxiety are more likely to seek help at an Anxiety Clinic, they are also more likely to have higher rates of anxiety than the general population. This assumes that all people in the population can acknowledge their own anxiety and that they seek help, when reasonable. However, there may also be observation bias in the way patients are measured for anxiety. Since patients are seeking help, workers at the clinic may be inclined to diagnose more severely than they would in a neutral setting. Additionally, the environment may, ironically, cause patients to become more anxious than they would in a neutral setting."
      ]
    },
    {
      "metadata": {
        "id": "dvrF8eM_qvMp",
        "colab_type": "text"
      },
      "cell_type": "markdown",
      "source": [
        "#Ad Billboard Campaign\n",
        "One bias of the billboard campaign is the location of the billboards ads because that will indicate the demographics of the people who are most likely to see the billboard on a regular basis. In this case, those locations may be highly populated, the adds likely have a clear message and high visibility, and the ads presumably offer a good or service that people actually want. Another bias may be the time when the ad was posted because it may be during a time of the year, when more people are visiting that location (ex. tourist cities) or at a time when there is more visibility than normal (i.e. Summer). The timing and content of the ad may also reflect something \"trending\" culturally."
      ]
    },
    {
      "metadata": {
        "id": "h4DHpahmqo1G",
        "colab_type": "text"
      },
      "cell_type": "markdown",
      "source": [
        "#Loyalty Program Visits\n",
        "One bias of the Loyalty Program is whether consumers are aware it exists. We assume that the company has done some sort of advertising to communicate the change. Another bias is if the loyalty program actually costs the consumer extra (ex. a monthly service fee or requires the customer to submit personal information) or if the program does not benefit customers (ex. offers an unwanted good/service). Assuming that the program is no additional cost and offers a desired good or service, another bias is simply how often the average person is likely to visit the company in a given week. For example, if the company is a car dealership, the loyaly program is less likely to affect visits within the first week because the purchase of a car is much less frequent."
      ]
    }
  ]
}