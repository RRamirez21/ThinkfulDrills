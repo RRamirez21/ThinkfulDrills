{
  "nbformat": 4,
  "nbformat_minor": 0,
  "metadata": {
    "colab": {
      "name": "Drill:Make_a_Quick_Research_Proposal.ipynb",
      "version": "0.3.2",
      "provenance": [],
      "collapsed_sections": []
    },
    "kernelspec": {
      "name": "python3",
      "display_name": "Python 3"
    }
  },
  "cells": [
    {
      "metadata": {
        "id": "UwUP2qAZ5PH7",
        "colab_type": "text"
      },
      "cell_type": "markdown",
      "source": [
        "#DRILL: Make a quick research proposal\n",
        "\n",
        "Look back to the potential experiments in the previous assignment. For one of those experiments, write up the essential points of a research proposal for an improved version of that experiment."
      ]
    },
    {
      "metadata": {
        "id": "hzL8VL5p5XnL",
        "colab_type": "text"
      },
      "cell_type": "markdown",
      "source": [
        "#Who Will Control the Galaxy? (The Problem)\n",
        "Sith Lords, in their never-ending quest to rid the world of the Jedi Order and rule the galaxy, must maintain a strong army. To do this, they have to consistently convert captured droids to join the Dark Side. "
      ]
    },
    {
      "metadata": {
        "id": "TeBYyGNq7V-J",
        "colab_type": "text"
      },
      "cell_type": "markdown",
      "source": [
        "#Killer Slogans May Decide (The Potential Solution)\n",
        "Identifying a unique slogan that will help us convert more droids."
      ]
    },
    {
      "metadata": {
        "id": "-8dlT1dm8Mt5",
        "colab_type": "text"
      },
      "cell_type": "markdown",
      "source": [
        "#Which Slogan is Most Killer? (The Method of Testing the Solution)\n",
        "Deliver Slogan A or Slogan B to respective groups of 50 captured droids and monitor how many droids convert for the next three months. The variable of interest is droids converting in groups that receive Slogan A and droids converting in groups that receive Slogan B. This is an A/B manipulation where we compare the results of two different slogans.\n",
        "\n",
        "We will count how many droids convert from each group that received Slogan A and Slogan B; respectively. We will then calculate the conversation rate for each slogan during the three month study.\n",
        "\n",
        "If a slogan can increase the droid conversation rate by 10% (compared to conversion rates from the past year), conclude that the slogan is effective and proceed with using it in recruiting campaigns. If both slogans can meet this requirement, continue with the slogan that has the higher conversion rate. If both slogans have the same conversion rate or if the conversation rate among droids decreases in the three months, but by less than one standard deviation, observe for three more months before deciding. If the conversation rates for both slogans remain the same, allow the Sith Lords to vote on which they prefer. If the conversation rate continues to decrease in those three months, identify a new slogan."
      ]
    },
    {
      "metadata": {
        "id": "oivMMA6PBO3K",
        "colab_type": "code",
        "colab": {}
      },
      "cell_type": "code",
      "source": [
        ""
      ],
      "execution_count": 0,
      "outputs": []
    }
  ]
}