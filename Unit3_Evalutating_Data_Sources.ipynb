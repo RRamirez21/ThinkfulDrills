{
  "nbformat": 4,
  "nbformat_minor": 0,
  "metadata": {
    "colab": {
      "name": "Unit3_Evalutating_Data_Sources.ipynb",
      "version": "0.3.2",
      "provenance": []
    },
    "kernelspec": {
      "name": "python3",
      "display_name": "Python 3"
    }
  },
  "cells": [
    {
      "metadata": {
        "id": "WaCoAzsI71cY",
        "colab_type": "text"
      },
      "cell_type": "markdown",
      "source": [
        "In each of the scenarios, find possible shortcomings of the theoretical or actual data sources to answer the given question. What could be done to either adjust the analysis or reframe the question so that you can answer it accurately?\n",
        "\n",
        "Data Source: Amsterdam availability data scraped from AirBnB on December 24th. Question: What are the popular neighborhoods in Amsterdam?\n",
        "\n",
        "Data Source: Mental health services use on September 12, 2001 in San Francisco, CA and New York City, NY. Question: How do patterns of mental health service use vary between cities?\n",
        "\n",
        "Data Source: Armenian Pub Survey. Question: What are the most common reasons Armenians visit local pubs?"
      ]
    },
    {
      "metadata": {
        "id": "gGQP_KQ373ne",
        "colab_type": "text"
      },
      "cell_type": "markdown",
      "source": [
        "Air BnB data scraped during Christmas time will bias availability because more AirBnBs may be taken due to vacationers or fewer AirBnBs may be available as people don’t want to share their homes over the holidays. We should choose a sampling period that doesn’t include a major holiday, or reframe the question to focus on popular neighborhoods during major holidays."
      ]
    },
    {
      "metadata": {
        "id": "HfkktsoF8XET",
        "colab_type": "text"
      },
      "cell_type": "markdown",
      "source": [
        "Given the terrorist attack on NYC the day before, patterns of mental health services are likely to be much higher in NYC or much lower if the attacks knocked out the ability to provide these services. We should avoid a date soon after a traumatic event in a city, or reframe the question to mental health use in the aftermath of a nearby vs distant crisis."
      ]
    },
    {
      "metadata": {
        "id": "hltB7c1o89Ta",
        "colab_type": "text"
      },
      "cell_type": "markdown",
      "source": [
        "All of the respondents are university students. We should reframe this to specify ‘university students’ reasons to visit pubs.’"
      ]
    }
  ]
}