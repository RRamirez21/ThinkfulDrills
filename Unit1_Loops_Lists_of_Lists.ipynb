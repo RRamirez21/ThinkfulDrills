{
  "nbformat": 4,
  "nbformat_minor": 0,
  "metadata": {
    "colab": {
      "name": "Unit1_Loops_Lists_of_Lists.ipynb",
      "version": "0.3.2",
      "views": {},
      "default_view": {},
      "provenance": []
    },
    "kernelspec": {
      "name": "python3",
      "display_name": "Python 3"
    }
  },
  "cells": [
    {
      "metadata": {
        "id": "O-gK_DJUtuwY",
        "colab_type": "code",
        "colab": {
          "autoexec": {
            "startup": false,
            "wait_interval": 0
          }
        }
      },
      "cell_type": "code",
      "source": [
        "'''You have a two-dimensional list in the following format:\n",
        "\n",
        "data = [[2, 5], [3, 4], [8, 7]]\n",
        "Each sub-list contains two items, and each item in the sub-lists is an integer.\n",
        "\n",
        "Write a function process_data() that processes each sub-list like so:\n",
        "\n",
        "[2, 5] --> 2 - 5 --> -3\n",
        "[3, 4] --> 3 - 4 --> -1\n",
        "[8, 7] --> 8 - 7 --> 1\n",
        "and then returns the product of all the processed sub-lists: -3 * -1 * 1 --> 3.\n",
        "\n",
        "For input, you can trust that neither the main list nor the sublists will be empty.'''\n",
        "\n",
        "def process_data(data):\n",
        "    result = 1\n",
        "    differences = []\n",
        "    \n",
        "    for sub_list in data:\n",
        "        differences.append(sub_list[0] - sub_list[1])\n",
        "    \n",
        "    for difference in differences:\n",
        "        result *= difference\n",
        "        \n",
        "    return result"
      ],
      "execution_count": 0,
      "outputs": []
    }
  ]
}