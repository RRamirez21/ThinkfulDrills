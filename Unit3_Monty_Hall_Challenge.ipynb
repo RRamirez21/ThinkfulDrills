{
  "nbformat": 4,
  "nbformat_minor": 0,
  "metadata": {
    "colab": {
      "name": "Unit3_Monty_Hall_Challenge.ipynb",
      "version": "0.3.2",
      "provenance": []
    },
    "kernelspec": {
      "name": "python3",
      "display_name": "Python 3"
    }
  },
  "cells": [
    {
      "metadata": {
        "id": "IA3jw9Fr-DOc",
        "colab_type": "text"
      },
      "cell_type": "markdown",
      "source": [
        "You are on a game show and given the choice of whatever is behind three doors. Behind one door is a fantastic prize (some examples use a car, others use cash) while behind the other two doors is a dud (some examples say a goat, others say it's just empty). You pick a door. Then the host opens one of the other two doors to reveal a dud. But here's the wrinkle: the host now gives you the opportunity to switch your door. What should you do?"
      ]
    },
    {
      "metadata": {
        "id": "7b9DEqAf-GUe",
        "colab_type": "text"
      },
      "cell_type": "markdown",
      "source": [
        "Initially, the odds of the car being in any door are equally likely at 1/3. This is still true after a player has chosen any door, by independence. After the host eliminates a door with a goat, the odds of the car being in the two remaining doors is equally likely at 1/2. However using Bayes' rule, the odds on the location of the car, given that the host opens door 2 or 3, are equal to the prior odds multiplied by the Bayes factor or likelihood, which is, by definition, the probability of the new piece of information (host opens door 2 or 3) under each of the hypotheses considered (location of the car). Since the combined odds of the car being in Door 2 or 3 is 2/3. By eliminating one of the \"goat\" doors, the remaining door now has a higher overall likelihood. That being the case, you should switch doors."
      ]
    }
  ]
}