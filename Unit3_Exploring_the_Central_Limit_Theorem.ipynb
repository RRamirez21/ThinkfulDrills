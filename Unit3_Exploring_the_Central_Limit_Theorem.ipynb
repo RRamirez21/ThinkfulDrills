{
  "nbformat": 4,
  "nbformat_minor": 0,
  "metadata": {
    "colab": {
      "name": "Unit3_Exploring_the_Central_Limit_Theorem.ipynb",
      "version": "0.3.2",
      "provenance": [],
      "collapsed_sections": []
    },
    "kernelspec": {
      "name": "python3",
      "display_name": "Python 3"
    }
  },
  "cells": [
    {
      "metadata": {
        "id": "ys_hzrKXF3ZX",
        "colab_type": "text"
      },
      "cell_type": "markdown",
      "source": [
        "Now that you have some code to create your own populations, sample them, and compare the samples to the populations, it's time to experiment. Using your own Jupyter notebook, or a copy of the notebook from the previous assignment, reproduce the pop1 and pop2 populations and samples, using numpy's binomial function. Specifically, create two binomially distributed populations with n equal to 10 and size equal to 10000. The p-value of pop1 should be 0.2 and the p-value of pop2 should be 0.5. Using a sample size of 100, calculate the means and standard deviations of your samples."
      ]
    },
    {
      "metadata": {
        "id": "rdA3K0sDqSp_",
        "colab_type": "code",
        "colab": {
          "base_uri": "https://localhost:8080/",
          "height": 90
        },
        "outputId": "eb2cdcfd-6f8a-49d7-b762-9527860c98a2"
      },
      "cell_type": "code",
      "source": [
        "import numpy as np\n",
        "import pandas as pd\n",
        "import scipy\n",
        "import matplotlib.pyplot as plt\n",
        "%matplotlib inline\n",
        "\n",
        "pop1 = np.random.binomial(10, 0.2, 10000)\n",
        "pop2 = np.random.binomial(10,0.5, 10000) \n",
        "\n",
        "sample1 = np.random.choice(pop1, 100, replace=True)\n",
        "sample2 = np.random.choice(pop2, 100, replace=True)\n",
        "\n",
        "print(sample1.mean())\n",
        "print(sample2.mean())\n",
        "print(sample1.std())\n",
        "print(sample2.std())"
      ],
      "execution_count": 1,
      "outputs": [
        {
          "output_type": "stream",
          "text": [
            "1.96\n",
            "4.82\n",
            "1.1825396399275587\n",
            "1.4722771478223793\n"
          ],
          "name": "stdout"
        }
      ]
    },
    {
      "metadata": {
        "id": "l6JPnrk6G8zo",
        "colab_type": "code",
        "colab": {
          "base_uri": "https://localhost:8080/",
          "height": 659
        },
        "outputId": "5cab2352-1a27-437f-de4a-c7184ac664be"
      },
      "cell_type": "code",
      "source": [
        "'''Increase the size of your samples from 100 to 1000, then calculate the means and standard deviations for your new samples and create histograms for each. Repeat this again, decreasing the size of your samples to 20. What values change, and what remain the same?'''\n",
        "\n",
        "#As the sample size decreases, I expect the variance to increase. \n",
        "\n",
        "\n",
        "sample1 = np.random.choice(pop1, 1000, replace=True)\n",
        "sample2 = np.random.choice(pop2, 1000, replace=True)\n",
        "\n",
        "print(sample1.mean())\n",
        "print(sample2.mean())\n",
        "print(sample1.std())\n",
        "print(sample2.std())\n",
        "\n",
        "plt.hist(sample1, alpha=0.5, label='sample 1') \n",
        "plt.hist(sample2, alpha=0.5, label='sample 2') \n",
        "plt.legend(loc='upper right') \n",
        "plt.show()\n",
        "\n",
        "\n",
        "sample1 = np.random.choice(pop1, 20, replace=True)\n",
        "sample2 = np.random.choice(pop2, 20, replace=True)\n",
        "\n",
        "print(sample1.mean())\n",
        "print(sample2.mean())\n",
        "print(sample1.std())\n",
        "print(sample2.std())\n",
        "\n",
        "plt.hist(sample1, alpha=0.5, label='sample 1') \n",
        "plt.hist(sample2, alpha=0.5, label='sample 2') \n",
        "plt.legend(loc='upper right') \n",
        "plt.show()"
      ],
      "execution_count": 11,
      "outputs": [
        {
          "output_type": "stream",
          "text": [
            "1.974\n",
            "4.986\n",
            "1.2415007047923894\n",
            "1.5892778234154028\n"
          ],
          "name": "stdout"
        },
        {
          "output_type": "display_data",
          "data": {
            "image/png": "[encoded data removed]",
            "text/plain": [
              "<matplotlib.figure.Figure at 0x7fc1dd75c6d8>"
            ]
          },
          "metadata": {
            "tags": []
          }
        },
        {
          "output_type": "stream",
          "text": [
            "2.3\n",
            "5.35\n",
            "1.1\n",
            "1.3518505834595775\n"
          ],
          "name": "stdout"
        },
        {
          "output_type": "display_data",
          "data": {
            "image/png": "[encoded data removed]",
            "text/plain": [
              "<matplotlib.figure.Figure at 0x7fc1ddd93860>"
            ]
          },
          "metadata": {
            "tags": []
          }
        }
      ]
    },
    {
      "metadata": {
        "id": "L4rfiut8JZ1-",
        "colab_type": "text"
      },
      "cell_type": "markdown",
      "source": [
        "Both the mean and standard deviation increase as a result of the smaller sample size."
      ]
    },
    {
      "metadata": {
        "id": "bh9Q_eiZJV95",
        "colab_type": "code",
        "colab": {
          "base_uri": "https://localhost:8080/",
          "height": 54
        },
        "outputId": "50f2a48e-2059-4663-fee2-bb3028398339"
      },
      "cell_type": "code",
      "source": [
        "'''Change the probability value (p in the NumPy documentation) for pop1 to 0.3, then take new samples and compute the t-statistic and p-value. Then change the probability value p for group 1 to 0.4, and do it again. What changes, and why?'''\n",
        "\n",
        "#As the probability value increases, we expect the t-statistic will decrease and P-Value will increase because the samples are becoming more similar.\n",
        "\n",
        "pop1 = np.random.binomial(10, 0.3, 10000)\n",
        "pop2 = np.random.binomial(10,0.5, 10000) \n",
        "\n",
        "sample1 = np.random.choice(pop1, 100, replace=True)\n",
        "sample2 = np.random.choice(pop2, 100, replace=True)\n",
        "\n",
        "from scipy.stats import ttest_ind\n",
        "print(ttest_ind(sample2, sample1, equal_var=False))\n",
        "\n",
        "\n",
        "#Pop 1; p = 0.4\n",
        "\n",
        "pop1 = np.random.binomial(10, 0.4, 10000)\n",
        "pop2 = np.random.binomial(10,0.5, 10000) \n",
        "\n",
        "\n",
        "sample1 = np.random.choice(pop1, 100, replace=True)\n",
        "sample2 = np.random.choice(pop2, 100, replace=True)\n",
        "\n",
        "from scipy.stats import ttest_ind\n",
        "print(ttest_ind(sample2, sample1, equal_var=False))"
      ],
      "execution_count": 17,
      "outputs": [
        {
          "output_type": "stream",
          "text": [
            "Ttest_indResult(statistic=7.1668765890887824, pvalue=1.5735948776534482e-11)\n",
            "Ttest_indResult(statistic=6.680002309514041, pvalue=2.393065850558687e-10)\n"
          ],
          "name": "stdout"
        }
      ]
    },
    {
      "metadata": {
        "id": "rBRKKuV5LB7b",
        "colab_type": "code",
        "colab": {
          "base_uri": "https://localhost:8080/",
          "height": 181
        },
        "outputId": "2c339cd7-c968-4c08-dba1-9e6cdf3f8f97"
      },
      "cell_type": "code",
      "source": [
        "'''Change the distribution of your populations from binomial to a distribution of your choice. Do the sample mean values still accurately represent the population values?'''\n",
        "\n",
        "#Based on the Central Limit Theorem, we expect that the statistics will work as long as the sample size is large enough regardless of the distribution.\n",
        "\n",
        "\n",
        "print(sample1.mean())\n",
        "print(sample2.mean())\n",
        "print(sample1.std())\n",
        "print(sample2.std())\n",
        "\n",
        "pop1 = np.random.lognormal(10, 0.4, 10000)\n",
        "pop2 = np.random.lognormal(10,0.5, 10000) \n",
        "\n",
        "\n",
        "sample1 = np.random.choice(pop1, 100, replace=True)\n",
        "sample2 = np.random.choice(pop2, 100, replace=True)\n",
        "\n",
        "print(sample1.mean())\n",
        "print(sample2.mean())\n",
        "print(sample1.std())\n",
        "print(sample2.std())\n",
        "from scipy.stats import ttest_ind\n",
        "print(ttest_ind(sample2, sample1, equal_var=False))"
      ],
      "execution_count": 23,
      "outputs": [
        {
          "output_type": "stream",
          "text": [
            "23792.99357482942\n",
            "23942.04849348557\n",
            "8369.180272380341\n",
            "13360.094353972348\n",
            "23814.609424225393\n",
            "24429.199314812467\n",
            "10744.595986184899\n",
            "13742.963117492429\n",
            "Ttest_indResult(statistic=0.3505428068970259, pvalue=0.7263256978665318)\n"
          ],
          "name": "stdout"
        }
      ]
    },
    {
      "metadata": {
        "id": "6xfuSqyeF2pB",
        "colab_type": "text"
      },
      "cell_type": "markdown",
      "source": [
        ""
      ]
    }
  ]
}