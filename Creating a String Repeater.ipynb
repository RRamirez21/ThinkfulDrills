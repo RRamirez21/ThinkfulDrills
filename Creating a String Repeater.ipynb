{
  "nbformat": 4,
  "nbformat_minor": 0,
  "metadata": {
    "colab": {
      "name": "Unit1_String_Repeaters.ipynb",
      "version": "0.3.2",
      "views": {},
      "default_view": {},
      "provenance": []
    },
    "kernelspec": {
      "name": "python3",
      "display_name": "Python 3"
    }
  },
  "cells": [
    {
      "metadata": {
        "id": "0pzemBNOou9P",
        "colab_type": "code",
        "colab": {
          "autoexec": {
            "startup": false,
            "wait_interval": 0
          }
        }
      },
      "cell_type": "code",
      "source": [
        "'''Write a function named repeater() that takes two arguments (a string and an integer), and returns a new string where the input string is repeated that many times. For example:\n",
        "\n",
        "repeater('a', 5)\n",
        "should return\n",
        "\n",
        "'aaaaa'\n",
        "and\n",
        "\n",
        "repeater('Na', 16)\n",
        "should return\n",
        "\n",
        "'NaNaNaNaNaNaNaNaNaNaNaNaNaNaNaNa`'''\n",
        "\n",
        "def repeater(string, n):\n",
        "    return string * n"
      ],
      "execution_count": 0,
      "outputs": []
    },
    {
      "metadata": {
        "id": "A0nex9Hoo4za",
        "colab_type": "code",
        "colab": {
          "autoexec": {
            "startup": false,
            "wait_interval": 0
          }
        }
      },
      "cell_type": "code",
      "source": [
        "'''This challenge extends the previous repeater() challenge. Just like last time, your job is to write a function that accepts a string and a number as arguments. This time, however, you should format the string you return like this:\n",
        "\n",
        ">>> repeater('yo', 3)\n",
        "'\"yo\" repeated 3 times is: \"yoyoyo\"'\n",
        ">>> repeater('WuB', 6)\n",
        "'\"WuB\" repeated 6 times is: \"WuBWuBWuBWuBWuBWuB\"''''\n",
        "\n",
        "def repeater(string, n):\n",
        "    product = string * n\n",
        "    result = '\"{}\" repeated {} times is: \"{}\"'\n",
        "    return result.format(string, n, product)"
      ],
      "execution_count": 0,
      "outputs": []
    }
  ]
}
