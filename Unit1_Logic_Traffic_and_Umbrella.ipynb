{
  "nbformat": 4,
  "nbformat_minor": 0,
  "metadata": {
    "colab": {
      "name": "Unit1_Logic_Traffic_and_Umbrella.ipynb",
      "version": "0.3.2",
      "views": {},
      "default_view": {},
      "provenance": []
    },
    "kernelspec": {
      "name": "python3",
      "display_name": "Python 3"
    }
  },
  "cells": [
    {
      "metadata": {
        "id": "pkENlR4cqsaQ",
        "colab_type": "code",
        "colab": {
          "autoexec": {
            "startup": false,
            "wait_interval": 0
          }
        }
      },
      "cell_type": "code",
      "source": [
        "'''You're writing code to control your town's traffic lights. You need a function to handle each change from green, to yellow, to red, and then to green again.\n",
        "\n",
        "Complete the function that takes a string as an argument representing the current state of the light and returns a string representing the state the light should change to.\n",
        "\n",
        "For example, update_light('green') should return 'yellow'.'''\n",
        "\n",
        "def update_light(current):\n",
        "    if current == \"green\":\n",
        "        return \"yellow\"\n",
        "    elif current == \"yellow\":\n",
        "        return \"red\"\n",
        "    elif current == \"red\":\n",
        "        return \"green\""
      ],
      "execution_count": 0,
      "outputs": []
    },
    {
      "metadata": {
        "id": "CX5meBMPq6AT",
        "colab_type": "code",
        "colab": {
          "autoexec": {
            "startup": false,
            "wait_interval": 0
          }
        }
      },
      "cell_type": "code",
      "source": [
        "'''Write a function take_umbrella() that takes two arguments: a string representing the current weather and a float representing the chance of rain today.\n",
        "\n",
        "Your function should return True or False based on the following criteria.\n",
        "\n",
        "You should take an umbrella if it's currently raining or if it's cloudy and the chance of rain is over 0.20.\n",
        "You shouldn't take an umbrella if it's sunny unless it's more likely to rain than not.\n",
        "The options for the current weather are sunny, cloudy, and rainy.\n",
        "\n",
        "For example, take_umbrella('sunny', 0.40) should return False.\n",
        "\n",
        "As an additional challenge, consider solving this kata using only logical operaters and not using any if statements.'''\n",
        "\n",
        "def take_umbrella(weather, rain_chance):\n",
        "    return (weather == \"sunny\" and rain_chance > .5) or (weather == \"cloudy\" and rain_chance > .2) or (weather == \"rainy\")\n",
        "        "
      ],
      "execution_count": 0,
      "outputs": []
    }
  ]
}