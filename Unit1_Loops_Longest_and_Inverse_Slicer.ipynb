{
  "nbformat": 4,
  "nbformat_minor": 0,
  "metadata": {
    "colab": {
      "name": "Unit1_Loops_Longest_and_Inverse_Slicer.ipynb",
      "version": "0.3.2",
      "views": {},
      "default_view": {},
      "provenance": []
    },
    "kernelspec": {
      "name": "python3",
      "display_name": "Python 3"
    }
  },
  "cells": [
    {
      "metadata": {
        "id": "blAc9pqGsyyk",
        "colab_type": "code",
        "colab": {
          "autoexec": {
            "startup": false,
            "wait_interval": 0
          }
        }
      },
      "cell_type": "code",
      "source": [
        "'''Complete the function that takes one argument, a list of words, and returns the length of the longest word in the list.\n",
        "\n",
        "For example:\n",
        "\n",
        "['simple', 'is', 'better', 'than', 'complex'] ==> 7\n",
        "Do not modify the input list.'''\n",
        "\n",
        "def longest(words):\n",
        "    result = 0\n",
        "    for word in words:\n",
        "        if len(word) > result:\n",
        "            result = len(word)\n",
        "    return result"
      ],
      "execution_count": 0,
      "outputs": []
    },
    {
      "metadata": {
        "id": "1c8mjrCLtNY4",
        "colab_type": "code",
        "colab": {
          "autoexec": {
            "startup": false,
            "wait_interval": 0
          }
        }
      },
      "cell_type": "code",
      "source": [
        "'''You're familiar with list slicing in Python and know, for example, that:\n",
        "\n",
        ">>> ages = [12, 14, 63, 72, 55, 24]\n",
        ">>> ages[2:4]\n",
        "[63, 72]\n",
        ">>> ages[2:]\n",
        "[63, 72, 55, 24]\n",
        ">>> ages[:3]\n",
        "[12, 14, 63]\n",
        "write a function inverse_slice() that takes three arguments: a list items, an integer a and an integer b. The function should return a new list with the slice specified by items[a:b] excluded. For example:\n",
        "\n",
        ">>>inverse_slice([12, 14, 63, 72, 55, 24], 2, 4)\n",
        "[12, 14, 55, 24]\n",
        "The input will always be a valid list, a and b will always be different integers equal to or greater than zero, but they may be zero or be larger than the length of the list.'''\n",
        "\n",
        "def inverse_slice(items, a, b):\n",
        "    return items[:a] + items[b:]"
      ],
      "execution_count": 0,
      "outputs": []
    }
  ]
}