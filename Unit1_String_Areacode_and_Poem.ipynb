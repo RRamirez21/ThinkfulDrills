{
  "nbformat": 4,
  "nbformat_minor": 0,
  "metadata": {
    "colab": {
      "name": "Unit1_String_Areacode_and_Poem.ipynb",
      "version": "0.3.2",
      "views": {},
      "default_view": {},
      "provenance": []
    },
    "kernelspec": {
      "name": "python3",
      "display_name": "Python 3"
    }
  },
  "cells": [
    {
      "metadata": {
        "id": "eInFJ7Lopxvw",
        "colab_type": "code",
        "colab": {
          "autoexec": {
            "startup": false,
            "wait_interval": 0
          }
        }
      },
      "cell_type": "code",
      "source": [
        "'''You've got a bunch of textual data with embedded phone numbers. Write a function area_code() that finds and returns just the area code portion of the phone number.\n",
        "\n",
        ">>> message = \"The supplier's phone number is (555) 867-5309\"\n",
        ">>> area_code(message)\n",
        "'555'\n",
        "The returned area code should be a string, not a number. Every phone number is formatted like in the example, and the only non-alphanumeric characters in the string are apostrophes ' or the punctuation used in the phone number.'''\n",
        "\n",
        "def area_code(text):\n",
        "    start = text.find('(') + 1\n",
        "    end = text.find(')')\n",
        "    return text[start : end]"
      ],
      "execution_count": 0,
      "outputs": []
    },
    {
      "metadata": {
        "id": "hemIaHhzp7G_",
        "colab_type": "code",
        "colab": {
          "autoexec": {
            "startup": false,
            "wait_interval": 0
          }
        }
      },
      "cell_type": "code",
      "source": [
        "'''You have a collection of lovely poems. Unfortuantely they aren't formatted very well. They're all on one line, like this:\n",
        "\n",
        "Beautiful is better than ugly. Explicit is better than implicit. Simple is better than complex. Complex is better than complicated.\n",
        "What you want is to present each sentence on a new line, so that it looks like this:\n",
        "\n",
        "Beautiful is better than ugly.\n",
        "Explicit is better than implicit.\n",
        "Simple is better than complex.\n",
        "Complex is better than complicated.\n",
        "Write a function, format_poem() that takes a string like the one line example as an argument and returns a new string that is formatted across multiple lines with each new sentence starting on a new line when you print it out.\n",
        "\n",
        "Try to solve this challenge with the str.split() and the str.join() string methods.\n",
        "\n",
        "Every sentence will end with a period, and every new sentence will have one space before the previous period. Be careful about trailing whitespace in your solution.'''\n",
        "\n",
        "def format_poem(poem):\n",
        "    sentences = poem.split('. ')\n",
        "    lines = '.\\n'.join(sentences)\n",
        "    return lines"
      ],
      "execution_count": 0,
      "outputs": []
    }
  ]
}