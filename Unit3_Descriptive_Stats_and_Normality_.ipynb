{
  "nbformat": 4,
  "nbformat_minor": 0,
  "metadata": {
    "colab": {
      "name": "Unit3_Descriptive_Stats_and_Normality_.ipynb",
      "version": "0.3.2",
      "provenance": [],
      "collapsed_sections": []
    },
    "kernelspec": {
      "name": "python3",
      "display_name": "Python 3"
    }
  },
  "cells": [
    {
      "metadata": {
        "id": "XQNLtcoPjzid",
        "colab_type": "code",
        "colab": {}
      },
      "cell_type": "code",
      "source": [
        "\n",
        "'''Generate a random variable with 100 datapoints using the code distributionvar = np.random.distributionname([arguments], 100), replacing distributionvar with an appropriate variable name and distributionname with the name of the distribution you’ve chosen, and filling in the empty space in the parentheses with your chosen values for the appropriate parameters. If you feel uncertain about how to do this, go back to the “Other Distributions” assignment for examples of code to use as a starting point.'''\n",
        "\n",
        "import numpy as np\n",
        "import matplotlib.pyplot as plt\n",
        "randovar = np.random.normal(7,.5, 100)"
      ],
      "execution_count": 0,
      "outputs": []
    },
    {
      "metadata": {
        "id": "ZAqXphRllI09",
        "colab_type": "code",
        "colab": {
          "base_uri": "https://localhost:8080/",
          "height": 438
        },
        "outputId": "520bdac0-f16f-4bf6-d8e4-c9500ee2255c"
      },
      "cell_type": "code",
      "source": [
        "#Graph the variable using a histogram.\n",
        "\n",
        "plt.hist(randovar)"
      ],
      "execution_count": 20,
      "outputs": [
        {
          "output_type": "execute_result",
          "data": {
            "text/plain": [
              "(array([ 3.,  2.,  8., 12., 11., 14., 23., 18.,  6.,  3.]),\n",
              " array([5.74272889, 5.97249207, 6.20225526, 6.43201844, 6.66178163,\n",
              "        6.89154481, 7.121308  , 7.35107118, 7.58083436, 7.81059755,\n",
              "        8.04036073]),\n",
              " <a list of 10 Patch objects>)"
            ]
          },
          "metadata": {
            "tags": []
          },
          "execution_count": 20
        },
        {
          "output_type": "display_data",
          "data": {
            "image/png": "[encoded data removed]",
            "text/plain": [
              "<matplotlib.figure.Figure at 0x7f5b84aaabe0>"
            ]
          },
          "metadata": {
            "tags": []
          }
        }
      ]
    },
    {
      "metadata": {
        "id": "oTeWqXgDlbBJ",
        "colab_type": "code",
        "colab": {
          "base_uri": "https://localhost:8080/",
          "height": 347
        },
        "outputId": "7cff3415-af57-43ed-90fd-64252ea59c02"
      },
      "cell_type": "code",
      "source": [
        "'''Compute the mean and standard deviation and plot them as vertical lines on the histogram. (Hint: the “When Does It Break?” assignment you just completed can help you here.)'''\n",
        "\n",
        "\n",
        "mean = np.mean(randovar)\n",
        "sd = np.std(randovar)\n",
        "\n",
        "plt.hist(randovar)\n",
        "plt.axvline(x=mean,color='green')\n",
        "plt.axvline(x=mean+sd,color='red')\n",
        "plt.axvline(x=mean-sd,color='red')\n",
        "plt.show()\n"
      ],
      "execution_count": 19,
      "outputs": [
        {
          "output_type": "display_data",
          "data": {
            "image/png": "[encoded data removed]",
            "text/plain": [
              "<matplotlib.figure.Figure at 0x7f5b84b36c18>"
            ]
          },
          "metadata": {
            "tags": []
          }
        }
      ]
    },
    {
      "metadata": {
        "id": "wf_U7yKKmz7t",
        "colab_type": "text"
      },
      "cell_type": "markdown",
      "source": [
        "In this case, the descriptive statistics show us the skew of results. We also see the mode lies betwen the mean and next standard deviation."
      ]
    },
    {
      "metadata": {
        "id": "sfJ2i1RLitFU",
        "colab_type": "code",
        "colab": {
          "base_uri": "https://localhost:8080/",
          "height": 365
        },
        "outputId": "74cfa741-7fd0-45b2-fdae-cc907deb19b9"
      },
      "cell_type": "code",
      "source": [
        "'''Generate a random variable with 100 datapoints using the code distributionvar = np.random.distributionname([arguments], 100), replacing distributionvar with an appropriate variable name and distributionname with the name of the distribution you’ve chosen, and filling in the empty space in the parentheses with your chosen values for the appropriate parameters. If you feel uncertain about how to do this, go back to the “Other Distributions” assignment for examples of code to use as a starting point.'''\n",
        "\n",
        "import numpy as np\n",
        "import matplotlib.pyplot as plt\n",
        "var1 = np.random.normal(5,.5, 100)\n",
        "var2 = np.random.normal(10,1, 100)\n",
        "var3 = var1+var2\n",
        "\n",
        "mean = np.mean(var3)\n",
        "sd = np.std(var3)\n",
        "\n",
        "plt.hist(var3)\n",
        "plt.axvline(x=mean,color='red')\n",
        "plt.axvline(x=mean+sd, color='yellow')\n",
        "plt.axvline(x=mean-sd, color='yellow')\n",
        "plt.show()\n",
        "print('In general, our statistics will show some skew. However, the overall results will vary depending on the random seed.')"
      ],
      "execution_count": 21,
      "outputs": [
        {
          "output_type": "display_data",
          "data": {
            "image/png": "[encoded data removed]",
            "text/plain": [
              "<matplotlib.figure.Figure at 0x7f5b84a64e48>"
            ]
          },
          "metadata": {
            "tags": []
          }
        },
        {
          "output_type": "stream",
          "text": [
            "In general, our statistics will show some skew. However, the overall results will vary depending on the random seed.\n"
          ],
          "name": "stdout"
        }
      ]
    },
    {
      "metadata": {
        "id": "tthClfjCja3d",
        "colab_type": "code",
        "colab": {}
      },
      "cell_type": "code",
      "source": [
        ""
      ],
      "execution_count": 0,
      "outputs": []
    }
  ]
}