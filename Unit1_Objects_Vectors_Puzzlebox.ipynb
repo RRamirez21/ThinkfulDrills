{
  "nbformat": 4,
  "nbformat_minor": 0,
  "metadata": {
    "colab": {
      "name": "Unit1_Objects_Vectors_Puzzlebox.ipynb",
      "version": "0.3.2",
      "views": {},
      "default_view": {},
      "provenance": []
    },
    "kernelspec": {
      "name": "python3",
      "display_name": "Python 3"
    }
  },
  "cells": [
    {
      "metadata": {
        "id": "skPIKM7Ivl6q",
        "colab_type": "code",
        "colab": {
          "autoexec": {
            "startup": false,
            "wait_interval": 0
          }
        }
      },
      "cell_type": "code",
      "source": [
        "'''Create a Vector class with x and a y attributes that represent component magnitudes in the x and y directions.\n",
        "\n",
        "Your vectors should handle vector additon with an .add() method that takes a second vector as an argument and returns a new vector equal to the sum of the vector you call .add() on and the vector you pass in.\n",
        "\n",
        "For example:\n",
        "\n",
        ">>> a = Vector(3, 4)\n",
        ">>> a.x\n",
        "3\n",
        ">>> a.y\n",
        "4\n",
        ">>> b = Vector(1, 2)\n",
        ">>> c = a.add(b)\n",
        ">>> c.x\n",
        "4\n",
        ">>> c.y\n",
        "6\n",
        "Adding vectors when you have their components is easy: just add the two x components together and the two y components together to get the x and y components for the vector sum.'''\n",
        "\n",
        "class Vector(object):\n",
        "    def __init__(self, x, y):\n",
        "        self.x = x\n",
        "        self.y = y\n",
        "    \n",
        "    def add(self, other):\n",
        "        return Vector(self.x + other.x, self.y + other.y)"
      ],
      "execution_count": 0,
      "outputs": []
    },
    {
      "metadata": {
        "id": "QecECPK_wHMF",
        "colab_type": "code",
        "colab": {
          "autoexec": {
            "startup": false,
            "wait_interval": 0
          }
        }
      },
      "cell_type": "code",
      "source": [
        "#You're given a mystery puzzlebox object. Examine it to make the tests pass and solve this kata.\n",
        "\n",
        "def answer(puzzlebox):\n",
        "    return(42)"
      ],
      "execution_count": 0,
      "outputs": []
    },
    {
      "metadata": {
        "id": "YHWy5fJfwP2i",
        "colab_type": "code",
        "colab": {
          "autoexec": {
            "startup": false,
            "wait_interval": 0
          }
        }
      },
      "cell_type": "code",
      "source": [
        ""
      ],
      "execution_count": 0,
      "outputs": []
    }
  ]
}