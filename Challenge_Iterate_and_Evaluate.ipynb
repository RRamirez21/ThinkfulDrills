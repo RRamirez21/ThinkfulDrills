{
  "nbformat": 4,
  "nbformat_minor": 0,
  "metadata": {
    "colab": {
      "name": "Challenge:Iterate_and_Evaluate.ipynb",
      "version": "0.3.2",
      "provenance": [],
      "collapsed_sections": []
    },
    "kernelspec": {
      "name": "python3",
      "display_name": "Python 3"
    }
  },
  "cells": [
    {
      "metadata": {
        "id": "HE56_9A9Cljj",
        "colab_type": "text"
      },
      "cell_type": "markdown",
      "source": [
        "# Challenge: Iterate and evaluate your classifier\n",
        "\n",
        "It's time to revisit your classifier from the previous assignment. Using the evaluation techniques we've covered here, look at your classifier's performance in more detail. Then go back and iterate by engineering new features, removing poor features, or tuning parameters. Repeat this process until you have five different versions of your classifier. Once you've iterated, answer these questions to compare the performance of each:\n",
        "\n",
        "1. Do any of your classifiers seem to overfit?\n",
        "2. Which seem to perform the best? Why?\n",
        "3. Which features seemed to be most impactful to performance?"
      ]
    },
    {
      "metadata": {
        "id": "vqp3NiC_CaB6",
        "colab_type": "code",
        "colab": {}
      },
      "cell_type": "code",
      "source": [
        "%matplotlib inline\n",
        "import numpy as np\n",
        "import pandas as pd\n",
        "import scipy\n",
        "import sklearn\n",
        "import matplotlib.pyplot as plt\n",
        "import seaborn as sns"
      ],
      "execution_count": 0,
      "outputs": []
    },
    {
      "metadata": {
        "id": "tGT8p4O8LMwn",
        "colab_type": "code",
        "outputId": "980fbdc9-8b9a-47db-b620-f8c49b0d0f13",
        "colab": {
          "base_uri": "https://localhost:8080/",
          "height": 102
        }
      },
      "cell_type": "code",
      "source": [
        "!pip install requests"
      ],
      "execution_count": 2,
      "outputs": [
        {
          "output_type": "stream",
          "text": [
            "Requirement already satisfied: requests in /usr/local/lib/python3.6/dist-packages (2.18.4)\n",
            "Requirement already satisfied: certifi>=2017.4.17 in /usr/local/lib/python3.6/dist-packages (from requests) (2018.10.15)\n",
            "Requirement already satisfied: idna<2.7,>=2.5 in /usr/local/lib/python3.6/dist-packages (from requests) (2.6)\n",
            "Requirement already satisfied: chardet<3.1.0,>=3.0.2 in /usr/local/lib/python3.6/dist-packages (from requests) (3.0.4)\n",
            "Requirement already satisfied: urllib3<1.23,>=1.21.1 in /usr/local/lib/python3.6/dist-packages (from requests) (1.22)\n"
          ],
          "name": "stdout"
        }
      ]
    },
    {
      "metadata": {
        "id": "PY1ORu97DOQe",
        "colab_type": "code",
        "colab": {}
      },
      "cell_type": "code",
      "source": [
        "data_path = (\"https://raw.githubusercontent.com/RRamirez21/ThinkfulDrills/master/imdb_labelled.txt\")\n",
        "sms_raw = pd.read_csv(data_path, delimiter= '\\t', header=None)\n",
        "sms_raw.columns = ['statement', 'positive']"
      ],
      "execution_count": 0,
      "outputs": []
    },
    {
      "metadata": {
        "id": "e5IXmTnbDTFp",
        "colab_type": "code",
        "outputId": "b7b82593-f8a9-4f4e-ba50-99901ef21c95",
        "colab": {
          "base_uri": "https://localhost:8080/",
          "height": 142
        }
      },
      "cell_type": "code",
      "source": [
        "sms_raw.head(3)"
      ],
      "execution_count": 4,
      "outputs": [
        {
          "output_type": "execute_result",
          "data": {
            "text/html": [
              "<div>\n",
              "<style scoped>\n",
              "    .dataframe tbody tr th:only-of-type {\n",
              "        vertical-align: middle;\n",
              "    }\n",
              "\n",
              "    .dataframe tbody tr th {\n",
              "        vertical-align: top;\n",
              "    }\n",
              "\n",
              "    .dataframe thead th {\n",
              "        text-align: right;\n",
              "    }\n",
              "</style>\n",
              "<table border=\"1\" class=\"dataframe\">\n",
              "  <thead>\n",
              "    <tr style=\"text-align: right;\">\n",
              "      <th></th>\n",
              "      <th>statement</th>\n",
              "      <th>positive</th>\n",
              "    </tr>\n",
              "  </thead>\n",
              "  <tbody>\n",
              "    <tr>\n",
              "      <th>0</th>\n",
              "      <td>A very, very, very slow-moving, aimless movie ...</td>\n",
              "      <td>0</td>\n",
              "    </tr>\n",
              "    <tr>\n",
              "      <th>1</th>\n",
              "      <td>Not sure who was more lost - the flat characte...</td>\n",
              "      <td>0</td>\n",
              "    </tr>\n",
              "    <tr>\n",
              "      <th>2</th>\n",
              "      <td>Attempting artiness with black &amp; white and cle...</td>\n",
              "      <td>0</td>\n",
              "    </tr>\n",
              "  </tbody>\n",
              "</table>\n",
              "</div>"
            ],
            "text/plain": [
              "                                           statement  positive\n",
              "0  A very, very, very slow-moving, aimless movie ...         0\n",
              "1  Not sure who was more lost - the flat characte...         0\n",
              "2  Attempting artiness with black & white and cle...         0"
            ]
          },
          "metadata": {
            "tags": []
          },
          "execution_count": 4
        }
      ]
    },
    {
      "metadata": {
        "id": "79SWyB4kDQ7x",
        "colab_type": "code",
        "colab": {}
      },
      "cell_type": "code",
      "source": [
        "site = data_path"
      ],
      "execution_count": 0,
      "outputs": []
    },
    {
      "metadata": {
        "id": "Ie4SRUOGDYYC",
        "colab_type": "text"
      },
      "cell_type": "markdown",
      "source": [
        "We remove the casing and punctuation from our statement feature, as we don't believe that it will affect the prediction of whether a statement has a positive or negative sentiment."
      ]
    },
    {
      "metadata": {
        "id": "4w_0yDO_DUU0",
        "colab_type": "code",
        "colab": {}
      },
      "cell_type": "code",
      "source": [
        "sms_raw['statement'] = sms_raw['statement'].str.lower()"
      ],
      "execution_count": 0,
      "outputs": []
    },
    {
      "metadata": {
        "id": "MfEGRgaPDa6x",
        "colab_type": "code",
        "colab": {}
      },
      "cell_type": "code",
      "source": [
        "sms_raw['statement'].replace(',.!-:','',regex=True,inplace=True)"
      ],
      "execution_count": 0,
      "outputs": []
    },
    {
      "metadata": {
        "id": "cwk1zwZQDddi",
        "colab_type": "code",
        "outputId": "144a6362-7ba1-4272-9014-408f536d51ec",
        "colab": {
          "base_uri": "https://localhost:8080/",
          "height": 34
        }
      },
      "cell_type": "code",
      "source": [
        "sms_raw['positive'].unique()"
      ],
      "execution_count": 8,
      "outputs": [
        {
          "output_type": "execute_result",
          "data": {
            "text/plain": [
              "array([0, 1])"
            ]
          },
          "metadata": {
            "tags": []
          },
          "execution_count": 8
        }
      ]
    },
    {
      "metadata": {
        "id": "j-fk7eN7De-l",
        "colab_type": "code",
        "outputId": "e7fb61cd-830a-4c1b-a0b0-d25ea28eed41",
        "colab": {
          "base_uri": "https://localhost:8080/",
          "height": 34
        }
      },
      "cell_type": "code",
      "source": [
        "sms_raw.shape[0]"
      ],
      "execution_count": 9,
      "outputs": [
        {
          "output_type": "execute_result",
          "data": {
            "text/plain": [
              "748"
            ]
          },
          "metadata": {
            "tags": []
          },
          "execution_count": 9
        }
      ]
    },
    {
      "metadata": {
        "id": "Zf33AA-PDm3c",
        "colab_type": "text"
      },
      "cell_type": "markdown",
      "source": [
        "The dataset is well balanced, with a ~2% difference in the number of negative vs positive comments."
      ]
    },
    {
      "metadata": {
        "id": "mi9gZY4QDq6W",
        "colab_type": "code",
        "outputId": "2fad9cf9-5a47-4cda-b889-9386004dceb3",
        "colab": {
          "base_uri": "https://localhost:8080/",
          "height": 34
        }
      },
      "cell_type": "code",
      "source": [
        "percentageOfPositiveComments = (sms_raw['positive'].sum() / sms_raw.shape[0]) * 100\n",
        "print(\"The percentage of ṕositive comments is \" + str(percentageOfPositiveComments) )"
      ],
      "execution_count": 10,
      "outputs": [
        {
          "output_type": "stream",
          "text": [
            "The percentage of ṕositive comments is 51.60427807486631\n"
          ],
          "name": "stdout"
        }
      ]
    },
    {
      "metadata": {
        "id": "yahq1CcaDuBA",
        "colab_type": "code",
        "colab": {}
      },
      "cell_type": "code",
      "source": [
        "keywords = ['best', 'good', 'great', 'exciting', 'excellent', 'awesome', 'cool', 'amazing', 'well', 'better', 'memorable', 'unforgettable', 'moving']\n",
        "\n",
        "for key in keywords:\n",
        "\n",
        "    sms_raw[str(key)] = sms_raw.statement.str.contains(\n",
        "        ' ' + str(key) + ' ',\n",
        "        case=False\n",
        "    )"
      ],
      "execution_count": 0,
      "outputs": []
    },
    {
      "metadata": {
        "id": "TvKkKFnKDxGv",
        "colab_type": "code",
        "outputId": "b4fe97f1-df12-4096-e1f2-f653285f7197",
        "colab": {
          "base_uri": "https://localhost:8080/",
          "height": 331
        }
      },
      "cell_type": "code",
      "source": [
        "sns.heatmap(sms_raw.corr())"
      ],
      "execution_count": 12,
      "outputs": [
        {
          "output_type": "execute_result",
          "data": {
            "text/plain": [
              "<matplotlib.axes._subplots.AxesSubplot at 0x7fdaaa4c4d30>"
            ]
          },
          "metadata": {
            "tags": []
          },
          "execution_count": 12
        },
        {
          "output_type": "display_data",
          "data": {
            "image/png": "[encoded data removed]",
            "text/plain": [
              "<matplotlib.figure.Figure at 0x7fdaaa97edd8>"
            ]
          },
          "metadata": {
            "tags": []
          }
        }
      ]
    },
    {
      "metadata": {
        "id": "fX_6PejJDzjs",
        "colab_type": "code",
        "colab": {}
      },
      "cell_type": "code",
      "source": [
        "data = sms_raw[keywords]\n",
        "target = sms_raw['positive']"
      ],
      "execution_count": 0,
      "outputs": []
    },
    {
      "metadata": {
        "id": "aa3AREPuD2IF",
        "colab_type": "code",
        "outputId": "96c22e15-dd56-4642-d6d1-223d254e3cbd",
        "colab": {
          "base_uri": "https://localhost:8080/",
          "height": 34
        }
      },
      "cell_type": "code",
      "source": [
        "from sklearn.naive_bayes import BernoulliNB\n",
        "\n",
        "bnb = BernoulliNB()\n",
        "\n",
        "bnb.fit(data, target)\n",
        "\n",
        "y_pred = bnb.predict(data)\n",
        "\n",
        "print(\"The number of mislabeled points out of a total {} points : {}\".format(\n",
        "    data.shape[0],\n",
        "    (target != y_pred).sum()\n",
        "))"
      ],
      "execution_count": 14,
      "outputs": [
        {
          "output_type": "stream",
          "text": [
            "The number of mislabeled points out of a total 748 points : 331\n"
          ],
          "name": "stdout"
        }
      ]
    },
    {
      "metadata": {
        "id": "RexAIYsoHbZf",
        "colab_type": "text"
      },
      "cell_type": "markdown",
      "source": [
        "## First Iteration\n",
        "We compare the keyword search to the actual percentage of Positive comments."
      ]
    },
    {
      "metadata": {
        "id": "829KFShL_869",
        "colab_type": "code",
        "outputId": "d23d3f60-6ab4-4476-fb7a-e76001ac2f48",
        "colab": {
          "base_uri": "https://localhost:8080/",
          "height": 34
        }
      },
      "cell_type": "code",
      "source": [
        "accuracy = ((target == y_pred).sum()/(data.shape[0]))\n",
        "print(\"The acuracy of our keyword search is is \" + str(accuracy))"
      ],
      "execution_count": 15,
      "outputs": [
        {
          "output_type": "stream",
          "text": [
            "The acuracy of our keyword search is is 0.5574866310160428\n"
          ],
          "name": "stdout"
        }
      ]
    },
    {
      "metadata": {
        "id": "5by3AKUCZbO3",
        "colab_type": "code",
        "outputId": "2e469b30-679e-44de-c0c6-a28afcdd93a6",
        "colab": {
          "base_uri": "https://localhost:8080/",
          "height": 85
        }
      },
      "cell_type": "code",
      "source": [
        "def computeConfusionMatrix(y_pred, target):\n",
        "  TP = 0 \n",
        "  TN = 0\n",
        "  FP = 0\n",
        "  FN = 0 \n",
        "  \n",
        "  for index, value in enumerate(y_pred):\n",
        "    #count true_positives\n",
        "    if y_pred[index] == 1 and target[index] == 1: \n",
        "      TP = TP + 1\n",
        "    #count false positives\n",
        "    if y_pred[index] == 1 and target[index] == 0:\n",
        "      FP = FP + 1\n",
        "    #count true negatives\n",
        "    if y_pred[index] == 0 and target[index] == 0:\n",
        "      TN = TN + 1\n",
        "    #count false negatives\n",
        "    if y_pred[index] == 0 and target[index] == 1:\n",
        "      FN = FN + 1\n",
        "    \n",
        "      \n",
        "  return TP, TN, FP, FN\n",
        "       \n",
        "def accuracy(TP, TN, FP, FN):\n",
        "  return (TP + TN) / (TP + TN + FP + FN )\n",
        " \n",
        "def precision(TP, FP):\n",
        "  return (TP / (TP + FP))\n",
        "\n",
        "# aka sensitivity\n",
        "def recall(TP, FN):\n",
        "  return (TP / (TP + FN))\n",
        "\n",
        "# aka Dice similarity coefficient\n",
        "def f1Measure(precision, recall):\n",
        "  return (2 * precision * recall) / (precision + recall)\n",
        "\n",
        "\n",
        "TP, TN, FP, FN = computeConfusionMatrix(y_pred, target)\n",
        "\n",
        "acc = accuracy(TP, TN, FP, FN)\n",
        "print(\"accuracy = \" + str(acc))\n",
        "\n",
        "prec = precision(TP, FP )\n",
        "print(\"precision = \" + str(prec))\n",
        "\n",
        "rec = recall(TP, FN)\n",
        "print(\"recall = \" + str(rec))\n",
        "\n",
        "f1 = f1Measure(prec, rec)\n",
        "print(\"f1 = \" + str(f1))"
      ],
      "execution_count": 16,
      "outputs": [
        {
          "output_type": "stream",
          "text": [
            "accuracy = 0.5574866310160428\n",
            "precision = 0.7777777777777778\n",
            "recall = 0.19948186528497408\n",
            "f1 = 0.31752577319587627\n"
          ],
          "name": "stdout"
        }
      ]
    },
    {
      "metadata": {
        "id": "K1CsqhjJiE7W",
        "colab_type": "text"
      },
      "cell_type": "markdown",
      "source": [
        "## Second Iteration\n",
        "We compute the accuracy using the Gaussian method."
      ]
    },
    {
      "metadata": {
        "id": "SucBs54Xeo_I",
        "colab_type": "code",
        "outputId": "bce19450-0e3f-4c51-ea37-57d7bcaabb46",
        "colab": {
          "base_uri": "https://localhost:8080/",
          "height": 51
        }
      },
      "cell_type": "code",
      "source": [
        "from sklearn.model_selection import cross_val_score\n",
        "cross_val_score(bnb, data, target, cv=10)"
      ],
      "execution_count": 17,
      "outputs": [
        {
          "output_type": "execute_result",
          "data": {
            "text/plain": [
              "array([0.53947368, 0.55263158, 0.6       , 0.50666667, 0.57333333,\n",
              "       0.52      , 0.64864865, 0.52702703, 0.52702703, 0.5       ])"
            ]
          },
          "metadata": {
            "tags": []
          },
          "execution_count": 17
        }
      ]
    },
    {
      "metadata": {
        "id": "9Eq6k7hke6Wb",
        "colab_type": "code",
        "outputId": "8d388428-bf7e-4345-bf33-c7691736667c",
        "colab": {
          "base_uri": "https://localhost:8080/",
          "height": 51
        }
      },
      "cell_type": "code",
      "source": [
        "from sklearn.naive_bayes import GaussianNB\n",
        "gnb = GaussianNB()\n",
        "\n",
        "data = sms_raw[keywords]\n",
        "gnb.fit(data, target)\n",
        "\n",
        "y_predTwo = gnb.predict(data)\n",
        "\n",
        "print(\"The number of mislabeled points out of a total {} points : {}\".format(\n",
        "    data.shape[0],\n",
        "    (target != y_predTwo).sum()\n",
        "))\n",
        "\n",
        "print(\"The Gaussian approach appears to be less accurate.\")"
      ],
      "execution_count": 18,
      "outputs": [
        {
          "output_type": "stream",
          "text": [
            "The number of mislabeled points out of a total 748 points : 360\n",
            "The Gaussian approach appears to be less accurate.\n"
          ],
          "name": "stdout"
        }
      ]
    },
    {
      "metadata": {
        "id": "eXaoREchfeVV",
        "colab_type": "code",
        "outputId": "83c4e3d6-395a-4dc9-953e-7f3714b434be",
        "colab": {
          "base_uri": "https://localhost:8080/",
          "height": 85
        }
      },
      "cell_type": "code",
      "source": [
        "\n",
        "#np.int_\n",
        "TP, TN, FP, FN = computeConfusionMatrix(np.int_(y_predTwo), target)\n",
        "\n",
        "acc = accuracy(TP, TN, FP, FN)\n",
        "print(\"accuracy = \" + str(acc))\n",
        "\n",
        "prec = precision(TP, FP )\n",
        "print(\"precision = \" + str(prec))\n",
        "\n",
        "rec = recall(TP, FN)\n",
        "print(\"recall = \" + str(rec))\n",
        "\n",
        "f1 = f1Measure(prec, rec)\n",
        "print(\"f1 = \" + str(f1))"
      ],
      "execution_count": 19,
      "outputs": [
        {
          "output_type": "stream",
          "text": [
            "accuracy = 0.5187165775401069\n",
            "precision = 0.8421052631578947\n",
            "recall = 0.08290155440414508\n",
            "f1 = 0.15094339622641512\n"
          ],
          "name": "stdout"
        }
      ]
    },
    {
      "metadata": {
        "id": "xxEFhgfcJG49",
        "colab_type": "text"
      },
      "cell_type": "markdown",
      "source": [
        "## Third Iteration\n",
        "Instead of the simple keywords, we reference dictionaries for positive and negative words and compare to our keyword search."
      ]
    },
    {
      "metadata": {
        "id": "nPRAXdZ3D6yD",
        "colab_type": "code",
        "outputId": "6ab2307f-3d1b-4d6d-8f34-62115dbeefc5",
        "colab": {
          "base_uri": "https://localhost:8080/",
          "height": 204
        }
      },
      "cell_type": "code",
      "source": [
        "pos_words = (\"https://raw.githubusercontent.com/andandandand/CSV-datasets/master/positive-words.txt\") \n",
        "neg_words = (\"https://raw.githubusercontent.com/andandandand/CSV-datasets/master/negative-words.txt\")\n",
        "\n",
        "pos = pd.read_csv(pos_words)\n",
        "neg = pd.read_csv(neg_words)\n",
        "\n",
        "pos.head(5)"
      ],
      "execution_count": 20,
      "outputs": [
        {
          "output_type": "execute_result",
          "data": {
            "text/html": [
              "<div>\n",
              "<style scoped>\n",
              "    .dataframe tbody tr th:only-of-type {\n",
              "        vertical-align: middle;\n",
              "    }\n",
              "\n",
              "    .dataframe tbody tr th {\n",
              "        vertical-align: top;\n",
              "    }\n",
              "\n",
              "    .dataframe thead th {\n",
              "        text-align: right;\n",
              "    }\n",
              "</style>\n",
              "<table border=\"1\" class=\"dataframe\">\n",
              "  <thead>\n",
              "    <tr style=\"text-align: right;\">\n",
              "      <th></th>\n",
              "      <th>positive-words</th>\n",
              "    </tr>\n",
              "  </thead>\n",
              "  <tbody>\n",
              "    <tr>\n",
              "      <th>0</th>\n",
              "      <td>a+</td>\n",
              "    </tr>\n",
              "    <tr>\n",
              "      <th>1</th>\n",
              "      <td>abound</td>\n",
              "    </tr>\n",
              "    <tr>\n",
              "      <th>2</th>\n",
              "      <td>abounds</td>\n",
              "    </tr>\n",
              "    <tr>\n",
              "      <th>3</th>\n",
              "      <td>abundance</td>\n",
              "    </tr>\n",
              "    <tr>\n",
              "      <th>4</th>\n",
              "      <td>abundant</td>\n",
              "    </tr>\n",
              "  </tbody>\n",
              "</table>\n",
              "</div>"
            ],
            "text/plain": [
              "  positive-words\n",
              "0             a+\n",
              "1         abound\n",
              "2        abounds\n",
              "3      abundance\n",
              "4       abundant"
            ]
          },
          "metadata": {
            "tags": []
          },
          "execution_count": 20
        }
      ]
    },
    {
      "metadata": {
        "id": "nY63I8YWEFCA",
        "colab_type": "code",
        "outputId": "c3e4847b-6fcd-490e-c5a8-0a4aa9a06fb4",
        "colab": {
          "base_uri": "https://localhost:8080/",
          "height": 204
        }
      },
      "cell_type": "code",
      "source": [
        "neg.head(5)"
      ],
      "execution_count": 21,
      "outputs": [
        {
          "output_type": "execute_result",
          "data": {
            "text/html": [
              "<div>\n",
              "<style scoped>\n",
              "    .dataframe tbody tr th:only-of-type {\n",
              "        vertical-align: middle;\n",
              "    }\n",
              "\n",
              "    .dataframe tbody tr th {\n",
              "        vertical-align: top;\n",
              "    }\n",
              "\n",
              "    .dataframe thead th {\n",
              "        text-align: right;\n",
              "    }\n",
              "</style>\n",
              "<table border=\"1\" class=\"dataframe\">\n",
              "  <thead>\n",
              "    <tr style=\"text-align: right;\">\n",
              "      <th></th>\n",
              "      <th>negative-words</th>\n",
              "    </tr>\n",
              "  </thead>\n",
              "  <tbody>\n",
              "    <tr>\n",
              "      <th>0</th>\n",
              "      <td>2-faced</td>\n",
              "    </tr>\n",
              "    <tr>\n",
              "      <th>1</th>\n",
              "      <td>2-faces</td>\n",
              "    </tr>\n",
              "    <tr>\n",
              "      <th>2</th>\n",
              "      <td>abnormal</td>\n",
              "    </tr>\n",
              "    <tr>\n",
              "      <th>3</th>\n",
              "      <td>abolish</td>\n",
              "    </tr>\n",
              "    <tr>\n",
              "      <th>4</th>\n",
              "      <td>abominable</td>\n",
              "    </tr>\n",
              "  </tbody>\n",
              "</table>\n",
              "</div>"
            ],
            "text/plain": [
              "  negative-words\n",
              "0        2-faced\n",
              "1        2-faces\n",
              "2       abnormal\n",
              "3        abolish\n",
              "4     abominable"
            ]
          },
          "metadata": {
            "tags": []
          },
          "execution_count": 21
        }
      ]
    },
    {
      "metadata": {
        "id": "WLHpC7UfBhc3",
        "colab_type": "code",
        "colab": {}
      },
      "cell_type": "code",
      "source": [
        "sent_words = [pos, neg]"
      ],
      "execution_count": 0,
      "outputs": []
    },
    {
      "metadata": {
        "id": "G4hs2RqEBwo3",
        "colab_type": "code",
        "colab": {}
      },
      "cell_type": "code",
      "source": [
        "import requests\n",
        "\n",
        "import io\n",
        "\n",
        "def build_site_dataframe(website_reviews):\n",
        "    wr = requests.get(website_reviews).content\n",
        "    df = pd.read_table(io.StringIO(wr.decode('utf-8')), \n",
        "                       delimiter='\\t\\d\\n', header=None)\n",
        "    df = df[0].str.split(pat='\\t', n=-1, expand=True)\n",
        "    df = df.rename(columns={0: 'review', 1: 'sentiment'})\n",
        "    df = df[['sentiment', 'review']]\n",
        "    return df"
      ],
      "execution_count": 0,
      "outputs": []
    },
    {
      "metadata": {
        "id": "t1vVIaW_B0Ey",
        "colab_type": "code",
        "colab": {}
      },
      "cell_type": "code",
      "source": [
        "def add_sent_words_to_df(df, sent_words):\n",
        "    for sent in sent_words:\n",
        "        for word in sent.iloc[:,0]:\n",
        "            df[str(word)] = df['review'].str.lower().str.contains(str(word), regex=False)\n",
        "    return df"
      ],
      "execution_count": 0,
      "outputs": []
    },
    {
      "metadata": {
        "id": "KeEyAZ9MCLzS",
        "colab_type": "code",
        "colab": {}
      },
      "cell_type": "code",
      "source": [
        "def run_bernoulli(prepped_df, site):\n",
        "    data_two = prepped_df.iloc[:,2:] # why do we do this selection? \n",
        "    target_two = prepped_df['sentiment']\n",
        "\n",
        "    from sklearn.naive_bayes import BernoulliNB\n",
        "\n",
        "    bnb = BernoulliNB()\n",
        "\n",
        "    bnb.fit(data_two, target_two)\n",
        "\n",
        "    y_pred = bnb.predict(data_two)\n",
        "\n",
        "    print(site[site.rfind('/')+1:site.rfind('_')])\n",
        "    print(\"Number of mislabeled points out of a total {} points : {}\".format(data_two.shape[0], \n",
        "                                                                             (target_two != y_pred).sum()))\n",
        "    print('Testing on Sample (Accuracy): ' + str(bnb.score(data_two, target_two)))\n",
        "    print('\\n')\n",
        "    \n",
        "    return y_pred"
      ],
      "execution_count": 0,
      "outputs": []
    },
    {
      "metadata": {
        "id": "75MRQgT0DT7f",
        "colab_type": "code",
        "outputId": "6845e6f3-dbc8-4087-9cc7-118f9a634f28",
        "colab": {
          "base_uri": "https://localhost:8080/",
          "height": 156
        }
      },
      "cell_type": "code",
      "source": [
        "bernoulliPred = run_bernoulli(add_sent_words_to_df(build_site_dataframe(site), sent_words), site)"
      ],
      "execution_count": 26,
      "outputs": [
        {
          "output_type": "stream",
          "text": [
            "/usr/local/lib/python3.6/dist-packages/ipykernel_launcher.py:8: ParserWarning: Falling back to the 'python' engine because the 'c' engine does not support regex separators (separators > 1 char and different from '\\s+' are interpreted as regex); you can avoid this warning by specifying engine='python'.\n",
            "  \n"
          ],
          "name": "stderr"
        },
        {
          "output_type": "stream",
          "text": [
            "imdb\n",
            "Number of mislabeled points out of a total 1000 points : 123\n",
            "Testing on Sample (Accuracy): 0.877\n",
            "\n",
            "\n"
          ],
          "name": "stdout"
        }
      ]
    },
    {
      "metadata": {
        "id": "SWBilhRUku4K",
        "colab_type": "code",
        "outputId": "d813d5d7-6c23-464e-a73f-324295de3c9f",
        "colab": {
          "base_uri": "https://localhost:8080/",
          "height": 34
        }
      },
      "cell_type": "code",
      "source": [
        "np.unique(bernoulliPred)"
      ],
      "execution_count": 27,
      "outputs": [
        {
          "output_type": "execute_result",
          "data": {
            "text/plain": [
              "array(['0', '1'], dtype='<U1')"
            ]
          },
          "metadata": {
            "tags": []
          },
          "execution_count": 27
        }
      ]
    },
    {
      "metadata": {
        "id": "piE6LF5rJpAU",
        "colab_type": "text"
      },
      "cell_type": "markdown",
      "source": [
        "## Fourth Iteration\n",
        "We add a count of positive words and count of negative words as features."
      ]
    },
    {
      "metadata": {
        "id": "KjZ_t46QEGhw",
        "colab_type": "code",
        "colab": {
          "base_uri": "https://localhost:8080/",
          "height": 51
        },
        "outputId": "39c2fdd1-dcbc-4307-dfc2-2e944d3fbabb"
      },
      "cell_type": "code",
      "source": [
        "posCount = (target != y_pred).sum()\n",
        "negCount = 748 - posCount\n",
        "print(posCount)\n",
        "print(negCount)"
      ],
      "execution_count": 30,
      "outputs": [
        {
          "output_type": "stream",
          "text": [
            "331\n",
            "417\n"
          ],
          "name": "stdout"
        }
      ]
    },
    {
      "metadata": {
        "id": "ZFp6J1YjJwU7",
        "colab_type": "text"
      },
      "cell_type": "markdown",
      "source": [
        "## Fifth Iteration\n",
        "We add the difference between positive and negative words as features."
      ]
    },
    {
      "metadata": {
        "id": "RxR0m8hmEJK3",
        "colab_type": "code",
        "colab": {
          "base_uri": "https://localhost:8080/",
          "height": 34
        },
        "outputId": "e6470ba7-de2e-422f-b7dd-6e8abeba6264"
      },
      "cell_type": "code",
      "source": [
        "fifthIteration = posCount - negCount\n",
        "print(fifthIteration)"
      ],
      "execution_count": 31,
      "outputs": [
        {
          "output_type": "stream",
          "text": [
            "-86\n"
          ],
          "name": "stdout"
        }
      ]
    }
  ]
}