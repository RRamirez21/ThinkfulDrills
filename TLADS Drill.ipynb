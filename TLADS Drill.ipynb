{
  "nbformat": 4,
  "nbformat_minor": 0,
  "metadata": {
    "colab": {
      "name": "TLADS_Drill.ipynb",
      "version": "0.3.2",
      "provenance": [],
      "collapsed_sections": []
    },
    "kernelspec": {
      "name": "python3",
      "display_name": "Python 3"
    }
  },
  "cells": [
    {
      "metadata": {
        "id": "2I6M52xMUB6Q",
        "colab_type": "text"
      },
      "cell_type": "markdown",
      "source": [
        "# TLADS Drill\n",
        "\n",
        "Categorize each of the variables in the [ESS dataset](https://thinkful-ed.github.io/data-201-resources/ESS_practice_data/ESS_codebook.html) as categorical or continuous, and if continuous as ordinal, interval, or ratio variables."
      ]
    },
    {
      "metadata": {
        "id": "QJGbAA9oUcSn",
        "colab_type": "text"
      },
      "cell_type": "markdown",
      "source": [
        "**Country** is an categorical variable."
      ]
    },
    {
      "metadata": {
        "id": "nsokSpdVUdn7",
        "colab_type": "text"
      },
      "cell_type": "markdown",
      "source": [
        "**Year** is a ratio variable because it indicates rank, distance, and has a meaningful absolute zero value."
      ]
    },
    {
      "metadata": {
        "id": "uyH6wWHtUfoe",
        "colab_type": "text"
      },
      "cell_type": "markdown",
      "source": [
        "**Respondent ID number** is an ordinal variable because it is ranked alphabetically and does not indicate distance or a meaningful absolute zero value."
      ]
    },
    {
      "metadata": {
        "id": "t-Ezk22LUhs3",
        "colab_type": "text"
      },
      "cell_type": "markdown",
      "source": [
        "**TV watching**, total time on average weekday is a ratio variable because it indicates rank, distance, and has a meaningful absolute zero value."
      ]
    },
    {
      "metadata": {
        "id": "iV53ZkuWUjz_",
        "colab_type": "text"
      },
      "cell_type": "markdown",
      "source": [
        "**Most people can be trusted or you can't be too careful** is a interval variable because it has a rank and distance, but it lacks a meaningful absolute zero value since no one can completely lack trust."
      ]
    },
    {
      "metadata": {
        "id": "t62eJ1X3UuKD",
        "colab_type": "text"
      },
      "cell_type": "markdown",
      "source": [
        "**Most people try to take advantage of you, or try to be fair**  is a interval variable because it has a rank and distance, but it lacks a meaningful absolute zero value since no one can completely lack fairness."
      ]
    },
    {
      "metadata": {
        "id": "XwVbyobcUxB2",
        "colab_type": "text"
      },
      "cell_type": "markdown",
      "source": [
        "**Most of the time people helpful or mostly looking out for themselves**  is a interval variable because it has a rank and distance, but it lacks a meaningful absolute zero value since no one is entirely self-motivated."
      ]
    },
    {
      "metadata": {
        "id": "9ZkkXs-cUzPf",
        "colab_type": "text"
      },
      "cell_type": "markdown",
      "source": [
        "**How Happy Are You**  is a interval variable because it has a rank and distance, but it lacks a meaningful absolute zero value since no respondent can completely lacks happiness."
      ]
    },
    {
      "metadata": {
        "id": "L5Y1oQPeU3x4",
        "colab_type": "text"
      },
      "cell_type": "markdown",
      "source": [
        "**How often socially meet with friends, relatives or colleagues** is a ratio variable because it indicates rank, distance, and has a meaningful absolute zero value."
      ]
    },
    {
      "metadata": {
        "id": "RCfZZ7K1U4Sb",
        "colab_type": "text"
      },
      "cell_type": "markdown",
      "source": [
        "**Take part in social activities compared to others of same age** is a interval variable because it has a rank and distance, but it lacks a meaningful absolute zero value since the scale does not offer an option for zero social activities."
      ]
    },
    {
      "metadata": {
        "id": "rOq4HyVIU7de",
        "colab_type": "text"
      },
      "cell_type": "markdown",
      "source": [
        "**Gender** is an categorical variable."
      ]
    },
    {
      "metadata": {
        "id": "4XN_t-pTU8SM",
        "colab_type": "text"
      },
      "cell_type": "markdown",
      "source": [
        "**Age** is a ratio variable because it indicates rank, distance, and has a meaningful absolute zero value."
      ]
    },
    {
      "metadata": {
        "id": "JPwRO8cEU-A-",
        "colab_type": "text"
      },
      "cell_type": "markdown",
      "source": [
        "**Lives with husband/wife/partner** at household grid is a categorical variable.\n"
      ]
    }
  ]
}
