{
  "nbformat": 4,
  "nbformat_minor": 0,
  "metadata": {
    "colab": {
      "name": "Multivariable_Regression.ipynb",
      "version": "0.3.2",
      "provenance": [],
      "collapsed_sections": []
    },
    "kernelspec": {
      "name": "python3",
      "display_name": "Python 3"
    }
  },
  "cells": [
    {
      "metadata": {
        "id": "Ji0tPYAMIFWq",
        "colab_type": "text"
      },
      "cell_type": "markdown",
      "source": [
        "## Multivariable Regression\n",
        "Download the Excel file [here](https://ucr.fbi.gov/crime-in-the-u.s/2013/crime-in-the-u.s.-2013/tables/table-8/table-8-state-cuts/table_8_offenses_known_to_law_enforcement_new_york_by_city_2013.xls) on crime data in New York State in 2013, provided by the FBI: UCR (Thinkful mirror).\n",
        "\n",
        "Prepare this data to model with multivariable regression (including data cleaning if necessary) according to this specification:\n",
        "\n",
        "Propertycrime=α+Population+Population2+Murder+Robbery\n",
        "Propertycrime=α+Population+Population2+Murder+Robbery\n",
        " \n",
        "The 'population' variable is already set for you, but you will need to create the last three features. Robbery and Murder are currently continuous variables. For this model, please use these variables to create categorical features where values greater than 0 are coded 1, and values equal to 0 are coded 0. You'll use this data and model in a later assignment- for now, just write the code you need to get the data ready. Don't forget basic data cleaning procedures, either! Do some graphing to see if there are any anomalous cases, and decide how you want to deal with them."
      ]
    },
    {
      "metadata": {
        "id": "33C4Kb7FHWE4",
        "colab_type": "code",
        "colab": {}
      },
      "cell_type": "code",
      "source": [
        "%matplotlib inline\n",
        "import pandas as pd\n",
        "import numpy as np\n",
        "import scipy\n",
        "import sklearn\n",
        "import matplotlib.pyplot as plt\n",
        "import seaborn as sns\n",
        "from sklearn import linear_model\n",
        "\n",
        "pd.options.display.float_format = '{:.3f}'.format\n",
        "\n",
        "import warnings\n",
        "warnings.filterwarnings(action=\"ignore\", module=\"scipy\", message=\"^internal gelsd\")"
      ],
      "execution_count": 0,
      "outputs": []
    },
    {
      "metadata": {
        "id": "oXTz0vGrJO0i",
        "colab_type": "code",
        "colab": {}
      },
      "cell_type": "code",
      "source": [
        "crime_path ='https://raw.githubusercontent.com/Thinkful-Ed/data-201-resources/master/New_York_offenses/NEW_YORK-Offenses_Known_to_Law_Enforcement_by_City_2013%20-%2013tbl8ny.csv'\n",
        "crime_data = pd.read_csv(crime_path, skiprows=4, skipfooter=3, engine='python')"
      ],
      "execution_count": 0,
      "outputs": []
    },
    {
      "metadata": {
        "id": "CUBsMjrjJ6l_",
        "colab_type": "code",
        "outputId": "e29b6b64-ce75-49d4-f030-31b0b0bf01de",
        "colab": {
          "base_uri": "https://localhost:8080/",
          "height": 281
        }
      },
      "cell_type": "code",
      "source": [
        "crime_data.head(3)"
      ],
      "execution_count": 3,
      "outputs": [
        {
          "output_type": "execute_result",
          "data": {
            "text/html": [
              "<div>\n",
              "<style scoped>\n",
              "    .dataframe tbody tr th:only-of-type {\n",
              "        vertical-align: middle;\n",
              "    }\n",
              "\n",
              "    .dataframe tbody tr th {\n",
              "        vertical-align: top;\n",
              "    }\n",
              "\n",
              "    .dataframe thead th {\n",
              "        text-align: right;\n",
              "    }\n",
              "</style>\n",
              "<table border=\"1\" class=\"dataframe\">\n",
              "  <thead>\n",
              "    <tr style=\"text-align: right;\">\n",
              "      <th></th>\n",
              "      <th>City</th>\n",
              "      <th>Population</th>\n",
              "      <th>Violent\n",
              "crime</th>\n",
              "      <th>Murder and\n",
              "nonnegligent\n",
              "manslaughter</th>\n",
              "      <th>Rape\n",
              "(revised\n",
              "definition)1</th>\n",
              "      <th>Rape\n",
              "(legacy\n",
              "definition)2</th>\n",
              "      <th>Robbery</th>\n",
              "      <th>Aggravated\n",
              "assault</th>\n",
              "      <th>Property\n",
              "crime</th>\n",
              "      <th>Burglary</th>\n",
              "      <th>Larceny-\n",
              "theft</th>\n",
              "      <th>Motor\n",
              "vehicle\n",
              "theft</th>\n",
              "      <th>Arson3</th>\n",
              "    </tr>\n",
              "  </thead>\n",
              "  <tbody>\n",
              "    <tr>\n",
              "      <th>0</th>\n",
              "      <td>Adams Village</td>\n",
              "      <td>1,861</td>\n",
              "      <td>0</td>\n",
              "      <td>0</td>\n",
              "      <td>nan</td>\n",
              "      <td>0</td>\n",
              "      <td>0</td>\n",
              "      <td>0</td>\n",
              "      <td>12</td>\n",
              "      <td>2</td>\n",
              "      <td>10</td>\n",
              "      <td>0</td>\n",
              "      <td>0.000</td>\n",
              "    </tr>\n",
              "    <tr>\n",
              "      <th>1</th>\n",
              "      <td>Addison Town and Village</td>\n",
              "      <td>2,577</td>\n",
              "      <td>3</td>\n",
              "      <td>0</td>\n",
              "      <td>nan</td>\n",
              "      <td>0</td>\n",
              "      <td>0</td>\n",
              "      <td>3</td>\n",
              "      <td>24</td>\n",
              "      <td>3</td>\n",
              "      <td>20</td>\n",
              "      <td>1</td>\n",
              "      <td>0.000</td>\n",
              "    </tr>\n",
              "    <tr>\n",
              "      <th>2</th>\n",
              "      <td>Akron Village</td>\n",
              "      <td>2,846</td>\n",
              "      <td>3</td>\n",
              "      <td>0</td>\n",
              "      <td>nan</td>\n",
              "      <td>0</td>\n",
              "      <td>0</td>\n",
              "      <td>3</td>\n",
              "      <td>16</td>\n",
              "      <td>1</td>\n",
              "      <td>15</td>\n",
              "      <td>0</td>\n",
              "      <td>0.000</td>\n",
              "    </tr>\n",
              "  </tbody>\n",
              "</table>\n",
              "</div>"
            ],
            "text/plain": [
              "                       City Population Violent\\ncrime  \\\n",
              "0             Adams Village      1,861              0   \n",
              "1  Addison Town and Village      2,577              3   \n",
              "2             Akron Village      2,846              3   \n",
              "\n",
              "   Murder and\\nnonnegligent\\nmanslaughter  Rape\\n(revised\\ndefinition)1  \\\n",
              "0                                       0                           nan   \n",
              "1                                       0                           nan   \n",
              "2                                       0                           nan   \n",
              "\n",
              "  Rape\\n(legacy\\ndefinition)2 Robbery Aggravated\\nassault Property\\ncrime  \\\n",
              "0                           0       0                   0              12   \n",
              "1                           0       0                   3              24   \n",
              "2                           0       0                   3              16   \n",
              "\n",
              "  Burglary Larceny-\\ntheft Motor\\nvehicle\\ntheft  Arson3  \n",
              "0        2              10                     0   0.000  \n",
              "1        3              20                     1   0.000  \n",
              "2        1              15                     0   0.000  "
            ]
          },
          "metadata": {
            "tags": []
          },
          "execution_count": 3
        }
      ]
    },
    {
      "metadata": {
        "id": "z5htVHuMbgoa",
        "colab_type": "code",
        "outputId": "a865c481-1310-448d-d6f6-eae2233717ea",
        "colab": {
          "base_uri": "https://localhost:8080/",
          "height": 255
        }
      },
      "cell_type": "code",
      "source": [
        "crime_data.dtypes"
      ],
      "execution_count": 4,
      "outputs": [
        {
          "output_type": "execute_result",
          "data": {
            "text/plain": [
              "City                                       object\n",
              "Population                                 object\n",
              "Violent\\ncrime                             object\n",
              "Murder and\\nnonnegligent\\nmanslaughter      int64\n",
              "Rape\\n(revised\\ndefinition)1              float64\n",
              "Rape\\n(legacy\\ndefinition)2                object\n",
              "Robbery                                    object\n",
              "Aggravated\\nassault                        object\n",
              "Property\\ncrime                            object\n",
              "Burglary                                   object\n",
              "Larceny-\\ntheft                            object\n",
              "Motor\\nvehicle\\ntheft                      object\n",
              "Arson3                                    float64\n",
              "dtype: object"
            ]
          },
          "metadata": {
            "tags": []
          },
          "execution_count": 4
        }
      ]
    },
    {
      "metadata": {
        "id": "msPf2Msebn93",
        "colab_type": "code",
        "colab": {}
      },
      "cell_type": "code",
      "source": [
        "def convert_number(number):\n",
        "    try:\n",
        "        converted = float(number.replace(',', ''))\n",
        "    except:\n",
        "        converted = number\n",
        "    \n",
        "    return converted"
      ],
      "execution_count": 0,
      "outputs": []
    },
    {
      "metadata": {
        "id": "t7nSMBPCbtrG",
        "colab_type": "code",
        "colab": {}
      },
      "cell_type": "code",
      "source": [
        "crime_data.fillna(0)\n",
        "crime_data['Population'] = crime_data['Population'].apply(lambda x: convert_number(x))\n",
        "crime_data['Murder'] = crime_data['Murder and\\nnonnegligent\\nmanslaughter'].apply(lambda x: convert_number(x))\n",
        "crime_data['Robbery'] = crime_data['Robbery'].apply(lambda x: convert_number(x))\n",
        "crime_data['Property\\ncrime'] = crime_data['Property\\ncrime'].apply(lambda x: convert_number(x))\n",
        "crime_data['Larceny-\\ntheft'] = crime_data['Larceny-\\ntheft'].apply(lambda x: convert_number(x))"
      ],
      "execution_count": 0,
      "outputs": []
    },
    {
      "metadata": {
        "colab_type": "code",
        "id": "usM8QMMwebw8",
        "colab": {}
      },
      "cell_type": "code",
      "source": [
        "crime_data = crime_data.drop('Rape\\n(revised\\ndefinition)1', 1)"
      ],
      "execution_count": 0,
      "outputs": []
    },
    {
      "metadata": {
        "id": "8KeqZ79SYAHY",
        "colab_type": "code",
        "outputId": "08776b17-6374-4a3e-df1d-69f05f7e4af0",
        "colab": {
          "base_uri": "https://localhost:8080/",
          "height": 351
        }
      },
      "cell_type": "code",
      "source": [
        "crime_data.describe()"
      ],
      "execution_count": 8,
      "outputs": [
        {
          "output_type": "execute_result",
          "data": {
            "text/html": [
              "<div>\n",
              "<style scoped>\n",
              "    .dataframe tbody tr th:only-of-type {\n",
              "        vertical-align: middle;\n",
              "    }\n",
              "\n",
              "    .dataframe tbody tr th {\n",
              "        vertical-align: top;\n",
              "    }\n",
              "\n",
              "    .dataframe thead th {\n",
              "        text-align: right;\n",
              "    }\n",
              "</style>\n",
              "<table border=\"1\" class=\"dataframe\">\n",
              "  <thead>\n",
              "    <tr style=\"text-align: right;\">\n",
              "      <th></th>\n",
              "      <th>Population</th>\n",
              "      <th>Murder and\n",
              "nonnegligent\n",
              "manslaughter</th>\n",
              "      <th>Robbery</th>\n",
              "      <th>Property\n",
              "crime</th>\n",
              "      <th>Larceny-\n",
              "theft</th>\n",
              "      <th>Arson3</th>\n",
              "      <th>Murder</th>\n",
              "    </tr>\n",
              "  </thead>\n",
              "  <tbody>\n",
              "    <tr>\n",
              "      <th>count</th>\n",
              "      <td>348.000</td>\n",
              "      <td>348.000</td>\n",
              "      <td>348.000</td>\n",
              "      <td>348.000</td>\n",
              "      <td>348.000</td>\n",
              "      <td>187.000</td>\n",
              "      <td>348.000</td>\n",
              "    </tr>\n",
              "    <tr>\n",
              "      <th>mean</th>\n",
              "      <td>40037.632</td>\n",
              "      <td>1.566</td>\n",
              "      <td>72.902</td>\n",
              "      <td>792.606</td>\n",
              "      <td>637.017</td>\n",
              "      <td>1.872</td>\n",
              "      <td>1.566</td>\n",
              "    </tr>\n",
              "    <tr>\n",
              "      <th>std</th>\n",
              "      <td>450037.368</td>\n",
              "      <td>18.304</td>\n",
              "      <td>1031.033</td>\n",
              "      <td>7659.725</td>\n",
              "      <td>6346.054</td>\n",
              "      <td>10.693</td>\n",
              "      <td>18.304</td>\n",
              "    </tr>\n",
              "    <tr>\n",
              "      <th>min</th>\n",
              "      <td>526.000</td>\n",
              "      <td>0.000</td>\n",
              "      <td>0.000</td>\n",
              "      <td>0.000</td>\n",
              "      <td>0.000</td>\n",
              "      <td>0.000</td>\n",
              "      <td>0.000</td>\n",
              "    </tr>\n",
              "    <tr>\n",
              "      <th>25%</th>\n",
              "      <td>3003.000</td>\n",
              "      <td>0.000</td>\n",
              "      <td>0.000</td>\n",
              "      <td>40.500</td>\n",
              "      <td>31.000</td>\n",
              "      <td>0.000</td>\n",
              "      <td>0.000</td>\n",
              "    </tr>\n",
              "    <tr>\n",
              "      <th>50%</th>\n",
              "      <td>7233.500</td>\n",
              "      <td>0.000</td>\n",
              "      <td>1.000</td>\n",
              "      <td>112.500</td>\n",
              "      <td>94.000</td>\n",
              "      <td>0.000</td>\n",
              "      <td>0.000</td>\n",
              "    </tr>\n",
              "    <tr>\n",
              "      <th>75%</th>\n",
              "      <td>18427.500</td>\n",
              "      <td>0.000</td>\n",
              "      <td>5.000</td>\n",
              "      <td>341.000</td>\n",
              "      <td>287.250</td>\n",
              "      <td>1.000</td>\n",
              "      <td>0.000</td>\n",
              "    </tr>\n",
              "    <tr>\n",
              "      <th>max</th>\n",
              "      <td>8396126.000</td>\n",
              "      <td>335.000</td>\n",
              "      <td>19170.000</td>\n",
              "      <td>141971.000</td>\n",
              "      <td>117931.000</td>\n",
              "      <td>132.000</td>\n",
              "      <td>335.000</td>\n",
              "    </tr>\n",
              "  </tbody>\n",
              "</table>\n",
              "</div>"
            ],
            "text/plain": [
              "       Population  Murder and\\nnonnegligent\\nmanslaughter   Robbery  \\\n",
              "count     348.000                                 348.000   348.000   \n",
              "mean    40037.632                                   1.566    72.902   \n",
              "std    450037.368                                  18.304  1031.033   \n",
              "min       526.000                                   0.000     0.000   \n",
              "25%      3003.000                                   0.000     0.000   \n",
              "50%      7233.500                                   0.000     1.000   \n",
              "75%     18427.500                                   0.000     5.000   \n",
              "max   8396126.000                                 335.000 19170.000   \n",
              "\n",
              "       Property\\ncrime  Larceny-\\ntheft  Arson3  Murder  \n",
              "count          348.000          348.000 187.000 348.000  \n",
              "mean           792.606          637.017   1.872   1.566  \n",
              "std           7659.725         6346.054  10.693  18.304  \n",
              "min              0.000            0.000   0.000   0.000  \n",
              "25%             40.500           31.000   0.000   0.000  \n",
              "50%            112.500           94.000   0.000   0.000  \n",
              "75%            341.000          287.250   1.000   0.000  \n",
              "max         141971.000       117931.000 132.000 335.000  "
            ]
          },
          "metadata": {
            "tags": []
          },
          "execution_count": 8
        }
      ]
    },
    {
      "metadata": {
        "id": "H2Dp_-DhZd5z",
        "colab_type": "code",
        "outputId": "682a8f22-2163-477a-9a45-61d502d277b3",
        "colab": {
          "base_uri": "https://localhost:8080/",
          "height": 34
        }
      },
      "cell_type": "code",
      "source": [
        "print('The total number of cities is', len(crime_data['City'].unique()))"
      ],
      "execution_count": 9,
      "outputs": [
        {
          "output_type": "stream",
          "text": [
            "The total number of cities is 348\n"
          ],
          "name": "stdout"
        }
      ]
    },
    {
      "metadata": {
        "id": "l0U11fdALPvL",
        "colab_type": "code",
        "outputId": "0e5ad09d-dcec-45e2-fc8b-d94256ea52a8",
        "colab": {
          "base_uri": "https://localhost:8080/",
          "height": 293
        }
      },
      "cell_type": "code",
      "source": [
        "crime_data['Population'].hist(bins=5)\n",
        "plt.title('Population')\n",
        "plt.show()\n",
        "\n",
        "median = crime_data.Population.median()\n",
        "std = crime_data.Population.std()\n",
        "pop_ends = median + 2* std"
      ],
      "execution_count": 10,
      "outputs": [
        {
          "output_type": "display_data",
          "data": {
            "image/png": "[encoded data removed]",
            "text/plain": [
              "<matplotlib.figure.Figure at 0x7f1d9e74b4a8>"
            ]
          },
          "metadata": {
            "tags": []
          }
        }
      ]
    },
    {
      "metadata": {
        "id": "z1aj51CNftOc",
        "colab_type": "code",
        "outputId": "94209a96-7da3-4ee3-d7ee-561f89c132c6",
        "colab": {
          "base_uri": "https://localhost:8080/",
          "height": 280
        }
      },
      "cell_type": "code",
      "source": [
        "crime_data['Murder'].hist(bins=5)\n",
        "plt.title('Murders')\n",
        "plt.show()\n",
        "\n",
        "median = crime_data.Murder.median()\n",
        "std = crime_data.Murder.std()\n",
        "mur_ends = median + 2* std"
      ],
      "execution_count": 11,
      "outputs": [
        {
          "output_type": "display_data",
          "data": {
            "image/png": "[encoded data removed]",
            "text/plain": [
              "<matplotlib.figure.Figure at 0x7f1d9e29ddd8>"
            ]
          },
          "metadata": {
            "tags": []
          }
        }
      ]
    },
    {
      "metadata": {
        "id": "PYcvzfL1gKIF",
        "colab_type": "code",
        "outputId": "d0db8e1a-26c9-42c5-c87f-f0eb96ade09b",
        "colab": {
          "base_uri": "https://localhost:8080/",
          "height": 280
        }
      },
      "cell_type": "code",
      "source": [
        "crime_data['Robbery'].hist(bins=5)\n",
        "plt.title('Robberies')\n",
        "plt.show()\n",
        "\n",
        "median = crime_data.Robbery.median()\n",
        "std = crime_data.Robbery.std()\n",
        "rob_ends = median + 2* std"
      ],
      "execution_count": 12,
      "outputs": [
        {
          "output_type": "display_data",
          "data": {
            "image/png": "[encoded data removed]",
            "text/plain": [
              "<matplotlib.figure.Figure at 0x7f1d9b9a6550>"
            ]
          },
          "metadata": {
            "tags": []
          }
        }
      ]
    },
    {
      "metadata": {
        "id": "zz71Y9vRfe8H",
        "colab_type": "code",
        "outputId": "0bc80569-2337-438a-9e1f-8ce90bbbe491",
        "colab": {
          "base_uri": "https://localhost:8080/",
          "height": 280
        }
      },
      "cell_type": "code",
      "source": [
        "crime_data['Property\\ncrime'].hist(bins=5)\n",
        "plt.title('Property Crime')\n",
        "plt.show()\n",
        "\n",
        "median = crime_data['Property\\ncrime'].median()\n",
        "std = crime_data['Property\\ncrime'].std()\n",
        "prop_ends = median + 2* std"
      ],
      "execution_count": 13,
      "outputs": [
        {
          "output_type": "display_data",
          "data": {
            "image/png": "[encoded data removed]",
            "text/plain": [
              "<matplotlib.figure.Figure at 0x7f1d9b91eba8>"
            ]
          },
          "metadata": {
            "tags": []
          }
        }
      ]
    },
    {
      "metadata": {
        "id": "ZBPiMe-yhpkc",
        "colab_type": "code",
        "colab": {}
      },
      "cell_type": "code",
      "source": [
        "crime_data['Population'] = crime_data.Population.map(lambda x: x if x < pop_ends else None)\n",
        "crime_data['Murder'] = crime_data.Murder.map(lambda x: x if x < mur_ends else None)\n",
        "crime_data['Robbery'] = crime_data.Robbery.map(lambda x: x if x < rob_ends else None)\n",
        "crime_data['Property\\ncrime'] = crime_data['Property\\ncrime'].map(lambda x: x if x < prop_ends else None)"
      ],
      "execution_count": 0,
      "outputs": []
    },
    {
      "metadata": {
        "id": "vUVQUKRoh79u",
        "colab_type": "code",
        "outputId": "b1cc200a-bc2b-4e40-9f75-b85fb9ccdc70",
        "colab": {
          "base_uri": "https://localhost:8080/",
          "height": 606
        }
      },
      "cell_type": "code",
      "source": [
        "plt.figure(figsize=(10,10))\n",
        "plt.subplot(221)\n",
        "crime_data['Population'].hist(bins=100)\n",
        "plt.title('Population')\n",
        "\n",
        "plt.subplot(222)\n",
        "crime_data['Murder'].hist(bins=50)\n",
        "plt.title('Murders')\n",
        "\n",
        "plt.subplot(223)\n",
        "crime_data['Robbery'].hist(bins=50)\n",
        "plt.title('Robberies')\n",
        "\n",
        "plt.subplot(224)\n",
        "crime_data['Property\\ncrime'].hist(bins=50)\n",
        "plt.title('Property Crime')\n",
        "\n",
        "plt.show()"
      ],
      "execution_count": 15,
      "outputs": [
        {
          "output_type": "display_data",
          "data": {
            "image/png": "[encoded data removed]",
            "text/plain": [
              "<matplotlib.figure.Figure at 0x7f1d9b932b70>"
            ]
          },
          "metadata": {
            "tags": []
          }
        }
      ]
    },
    {
      "metadata": {
        "id": "7oIdX98si4HS",
        "colab_type": "code",
        "colab": {}
      },
      "cell_type": "code",
      "source": [
        "crime_data['PopSq'] = crime_data['Population']**2"
      ],
      "execution_count": 0,
      "outputs": []
    },
    {
      "metadata": {
        "id": "5Yr78gXEjrKO",
        "colab_type": "code",
        "outputId": "af32ab7b-2381-4ec1-8bac-8c98734f264f",
        "colab": {
          "base_uri": "https://localhost:8080/",
          "height": 399
        }
      },
      "cell_type": "code",
      "source": [
        "ax = sns.violinplot(x='PopSq', data=crime_data)\n",
        "plt.title('Population Squared in NYC')"
      ],
      "execution_count": 17,
      "outputs": [
        {
          "output_type": "stream",
          "text": [
            "/usr/local/lib/python3.6/dist-packages/seaborn/categorical.py:588: FutureWarning: remove_na is deprecated and is a private function. Do not use.\n",
            "  kde_data = remove_na(group_data)\n",
            "/usr/local/lib/python3.6/dist-packages/seaborn/categorical.py:816: FutureWarning: remove_na is deprecated and is a private function. Do not use.\n",
            "  violin_data = remove_na(group_data)\n"
          ],
          "name": "stderr"
        },
        {
          "output_type": "execute_result",
          "data": {
            "text/plain": [
              "Text(0.5,1,'Population Squared in NYC')"
            ]
          },
          "metadata": {
            "tags": []
          },
          "execution_count": 17
        },
        {
          "output_type": "display_data",
          "data": {
            "image/png": "[encoded data removed]",
            "text/plain": [
              "<matplotlib.figure.Figure at 0x7f1d9b86db00>"
            ]
          },
          "metadata": {
            "tags": []
          }
        }
      ]
    },
    {
      "metadata": {
        "id": "7vGSOYOs5f13",
        "colab_type": "text"
      },
      "cell_type": "markdown",
      "source": [
        "Next we convert the values in our categories into a binary solution."
      ]
    },
    {
      "metadata": {
        "id": "U-3vkNLP2_MJ",
        "colab_type": "code",
        "colab": {}
      },
      "cell_type": "code",
      "source": [
        "def convert_category(number):\n",
        "    value = convert_number(number)\n",
        "    \n",
        "    if value>0:\n",
        "        return 1\n",
        "    else:\n",
        "        return 0"
      ],
      "execution_count": 0,
      "outputs": []
    },
    {
      "metadata": {
        "id": "QmJHhHUq4shy",
        "colab_type": "code",
        "outputId": "55284272-f056-4151-bd74-7d144aa114b2",
        "colab": {
          "base_uri": "https://localhost:8080/",
          "height": 360
        }
      },
      "cell_type": "code",
      "source": [
        "crime_data['Murder_categorical'] = crime_data['Murder'].apply(lambda x: convert_category(x))\n",
        "crime_data['Robbery_categorical'] = crime_data['Robbery'].apply(lambda x: convert_category(x))\n",
        "crime_data.head()"
      ],
      "execution_count": 19,
      "outputs": [
        {
          "output_type": "execute_result",
          "data": {
            "text/html": [
              "<div>\n",
              "<style scoped>\n",
              "    .dataframe tbody tr th:only-of-type {\n",
              "        vertical-align: middle;\n",
              "    }\n",
              "\n",
              "    .dataframe tbody tr th {\n",
              "        vertical-align: top;\n",
              "    }\n",
              "\n",
              "    .dataframe thead th {\n",
              "        text-align: right;\n",
              "    }\n",
              "</style>\n",
              "<table border=\"1\" class=\"dataframe\">\n",
              "  <thead>\n",
              "    <tr style=\"text-align: right;\">\n",
              "      <th></th>\n",
              "      <th>City</th>\n",
              "      <th>Population</th>\n",
              "      <th>Violent\n",
              "crime</th>\n",
              "      <th>Murder and\n",
              "nonnegligent\n",
              "manslaughter</th>\n",
              "      <th>Rape\n",
              "(legacy\n",
              "definition)2</th>\n",
              "      <th>Robbery</th>\n",
              "      <th>Aggravated\n",
              "assault</th>\n",
              "      <th>Property\n",
              "crime</th>\n",
              "      <th>Burglary</th>\n",
              "      <th>Larceny-\n",
              "theft</th>\n",
              "      <th>Motor\n",
              "vehicle\n",
              "theft</th>\n",
              "      <th>Arson3</th>\n",
              "      <th>Murder</th>\n",
              "      <th>PopSq</th>\n",
              "      <th>Murder_categorical</th>\n",
              "      <th>Robbery_categorical</th>\n",
              "    </tr>\n",
              "  </thead>\n",
              "  <tbody>\n",
              "    <tr>\n",
              "      <th>0</th>\n",
              "      <td>Adams Village</td>\n",
              "      <td>1861.000</td>\n",
              "      <td>0</td>\n",
              "      <td>0</td>\n",
              "      <td>0</td>\n",
              "      <td>0.000</td>\n",
              "      <td>0</td>\n",
              "      <td>12.000</td>\n",
              "      <td>2</td>\n",
              "      <td>10.000</td>\n",
              "      <td>0</td>\n",
              "      <td>0.000</td>\n",
              "      <td>0.000</td>\n",
              "      <td>3463321.000</td>\n",
              "      <td>0</td>\n",
              "      <td>0</td>\n",
              "    </tr>\n",
              "    <tr>\n",
              "      <th>1</th>\n",
              "      <td>Addison Town and Village</td>\n",
              "      <td>2577.000</td>\n",
              "      <td>3</td>\n",
              "      <td>0</td>\n",
              "      <td>0</td>\n",
              "      <td>0.000</td>\n",
              "      <td>3</td>\n",
              "      <td>24.000</td>\n",
              "      <td>3</td>\n",
              "      <td>20.000</td>\n",
              "      <td>1</td>\n",
              "      <td>0.000</td>\n",
              "      <td>0.000</td>\n",
              "      <td>6640929.000</td>\n",
              "      <td>0</td>\n",
              "      <td>0</td>\n",
              "    </tr>\n",
              "    <tr>\n",
              "      <th>2</th>\n",
              "      <td>Akron Village</td>\n",
              "      <td>2846.000</td>\n",
              "      <td>3</td>\n",
              "      <td>0</td>\n",
              "      <td>0</td>\n",
              "      <td>0.000</td>\n",
              "      <td>3</td>\n",
              "      <td>16.000</td>\n",
              "      <td>1</td>\n",
              "      <td>15.000</td>\n",
              "      <td>0</td>\n",
              "      <td>0.000</td>\n",
              "      <td>0.000</td>\n",
              "      <td>8099716.000</td>\n",
              "      <td>0</td>\n",
              "      <td>0</td>\n",
              "    </tr>\n",
              "    <tr>\n",
              "      <th>3</th>\n",
              "      <td>Albany</td>\n",
              "      <td>97956.000</td>\n",
              "      <td>791</td>\n",
              "      <td>8</td>\n",
              "      <td>30</td>\n",
              "      <td>227.000</td>\n",
              "      <td>526</td>\n",
              "      <td>4090.000</td>\n",
              "      <td>705</td>\n",
              "      <td>3243.000</td>\n",
              "      <td>142</td>\n",
              "      <td>nan</td>\n",
              "      <td>8.000</td>\n",
              "      <td>9595377936.000</td>\n",
              "      <td>1</td>\n",
              "      <td>1</td>\n",
              "    </tr>\n",
              "    <tr>\n",
              "      <th>4</th>\n",
              "      <td>Albion Village</td>\n",
              "      <td>6388.000</td>\n",
              "      <td>23</td>\n",
              "      <td>0</td>\n",
              "      <td>3</td>\n",
              "      <td>4.000</td>\n",
              "      <td>16</td>\n",
              "      <td>223.000</td>\n",
              "      <td>53</td>\n",
              "      <td>165.000</td>\n",
              "      <td>5</td>\n",
              "      <td>nan</td>\n",
              "      <td>0.000</td>\n",
              "      <td>40806544.000</td>\n",
              "      <td>0</td>\n",
              "      <td>1</td>\n",
              "    </tr>\n",
              "  </tbody>\n",
              "</table>\n",
              "</div>"
            ],
            "text/plain": [
              "                       City  Population Violent\\ncrime  \\\n",
              "0             Adams Village    1861.000              0   \n",
              "1  Addison Town and Village    2577.000              3   \n",
              "2             Akron Village    2846.000              3   \n",
              "3                    Albany   97956.000            791   \n",
              "4            Albion Village    6388.000             23   \n",
              "\n",
              "   Murder and\\nnonnegligent\\nmanslaughter Rape\\n(legacy\\ndefinition)2  \\\n",
              "0                                       0                           0   \n",
              "1                                       0                           0   \n",
              "2                                       0                           0   \n",
              "3                                       8                          30   \n",
              "4                                       0                           3   \n",
              "\n",
              "   Robbery Aggravated\\nassault  Property\\ncrime Burglary  Larceny-\\ntheft  \\\n",
              "0    0.000                   0           12.000        2           10.000   \n",
              "1    0.000                   3           24.000        3           20.000   \n",
              "2    0.000                   3           16.000        1           15.000   \n",
              "3  227.000                 526         4090.000      705         3243.000   \n",
              "4    4.000                  16          223.000       53          165.000   \n",
              "\n",
              "  Motor\\nvehicle\\ntheft  Arson3  Murder          PopSq  Murder_categorical  \\\n",
              "0                     0   0.000   0.000    3463321.000                   0   \n",
              "1                     1   0.000   0.000    6640929.000                   0   \n",
              "2                     0   0.000   0.000    8099716.000                   0   \n",
              "3                   142     nan   8.000 9595377936.000                   1   \n",
              "4                     5     nan   0.000   40806544.000                   0   \n",
              "\n",
              "   Robbery_categorical  \n",
              "0                    0  \n",
              "1                    0  \n",
              "2                    0  \n",
              "3                    1  \n",
              "4                    1  "
            ]
          },
          "metadata": {
            "tags": []
          },
          "execution_count": 19
        }
      ]
    },
    {
      "metadata": {
        "id": "zAw0GMj_47A_",
        "colab_type": "code",
        "outputId": "0c1af6f4-0e7a-46e5-9085-a3ddfc3e71c7",
        "colab": {
          "base_uri": "https://localhost:8080/",
          "height": 221
        }
      },
      "cell_type": "code",
      "source": [
        "features = crime_data[['Population', 'PopSq', 'Murder_categorical', 'Robbery_categorical', 'Property\\ncrime']].dropna()\n",
        "features.head()"
      ],
      "execution_count": 20,
      "outputs": [
        {
          "output_type": "execute_result",
          "data": {
            "text/html": [
              "<div>\n",
              "<style scoped>\n",
              "    .dataframe tbody tr th:only-of-type {\n",
              "        vertical-align: middle;\n",
              "    }\n",
              "\n",
              "    .dataframe tbody tr th {\n",
              "        vertical-align: top;\n",
              "    }\n",
              "\n",
              "    .dataframe thead th {\n",
              "        text-align: right;\n",
              "    }\n",
              "</style>\n",
              "<table border=\"1\" class=\"dataframe\">\n",
              "  <thead>\n",
              "    <tr style=\"text-align: right;\">\n",
              "      <th></th>\n",
              "      <th>Population</th>\n",
              "      <th>PopSq</th>\n",
              "      <th>Murder_categorical</th>\n",
              "      <th>Robbery_categorical</th>\n",
              "      <th>Property\n",
              "crime</th>\n",
              "    </tr>\n",
              "  </thead>\n",
              "  <tbody>\n",
              "    <tr>\n",
              "      <th>0</th>\n",
              "      <td>1861.000</td>\n",
              "      <td>3463321.000</td>\n",
              "      <td>0</td>\n",
              "      <td>0</td>\n",
              "      <td>12.000</td>\n",
              "    </tr>\n",
              "    <tr>\n",
              "      <th>1</th>\n",
              "      <td>2577.000</td>\n",
              "      <td>6640929.000</td>\n",
              "      <td>0</td>\n",
              "      <td>0</td>\n",
              "      <td>24.000</td>\n",
              "    </tr>\n",
              "    <tr>\n",
              "      <th>2</th>\n",
              "      <td>2846.000</td>\n",
              "      <td>8099716.000</td>\n",
              "      <td>0</td>\n",
              "      <td>0</td>\n",
              "      <td>16.000</td>\n",
              "    </tr>\n",
              "    <tr>\n",
              "      <th>3</th>\n",
              "      <td>97956.000</td>\n",
              "      <td>9595377936.000</td>\n",
              "      <td>1</td>\n",
              "      <td>1</td>\n",
              "      <td>4090.000</td>\n",
              "    </tr>\n",
              "    <tr>\n",
              "      <th>4</th>\n",
              "      <td>6388.000</td>\n",
              "      <td>40806544.000</td>\n",
              "      <td>0</td>\n",
              "      <td>1</td>\n",
              "      <td>223.000</td>\n",
              "    </tr>\n",
              "  </tbody>\n",
              "</table>\n",
              "</div>"
            ],
            "text/plain": [
              "   Population          PopSq  Murder_categorical  Robbery_categorical  \\\n",
              "0    1861.000    3463321.000                   0                    0   \n",
              "1    2577.000    6640929.000                   0                    0   \n",
              "2    2846.000    8099716.000                   0                    0   \n",
              "3   97956.000 9595377936.000                   1                    1   \n",
              "4    6388.000   40806544.000                   0                    1   \n",
              "\n",
              "   Property\\ncrime  \n",
              "0           12.000  \n",
              "1           24.000  \n",
              "2           16.000  \n",
              "3         4090.000  \n",
              "4          223.000  "
            ]
          },
          "metadata": {
            "tags": []
          },
          "execution_count": 20
        }
      ]
    }
  ]
}
