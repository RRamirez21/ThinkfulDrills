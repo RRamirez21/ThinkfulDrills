{
  "nbformat": 4,
  "nbformat_minor": 0,
  "metadata": {
    "colab": {
      "name": "Unit3_Exercises_In_Probability.ipynb",
      "version": "0.3.2",
      "provenance": []
    },
    "kernelspec": {
      "name": "python3",
      "display_name": "Python 3"
    }
  },
  "cells": [
    {
      "metadata": {
        "id": "El4EO2AZxBHd",
        "colab_type": "text"
      },
      "cell_type": "markdown",
      "source": [
        ""
      ]
    },
    {
      "metadata": {
        "id": "5xIOb2bixEln",
        "colab_type": "text"
      },
      "cell_type": "markdown",
      "source": [
        "Calculate the probability of flipping a balanced coin four times and getting each pattern: HTTH, HHHH and TTHH.\n",
        "\n",
        "P(Heads) = P(Tail) = 1/2\n",
        "Given that the probability for drawing either Heads or Tails is independent of the previous sequence, we can calculate the odds for each of the patterns HTTH, HHHH and TTHH as (1/2 * 1/2 * 1/2 * 1/2) or (1/2 ** 4) or (.0625)."
      ]
    },
    {
      "metadata": {
        "id": "77eo3fSJwNOi",
        "colab_type": "code",
        "colab": {}
      },
      "cell_type": "code",
      "source": [
        ""
      ],
      "execution_count": 0,
      "outputs": []
    },
    {
      "metadata": {
        "id": "t_iqQPk_xg5z",
        "colab_type": "text"
      },
      "cell_type": "markdown",
      "source": [
        "If a list of people has 24 women and 21 men, then the probability of choosing a man from the list is 21/45. What is the probability of not choosing a man?\n",
        "\n",
        "Given that the only alternative to choosing a man (21/45) is to choose a woman, the probability of not choosing a man is equal to the probability of choosing a woman (24/45)."
      ]
    },
    {
      "metadata": {
        "id": "QwPCXkOlyG5d",
        "colab_type": "text"
      },
      "cell_type": "markdown",
      "source": [
        "The probability that Bernice will travel by plane sometime in the next year is 10%. The probability of a plane crash at any time is .005%. What is the probability that Bernice will be in a plane crash sometime in the next year?\n",
        "\n",
        "The probability is equal to the odds of Bernice traveling multiplied by the odds of a plane crash (.10 * .005) or (.0005%). "
      ]
    },
    {
      "metadata": {
        "id": "3-Migs6yyoOa",
        "colab_type": "text"
      },
      "cell_type": "markdown",
      "source": [
        ""
      ]
    },
    {
      "metadata": {
        "id": "B_5UaWr9y2Wa",
        "colab_type": "text"
      },
      "cell_type": "markdown",
      "source": [
        "A data scientist wants to study the behavior of users on the company website. Each time a user clicks on a link on the website, there is a 5% chance that the user will be asked to complete a short survey about their behavior on the website. The data scientist uses the survey data to conclude that, on average, users spend 15 minutes surfing the company website before moving on to other things. What is wrong with this conclusion?\n",
        "\n",
        "\n",
        "People who surf longer are likely to click more links, thereby increasing the odds of them getting a survey."
      ]
    },
    {
      "metadata": {
        "id": "suqdYnLbzMJp",
        "colab_type": "code",
        "colab": {}
      },
      "cell_type": "code",
      "source": [
        ""
      ],
      "execution_count": 0,
      "outputs": []
    }
  ]
}
