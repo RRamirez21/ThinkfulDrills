{
  "nbformat": 4,
  "nbformat_minor": 0,
  "metadata": {
    "colab": {
      "name": "Unit1_Dictionary_Order_and_User.ipynb",
      "version": "0.3.2",
      "views": {},
      "default_view": {},
      "provenance": []
    },
    "kernelspec": {
      "name": "python3",
      "display_name": "Python 3"
    }
  },
  "cells": [
    {
      "metadata": {
        "id": "GXGgxC4qt_KP",
        "colab_type": "code",
        "colab": {
          "autoexec": {
            "startup": false,
            "wait_interval": 0
          }
        }
      },
      "cell_type": "code",
      "source": [
        "'''You're running an online business and a big part of your day is fulfilling orders. As your volume picks up that's been taking more of your time, and unfortunately lately you've been running into situations where you take an order but can't fulfill it.\n",
        "\n",
        "You've decided to write a function fillable() that takes three arguments: a dictionary stock representing all the merchandise you have in stock, a string merch representing the thing your customer wants to buy, and an integer n representing the number of units of merch they would like to buy. Your function should return True if you have the merchandise in stock to complete the sale, otherwise it should return False.\n",
        "\n",
        "Valid data will always be passed in and n will always be >= 1.\n",
        "\n",
        "'''\n",
        "\n",
        "def fillable(stock, merch, n):\n",
        "    return merch in stock and stock[merch] >= n"
      ],
      "execution_count": 0,
      "outputs": []
    },
    {
      "metadata": {
        "id": "0DedNYcYui62",
        "colab_type": "code",
        "colab": {
          "autoexec": {
            "startup": false,
            "wait_interval": 0
          }
        }
      },
      "cell_type": "code",
      "source": [
        "'''You're putting together contact information for all the users of your website to ship them a small gift. You queried your database and got back a list of users, where each user is another list with up to two items: a string representing the user's name and their shipping zip code. Example data might look like:\n",
        "\n",
        "[[\"Grae Drake\", 98110], [\"Bethany Kok\"], [\"Alex Nussbacher\", 94101], [\"Darrell Silver\", 11201]]\n",
        "Notice that one of the users above has a name but doesn't have a zip code.\n",
        "\n",
        "Write a function user_contacts() that takes a two-dimensional list like the one above and returns a dictionary with an item for each user where the key is the user's name and the value is the user's zip code. If your data doesn't include a zip code then the value should be None.\n",
        "\n",
        "For example, using the input above, user_contacts() would return this dictionary:\n",
        "\n",
        "{\n",
        "    \"Grae Drake\": 98110,\n",
        "    \"Bethany Kok\": None,\n",
        "    \"Alex Nussbacher\": 94101,\n",
        "    \"Darrell Silver\": 11201,    \n",
        "}\n",
        "You don't have to worry about leading zeros in zip codes.'''\n",
        "\n",
        "def user_contacts(data):\n",
        "    return {contact[0]: contact[1] if len(contact) > 1 else None for contact in data}"
      ],
      "execution_count": 0,
      "outputs": []
    }
  ]
}
