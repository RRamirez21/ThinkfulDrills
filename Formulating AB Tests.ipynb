{
  "nbformat": 4,
  "nbformat_minor": 0,
  "metadata": {
    "colab": {
      "name": "Drill_Getting_Testy.ipynb",
      "version": "0.3.2",
      "provenance": [],
      "collapsed_sections": []
    },
    "kernelspec": {
      "name": "python3",
      "display_name": "Python 3"
    }
  },
  "cells": [
    {
      "metadata": {
        "id": "-affVhcXx404",
        "colab_type": "text"
      },
      "cell_type": "markdown",
      "source": [
        "For each of the following questions, outline how you could use an A/B test to find an answer. Be sure to identify all five key components of an A/B test we outlined above.\n",
        "\n",
        "1.  [Does a new supplement help people sleep better?](#Does a new supplement help people sleep better?)\n",
        "2.  [Will new uniforms help a gym's business?](#Will new uniforms help a gym's business?)\n",
        "3. [Will a new homepage improve my online exotic pet rental business?](#Will a new homepage improve my online exotic pet rental business?)\n",
        "4. [If I put 'please read' in the email subject will more people read my emails?](#If I put 'please read' in the email subject will more people read my emails?)"
      ]
    },
    {
      "metadata": {
        "id": "wnDwdALnyi5a",
        "colab_type": "text"
      },
      "cell_type": "markdown",
      "source": [
        "#Does a new supplement help people sleep better?\n",
        "\n",
        "First, we will need a control group to measure their sleep without the supplement or perhaps a group sleeping with a placebo supplement. We will compare that to the group of people who receive the new supplement that we are testing.  Among the two sample groups, we should ensure that they are similar enough so that the only difference is the application of the treatment. We hypothesize that the pill will positively affect sleep so that they can sleep longer or perhaps have longer REM cycle sleep. We can measure this by timing the sleep cycle. To avoid other measured variables, we want to ensure that both groups are tested at the same time and date in the same location with the same comfort levels (i.e. pillows, temperature, etc.)\n",
        "\n"
      ]
    },
    {
      "metadata": {
        "id": "ogEm1yleymxm",
        "colab_type": "text"
      },
      "cell_type": "markdown",
      "source": [
        "#Will new uniforms help a gym's business?\n",
        "\n",
        "Since we cannot create a group of customers, we will have to simply measure the change in customers between a given time frame where the gym employees do and do not wear uniforms. In this case, our sample groups will be randomized. We will need to account for seasonal changes, discounts/promotions, economic changes, etc. Additionally, we need to define a particular measure of what \"helping\" a business is. A good start would be to measure the enrollment of new customers. We hypothesize that the employees wearing uniforms will create a more professional environment, which may entice more customers to enroll, thereby \"helping\" the gym's business."
      ]
    },
    {
      "metadata": {
        "id": "KpN6DsNGytzS",
        "colab_type": "text"
      },
      "cell_type": "markdown",
      "source": [
        "#Will a new homepage improve my online exotic pet rental business?\n",
        "\n",
        "First, we will create two separate home pages. Next, we will randomly assign customers to each of the pages and measure the change in business in a given time frame between customers who saw the unchanged homepage and those who saw the changed homepage. Aside from the randomness of customers' moods (whether they plan to spend or not) we need to account for seasonal changes, discounts/promotions, economic changes, etc. Additionally, we will define the improvement in the rental business by counting the amount of purchases, the total amount spent, and the percentage of people who visited the site and actually purchased an item. We hypothesize that a new homepage will be more efficient, and be more visually appealing, which will lead to more customer purchases."
      ]
    },
    {
      "metadata": {
        "id": "2V_fg-oLy9Mg",
        "colab_type": "text"
      },
      "cell_type": "markdown",
      "source": [
        "#If I put 'please read' in the email subject will more people read my emails?\n",
        "\n",
        "We need to create a sample group of people who receive emails that receive standard emails and then receive emails that contain the phrase 'please read' in the email subject. We will then track how many of each type of emails are read. We will need to account for other measurable variables including the amount of emails they receive that are from other people. This may influence whether a person becomes more selective in the emails they read. However, we hypothesize that adding 'please read' in the subject lines will create a sense of urgency, which will lead more people to read the emails."
      ]
    },
    {
      "metadata": {
        "id": "r4ODTguHzByC",
        "colab_type": "code",
        "colab": {}
      },
      "cell_type": "code",
      "source": [
        ""
      ],
      "execution_count": 0,
      "outputs": []
    }
  ]
}
