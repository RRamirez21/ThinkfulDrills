{
  "nbformat": 4,
  "nbformat_minor": 0,
  "metadata": {
    "colab": {
      "name": "Clustering Methods Challenge.ipynb",
      "version": "0.3.2",
      "provenance": [],
      "collapsed_sections": []
    },
    "kernelspec": {
      "name": "python3",
      "display_name": "Python 3"
    }
  },
  "cells": [
    {
      "cell_type": "markdown",
      "metadata": {
        "id": "kQOuM4pJXaja",
        "colab_type": "text"
      },
      "source": [
        "# Challenge: Boston Marathon\n",
        "There is a lot of information on runners and their performance for the Boston Marathon. Pick a year (post-2012 has more info) and do some clustering.\n",
        "\n",
        "Specifically, use the tools at hand to determine which clustering solution, including number of clusters and algorithm used, is best for the marathon data. Once you have a solution you like, write a data story, including visualizations, where you teach the reader something about the Boston Marathon based on your clusters. Write up your report, including your process from start to finish, in a Jupyter notebook and submit it below."
      ]
    },
    {
      "cell_type": "code",
      "metadata": {
        "id": "E6Cm4VbSXYjs",
        "colab_type": "code",
        "colab": {}
      },
      "source": [
        "import numpy as np\n",
        "import pandas as pd\n",
        "import matplotlib.pyplot as plt\n",
        "import seaborn as sns\n",
        "%matplotlib inline\n",
        "\n",
        "# Model preparation\n",
        "from sklearn.model_selection import train_test_split\n",
        "from sklearn.preprocessing import normalize\n",
        "from sklearn.decomposition import PCA\n",
        "\n",
        "# Model imports\n",
        "from sklearn.cluster import KMeans\n",
        "from sklearn.cluster import MeanShift, estimate_bandwidth\n",
        "from sklearn.cluster import SpectralClustering\n",
        "from sklearn.cluster import AffinityPropagation\n",
        "\n",
        "# Cluster evalutations\n",
        "from sklearn import metrics"
      ],
      "execution_count": 0,
      "outputs": []
    },
    {
      "cell_type": "code",
      "metadata": {
        "id": "S8ZuDAeBXZOz",
        "colab_type": "code",
        "outputId": "942fa3a8-b1a7-4ce3-b892-3fba1205cf9f",
        "colab": {
          "base_uri": "https://localhost:8080/",
          "height": 309
        }
      },
      "source": [
        "results_2014 = pd.read_csv('https://raw.githubusercontent.com/llimllib/bostonmarathon/master/results/2014/results.csv')\n",
        "results_2014.head()"
      ],
      "execution_count": 132,
      "outputs": [
        {
          "output_type": "execute_result",
          "data": {
            "text/html": [
              "<div>\n",
              "<style scoped>\n",
              "    .dataframe tbody tr th:only-of-type {\n",
              "        vertical-align: middle;\n",
              "    }\n",
              "\n",
              "    .dataframe tbody tr th {\n",
              "        vertical-align: top;\n",
              "    }\n",
              "\n",
              "    .dataframe thead th {\n",
              "        text-align: right;\n",
              "    }\n",
              "</style>\n",
              "<table border=\"1\" class=\"dataframe\">\n",
              "  <thead>\n",
              "    <tr style=\"text-align: right;\">\n",
              "      <th></th>\n",
              "      <th>10k</th>\n",
              "      <th>name</th>\n",
              "      <th>division</th>\n",
              "      <th>25k</th>\n",
              "      <th>gender</th>\n",
              "      <th>age</th>\n",
              "      <th>official</th>\n",
              "      <th>bib</th>\n",
              "      <th>genderdiv</th>\n",
              "      <th>ctz</th>\n",
              "      <th>35k</th>\n",
              "      <th>overall</th>\n",
              "      <th>pace</th>\n",
              "      <th>state</th>\n",
              "      <th>30k</th>\n",
              "      <th>5k</th>\n",
              "      <th>half</th>\n",
              "      <th>20k</th>\n",
              "      <th>country</th>\n",
              "      <th>city</th>\n",
              "      <th>40k</th>\n",
              "    </tr>\n",
              "  </thead>\n",
              "  <tbody>\n",
              "    <tr>\n",
              "      <th>0</th>\n",
              "      <td>17.37</td>\n",
              "      <td>Yamamoto, Hiroyuki</td>\n",
              "      <td>8</td>\n",
              "      <td>47.67</td>\n",
              "      <td>M</td>\n",
              "      <td>47</td>\n",
              "      <td>85.25</td>\n",
              "      <td>W1</td>\n",
              "      <td>8</td>\n",
              "      <td>NaN</td>\n",
              "      <td>71.40</td>\n",
              "      <td>8</td>\n",
              "      <td>3.27</td>\n",
              "      <td>NaN</td>\n",
              "      <td>59.18</td>\n",
              "      <td>8.02</td>\n",
              "      <td>39.72</td>\n",
              "      <td>37.65</td>\n",
              "      <td>JPN</td>\n",
              "      <td>Fukuoka</td>\n",
              "      <td>80.43</td>\n",
              "    </tr>\n",
              "    <tr>\n",
              "      <th>1</th>\n",
              "      <td>32.58</td>\n",
              "      <td>Jeptoo, Rita</td>\n",
              "      <td>1</td>\n",
              "      <td>82.43</td>\n",
              "      <td>F</td>\n",
              "      <td>33</td>\n",
              "      <td>138.95</td>\n",
              "      <td>F1</td>\n",
              "      <td>1</td>\n",
              "      <td>NaN</td>\n",
              "      <td>116.37</td>\n",
              "      <td>21</td>\n",
              "      <td>5.30</td>\n",
              "      <td>NaN</td>\n",
              "      <td>99.33</td>\n",
              "      <td>16.22</td>\n",
              "      <td>69.47</td>\n",
              "      <td>65.83</td>\n",
              "      <td>KEN</td>\n",
              "      <td>Eldoret</td>\n",
              "      <td>132.10</td>\n",
              "    </tr>\n",
              "    <tr>\n",
              "      <th>2</th>\n",
              "      <td>16.62</td>\n",
              "      <td>Van Dyk, Ernst F.</td>\n",
              "      <td>1</td>\n",
              "      <td>45.80</td>\n",
              "      <td>M</td>\n",
              "      <td>41</td>\n",
              "      <td>80.60</td>\n",
              "      <td>W2</td>\n",
              "      <td>1</td>\n",
              "      <td>NaN</td>\n",
              "      <td>67.42</td>\n",
              "      <td>1</td>\n",
              "      <td>3.08</td>\n",
              "      <td>NaN</td>\n",
              "      <td>56.45</td>\n",
              "      <td>7.75</td>\n",
              "      <td>38.03</td>\n",
              "      <td>36.10</td>\n",
              "      <td>RSA</td>\n",
              "      <td>Paarl</td>\n",
              "      <td>76.10</td>\n",
              "    </tr>\n",
              "    <tr>\n",
              "      <th>3</th>\n",
              "      <td>32.57</td>\n",
              "      <td>Dibaba, Mare</td>\n",
              "      <td>3</td>\n",
              "      <td>82.43</td>\n",
              "      <td>F</td>\n",
              "      <td>24</td>\n",
              "      <td>140.58</td>\n",
              "      <td>F2</td>\n",
              "      <td>3</td>\n",
              "      <td>NaN</td>\n",
              "      <td>116.37</td>\n",
              "      <td>27</td>\n",
              "      <td>5.37</td>\n",
              "      <td>NaN</td>\n",
              "      <td>99.33</td>\n",
              "      <td>16.20</td>\n",
              "      <td>69.47</td>\n",
              "      <td>65.83</td>\n",
              "      <td>ETH</td>\n",
              "      <td>Shoa</td>\n",
              "      <td>132.95</td>\n",
              "    </tr>\n",
              "    <tr>\n",
              "      <th>4</th>\n",
              "      <td>17.12</td>\n",
              "      <td>Hokinoue, Kota</td>\n",
              "      <td>2</td>\n",
              "      <td>46.37</td>\n",
              "      <td>M</td>\n",
              "      <td>40</td>\n",
              "      <td>81.23</td>\n",
              "      <td>W3</td>\n",
              "      <td>2</td>\n",
              "      <td>NaN</td>\n",
              "      <td>67.83</td>\n",
              "      <td>2</td>\n",
              "      <td>3.10</td>\n",
              "      <td>NaN</td>\n",
              "      <td>57.03</td>\n",
              "      <td>8.02</td>\n",
              "      <td>38.60</td>\n",
              "      <td>36.58</td>\n",
              "      <td>JPN</td>\n",
              "      <td>Nogata Fukuoka</td>\n",
              "      <td>76.72</td>\n",
              "    </tr>\n",
              "  </tbody>\n",
              "</table>\n",
              "</div>"
            ],
            "text/plain": [
              "     10k                name  division  ... country            city     40k\n",
              "0  17.37  Yamamoto, Hiroyuki         8  ...     JPN         Fukuoka   80.43\n",
              "1  32.58        Jeptoo, Rita         1  ...     KEN         Eldoret  132.10\n",
              "2  16.62   Van Dyk, Ernst F.         1  ...     RSA           Paarl   76.10\n",
              "3  32.57        Dibaba, Mare         3  ...     ETH            Shoa  132.95\n",
              "4  17.12      Hokinoue, Kota         2  ...     JPN  Nogata Fukuoka   76.72\n",
              "\n",
              "[5 rows x 21 columns]"
            ]
          },
          "metadata": {
            "tags": []
          },
          "execution_count": 132
        }
      ]
    },
    {
      "cell_type": "code",
      "metadata": {
        "id": "e4NLbG_VYi3v",
        "colab_type": "code",
        "outputId": "6b340179-c534-47c9-d90d-1e692a19f972",
        "colab": {
          "base_uri": "https://localhost:8080/",
          "height": 459
        }
      },
      "source": [
        "results_2014.info()"
      ],
      "execution_count": 133,
      "outputs": [
        {
          "output_type": "stream",
          "text": [
            "<class 'pandas.core.frame.DataFrame'>\n",
            "RangeIndex: 31984 entries, 0 to 31983\n",
            "Data columns (total 21 columns):\n",
            "10k          31984 non-null object\n",
            "name         31984 non-null object\n",
            "division     31984 non-null int64\n",
            "25k          31984 non-null object\n",
            "gender       31984 non-null object\n",
            "age          31984 non-null int64\n",
            "official     31984 non-null float64\n",
            "bib          31984 non-null object\n",
            "genderdiv    31984 non-null int64\n",
            "ctz          1244 non-null object\n",
            "35k          31984 non-null object\n",
            "overall      31984 non-null int64\n",
            "pace         31984 non-null float64\n",
            "state        29408 non-null object\n",
            "30k          31984 non-null object\n",
            "5k           31984 non-null object\n",
            "half         31984 non-null object\n",
            "20k          31984 non-null object\n",
            "country      31984 non-null object\n",
            "city         31983 non-null object\n",
            "40k          31984 non-null object\n",
            "dtypes: float64(2), int64(4), object(15)\n",
            "memory usage: 5.1+ MB\n"
          ],
          "name": "stdout"
        }
      ]
    },
    {
      "cell_type": "code",
      "metadata": {
        "id": "grW9nhC0Ym_q",
        "colab_type": "code",
        "colab": {}
      },
      "source": [
        "results_2014 = results_2014.drop('ctz', axis=1)"
      ],
      "execution_count": 0,
      "outputs": []
    },
    {
      "cell_type": "code",
      "metadata": {
        "id": "ohyoAGapY3tu",
        "colab_type": "code",
        "outputId": "ccd4f54d-1cdd-4eaf-ca19-5fefba78df20",
        "colab": {
          "base_uri": "https://localhost:8080/",
          "height": 374
        }
      },
      "source": [
        "results_2014.nunique()"
      ],
      "execution_count": 135,
      "outputs": [
        {
          "output_type": "execute_result",
          "data": {
            "text/plain": [
              "10k           2766\n",
              "name         31915\n",
              "division      6979\n",
              "25k           6570\n",
              "gender           2\n",
              "age             64\n",
              "official     11030\n",
              "bib          31984\n",
              "genderdiv    17575\n",
              "35k           9516\n",
              "overall      31931\n",
              "pace           727\n",
              "state           68\n",
              "30k           8090\n",
              "5k            1491\n",
              "half          5651\n",
              "20k           5375\n",
              "country         78\n",
              "city          5934\n",
              "40k          10546\n",
              "dtype: int64"
            ]
          },
          "metadata": {
            "tags": []
          },
          "execution_count": 135
        }
      ]
    },
    {
      "cell_type": "code",
      "metadata": {
        "id": "PfEmdoD8Y8RI",
        "colab_type": "code",
        "colab": {}
      },
      "source": [
        "results_2014 = results_2014.drop(['name', 'bib'], axis=1)\n",
        "results_2014.gender = results_2014.gender.map(lambda x: 0 if x is 'F' else 1)"
      ],
      "execution_count": 0,
      "outputs": []
    },
    {
      "cell_type": "code",
      "metadata": {
        "id": "k1bhAiB-ZC18",
        "colab_type": "code",
        "outputId": "b6d55c4d-7925-49d2-94b4-b5d54f8498d0",
        "colab": {
          "base_uri": "https://localhost:8080/",
          "height": 204
        }
      },
      "source": [
        "splits = ['5k', '10k', 'half', '20k', '25k', '30k', '35k', '40k']\n",
        "\n",
        "for dist in splits:\n",
        "    results_2014[dist] = pd.to_numeric(results_2014[dist], errors='coerce')\n",
        "    results_2014[dist] = results_2014[dist].map(lambda x: results_2013[dist].mean() if x is '-' else float(x))\n",
        "\n",
        "results_2014.head()"
      ],
      "execution_count": 137,
      "outputs": [
        {
          "output_type": "execute_result",
          "data": {
            "text/html": [
              "<div>\n",
              "<style scoped>\n",
              "    .dataframe tbody tr th:only-of-type {\n",
              "        vertical-align: middle;\n",
              "    }\n",
              "\n",
              "    .dataframe tbody tr th {\n",
              "        vertical-align: top;\n",
              "    }\n",
              "\n",
              "    .dataframe thead th {\n",
              "        text-align: right;\n",
              "    }\n",
              "</style>\n",
              "<table border=\"1\" class=\"dataframe\">\n",
              "  <thead>\n",
              "    <tr style=\"text-align: right;\">\n",
              "      <th></th>\n",
              "      <th>10k</th>\n",
              "      <th>division</th>\n",
              "      <th>25k</th>\n",
              "      <th>gender</th>\n",
              "      <th>age</th>\n",
              "      <th>official</th>\n",
              "      <th>genderdiv</th>\n",
              "      <th>35k</th>\n",
              "      <th>overall</th>\n",
              "      <th>pace</th>\n",
              "      <th>state</th>\n",
              "      <th>30k</th>\n",
              "      <th>5k</th>\n",
              "      <th>half</th>\n",
              "      <th>20k</th>\n",
              "      <th>country</th>\n",
              "      <th>city</th>\n",
              "      <th>40k</th>\n",
              "    </tr>\n",
              "  </thead>\n",
              "  <tbody>\n",
              "    <tr>\n",
              "      <th>0</th>\n",
              "      <td>17.37</td>\n",
              "      <td>8</td>\n",
              "      <td>47.67</td>\n",
              "      <td>1</td>\n",
              "      <td>47</td>\n",
              "      <td>85.25</td>\n",
              "      <td>8</td>\n",
              "      <td>71.40</td>\n",
              "      <td>8</td>\n",
              "      <td>3.27</td>\n",
              "      <td>NaN</td>\n",
              "      <td>59.18</td>\n",
              "      <td>8.02</td>\n",
              "      <td>39.72</td>\n",
              "      <td>37.65</td>\n",
              "      <td>JPN</td>\n",
              "      <td>Fukuoka</td>\n",
              "      <td>80.43</td>\n",
              "    </tr>\n",
              "    <tr>\n",
              "      <th>1</th>\n",
              "      <td>32.58</td>\n",
              "      <td>1</td>\n",
              "      <td>82.43</td>\n",
              "      <td>0</td>\n",
              "      <td>33</td>\n",
              "      <td>138.95</td>\n",
              "      <td>1</td>\n",
              "      <td>116.37</td>\n",
              "      <td>21</td>\n",
              "      <td>5.30</td>\n",
              "      <td>NaN</td>\n",
              "      <td>99.33</td>\n",
              "      <td>16.22</td>\n",
              "      <td>69.47</td>\n",
              "      <td>65.83</td>\n",
              "      <td>KEN</td>\n",
              "      <td>Eldoret</td>\n",
              "      <td>132.10</td>\n",
              "    </tr>\n",
              "    <tr>\n",
              "      <th>2</th>\n",
              "      <td>16.62</td>\n",
              "      <td>1</td>\n",
              "      <td>45.80</td>\n",
              "      <td>1</td>\n",
              "      <td>41</td>\n",
              "      <td>80.60</td>\n",
              "      <td>1</td>\n",
              "      <td>67.42</td>\n",
              "      <td>1</td>\n",
              "      <td>3.08</td>\n",
              "      <td>NaN</td>\n",
              "      <td>56.45</td>\n",
              "      <td>7.75</td>\n",
              "      <td>38.03</td>\n",
              "      <td>36.10</td>\n",
              "      <td>RSA</td>\n",
              "      <td>Paarl</td>\n",
              "      <td>76.10</td>\n",
              "    </tr>\n",
              "    <tr>\n",
              "      <th>3</th>\n",
              "      <td>32.57</td>\n",
              "      <td>3</td>\n",
              "      <td>82.43</td>\n",
              "      <td>0</td>\n",
              "      <td>24</td>\n",
              "      <td>140.58</td>\n",
              "      <td>3</td>\n",
              "      <td>116.37</td>\n",
              "      <td>27</td>\n",
              "      <td>5.37</td>\n",
              "      <td>NaN</td>\n",
              "      <td>99.33</td>\n",
              "      <td>16.20</td>\n",
              "      <td>69.47</td>\n",
              "      <td>65.83</td>\n",
              "      <td>ETH</td>\n",
              "      <td>Shoa</td>\n",
              "      <td>132.95</td>\n",
              "    </tr>\n",
              "    <tr>\n",
              "      <th>4</th>\n",
              "      <td>17.12</td>\n",
              "      <td>2</td>\n",
              "      <td>46.37</td>\n",
              "      <td>1</td>\n",
              "      <td>40</td>\n",
              "      <td>81.23</td>\n",
              "      <td>2</td>\n",
              "      <td>67.83</td>\n",
              "      <td>2</td>\n",
              "      <td>3.10</td>\n",
              "      <td>NaN</td>\n",
              "      <td>57.03</td>\n",
              "      <td>8.02</td>\n",
              "      <td>38.60</td>\n",
              "      <td>36.58</td>\n",
              "      <td>JPN</td>\n",
              "      <td>Nogata Fukuoka</td>\n",
              "      <td>76.72</td>\n",
              "    </tr>\n",
              "  </tbody>\n",
              "</table>\n",
              "</div>"
            ],
            "text/plain": [
              "     10k  division    25k  gender  ...    20k  country            city     40k\n",
              "0  17.37         8  47.67       1  ...  37.65      JPN         Fukuoka   80.43\n",
              "1  32.58         1  82.43       0  ...  65.83      KEN         Eldoret  132.10\n",
              "2  16.62         1  45.80       1  ...  36.10      RSA           Paarl   76.10\n",
              "3  32.57         3  82.43       0  ...  65.83      ETH            Shoa  132.95\n",
              "4  17.12         2  46.37       1  ...  36.58      JPN  Nogata Fukuoka   76.72\n",
              "\n",
              "[5 rows x 18 columns]"
            ]
          },
          "metadata": {
            "tags": []
          },
          "execution_count": 137
        }
      ]
    },
    {
      "cell_type": "code",
      "metadata": {
        "id": "aHNG6M_fZJUb",
        "colab_type": "code",
        "outputId": "d475f6ce-7556-45cb-d537-0fe43d4cf3a0",
        "colab": {
          "base_uri": "https://localhost:8080/",
          "height": 374
        }
      },
      "source": [
        "results_2014.country.value_counts().head(20)"
      ],
      "execution_count": 138,
      "outputs": [
        {
          "output_type": "execute_result",
          "data": {
            "text/plain": [
              "USA    27233\n",
              "CAN     2175\n",
              "GBR      346\n",
              "ITA      212\n",
              "MEX      205\n",
              "GER      182\n",
              "JPN      175\n",
              "AUS      124\n",
              "IRL      119\n",
              "FRA      115\n",
              "ESP       89\n",
              "BRA       87\n",
              "SWE       66\n",
              "SUI       62\n",
              "KOR       60\n",
              "NED       54\n",
              "HKG       53\n",
              "DEN       50\n",
              "CHN       42\n",
              "COL       40\n",
              "Name: country, dtype: int64"
            ]
          },
          "metadata": {
            "tags": []
          },
          "execution_count": 138
        }
      ]
    },
    {
      "cell_type": "code",
      "metadata": {
        "id": "9H4YgXeNZdKF",
        "colab_type": "code",
        "outputId": "0f5232bb-8d13-4209-df2c-3a36d83c1cd2",
        "colab": {
          "base_uri": "https://localhost:8080/",
          "height": 374
        }
      },
      "source": [
        "results_2014.state.value_counts().head(20)"
      ],
      "execution_count": 139,
      "outputs": [
        {
          "output_type": "execute_result",
          "data": {
            "text/plain": [
              "MA    7587\n",
              "CA    2326\n",
              "NY    1553\n",
              "ON    1052\n",
              "PA    1001\n",
              "TX     992\n",
              "IL     916\n",
              "OH     760\n",
              "FL     750\n",
              "VA     713\n",
              "MI     695\n",
              "NC     618\n",
              "WA     596\n",
              "CO     578\n",
              "NJ     569\n",
              "MN     556\n",
              "MD     527\n",
              "NH     526\n",
              "CT     521\n",
              "GA     443\n",
              "Name: state, dtype: int64"
            ]
          },
          "metadata": {
            "tags": []
          },
          "execution_count": 139
        }
      ]
    },
    {
      "cell_type": "code",
      "metadata": {
        "id": "fU1fL8cbZg_e",
        "colab_type": "code",
        "outputId": "b6db5f3f-768b-4b18-f9d2-d25f26f50814",
        "colab": {
          "base_uri": "https://localhost:8080/",
          "height": 374
        }
      },
      "source": [
        "results_2014.city.value_counts().head(20)"
      ],
      "execution_count": 140,
      "outputs": [
        {
          "output_type": "execute_result",
          "data": {
            "text/plain": [
              "Boston           1034\n",
              "New York          498\n",
              "Chicago           313\n",
              "Cambridge         311\n",
              "Somerville        240\n",
              "Toronto           240\n",
              "Brookline         222\n",
              "Washington        212\n",
              "Newton            201\n",
              "Austin            192\n",
              "San Francisco     192\n",
              "Portland          191\n",
              "Arlington         184\n",
              "San Diego         182\n",
              "Brighton          151\n",
              "Seattle           149\n",
              "Charlestown       148\n",
              "Houston           138\n",
              "London            135\n",
              "Quincy            134\n",
              "Name: city, dtype: int64"
            ]
          },
          "metadata": {
            "tags": []
          },
          "execution_count": 140
        }
      ]
    },
    {
      "cell_type": "code",
      "metadata": {
        "id": "4S6kHtWAZlTF",
        "colab_type": "code",
        "colab": {}
      },
      "source": [
        "X = results_2014.drop(['country', 'city', 'state'], axis=1)"
      ],
      "execution_count": 0,
      "outputs": []
    },
    {
      "cell_type": "markdown",
      "metadata": {
        "id": "Dx5gPvl4Z77w",
        "colab_type": "text"
      },
      "source": [
        "\n",
        "We normalize the data, then create a two-feature PCA."
      ]
    },
    {
      "cell_type": "code",
      "metadata": {
        "id": "VkDGKkRCZ3Z0",
        "colab_type": "code",
        "outputId": "1df10928-b5da-42f3-b257-2b73e9ae7bbb",
        "colab": {
          "base_uri": "https://localhost:8080/",
          "height": 34
        }
      },
      "source": [
        "X = X.drop(X.index[0])\n",
        "Xn = normalize(X.dropna(axis=0, how='any'))\n",
        "print(len(Xn))\n",
        "pca = PCA(n_components=2)\n",
        "X_pca = pca.fit_transform(Xn)"
      ],
      "execution_count": 142,
      "outputs": [
        {
          "output_type": "stream",
          "text": [
            "31648\n"
          ],
          "name": "stdout"
        }
      ]
    },
    {
      "cell_type": "markdown",
      "metadata": {
        "id": "owmMZCeRaG6q",
        "colab_type": "text"
      },
      "source": [
        "We separate the data into four equal sets for cross validation."
      ]
    },
    {
      "cell_type": "code",
      "metadata": {
        "id": "bxeO9BDWZ5ap",
        "colab_type": "code",
        "outputId": "5e6dd3e8-1793-47cc-96bb-b31692f06ecc",
        "colab": {
          "base_uri": "https://localhost:8080/",
          "height": 85
        }
      },
      "source": [
        "# Divide into two sets.\n",
        "Xhalf1, Xhalf2, X_pca_1, X_pca_2 = train_test_split(Xn, X_pca, test_size=0.5, random_state=42)\n",
        "\n",
        "# Dividing into four sets\n",
        "X1, X2, X_pca1, X_pca2 = train_test_split(Xhalf1, X_pca_1, test_size=0.5, random_state=42)\n",
        "X3, X4, X_pca3, X_pca4 = train_test_split(Xhalf2, X_pca_1, test_size=0.5, random_state=42)\n",
        "\n",
        "# Checking the length of each set\n",
        "print(len(X1), len(X_pca1))\n",
        "print(len(X2), len(X_pca2))\n",
        "print(len(X3), len(X_pca3))\n",
        "print(len(X4), len(X_pca4))"
      ],
      "execution_count": 143,
      "outputs": [
        {
          "output_type": "stream",
          "text": [
            "7912 7912\n",
            "7912 7912\n",
            "7912 7912\n",
            "7912 7912\n"
          ],
          "name": "stdout"
        }
      ]
    },
    {
      "cell_type": "markdown",
      "metadata": {
        "id": "RUcQncoOWD46",
        "colab_type": "text"
      },
      "source": [
        "# K Means Modeling\n",
        "We create two data frames, one for the y predictions from a K-means model, and another silhouette scores for the different clusters. Later, we fit the model for 2 to 5 clusters, calculating silhouette scores for each."
      ]
    },
    {
      "cell_type": "code",
      "metadata": {
        "id": "5DNgBa68Vxwt",
        "colab_type": "code",
        "colab": {}
      },
      "source": [
        "# Initialize data frames\n",
        "ypred = pd.DataFrame()\n",
        "score = pd.DataFrame(columns=['cluster_pred','sil_score'])\n",
        "\n",
        "# Keep track of counts of the models and use data from the different folds\n",
        "for counter, data in enumerate([\n",
        "    (X1, X_pca1),\n",
        "    (X2, X_pca2),\n",
        "    (X3, X_pca3),\n",
        "    (X4, X_pca4)]):\n",
        "    \n",
        "    # Put the features into ypred.\n",
        "    ypred['pca_f1' + '_sample' + str(counter)] = data[1][:, 0]\n",
        "    ypred['pca_f2' + '_sample' + str(counter)] = data[1][:, 1]\n",
        "    \n",
        "    # Creating a list of possible number of clusters to test in kmeans.\n",
        "    for nclust in range(2, 6):\n",
        "       \n",
        "        # Instantiating and fit_predicting model to then add to data frame\n",
        "        kmeans = KMeans(n_clusters=nclust, random_state=42)\n",
        "        pred = kmeans.fit_predict(data[0])\n",
        "        ypred['clust' + str(nclust) + '_sample' + str(counter)] = pred\n",
        "        \n",
        "        # Calculating silhouette scores for the data and adding that to the shilouette score\n",
        "        labels = kmeans.labels_\n",
        "        sscore = metrics.silhouette_score(data[0], labels, metric='euclidean')\n",
        "        score = score.append({'cluster_pred':'clust' + str(nclust) + '_sample' + str(counter), \n",
        "                              'silhouette_score':sscore}, ignore_index=True)"
      ],
      "execution_count": 0,
      "outputs": []
    },
    {
      "cell_type": "code",
      "metadata": {
        "id": "cL3nmHUNVzqv",
        "colab_type": "code",
        "colab": {
          "base_uri": "https://localhost:8080/",
          "height": 545
        },
        "outputId": "f710431d-c253-4c88-f8ca-807efec58ef4"
      },
      "source": [
        "# Sorting sihoilette scores\n",
        "score.sort_values(by='silhouette_score', ascending=False)"
      ],
      "execution_count": 146,
      "outputs": [
        {
          "output_type": "execute_result",
          "data": {
            "text/html": [
              "<div>\n",
              "<style scoped>\n",
              "    .dataframe tbody tr th:only-of-type {\n",
              "        vertical-align: middle;\n",
              "    }\n",
              "\n",
              "    .dataframe tbody tr th {\n",
              "        vertical-align: top;\n",
              "    }\n",
              "\n",
              "    .dataframe thead th {\n",
              "        text-align: right;\n",
              "    }\n",
              "</style>\n",
              "<table border=\"1\" class=\"dataframe\">\n",
              "  <thead>\n",
              "    <tr style=\"text-align: right;\">\n",
              "      <th></th>\n",
              "      <th>cluster_pred</th>\n",
              "      <th>sil_score</th>\n",
              "      <th>silhouette_score</th>\n",
              "    </tr>\n",
              "  </thead>\n",
              "  <tbody>\n",
              "    <tr>\n",
              "      <th>14</th>\n",
              "      <td>clust4_sample3</td>\n",
              "      <td>NaN</td>\n",
              "      <td>0.497272</td>\n",
              "    </tr>\n",
              "    <tr>\n",
              "      <th>6</th>\n",
              "      <td>clust4_sample1</td>\n",
              "      <td>NaN</td>\n",
              "      <td>0.495845</td>\n",
              "    </tr>\n",
              "    <tr>\n",
              "      <th>2</th>\n",
              "      <td>clust4_sample0</td>\n",
              "      <td>NaN</td>\n",
              "      <td>0.494896</td>\n",
              "    </tr>\n",
              "    <tr>\n",
              "      <th>10</th>\n",
              "      <td>clust4_sample2</td>\n",
              "      <td>NaN</td>\n",
              "      <td>0.493773</td>\n",
              "    </tr>\n",
              "    <tr>\n",
              "      <th>13</th>\n",
              "      <td>clust3_sample3</td>\n",
              "      <td>NaN</td>\n",
              "      <td>0.482041</td>\n",
              "    </tr>\n",
              "    <tr>\n",
              "      <th>1</th>\n",
              "      <td>clust3_sample0</td>\n",
              "      <td>NaN</td>\n",
              "      <td>0.480960</td>\n",
              "    </tr>\n",
              "    <tr>\n",
              "      <th>9</th>\n",
              "      <td>clust3_sample2</td>\n",
              "      <td>NaN</td>\n",
              "      <td>0.475093</td>\n",
              "    </tr>\n",
              "    <tr>\n",
              "      <th>5</th>\n",
              "      <td>clust3_sample1</td>\n",
              "      <td>NaN</td>\n",
              "      <td>0.473798</td>\n",
              "    </tr>\n",
              "    <tr>\n",
              "      <th>4</th>\n",
              "      <td>clust2_sample1</td>\n",
              "      <td>NaN</td>\n",
              "      <td>0.458424</td>\n",
              "    </tr>\n",
              "    <tr>\n",
              "      <th>7</th>\n",
              "      <td>clust5_sample1</td>\n",
              "      <td>NaN</td>\n",
              "      <td>0.453836</td>\n",
              "    </tr>\n",
              "    <tr>\n",
              "      <th>0</th>\n",
              "      <td>clust2_sample0</td>\n",
              "      <td>NaN</td>\n",
              "      <td>0.453109</td>\n",
              "    </tr>\n",
              "    <tr>\n",
              "      <th>8</th>\n",
              "      <td>clust2_sample2</td>\n",
              "      <td>NaN</td>\n",
              "      <td>0.451713</td>\n",
              "    </tr>\n",
              "    <tr>\n",
              "      <th>3</th>\n",
              "      <td>clust5_sample0</td>\n",
              "      <td>NaN</td>\n",
              "      <td>0.451377</td>\n",
              "    </tr>\n",
              "    <tr>\n",
              "      <th>12</th>\n",
              "      <td>clust2_sample3</td>\n",
              "      <td>NaN</td>\n",
              "      <td>0.450990</td>\n",
              "    </tr>\n",
              "    <tr>\n",
              "      <th>11</th>\n",
              "      <td>clust5_sample2</td>\n",
              "      <td>NaN</td>\n",
              "      <td>0.398884</td>\n",
              "    </tr>\n",
              "    <tr>\n",
              "      <th>15</th>\n",
              "      <td>clust5_sample3</td>\n",
              "      <td>NaN</td>\n",
              "      <td>0.395974</td>\n",
              "    </tr>\n",
              "  </tbody>\n",
              "</table>\n",
              "</div>"
            ],
            "text/plain": [
              "      cluster_pred sil_score  silhouette_score\n",
              "14  clust4_sample3       NaN          0.497272\n",
              "6   clust4_sample1       NaN          0.495845\n",
              "2   clust4_sample0       NaN          0.494896\n",
              "10  clust4_sample2       NaN          0.493773\n",
              "13  clust3_sample3       NaN          0.482041\n",
              "1   clust3_sample0       NaN          0.480960\n",
              "9   clust3_sample2       NaN          0.475093\n",
              "5   clust3_sample1       NaN          0.473798\n",
              "4   clust2_sample1       NaN          0.458424\n",
              "7   clust5_sample1       NaN          0.453836\n",
              "0   clust2_sample0       NaN          0.453109\n",
              "8   clust2_sample2       NaN          0.451713\n",
              "3   clust5_sample0       NaN          0.451377\n",
              "12  clust2_sample3       NaN          0.450990\n",
              "11  clust5_sample2       NaN          0.398884\n",
              "15  clust5_sample3       NaN          0.395974"
            ]
          },
          "metadata": {
            "tags": []
          },
          "execution_count": 146
        }
      ]
    },
    {
      "cell_type": "markdown",
      "metadata": {
        "id": "v2u_nT6MWWJF",
        "colab_type": "text"
      },
      "source": [
        "A four-cluster system has the highest silhouette scores."
      ]
    },
    {
      "cell_type": "code",
      "metadata": {
        "id": "NdfoNEy4WekY",
        "colab_type": "code",
        "colab": {
          "base_uri": "https://localhost:8080/",
          "height": 1000
        },
        "outputId": "65c8031c-49ce-4c25-aa41-722bdeadcebb"
      },
      "source": [
        "# For each  number of clusters, plot the clusters using the\n",
        "# pca features for each sample.\n",
        "for cluster in range(2, 6):\n",
        "    \n",
        "    # Make a grid of subplots.\n",
        "    f, axarr = plt.subplots(2, 2)\n",
        "    \n",
        "    # Make a plot for each sample.\n",
        "    for i in range(4):\n",
        "        \n",
        "        # PCA-created features.\n",
        "        x_sub = ypred['pca_f1_sample{}'.format(i)]\n",
        "        y_sub = ypred['pca_f2_sample{}'.format(i)]\n",
        "        \n",
        "        # Cluster assignments.\n",
        "        c = ypred['clust{}_sample{}'.format(cluster, i)]\n",
        "        \n",
        "        # Assign the subplot to its place on the grid.\n",
        "        rows = int(np.floor(i / 2))\n",
        "        cols = i % 2\n",
        "        axarr[rows, cols].scatter(x_sub, y_sub, c=c)\n",
        "        axarr[rows, cols].set_title('sample {}'.format(i))\n",
        "        axarr[rows, cols].set_xlim([-.5, .5])\n",
        "        axarr[rows, cols].set_ylim([-.5, 1.2])\n",
        "    \n",
        "    # Space out the plots so that the headings don't overlap axis values.\n",
        "    plt.suptitle('{} Clusters'.format(cluster), fontsize=20)\n",
        "    plt.tight_layout()\n",
        "    plt.show()\n",
        "    print('\\n')"
      ],
      "execution_count": 147,
      "outputs": [
        {
          "output_type": "display_data",
          "data": {
            "image/png": "[encoded data removed]",
            "text/plain": [
              "<Figure size 432x288 with 4 Axes>"
            ]
          },
          "metadata": {
            "tags": []
          }
        },
        {
          "output_type": "stream",
          "text": [
            "\n",
            "\n"
          ],
          "name": "stdout"
        },
        {
          "output_type": "display_data",
          "data": {
            "image/png": "[encoded data removed]",
            "text/plain": [
              "<Figure size 432x288 with 4 Axes>"
            ]
          },
          "metadata": {
            "tags": []
          }
        },
        {
          "output_type": "stream",
          "text": [
            "\n",
            "\n"
          ],
          "name": "stdout"
        },
        {
          "output_type": "display_data",
          "data": {
            "image/png": "[encoded data removed]",
            "text/plain": [
              "<Figure size 432x288 with 4 Axes>"
            ]
          },
          "metadata": {
            "tags": []
          }
        },
        {
          "output_type": "stream",
          "text": [
            "\n",
            "\n"
          ],
          "name": "stdout"
        },
        {
          "output_type": "display_data",
          "data": {
            "image/png": "[encoded data removed]",
            "text/plain": [
              "<Figure size 432x288 with 4 Axes>"
            ]
          },
          "metadata": {
            "tags": []
          }
        },
        {
          "output_type": "stream",
          "text": [
            "\n",
            "\n"
          ],
          "name": "stdout"
        }
      ]
    },
    {
      "cell_type": "markdown",
      "metadata": {
        "id": "s6i-FUpxXIG3",
        "colab_type": "text"
      },
      "source": [
        "Watching the plots of the 2-feature PCA data, all clusters are inconsistent across samples 2 and 3. However, the 4-cluster solution is most consistent across samples 0 and 1."
      ]
    },
    {
      "cell_type": "markdown",
      "metadata": {
        "id": "qf_kKPgsXciQ",
        "colab_type": "text"
      },
      "source": [
        "# Mean Shift\n",
        "For a mean shift model, we will use a range of quantiles to create bandwidths from 0.1 to 0.4, calculating the Silhouette scores for each."
      ]
    },
    {
      "cell_type": "code",
      "metadata": {
        "id": "-Z6JTFbBXmWT",
        "colab_type": "code",
        "colab": {}
      },
      "source": [
        "# Initialize new data frames\n",
        "ypred_ms = pd.DataFrame()\n",
        "score_ms = pd.DataFrame(columns=['cluster_pred','mean_shift', 'quantile'])\n",
        "\n",
        "# Keep track of counts of the models and use data from the different folds\n",
        "for counter, data in enumerate([X1, X2, X3, X4]):\n",
        "    # Creating a list of possible quantiles to test in mean shift.\n",
        "    for n in [0.1, 0.2, 0.3, 0.4]:\n",
        "        # Estimating number of clusters for data\n",
        "        bandwidth = estimate_bandwidth(data, quantile=n, n_samples=500)\n",
        "        # Ensuring all sets are the same lenght\n",
        "        data = data[:4013][:]\n",
        "        # Instantiating and fit_predicting model to then add to data frame\n",
        "        ms = MeanShift(bandwidth=bandwidth, bin_seeding=True)\n",
        "        pred = ms.fit_predict(data)\n",
        "        labels = ms.labels_\n",
        "        cntrs = len(np.unique(labels))\n",
        "        ypred_ms['clust' + str(cntrs) + '_sample' + str(counter)] = pred\n",
        "        # Calculating silhouette scores for the data and adding that to the shilouette score\n",
        "        sscore = metrics.silhouette_score(data, labels, metric='euclidean')\n",
        "        score_ms = score_ms.append({'cluster_pred':'clust' + str(cntrs) + '_sample' + str(counter), \n",
        "                              'silhouette_score':sscore, 'quantile':n}, ignore_index=True)"
      ],
      "execution_count": 0,
      "outputs": []
    },
    {
      "cell_type": "code",
      "metadata": {
        "id": "Pb2ypQDhXstO",
        "colab_type": "code",
        "colab": {
          "base_uri": "https://localhost:8080/",
          "height": 545
        },
        "outputId": "0ec69313-35f0-4543-f066-a283bb2f2225"
      },
      "source": [
        "score_ms.sort_values(by='silhouette_score', ascending=False)"
      ],
      "execution_count": 149,
      "outputs": [
        {
          "output_type": "execute_result",
          "data": {
            "text/html": [
              "<div>\n",
              "<style scoped>\n",
              "    .dataframe tbody tr th:only-of-type {\n",
              "        vertical-align: middle;\n",
              "    }\n",
              "\n",
              "    .dataframe tbody tr th {\n",
              "        vertical-align: top;\n",
              "    }\n",
              "\n",
              "    .dataframe thead th {\n",
              "        text-align: right;\n",
              "    }\n",
              "</style>\n",
              "<table border=\"1\" class=\"dataframe\">\n",
              "  <thead>\n",
              "    <tr style=\"text-align: right;\">\n",
              "      <th></th>\n",
              "      <th>cluster_pred</th>\n",
              "      <th>mean_shift</th>\n",
              "      <th>quantile</th>\n",
              "      <th>silhouette_score</th>\n",
              "    </tr>\n",
              "  </thead>\n",
              "  <tbody>\n",
              "    <tr>\n",
              "      <th>8</th>\n",
              "      <td>clust13_sample2</td>\n",
              "      <td>NaN</td>\n",
              "      <td>0.1</td>\n",
              "      <td>0.521268</td>\n",
              "    </tr>\n",
              "    <tr>\n",
              "      <th>13</th>\n",
              "      <td>clust5_sample3</td>\n",
              "      <td>NaN</td>\n",
              "      <td>0.2</td>\n",
              "      <td>0.520134</td>\n",
              "    </tr>\n",
              "    <tr>\n",
              "      <th>1</th>\n",
              "      <td>clust3_sample0</td>\n",
              "      <td>NaN</td>\n",
              "      <td>0.2</td>\n",
              "      <td>0.513119</td>\n",
              "    </tr>\n",
              "    <tr>\n",
              "      <th>6</th>\n",
              "      <td>clust5_sample1</td>\n",
              "      <td>NaN</td>\n",
              "      <td>0.3</td>\n",
              "      <td>0.507805</td>\n",
              "    </tr>\n",
              "    <tr>\n",
              "      <th>9</th>\n",
              "      <td>clust5_sample2</td>\n",
              "      <td>NaN</td>\n",
              "      <td>0.2</td>\n",
              "      <td>0.495607</td>\n",
              "    </tr>\n",
              "    <tr>\n",
              "      <th>14</th>\n",
              "      <td>clust4_sample3</td>\n",
              "      <td>NaN</td>\n",
              "      <td>0.3</td>\n",
              "      <td>0.490779</td>\n",
              "    </tr>\n",
              "    <tr>\n",
              "      <th>2</th>\n",
              "      <td>clust5_sample0</td>\n",
              "      <td>NaN</td>\n",
              "      <td>0.3</td>\n",
              "      <td>0.490357</td>\n",
              "    </tr>\n",
              "    <tr>\n",
              "      <th>11</th>\n",
              "      <td>clust4_sample2</td>\n",
              "      <td>NaN</td>\n",
              "      <td>0.4</td>\n",
              "      <td>0.485879</td>\n",
              "    </tr>\n",
              "    <tr>\n",
              "      <th>3</th>\n",
              "      <td>clust6_sample0</td>\n",
              "      <td>NaN</td>\n",
              "      <td>0.4</td>\n",
              "      <td>0.481921</td>\n",
              "    </tr>\n",
              "    <tr>\n",
              "      <th>10</th>\n",
              "      <td>clust5_sample2</td>\n",
              "      <td>NaN</td>\n",
              "      <td>0.3</td>\n",
              "      <td>0.481537</td>\n",
              "    </tr>\n",
              "    <tr>\n",
              "      <th>4</th>\n",
              "      <td>clust9_sample1</td>\n",
              "      <td>NaN</td>\n",
              "      <td>0.1</td>\n",
              "      <td>0.468290</td>\n",
              "    </tr>\n",
              "    <tr>\n",
              "      <th>0</th>\n",
              "      <td>clust8_sample0</td>\n",
              "      <td>NaN</td>\n",
              "      <td>0.1</td>\n",
              "      <td>0.467352</td>\n",
              "    </tr>\n",
              "    <tr>\n",
              "      <th>15</th>\n",
              "      <td>clust7_sample3</td>\n",
              "      <td>NaN</td>\n",
              "      <td>0.4</td>\n",
              "      <td>0.464110</td>\n",
              "    </tr>\n",
              "    <tr>\n",
              "      <th>5</th>\n",
              "      <td>clust5_sample1</td>\n",
              "      <td>NaN</td>\n",
              "      <td>0.2</td>\n",
              "      <td>0.411080</td>\n",
              "    </tr>\n",
              "    <tr>\n",
              "      <th>7</th>\n",
              "      <td>clust6_sample1</td>\n",
              "      <td>NaN</td>\n",
              "      <td>0.4</td>\n",
              "      <td>0.394371</td>\n",
              "    </tr>\n",
              "    <tr>\n",
              "      <th>12</th>\n",
              "      <td>clust9_sample3</td>\n",
              "      <td>NaN</td>\n",
              "      <td>0.1</td>\n",
              "      <td>0.270832</td>\n",
              "    </tr>\n",
              "  </tbody>\n",
              "</table>\n",
              "</div>"
            ],
            "text/plain": [
              "       cluster_pred  mean_shift  quantile  silhouette_score\n",
              "8   clust13_sample2         NaN       0.1          0.521268\n",
              "13   clust5_sample3         NaN       0.2          0.520134\n",
              "1    clust3_sample0         NaN       0.2          0.513119\n",
              "6    clust5_sample1         NaN       0.3          0.507805\n",
              "9    clust5_sample2         NaN       0.2          0.495607\n",
              "14   clust4_sample3         NaN       0.3          0.490779\n",
              "2    clust5_sample0         NaN       0.3          0.490357\n",
              "11   clust4_sample2         NaN       0.4          0.485879\n",
              "3    clust6_sample0         NaN       0.4          0.481921\n",
              "10   clust5_sample2         NaN       0.3          0.481537\n",
              "4    clust9_sample1         NaN       0.1          0.468290\n",
              "0    clust8_sample0         NaN       0.1          0.467352\n",
              "15   clust7_sample3         NaN       0.4          0.464110\n",
              "5    clust5_sample1         NaN       0.2          0.411080\n",
              "7    clust6_sample1         NaN       0.4          0.394371\n",
              "12   clust9_sample3         NaN       0.1          0.270832"
            ]
          },
          "metadata": {
            "tags": []
          },
          "execution_count": 149
        }
      ]
    },
    {
      "cell_type": "markdown",
      "metadata": {
        "id": "7Vs627zoXzye",
        "colab_type": "text"
      },
      "source": [
        "The quantile of 0.1 calculated a high Silhouette score for sample 2 and generated 13 clusters."
      ]
    },
    {
      "cell_type": "markdown",
      "metadata": {
        "id": "wF6IiqY4X53H",
        "colab_type": "text"
      },
      "source": [
        "# Spectral Clustering\n",
        "For the spectral clustering model, we use a range of clusters from 2 to 5, and we calculate the corresponding Silhouette scores for each."
      ]
    },
    {
      "cell_type": "code",
      "metadata": {
        "id": "YfV026iXYDBB",
        "colab_type": "code",
        "colab": {}
      },
      "source": [
        "# Initialize data frames\n",
        "ypred_sc = pd.DataFrame()\n",
        "score_sc = pd.DataFrame(columns=['cluster_pred','silhouette_score'])\n",
        "\n",
        "# Keep track of counts of the models and use data from the different folds\n",
        "for counter, data in enumerate([\n",
        "    (X1, X_pca1),\n",
        "    (X2, X_pca2),\n",
        "    (X3, X_pca3),\n",
        "    (X4, X_pca4)]):\n",
        "    \n",
        "    # Put the features into ypred.\n",
        "    ypred_sc['pca_f1' + '_sample' + str(counter)] = data[1][:, 0]\n",
        "    ypred_sc['pca_f2' + '_sample' + str(counter)] = data[1][:, 1]\n",
        "    \n",
        "    # Creating a list of possible number of clusters to test in kmeans.\n",
        "    for nclust in range(2, 6):\n",
        "        # Instantiating and fit_predicting model to then add to data frame\n",
        "        sc = SpectralClustering(n_clusters=nclust)\n",
        "        pred = sc.fit_predict(data[0])\n",
        "        ypred_sc['clust' + str(nclust) + '_sample' + str(counter)] = pred\n",
        "        # Calculating silhouette scores for the data and adding that to the shilouette score\n",
        "        labels = sc.labels_\n",
        "        sscore_sc = metrics.silhouette_score(data[0], labels, metric='euclidean')\n",
        "        score_sc = score_sc.append({'cluster_pred':'clust' + str(nclust) + '_sample' + str(counter), \n",
        "                              'silhouette_score':sscore_sc}, ignore_index=True)"
      ],
      "execution_count": 0,
      "outputs": []
    },
    {
      "cell_type": "code",
      "metadata": {
        "id": "J7ON7ILVYQdd",
        "colab_type": "code",
        "colab": {
          "base_uri": "https://localhost:8080/",
          "height": 545
        },
        "outputId": "6e2df756-3fba-4f48-8069-39fc7d9f4f76"
      },
      "source": [
        "score_sc.sort_values(by='silhouette_score', ascending=False)"
      ],
      "execution_count": 151,
      "outputs": [
        {
          "output_type": "execute_result",
          "data": {
            "text/html": [
              "<div>\n",
              "<style scoped>\n",
              "    .dataframe tbody tr th:only-of-type {\n",
              "        vertical-align: middle;\n",
              "    }\n",
              "\n",
              "    .dataframe tbody tr th {\n",
              "        vertical-align: top;\n",
              "    }\n",
              "\n",
              "    .dataframe thead th {\n",
              "        text-align: right;\n",
              "    }\n",
              "</style>\n",
              "<table border=\"1\" class=\"dataframe\">\n",
              "  <thead>\n",
              "    <tr style=\"text-align: right;\">\n",
              "      <th></th>\n",
              "      <th>cluster_pred</th>\n",
              "      <th>silhouette_score</th>\n",
              "    </tr>\n",
              "  </thead>\n",
              "  <tbody>\n",
              "    <tr>\n",
              "      <th>15</th>\n",
              "      <td>clust5_sample3</td>\n",
              "      <td>0.496570</td>\n",
              "    </tr>\n",
              "    <tr>\n",
              "      <th>7</th>\n",
              "      <td>clust5_sample1</td>\n",
              "      <td>0.494029</td>\n",
              "    </tr>\n",
              "    <tr>\n",
              "      <th>3</th>\n",
              "      <td>clust5_sample0</td>\n",
              "      <td>0.493891</td>\n",
              "    </tr>\n",
              "    <tr>\n",
              "      <th>14</th>\n",
              "      <td>clust4_sample3</td>\n",
              "      <td>0.492555</td>\n",
              "    </tr>\n",
              "    <tr>\n",
              "      <th>11</th>\n",
              "      <td>clust5_sample2</td>\n",
              "      <td>0.492199</td>\n",
              "    </tr>\n",
              "    <tr>\n",
              "      <th>6</th>\n",
              "      <td>clust4_sample1</td>\n",
              "      <td>0.489489</td>\n",
              "    </tr>\n",
              "    <tr>\n",
              "      <th>2</th>\n",
              "      <td>clust4_sample0</td>\n",
              "      <td>0.488364</td>\n",
              "    </tr>\n",
              "    <tr>\n",
              "      <th>10</th>\n",
              "      <td>clust4_sample2</td>\n",
              "      <td>0.486623</td>\n",
              "    </tr>\n",
              "    <tr>\n",
              "      <th>4</th>\n",
              "      <td>clust2_sample1</td>\n",
              "      <td>0.468549</td>\n",
              "    </tr>\n",
              "    <tr>\n",
              "      <th>0</th>\n",
              "      <td>clust2_sample0</td>\n",
              "      <td>0.456565</td>\n",
              "    </tr>\n",
              "    <tr>\n",
              "      <th>12</th>\n",
              "      <td>clust2_sample3</td>\n",
              "      <td>0.455077</td>\n",
              "    </tr>\n",
              "    <tr>\n",
              "      <th>8</th>\n",
              "      <td>clust2_sample2</td>\n",
              "      <td>0.454803</td>\n",
              "    </tr>\n",
              "    <tr>\n",
              "      <th>5</th>\n",
              "      <td>clust3_sample1</td>\n",
              "      <td>0.449445</td>\n",
              "    </tr>\n",
              "    <tr>\n",
              "      <th>1</th>\n",
              "      <td>clust3_sample0</td>\n",
              "      <td>0.425820</td>\n",
              "    </tr>\n",
              "    <tr>\n",
              "      <th>9</th>\n",
              "      <td>clust3_sample2</td>\n",
              "      <td>0.423737</td>\n",
              "    </tr>\n",
              "    <tr>\n",
              "      <th>13</th>\n",
              "      <td>clust3_sample3</td>\n",
              "      <td>0.422772</td>\n",
              "    </tr>\n",
              "  </tbody>\n",
              "</table>\n",
              "</div>"
            ],
            "text/plain": [
              "      cluster_pred  silhouette_score\n",
              "15  clust5_sample3          0.496570\n",
              "7   clust5_sample1          0.494029\n",
              "3   clust5_sample0          0.493891\n",
              "14  clust4_sample3          0.492555\n",
              "11  clust5_sample2          0.492199\n",
              "6   clust4_sample1          0.489489\n",
              "2   clust4_sample0          0.488364\n",
              "10  clust4_sample2          0.486623\n",
              "4   clust2_sample1          0.468549\n",
              "0   clust2_sample0          0.456565\n",
              "12  clust2_sample3          0.455077\n",
              "8   clust2_sample2          0.454803\n",
              "5   clust3_sample1          0.449445\n",
              "1   clust3_sample0          0.425820\n",
              "9   clust3_sample2          0.423737\n",
              "13  clust3_sample3          0.422772"
            ]
          },
          "metadata": {
            "tags": []
          },
          "execution_count": 151
        }
      ]
    },
    {
      "cell_type": "markdown",
      "metadata": {
        "id": "J15B8aVLYopE",
        "colab_type": "text"
      },
      "source": [
        "A 5 cluster configuration generates the highest silhouette score."
      ]
    },
    {
      "cell_type": "code",
      "metadata": {
        "id": "e6VYdBpmY4Ti",
        "colab_type": "code",
        "colab": {
          "base_uri": "https://localhost:8080/",
          "height": 1000
        },
        "outputId": "d11efb7e-9211-4291-bc45-c907c3738732"
      },
      "source": [
        "# For each  number of clusters, plot the clusters using the\n",
        "# pca features for each sample.\n",
        "for cluster in range(2, 6):\n",
        "    \n",
        "    # Make a grid of subplots.\n",
        "    f, axarr = plt.subplots(2, 2)\n",
        "    \n",
        "    # Make a plot for each sample.\n",
        "    for i in range(4):\n",
        "        \n",
        "        # PCA-created features.\n",
        "        x_sub = ypred_sc['pca_f1_sample{}'.format(i)]\n",
        "        y_sub = ypred_sc['pca_f2_sample{}'.format(i)]\n",
        "        \n",
        "        # Cluster assignments.\n",
        "        c = ypred_sc['clust{}_sample{}'.format(cluster, i)]\n",
        "        \n",
        "        # Assign the subplot to its place on the grid.\n",
        "        rows = int(np.floor(i / 2))\n",
        "        cols = i % 2\n",
        "        axarr[rows, cols].scatter(x_sub, y_sub, c=c)\n",
        "        axarr[rows, cols].set_title('sample {}'.format(i))\n",
        "        axarr[rows, cols].set_xlim([-.5, .5])\n",
        "        axarr[rows, cols].set_ylim([-.5, 1.2])\n",
        "    \n",
        "    # Space out the plots so that the headings don't overlap axis values.\n",
        "    plt.suptitle('{} Clusters'.format(cluster), fontsize=20)\n",
        "    plt.tight_layout()\n",
        "    plt.show()\n",
        "    print('\\n')"
      ],
      "execution_count": 152,
      "outputs": [
        {
          "output_type": "display_data",
          "data": {
            "image/png": "[encoded data removed]",
            "text/plain": [
              "<Figure size 432x288 with 4 Axes>"
            ]
          },
          "metadata": {
            "tags": []
          }
        },
        {
          "output_type": "stream",
          "text": [
            "\n",
            "\n"
          ],
          "name": "stdout"
        },
        {
          "output_type": "display_data",
          "data": {
            "image/png": "[encoded data removed]",
            "text/plain": [
              "<Figure size 432x288 with 4 Axes>"
            ]
          },
          "metadata": {
            "tags": []
          }
        },
        {
          "output_type": "stream",
          "text": [
            "\n",
            "\n"
          ],
          "name": "stdout"
        },
        {
          "output_type": "display_data",
          "data": {
            "image/png": "[encoded data removed]",
            "text/plain": [
              "<Figure size 432x288 with 4 Axes>"
            ]
          },
          "metadata": {
            "tags": []
          }
        },
        {
          "output_type": "stream",
          "text": [
            "\n",
            "\n"
          ],
          "name": "stdout"
        },
        {
          "output_type": "display_data",
          "data": {
            "image/png": "[encoded data removed]",
            "text/plain": [
              "<Figure size 432x288 with 4 Axes>"
            ]
          },
          "metadata": {
            "tags": []
          }
        },
        {
          "output_type": "stream",
          "text": [
            "\n",
            "\n"
          ],
          "name": "stdout"
        }
      ]
    },
    {
      "cell_type": "markdown",
      "metadata": {
        "id": "DlqtNQ8SZAiG",
        "colab_type": "text"
      },
      "source": [
        "# Affinity Propagation\n",
        "For the Affinity Propagation model, we allow the model to find the k-number of clusters and calculate the corresponding Silhouette scores for each."
      ]
    },
    {
      "cell_type": "code",
      "metadata": {
        "id": "m5FKSRLWZMqQ",
        "colab_type": "code",
        "colab": {}
      },
      "source": [
        "# Initialize data frames\n",
        "ypred = pd.DataFrame()\n",
        "score_af = pd.DataFrame(columns=['cluster_pred','AF'])\n",
        "\n",
        "# Keep track of counts of the models and use data from the different folds\n",
        "for counter, data in enumerate([X1, X2, X3, X4]):\n",
        "    # Ensuring all sets are the same lenght\n",
        "    data = data[:4013][:]\n",
        "    # Instantiating and fit_predicting model to then add to data frame\n",
        "    af = AffinityPropagation().fit(data)\n",
        "    cluster_centers_indices = af.cluster_centers_indices_\n",
        "    n_clusters_ = len(cluster_centers_indices)\n",
        "    #pred = af.fit_predict(data)\n",
        "    #ypred['clust' + str(nclust) + '_sample' + str(counter)] = pred\n",
        "    # Calculating silhouette scores for the data and adding that to the shilouette score\n",
        "    labels = af.labels_\n",
        "    sscore_af = metrics.silhouette_score(data, labels, metric='euclidean')\n",
        "    score_af = score_af.append({'cluster_pred':'clust' + str(n_clusters_) + '_sample' + str(counter), \n",
        "                              'AF':sscore_af}, ignore_index=True)"
      ],
      "execution_count": 0,
      "outputs": []
    },
    {
      "cell_type": "code",
      "metadata": {
        "id": "hgy2yh2lZQC7",
        "colab_type": "code",
        "colab": {
          "base_uri": "https://localhost:8080/",
          "height": 173
        },
        "outputId": "7ef64e3d-4d67-495e-8fe5-07521733750e"
      },
      "source": [
        "score_af.sort_values(by='AF', ascending=False)"
      ],
      "execution_count": 154,
      "outputs": [
        {
          "output_type": "execute_result",
          "data": {
            "text/html": [
              "<div>\n",
              "<style scoped>\n",
              "    .dataframe tbody tr th:only-of-type {\n",
              "        vertical-align: middle;\n",
              "    }\n",
              "\n",
              "    .dataframe tbody tr th {\n",
              "        vertical-align: top;\n",
              "    }\n",
              "\n",
              "    .dataframe thead th {\n",
              "        text-align: right;\n",
              "    }\n",
              "</style>\n",
              "<table border=\"1\" class=\"dataframe\">\n",
              "  <thead>\n",
              "    <tr style=\"text-align: right;\">\n",
              "      <th></th>\n",
              "      <th>cluster_pred</th>\n",
              "      <th>AF</th>\n",
              "    </tr>\n",
              "  </thead>\n",
              "  <tbody>\n",
              "    <tr>\n",
              "      <th>2</th>\n",
              "      <td>clust1912_sample2</td>\n",
              "      <td>0.136355</td>\n",
              "    </tr>\n",
              "    <tr>\n",
              "      <th>3</th>\n",
              "      <td>clust2706_sample3</td>\n",
              "      <td>0.103609</td>\n",
              "    </tr>\n",
              "    <tr>\n",
              "      <th>1</th>\n",
              "      <td>clust3075_sample1</td>\n",
              "      <td>0.085921</td>\n",
              "    </tr>\n",
              "    <tr>\n",
              "      <th>0</th>\n",
              "      <td>clust3175_sample0</td>\n",
              "      <td>0.081697</td>\n",
              "    </tr>\n",
              "  </tbody>\n",
              "</table>\n",
              "</div>"
            ],
            "text/plain": [
              "        cluster_pred        AF\n",
              "2  clust1912_sample2  0.136355\n",
              "3  clust2706_sample3  0.103609\n",
              "1  clust3075_sample1  0.085921\n",
              "0  clust3175_sample0  0.081697"
            ]
          },
          "metadata": {
            "tags": []
          },
          "execution_count": 154
        }
      ]
    },
    {
      "cell_type": "markdown",
      "metadata": {
        "id": "vQidhqGqbHl3",
        "colab_type": "text"
      },
      "source": [
        "The number of clusters generated is too large and the highest score is very low, suggesting it isn't reliable."
      ]
    },
    {
      "cell_type": "markdown",
      "metadata": {
        "id": "cFvAj7YYbPr4",
        "colab_type": "text"
      },
      "source": [
        "# Conclusion\n",
        "Overall, the 5 cluster solution has the highest consistent Silhouette scores across the various models. The mean shift model generated the highest Silhouette score with a value at 0.521. This drives us to the conclusion that the are 5 main group of runners in this marathon. The following information corresponds to results obtained using the K-means model and 5 clusters:"
      ]
    },
    {
      "cell_type": "code",
      "metadata": {
        "id": "d-_tQKCcakRM",
        "colab_type": "code",
        "colab": {}
      },
      "source": [
        "# Calculate predicted values.\n",
        "y_pred = KMeans(n_clusters=5, random_state=42).fit_predict(Xn)"
      ],
      "execution_count": 0,
      "outputs": []
    },
    {
      "cell_type": "code",
      "metadata": {
        "id": "4C5i82IzamE_",
        "colab_type": "code",
        "colab": {}
      },
      "source": [
        "df_y = pd.DataFrame(y_pred)\n",
        "df_y.columns = ['Cluster']"
      ],
      "execution_count": 0,
      "outputs": []
    },
    {
      "cell_type": "code",
      "metadata": {
        "id": "7Wlw2gJ1an5y",
        "colab_type": "code",
        "colab": {
          "base_uri": "https://localhost:8080/",
          "height": 204
        },
        "outputId": "302408b3-0a09-48bb-970a-641dba3f26b0"
      },
      "source": [
        "# Add the outcome back onto X\n",
        "combined = X.join(df_y, how='inner')\n",
        "combined.head()"
      ],
      "execution_count": 213,
      "outputs": [
        {
          "output_type": "execute_result",
          "data": {
            "text/html": [
              "<div>\n",
              "<style scoped>\n",
              "    .dataframe tbody tr th:only-of-type {\n",
              "        vertical-align: middle;\n",
              "    }\n",
              "\n",
              "    .dataframe tbody tr th {\n",
              "        vertical-align: top;\n",
              "    }\n",
              "\n",
              "    .dataframe thead th {\n",
              "        text-align: right;\n",
              "    }\n",
              "</style>\n",
              "<table border=\"1\" class=\"dataframe\">\n",
              "  <thead>\n",
              "    <tr style=\"text-align: right;\">\n",
              "      <th></th>\n",
              "      <th>10k</th>\n",
              "      <th>division</th>\n",
              "      <th>25k</th>\n",
              "      <th>gender</th>\n",
              "      <th>age</th>\n",
              "      <th>official</th>\n",
              "      <th>genderdiv</th>\n",
              "      <th>35k</th>\n",
              "      <th>overall</th>\n",
              "      <th>pace</th>\n",
              "      <th>30k</th>\n",
              "      <th>5k</th>\n",
              "      <th>half</th>\n",
              "      <th>20k</th>\n",
              "      <th>40k</th>\n",
              "      <th>Cluster</th>\n",
              "    </tr>\n",
              "  </thead>\n",
              "  <tbody>\n",
              "    <tr>\n",
              "      <th>1</th>\n",
              "      <td>32.58</td>\n",
              "      <td>1</td>\n",
              "      <td>82.43</td>\n",
              "      <td>0</td>\n",
              "      <td>33</td>\n",
              "      <td>138.95</td>\n",
              "      <td>1</td>\n",
              "      <td>116.37</td>\n",
              "      <td>21</td>\n",
              "      <td>5.30</td>\n",
              "      <td>99.33</td>\n",
              "      <td>16.22</td>\n",
              "      <td>69.47</td>\n",
              "      <td>65.83</td>\n",
              "      <td>132.10</td>\n",
              "      <td>3</td>\n",
              "    </tr>\n",
              "    <tr>\n",
              "      <th>2</th>\n",
              "      <td>16.62</td>\n",
              "      <td>1</td>\n",
              "      <td>45.80</td>\n",
              "      <td>1</td>\n",
              "      <td>41</td>\n",
              "      <td>80.60</td>\n",
              "      <td>1</td>\n",
              "      <td>67.42</td>\n",
              "      <td>1</td>\n",
              "      <td>3.08</td>\n",
              "      <td>56.45</td>\n",
              "      <td>7.75</td>\n",
              "      <td>38.03</td>\n",
              "      <td>36.10</td>\n",
              "      <td>76.10</td>\n",
              "      <td>3</td>\n",
              "    </tr>\n",
              "    <tr>\n",
              "      <th>3</th>\n",
              "      <td>32.57</td>\n",
              "      <td>3</td>\n",
              "      <td>82.43</td>\n",
              "      <td>0</td>\n",
              "      <td>24</td>\n",
              "      <td>140.58</td>\n",
              "      <td>3</td>\n",
              "      <td>116.37</td>\n",
              "      <td>27</td>\n",
              "      <td>5.37</td>\n",
              "      <td>99.33</td>\n",
              "      <td>16.20</td>\n",
              "      <td>69.47</td>\n",
              "      <td>65.83</td>\n",
              "      <td>132.95</td>\n",
              "      <td>3</td>\n",
              "    </tr>\n",
              "    <tr>\n",
              "      <th>4</th>\n",
              "      <td>17.12</td>\n",
              "      <td>2</td>\n",
              "      <td>46.37</td>\n",
              "      <td>1</td>\n",
              "      <td>40</td>\n",
              "      <td>81.23</td>\n",
              "      <td>2</td>\n",
              "      <td>67.83</td>\n",
              "      <td>2</td>\n",
              "      <td>3.10</td>\n",
              "      <td>57.03</td>\n",
              "      <td>8.02</td>\n",
              "      <td>38.60</td>\n",
              "      <td>36.58</td>\n",
              "      <td>76.72</td>\n",
              "      <td>3</td>\n",
              "    </tr>\n",
              "    <tr>\n",
              "      <th>5</th>\n",
              "      <td>32.58</td>\n",
              "      <td>4</td>\n",
              "      <td>82.45</td>\n",
              "      <td>0</td>\n",
              "      <td>29</td>\n",
              "      <td>140.68</td>\n",
              "      <td>4</td>\n",
              "      <td>116.37</td>\n",
              "      <td>28</td>\n",
              "      <td>5.37</td>\n",
              "      <td>99.33</td>\n",
              "      <td>16.22</td>\n",
              "      <td>69.47</td>\n",
              "      <td>65.83</td>\n",
              "      <td>132.95</td>\n",
              "      <td>3</td>\n",
              "    </tr>\n",
              "  </tbody>\n",
              "</table>\n",
              "</div>"
            ],
            "text/plain": [
              "     10k  division    25k  gender  age  ...     5k   half    20k     40k  Cluster\n",
              "1  32.58         1  82.43       0   33  ...  16.22  69.47  65.83  132.10        3\n",
              "2  16.62         1  45.80       1   41  ...   7.75  38.03  36.10   76.10        3\n",
              "3  32.57         3  82.43       0   24  ...  16.20  69.47  65.83  132.95        3\n",
              "4  17.12         2  46.37       1   40  ...   8.02  38.60  36.58   76.72        3\n",
              "5  32.58         4  82.45       0   29  ...  16.22  69.47  65.83  132.95        3\n",
              "\n",
              "[5 rows x 16 columns]"
            ]
          },
          "metadata": {
            "tags": []
          },
          "execution_count": 213
        }
      ]
    },
    {
      "cell_type": "code",
      "metadata": {
        "id": "IiGvWnJUaq1y",
        "colab_type": "code",
        "colab": {}
      },
      "source": [
        "# Create age buckets\n",
        "\n",
        "def age_bucket(age):\n",
        "    output = ''\n",
        "    if age <=20:\n",
        "        output = 'Under 20'\n",
        "    elif (age > 20 and age <= 30):\n",
        "        output = 'Between 20 and 30'\n",
        "    elif (age > 30 and age <= 40):\n",
        "        output = 'Between 30 and 40'\n",
        "    elif (age > 40 and age <= 50):\n",
        "        output = 'Between 40 and 50'\n",
        "    elif (age > 50 and age <= 60):\n",
        "        output = 'Between 50 and 60'\n",
        "    else:\n",
        "        output = 'Over 60'\n",
        "    \n",
        "    return output"
      ],
      "execution_count": 0,
      "outputs": []
    },
    {
      "cell_type": "code",
      "metadata": {
        "id": "YoLj9YHoas8S",
        "colab_type": "code",
        "colab": {}
      },
      "source": [
        "combined['Age Bucket'] = combined['age'].apply(lambda x: age_bucket(x))"
      ],
      "execution_count": 0,
      "outputs": []
    },
    {
      "cell_type": "code",
      "metadata": {
        "id": "EKO4B3tKav1z",
        "colab_type": "code",
        "colab": {
          "base_uri": "https://localhost:8080/",
          "height": 517
        },
        "outputId": "fb6ba26d-9a47-43bb-e8cc-ab18ab88c3a9"
      },
      "source": [
        "# Official time between the groups\n",
        "plt.figure(figsize=(16,8))\n",
        "sns.boxplot(x='Cluster',y='official',data=combined)"
      ],
      "execution_count": 216,
      "outputs": [
        {
          "output_type": "execute_result",
          "data": {
            "text/plain": [
              "<matplotlib.axes._subplots.AxesSubplot at 0x7f124a03c278>"
            ]
          },
          "metadata": {
            "tags": []
          },
          "execution_count": 216
        },
        {
          "output_type": "display_data",
          "data": {
            "image/png": "[encoded data removed]",
            "text/plain": [
              "<Figure size 1152x576 with 1 Axes>"
            ]
          },
          "metadata": {
            "tags": []
          }
        }
      ]
    },
    {
      "cell_type": "code",
      "metadata": {
        "id": "fg34BSfBaycz",
        "colab_type": "code",
        "colab": {
          "base_uri": "https://localhost:8080/",
          "height": 417
        },
        "outputId": "03f7d938-3ec6-41bb-c4ce-7e3edf4e559f"
      },
      "source": [
        "# Look at Gender Breakdown for Count\n",
        "g = sns.factorplot(x='Age Bucket', col='Cluster', kind=\"count\", data=combined, size=3)\n",
        "g.set_xticklabels(rotation=90)"
      ],
      "execution_count": 227,
      "outputs": [
        {
          "output_type": "stream",
          "text": [
            "/usr/local/lib/python3.6/dist-packages/seaborn/categorical.py:3666: UserWarning: The `factorplot` function has been renamed to `catplot`. The original name will be removed in a future release. Please update your code. Note that the default `kind` in `factorplot` (`'point'`) has changed `'strip'` in `catplot`.\n",
            "  warnings.warn(msg)\n",
            "/usr/local/lib/python3.6/dist-packages/seaborn/categorical.py:3672: UserWarning: The `size` paramter has been renamed to `height`; please update your code.\n",
            "  warnings.warn(msg, UserWarning)\n"
          ],
          "name": "stderr"
        },
        {
          "output_type": "execute_result",
          "data": {
            "text/plain": [
              "<seaborn.axisgrid.FacetGrid at 0x7f12499bdcf8>"
            ]
          },
          "metadata": {
            "tags": []
          },
          "execution_count": 227
        },
        {
          "output_type": "display_data",
          "data": {
            "image/png": "[encoded data removed]",
            "text/plain": [
              "<Figure size 1080x216 with 5 Axes>"
            ]
          },
          "metadata": {
            "tags": []
          }
        }
      ]
    },
    {
      "cell_type": "code",
      "metadata": {
        "id": "COrnw6Cla1JW",
        "colab_type": "code",
        "colab": {
          "base_uri": "https://localhost:8080/",
          "height": 330
        },
        "outputId": "f41f303b-73ca-4478-dc07-1743faccddf9"
      },
      "source": [
        "sns.factorplot(x='gender', col='Cluster', kind=\"count\", data=combined, size=3)"
      ],
      "execution_count": 226,
      "outputs": [
        {
          "output_type": "stream",
          "text": [
            "/usr/local/lib/python3.6/dist-packages/seaborn/categorical.py:3666: UserWarning: The `factorplot` function has been renamed to `catplot`. The original name will be removed in a future release. Please update your code. Note that the default `kind` in `factorplot` (`'point'`) has changed `'strip'` in `catplot`.\n",
            "  warnings.warn(msg)\n",
            "/usr/local/lib/python3.6/dist-packages/seaborn/categorical.py:3672: UserWarning: The `size` paramter has been renamed to `height`; please update your code.\n",
            "  warnings.warn(msg, UserWarning)\n"
          ],
          "name": "stderr"
        },
        {
          "output_type": "execute_result",
          "data": {
            "text/plain": [
              "<seaborn.axisgrid.FacetGrid at 0x7f124a2f69e8>"
            ]
          },
          "metadata": {
            "tags": []
          },
          "execution_count": 226
        },
        {
          "output_type": "display_data",
          "data": {
            "image/png": "[encoded data removed]",
            "text/plain": [
              "<Figure size 1080x216 with 5 Axes>"
            ]
          },
          "metadata": {
            "tags": []
          }
        }
      ]
    },
    {
      "cell_type": "code",
      "metadata": {
        "id": "bUOeYY_Oa3n1",
        "colab_type": "code",
        "colab": {}
      },
      "source": [
        "# Separate the clusters\n",
        "cluster0 = combined[combined['Cluster']==0]\n",
        "cluster1 = combined[combined['Cluster']==1]\n",
        "cluster2 = combined[combined['Cluster']==2]\n",
        "cluster3 = combined[combined['Cluster']==3]\n",
        "cluster4 = combined[combined['Cluster']==4]"
      ],
      "execution_count": 0,
      "outputs": []
    },
    {
      "cell_type": "code",
      "metadata": {
        "id": "k_QyMU5Wa5gY",
        "colab_type": "code",
        "colab": {
          "base_uri": "https://localhost:8080/",
          "height": 68
        },
        "outputId": "2cd72f1c-b736-4154-ba86-160bb76cf34a"
      },
      "source": [
        "# check Gender Breakdown\n",
        "cluster0['gender'].value_counts()"
      ],
      "execution_count": 220,
      "outputs": [
        {
          "output_type": "execute_result",
          "data": {
            "text/plain": [
              "1    8332\n",
              "0    5719\n",
              "Name: gender, dtype: int64"
            ]
          },
          "metadata": {
            "tags": []
          },
          "execution_count": 220
        }
      ]
    },
    {
      "cell_type": "code",
      "metadata": {
        "id": "mo4sA9LPa7SV",
        "colab_type": "code",
        "colab": {
          "base_uri": "https://localhost:8080/",
          "height": 68
        },
        "outputId": "cce2a1e2-b49b-4cef-939d-58ad8f54b3d3"
      },
      "source": [
        "cluster1['gender'].value_counts()"
      ],
      "execution_count": 221,
      "outputs": [
        {
          "output_type": "execute_result",
          "data": {
            "text/plain": [
              "1    2889\n",
              "0     216\n",
              "Name: gender, dtype: int64"
            ]
          },
          "metadata": {
            "tags": []
          },
          "execution_count": 221
        }
      ]
    },
    {
      "cell_type": "code",
      "metadata": {
        "id": "S4hupn5Ta9-l",
        "colab_type": "code",
        "colab": {
          "base_uri": "https://localhost:8080/",
          "height": 68
        },
        "outputId": "dead9beb-491d-4f94-b1e7-eababcb91dad"
      },
      "source": [
        "cluster2['gender'].value_counts()"
      ],
      "execution_count": 222,
      "outputs": [
        {
          "output_type": "execute_result",
          "data": {
            "text/plain": [
              "0    6524\n",
              "1    4136\n",
              "Name: gender, dtype: int64"
            ]
          },
          "metadata": {
            "tags": []
          },
          "execution_count": 222
        }
      ]
    },
    {
      "cell_type": "code",
      "metadata": {
        "id": "1nPkh3dqa-kY",
        "colab_type": "code",
        "colab": {
          "base_uri": "https://localhost:8080/",
          "height": 68
        },
        "outputId": "735aa3c3-e568-4fe3-eca9-01f1b4e50542"
      },
      "source": [
        "cluster3['gender'].value_counts()"
      ],
      "execution_count": 223,
      "outputs": [
        {
          "output_type": "execute_result",
          "data": {
            "text/plain": [
              "1    314\n",
              "0     51\n",
              "Name: gender, dtype: int64"
            ]
          },
          "metadata": {
            "tags": []
          },
          "execution_count": 223
        }
      ]
    },
    {
      "cell_type": "code",
      "metadata": {
        "id": "5z-mmo4Qa7ND",
        "colab_type": "code",
        "colab": {
          "base_uri": "https://localhost:8080/",
          "height": 68
        },
        "outputId": "cc3c3b5e-8f04-40b5-f8cc-ab2400f6cdfd"
      },
      "source": [
        "cluster4['gender'].value_counts()"
      ],
      "execution_count": 224,
      "outputs": [
        {
          "output_type": "execute_result",
          "data": {
            "text/plain": [
              "1    1739\n",
              "0    1727\n",
              "Name: gender, dtype: int64"
            ]
          },
          "metadata": {
            "tags": []
          },
          "execution_count": 224
        }
      ]
    }
  ]
}