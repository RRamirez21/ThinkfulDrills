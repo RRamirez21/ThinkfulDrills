{
  "nbformat": 4,
  "nbformat_minor": 0,
  "metadata": {
    "colab": {
      "name": "Lasso_Regression.ipynb",
      "version": "0.3.2",
      "provenance": [],
      "collapsed_sections": []
    },
    "kernelspec": {
      "name": "python3",
      "display_name": "Python 3"
    }
  },
  "cells": [
    {
      "metadata": {
        "id": "x-yJNVxE1dzW",
        "colab_type": "text"
      },
      "cell_type": "markdown",
      "source": [
        "# Regularization parameter: Lasso¶\n",
        "The  λ  for lasso can vary between 0 (no penalty, acts like OLS) and infinity. If  λ  is too large, all parameters will be set to zero.\n",
        "\n",
        "Create a plot below of how R² varies across different values of  λ  for ridge and lasso regression. Use logic and code similar to the ridge regression demonstration above, and base your plot on the X_train2 feature set.\n",
        "\n",
        "Do lasso and ridge yield the same R² for a given lambda value?"
      ]
    },
    {
      "metadata": {
        "id": "NW5BaIlr0qTq",
        "colab_type": "code",
        "colab": {}
      },
      "cell_type": "code",
      "source": [
        "import pandas as pd\n",
        "from matplotlib import pyplot as plt\n",
        "import numpy as np\n",
        "import math\n",
        "import seaborn as sns\n",
        "import sklearn\n",
        "from sklearn import linear_model\n",
        "from sklearn import preprocessing\n",
        "%matplotlib inline\n",
        "sns.set_style('white')"
      ],
      "execution_count": 0,
      "outputs": []
    },
    {
      "metadata": {
        "id": "QTP-VYJi1KfZ",
        "colab_type": "code",
        "colab": {
          "base_uri": "https://localhost:8080/",
          "height": 71
        },
        "outputId": "85f192b0-cc00-4e11-b52f-0815e9fceac7"
      },
      "cell_type": "code",
      "source": [
        "# Load the data again. Keep air quality data, drop the index column\n",
        "# and any missing data columns.\n",
        "df = pd.read_csv(\n",
        "    'https://vincentarelbundock.github.io/Rdatasets/csv/ISLR/Default.csv'\n",
        ").iloc[:,1:].dropna()\n",
        "\n",
        "# Recode strings to numeric.\n",
        "df['default'] = np.where(df['default']=='Yes', 1, 0)\n",
        "df['student'] = np.where(df['student']=='Yes', 1, 0)\n",
        "names = df.columns\n",
        "df = pd.DataFrame(preprocessing.scale(df), columns=names)\n",
        "\n",
        "# Define the training and test sizes.\n",
        "trainsize = int(df.shape[0] / 2)\n",
        "df_test = df.iloc[trainsize:, :].copy()\n",
        "df_train = df.iloc[:trainsize, :].copy()\n",
        "\n",
        "Y_train = df_train['income'].values.reshape(-1, 1)\n",
        "X_train = df_train.loc[:, ~(df_train.columns).isin(['income'])]\n",
        "\n",
        "# Make some new features to capture potential quadratic and cubic\n",
        "# relationships between solar radiation and day or temperature.\n",
        "df_train['balance_student'] = df_train['balance'] * df_train['student']\n",
        "df_train['balance_default'] = df_train['balance'] * df_train['default']\n",
        "df_train['student_default'] = df_train['student'] * df_train['default']\n",
        "df_train['balance_sqrt'] = (df_train['balance'] + 100) ** .5\n",
        "df_train['balance2'] = (df_train['balance'] + 100) ** 2\n",
        "df_train['balance3'] = (df_train['balance'] + 100) ** 3\n",
        "\n",
        "X_train2 = df_train.loc[:, ~(df_train.columns).isin(['income'])]\n",
        "\n",
        "# Test the simpler model with smaller coefficients.\n",
        "Y_test = df_test['income'].values.reshape(-1, 1)\n",
        "X_test = df_test.loc[:, ~(df_test.columns).isin(['income'])]\n",
        "\n",
        "# Test the more complex model with larger coefficients.\n",
        "df_test['balance_student'] = df_test['balance'] * df_test['student']\n",
        "df_test['balance_default'] = df_test['balance'] * df_test['default']\n",
        "df_test['student_default'] = df_test['student'] * df_test['default']\n",
        "df_test['balance_sqrt'] = (df_test['balance'] + 100) ** .5\n",
        "df_test['balance2'] = (df_test['balance'] + 100) ** 2\n",
        "df_test['balance3'] = (df_test['balance'] + 100) ** 3\n",
        "X_test2 = df_test.loc[:, ~(df_test.columns).isin(['income'])]\n"
      ],
      "execution_count": 2,
      "outputs": [
        {
          "output_type": "stream",
          "text": [
            "/usr/local/lib/python3.6/dist-packages/ipykernel_launcher.py:9: DataConversionWarning: Data with input dtype int64, float64 were all converted to float64 by the scale function.\n",
            "  if __name__ == '__main__':\n"
          ],
          "name": "stderr"
        }
      ]
    },
    {
      "metadata": {
        "id": "zIHYk-cE1TsU",
        "colab_type": "code",
        "colab": {
          "base_uri": "https://localhost:8080/",
          "height": 238
        },
        "outputId": "0c1a4b9f-82be-4d0b-f944-ad6faaa67efd"
      },
      "cell_type": "code",
      "source": [
        "# Small number of parameters.\n",
        "lass = linear_model.Lasso(alpha=.35)\n",
        "lassfit = lass.fit(X_train, Y_train)\n",
        "print('R² for the model with few features:')\n",
        "print(lass.score(X_train, Y_train))\n",
        "origparams = np.append(lassfit.coef_, lassfit.intercept_)\n",
        "print('\\nParameter estimates for the model with few features:')\n",
        "print(origparams)\n",
        "\n",
        "# Large number of parameters.\n",
        "lassBig = linear_model.Lasso(alpha=.35)\n",
        "lassBig.fit(X_train2, Y_train)\n",
        "print('\\nR² for the model with many features:')\n",
        "print(lassBig.score(X_train2, Y_train))\n",
        "origparams = np.append(lassBig.coef_, lassBig.intercept_)\n",
        "print('\\nParameter estimates for the model with many features:')\n",
        "print(origparams)"
      ],
      "execution_count": 3,
      "outputs": [
        {
          "output_type": "stream",
          "text": [
            "R² for the model with few features:\n",
            "0.4500625793011847\n",
            "\n",
            "Parameter estimates for the model with few features:\n",
            "[-0.         -0.40657726 -0.          0.00114596]\n",
            "\n",
            "R² for the model with many features:\n",
            "0.44363376712897085\n",
            "\n",
            "Parameter estimates for the model with many features:\n",
            "[ 0.00000000e+00 -3.89351238e-01  0.00000000e+00 -0.00000000e+00\n",
            "  0.00000000e+00 -0.00000000e+00  0.00000000e+00 -2.77688887e-04\n",
            " -7.09158792e-07  3.48711577e+00]\n"
          ],
          "name": "stdout"
        }
      ]
    },
    {
      "metadata": {
        "id": "s3-YAQcj1W5W",
        "colab_type": "code",
        "colab": {
          "base_uri": "https://localhost:8080/",
          "height": 51
        },
        "outputId": "91e31858-06f6-48f8-8108-9dc7e952d4a5"
      },
      "cell_type": "code",
      "source": [
        "print(lass.score(X_test, Y_test))\n",
        "\n",
        "print(lassBig.score(X_test2, Y_test))"
      ],
      "execution_count": 4,
      "outputs": [
        {
          "output_type": "stream",
          "text": [
            "0.44553225151184195\n",
            "0.4380466345914474\n"
          ],
          "name": "stdout"
        }
      ]
    },
    {
      "metadata": {
        "id": "yjl04Vng1Zp3",
        "colab_type": "code",
        "colab": {}
      },
      "cell_type": "code",
      "source": [
        "alphas = list(np.arange(.001, .01, .001))\n",
        "\n",
        "ridgeRegScores = []\n",
        "lassoRegScores = []"
      ],
      "execution_count": 0,
      "outputs": []
    },
    {
      "metadata": {
        "id": "ncVZFnCF2ZFF",
        "colab_type": "code",
        "colab": {
          "base_uri": "https://localhost:8080/",
          "height": 819
        },
        "outputId": "bfc5c494-750f-403b-f297-573b56880acd"
      },
      "cell_type": "code",
      "source": [
        "for alpha in alphas:\n",
        "  bigRidgeReg = linear_model.Ridge(alpha=alpha, fit_intercept=False)\n",
        "  bigRidgeReg.fit(X_train2, Y_train)\n",
        "  ridgeRegScores.append(bigRidgeReg.score(X_train2, Y_train))\n",
        "  bigLasso = linear_model.Lasso(alpha=alpha)\n",
        "  bigLasso.fit(X_train2, Y_train)\n",
        "  lassoRegScores.append(bigLasso.score(X_train2, Y_train))"
      ],
      "execution_count": 11,
      "outputs": [
        {
          "output_type": "stream",
          "text": [
            "/usr/local/lib/python3.6/dist-packages/sklearn/linear_model/ridge.py:125: LinAlgWarning: scipy.linalg.solve\n",
            "Ill-conditioned matrix detected. Result is not guaranteed to be accurate.\n",
            "Reciprocal condition number1.822571e-19\n",
            "  overwrite_a=True).T\n",
            "/usr/local/lib/python3.6/dist-packages/sklearn/linear_model/coordinate_descent.py:492: ConvergenceWarning: Objective did not converge. You might want to increase the number of iterations. Fitting data with very small alpha may cause precision problems.\n",
            "  ConvergenceWarning)\n",
            "/usr/local/lib/python3.6/dist-packages/sklearn/linear_model/ridge.py:125: LinAlgWarning: scipy.linalg.solve\n",
            "Ill-conditioned matrix detected. Result is not guaranteed to be accurate.\n",
            "Reciprocal condition number3.644589e-19\n",
            "  overwrite_a=True).T\n",
            "/usr/local/lib/python3.6/dist-packages/sklearn/linear_model/coordinate_descent.py:492: ConvergenceWarning: Objective did not converge. You might want to increase the number of iterations. Fitting data with very small alpha may cause precision problems.\n",
            "  ConvergenceWarning)\n",
            "/usr/local/lib/python3.6/dist-packages/sklearn/linear_model/ridge.py:125: LinAlgWarning: scipy.linalg.solve\n",
            "Ill-conditioned matrix detected. Result is not guaranteed to be accurate.\n",
            "Reciprocal condition number5.466739e-19\n",
            "  overwrite_a=True).T\n",
            "/usr/local/lib/python3.6/dist-packages/sklearn/linear_model/coordinate_descent.py:492: ConvergenceWarning: Objective did not converge. You might want to increase the number of iterations. Fitting data with very small alpha may cause precision problems.\n",
            "  ConvergenceWarning)\n",
            "/usr/local/lib/python3.6/dist-packages/sklearn/linear_model/ridge.py:125: LinAlgWarning: scipy.linalg.solve\n",
            "Ill-conditioned matrix detected. Result is not guaranteed to be accurate.\n",
            "Reciprocal condition number7.289023e-19\n",
            "  overwrite_a=True).T\n",
            "/usr/local/lib/python3.6/dist-packages/sklearn/linear_model/coordinate_descent.py:492: ConvergenceWarning: Objective did not converge. You might want to increase the number of iterations. Fitting data with very small alpha may cause precision problems.\n",
            "  ConvergenceWarning)\n",
            "/usr/local/lib/python3.6/dist-packages/sklearn/linear_model/ridge.py:125: LinAlgWarning: scipy.linalg.solve\n",
            "Ill-conditioned matrix detected. Result is not guaranteed to be accurate.\n",
            "Reciprocal condition number9.111439e-19\n",
            "  overwrite_a=True).T\n",
            "/usr/local/lib/python3.6/dist-packages/sklearn/linear_model/coordinate_descent.py:492: ConvergenceWarning: Objective did not converge. You might want to increase the number of iterations. Fitting data with very small alpha may cause precision problems.\n",
            "  ConvergenceWarning)\n",
            "/usr/local/lib/python3.6/dist-packages/sklearn/linear_model/ridge.py:125: LinAlgWarning: scipy.linalg.solve\n",
            "Ill-conditioned matrix detected. Result is not guaranteed to be accurate.\n",
            "Reciprocal condition number1.093399e-18\n",
            "  overwrite_a=True).T\n",
            "/usr/local/lib/python3.6/dist-packages/sklearn/linear_model/ridge.py:125: LinAlgWarning: scipy.linalg.solve\n",
            "Ill-conditioned matrix detected. Result is not guaranteed to be accurate.\n",
            "Reciprocal condition number1.275667e-18\n",
            "  overwrite_a=True).T\n",
            "/usr/local/lib/python3.6/dist-packages/sklearn/linear_model/ridge.py:125: LinAlgWarning: scipy.linalg.solve\n",
            "Ill-conditioned matrix detected. Result is not guaranteed to be accurate.\n",
            "Reciprocal condition number1.457948e-18\n",
            "  overwrite_a=True).T\n",
            "/usr/local/lib/python3.6/dist-packages/sklearn/linear_model/ridge.py:125: LinAlgWarning: scipy.linalg.solve\n",
            "Ill-conditioned matrix detected. Result is not guaranteed to be accurate.\n",
            "Reciprocal condition number1.640242e-18\n",
            "  overwrite_a=True).T\n"
          ],
          "name": "stderr"
        }
      ]
    },
    {
      "metadata": {
        "id": "Gg1QM5GeMxsT",
        "colab_type": "code",
        "colab": {
          "base_uri": "https://localhost:8080/",
          "height": 34
        },
        "outputId": "682b625c-3fe7-4635-ccb8-6f61e1d1dcbc"
      },
      "cell_type": "code",
      "source": [
        "alphas"
      ],
      "execution_count": 12,
      "outputs": [
        {
          "output_type": "execute_result",
          "data": {
            "text/plain": [
              "[0.001, 0.002, 0.003, 0.004, 0.005, 0.006, 0.007, 0.008, 0.009000000000000001]"
            ]
          },
          "metadata": {
            "tags": []
          },
          "execution_count": 12
        }
      ]
    },
    {
      "metadata": {
        "id": "L3xrcd_lM7OA",
        "colab_type": "code",
        "colab": {
          "base_uri": "https://localhost:8080/",
          "height": 170
        },
        "outputId": "ae4c02ea-3112-4021-b128-dd84a20fc685"
      },
      "cell_type": "code",
      "source": [
        "ridgeRegScores"
      ],
      "execution_count": 13,
      "outputs": [
        {
          "output_type": "execute_result",
          "data": {
            "text/plain": [
              "[0.5739723428183978,\n",
              " 0.5739723424290633,\n",
              " 0.5739723422659917,\n",
              " 0.5739723421471268,\n",
              " 0.5739723420360688,\n",
              " 0.5739723419207186,\n",
              " 0.5739723417959179,\n",
              " 0.5739723416591112,\n",
              " 0.5739723415089013]"
            ]
          },
          "metadata": {
            "tags": []
          },
          "execution_count": 13
        }
      ]
    },
    {
      "metadata": {
        "id": "bcqYma46M_eE",
        "colab_type": "code",
        "colab": {
          "base_uri": "https://localhost:8080/",
          "height": 170
        },
        "outputId": "621410d7-e723-4790-ad5e-b6578dac3a72"
      },
      "cell_type": "code",
      "source": [
        "lassoRegScores"
      ],
      "execution_count": 14,
      "outputs": [
        {
          "output_type": "execute_result",
          "data": {
            "text/plain": [
              "[0.573936967457606,\n",
              " 0.5739285548412182,\n",
              " 0.5739147272950793,\n",
              " 0.5738954840472712,\n",
              " 0.5738731293203243,\n",
              " 0.5738522106120194,\n",
              " 0.5738351365391186,\n",
              " 0.5738154071398518,\n",
              " 0.5737930673517606]"
            ]
          },
          "metadata": {
            "tags": []
          },
          "execution_count": 14
        }
      ]
    },
    {
      "metadata": {
        "id": "25gTOfZvNAfF",
        "colab_type": "code",
        "colab": {
          "base_uri": "https://localhost:8080/",
          "height": 265
        },
        "outputId": "df40c777-a61a-4e5d-8338-636ac4425d41"
      },
      "cell_type": "code",
      "source": [
        "plt.plot(alphas, ridgeRegScores, label='Ridge')\n",
        "plt.plot(alphas, lassoRegScores, label='Lasso')\n",
        "plt.legend()\n",
        "plt.show()"
      ],
      "execution_count": 15,
      "outputs": [
        {
          "output_type": "display_data",
          "data": {
            "image/png": "[encoded data removed]",
            "text/plain": [
              "<matplotlib.figure.Figure at 0x7eff7aef5400>"
            ]
          },
          "metadata": {
            "tags": []
          }
        }
      ]
    },
    {
      "metadata": {
        "id": "K9LlYeXUO-8P",
        "colab_type": "text"
      },
      "cell_type": "markdown",
      "source": [
        "The lasso model decreases our R² more than our Ridge model. This is likely because our lasso model iteratively excludes unnescessary features, thus protecting us from overfitting."
      ]
    }
  ]
}
