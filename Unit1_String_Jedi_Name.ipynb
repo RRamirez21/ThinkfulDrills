{
  "nbformat": 4,
  "nbformat_minor": 0,
  "metadata": {
    "colab": {
      "name": "Unit1_String_Jedi_Name.ipynb",
      "version": "0.3.2",
      "views": {},
      "default_view": {},
      "provenance": []
    },
    "kernelspec": {
      "name": "python3",
      "display_name": "Python 3"
    }
  },
  "cells": [
    {
      "metadata": {
        "id": "81GP1UIDpIe2",
        "colab_type": "code",
        "colab": {
          "autoexec": {
            "startup": false,
            "wait_interval": 0
          }
        }
      },
      "cell_type": "code",
      "source": [
        "'''You just took a contract with the Jedi council. They need you to write a function, greet_jedi(), which takes two arguments (a first name and a last name), works out the corresponding Jedi name, and returns a string greeting the Jedi.\n",
        "\n",
        "A person's Jedi name is the first three letters of their last name followed by the first two letters of their first name. For example:\n",
        "\n",
        ">>> greet_jedi('Beyonce', 'Knowles')\n",
        "'Greetings, master KnoBe'\n",
        "Note the capitalization: the first letter of each name is capitalized. Your input may or may not be capitalized. Your function should handle it and return the Jedi name in the correct case no matter what case the input is in:\n",
        "\n",
        ">>> greet_jedi('grae', 'drake')\n",
        "'Greetings, master DraGr'\n",
        "You can trust that your input names will always be at least three characters long.\n",
        "\n",
        "If you're stuck, check out the python.org tutorial section on strings and search \"slice\".\n",
        "\n",
        "FUNDAMENTALS'''\n",
        "\n",
        "def greet_jedi(first, last):\n",
        "    first = first.capitalize()\n",
        "    last = last.capitalize()\n",
        "    funky = last[:3] + first[:2]\n",
        "    return \"Greetings, master \" + funky"
      ],
      "execution_count": 0,
      "outputs": []
    }
  ]
}