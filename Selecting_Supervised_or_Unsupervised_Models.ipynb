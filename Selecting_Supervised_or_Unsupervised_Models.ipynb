{
  "nbformat": 4,
  "nbformat_minor": 0,
  "metadata": {
    "colab": {
      "name": "Selecting Supervised or Unsupervised Models.ipynb",
      "version": "0.3.2",
      "provenance": [],
      "collapsed_sections": []
    },
    "kernelspec": {
      "name": "python3",
      "display_name": "Python 3"
    }
  },
  "cells": [
    {
      "cell_type": "markdown",
      "metadata": {
        "id": "rIkM8j2aesY-",
        "colab_type": "text"
      },
      "source": [
        "# Drill: Unsupervised or Supervised?\n",
        "\n",
        "For each of these scenarios decide if you could use supervised or unsupervised techniques, or both!"
      ]
    },
    {
      "cell_type": "markdown",
      "metadata": {
        "id": "HGkmnFnMezs4",
        "colab_type": "text"
      },
      "source": [
        "1) Define the likelihood that an individual will contract a specific disease\n",
        "\n",
        "  Supervised because we have a target outcome (whether or not the person contracted a disease) which we use to train the model."
      ]
    },
    {
      "cell_type": "markdown",
      "metadata": {
        "id": "7VqElKj4e2na",
        "colab_type": "text"
      },
      "source": [
        "2) Translate a set of images into variables for modeling\n",
        "\n",
        "Unsupervised because there is no outcome variable to predict."
      ]
    },
    {
      "cell_type": "markdown",
      "metadata": {
        "id": "ENVB1p3ve6db",
        "colab_type": "text"
      },
      "source": [
        "3) An ecommerce company wants to identify power users\n",
        "\n",
        "Both because you can build a supervised machine learning model if you know the power users and have data on their features. However, you can also use unsupervised learning like clustering to correctly identify this group based on similarities in their usage."
      ]
    },
    {
      "cell_type": "markdown",
      "metadata": {
        "id": "y3xhj2WWe8rx",
        "colab_type": "text"
      },
      "source": [
        "4) That same company wants to see shopping patterns in users\n",
        "\n",
        "Both because the company can use supervised learning if it has discrete shopping pattern data (for example customers who only buy once, customers who buy on a recurring time-basis,  customers who buy without without a distinguishable pattern, etc.) and use that as an outcome variable. However, the company can also use unsupervised learning and let the model identify its own groups via clustering."
      ]
    },
    {
      "cell_type": "markdown",
      "metadata": {
        "id": "rr3WTmRve-tv",
        "colab_type": "text"
      },
      "source": [
        "5) You want to reduce the number of variables inputting into your random forest model\n",
        "\n",
        "Unsupervised because we can use PCA to reduce the number of input variables while explaining the most possible variance in the output."
      ]
    }
  ]
}