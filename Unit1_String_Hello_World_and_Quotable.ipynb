{
  "nbformat": 4,
  "nbformat_minor": 0,
  "metadata": {
    "colab": {
      "name": "Unit1_String_Hello_World_and_Quotable.ipynb",
      "version": "0.3.2",
      "views": {},
      "default_view": {},
      "provenance": []
    },
    "kernelspec": {
      "name": "python3",
      "display_name": "Python 3"
    }
  },
  "cells": [
    {
      "metadata": {
        "id": "6vMBJ699n8x4",
        "colab_type": "code",
        "colab": {
          "autoexec": {
            "startup": false,
            "wait_interval": 0
          }
        }
      },
      "cell_type": "code",
      "source": [
        "'''Complete the function body for this hello() function so that it takes one argument (person, a string) and returns a string saying hello to that person. The result should be formatted so that when you call the function like this:\n",
        "\n",
        "hello('Grae')\n",
        "you return a string that looks like this:\n",
        "\n",
        "'Hello, Grae''''\n",
        "\n",
        "def hello(name):\n",
        "    return \"Hello, \" + name"
      ],
      "execution_count": 0,
      "outputs": []
    },
    {
      "metadata": {
        "id": "5tXsdTm5oVcU",
        "colab_type": "code",
        "colab": {
          "autoexec": {
            "startup": false,
            "wait_interval": 0
          }
        }
      },
      "cell_type": "code",
      "source": [
        "'''This function should take two string parameters: a person's name (name) and a quote of theirs (quote), and return a string attributing the quote to the person in the following format:\n",
        "\n",
        "'[name] said: \"[quote]\"'\n",
        "For example, if name is 'Grae' and 'quote' is 'Practice makes perfect' then your function should return the string\n",
        "\n",
        "'Grae said: \"Practice makes perfect\"'\n",
        "Unfortunately, something is wrong with the instructions in the function body. Your job is to fix it so the function returns correctly formatted quotes.\n",
        "\n",
        "Click the \"Train\" button to get started, and be careful with your quotation marks.'''\n",
        "\n",
        "def quotable(name, quote):\n",
        "    return name + \" said: \" + '\"' + quote + '\"'"
      ],
      "execution_count": 0,
      "outputs": []
    }
  ]
}