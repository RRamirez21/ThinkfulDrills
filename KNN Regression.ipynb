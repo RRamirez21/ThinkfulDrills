{
  "nbformat": 4,
  "nbformat_minor": 0,
  "metadata": {
    "colab": {
      "name": "KNN_Regression.ipynb",
      "version": "0.3.2",
      "provenance": [],
      "collapsed_sections": []
    },
    "kernelspec": {
      "name": "python3",
      "display_name": "Python 3"
    }
  },
  "cells": [
    {
      "metadata": {
        "id": "jLyvHUUT9CgP",
        "colab_type": "text"
      },
      "cell_type": "markdown",
      "source": [
        "# Validating KNN\n",
        "* First let me state that these two models are fantastically awful. There doesn't seem to be much of a relationship. It's all very poor. However the increased variance in the weighted model is interesting.\n",
        "\n",
        "*  Add another feature and mess around with kk and weighting to see if you can do any better than we've done so far.\n",
        "\n",
        "\n"
      ]
    },
    {
      "metadata": {
        "id": "cIi3pIuccs0l",
        "colab_type": "code",
        "colab": {}
      },
      "cell_type": "code",
      "source": [
        "import pandas as pd\n",
        "import numpy as np\n",
        "import scipy\n",
        "from scipy import stats\n",
        "import matplotlib.pyplot as plt\n",
        "%matplotlib inline\n",
        "\n",
        "music = pd.DataFrame()\n",
        "music['duration'] = [184, 134, 243, 186, 122, 197, 294, 382, 102, 264, \n",
        "                     205, 110, 307, 110, 397, 153, 190, 192, 210, 403,\n",
        "                     164, 198, 204, 253, 234, 190, 182, 401, 376, 102]\n",
        "music['loudness'] = [18, 34, 43, 36, 22, 9, 29, 22, 10, 24, \n",
        "                     20, 10, 17, 51, 7, 13, 19, 12, 21, 22,\n",
        "                     16, 18, 4, 23, 34, 19, 14, 11, 37, 42]\n",
        "music['bpm'] = [ 105, 90, 78, 75, 120, 110, 80, 100, 105, 60,\n",
        "                  70, 105, 95, 70, 90, 105, 70, 75, 102, 100,\n",
        "                  100, 95, 90, 80, 90, 80, 100, 105, 70, 65]"
      ],
      "execution_count": 0,
      "outputs": []
    },
    {
      "metadata": {
        "id": "p3TGTfEnASYF",
        "colab_type": "code",
        "colab": {
          "base_uri": "https://localhost:8080/",
          "height": 280
        },
        "outputId": "4334a70c-19d8-4e74-ab2d-f2bc04b1c2ab"
      },
      "cell_type": "code",
      "source": [
        "from sklearn import neighbors\n",
        "\n",
        "# Build our model.\n",
        "knn = neighbors.KNeighborsRegressor(n_neighbors=10)\n",
        "X = pd.DataFrame(music.loudness)\n",
        "Y = music.bpm\n",
        "knn.fit(X, Y)\n",
        "\n",
        "# Set up our prediction line.\n",
        "T = np.arange(0, 50, 0.1)[:, np.newaxis]\n",
        "\n",
        "# Trailing underscores are a common convention for a prediction.\n",
        "Y_ = knn.predict(T)\n",
        "\n",
        "plt.scatter(X, Y, c='k', label='data')\n",
        "plt.plot(T, Y_, c='g', label='prediction')\n",
        "plt.legend()\n",
        "plt.title('K=10, Unweighted')\n",
        "plt.show()"
      ],
      "execution_count": 7,
      "outputs": [
        {
          "output_type": "display_data",
          "data": {
            "image/png": "[encoded data removed]",
            "text/plain": [
              "<matplotlib.figure.Figure at 0x7feed05eaeb8>"
            ]
          },
          "metadata": {
            "tags": []
          }
        }
      ]
    },
    {
      "metadata": {
        "id": "PlYUIbvmAZWa",
        "colab_type": "code",
        "colab": {
          "base_uri": "https://localhost:8080/",
          "height": 280
        },
        "outputId": "483e8553-981e-4e90-a047-2fa9bdb94cd5"
      },
      "cell_type": "code",
      "source": [
        "# Run the same model, this time with weights.\n",
        "knn_w = neighbors.KNeighborsRegressor(n_neighbors=10, weights='distance')\n",
        "X = pd.DataFrame(music.loudness)\n",
        "Y = music.bpm\n",
        "knn_w.fit(X, Y)\n",
        "\n",
        "# Set up our prediction line.\n",
        "T = np.arange(0, 50, 0.1)[:, np.newaxis]\n",
        "\n",
        "Y_ = knn_w.predict(T)\n",
        "\n",
        "plt.scatter(X, Y, c='k', label='data')\n",
        "plt.plot(T, Y_, c='g', label='prediction')\n",
        "plt.legend()\n",
        "plt.title('K=10, Weighted')\n",
        "plt.show()"
      ],
      "execution_count": 8,
      "outputs": [
        {
          "output_type": "display_data",
          "data": {
            "image/png": "[encoded data removed]",
            "text/plain": [
              "<matplotlib.figure.Figure at 0x7feed06dc828>"
            ]
          },
          "metadata": {
            "tags": []
          }
        }
      ]
    },
    {
      "metadata": {
        "id": "YMQa75NJAdj6",
        "colab_type": "code",
        "colab": {
          "base_uri": "https://localhost:8080/",
          "height": 51
        },
        "outputId": "80800b67-363f-4840-c934-b30bb440ee66"
      },
      "cell_type": "code",
      "source": [
        "from sklearn.model_selection import cross_val_score\n",
        "score = cross_val_score(knn, X, Y, cv=5)\n",
        "print(\"Unweighted Accuracy: %0.2f (+/- %0.2f)\" % (score.mean(), score.std() * 2))\n",
        "score_w = cross_val_score(knn_w, X, Y, cv=5)\n",
        "print(\"Weighted Accuracy: %0.2f (+/- %0.2f)\" % (score_w.mean(), score_w.std() * 2))"
      ],
      "execution_count": 9,
      "outputs": [
        {
          "output_type": "stream",
          "text": [
            "Unweighted Accuracy: -0.18 (+/- 0.66)\n",
            "Weighted Accuracy: 0.11 (+/- 0.94)\n"
          ],
          "name": "stdout"
        }
      ]
    },
    {
      "metadata": {
        "id": "17bugw20BaFi",
        "colab_type": "code",
        "colab": {
          "base_uri": "https://localhost:8080/",
          "height": 34
        },
        "outputId": "f52b868a-0e91-4c4a-821b-362d0fefb094"
      },
      "cell_type": "code",
      "source": [
        "## Your model here.\n",
        "\n",
        "# Our input data frame will be the z-scores instead of the raw data and will include duration.\n",
        "X2 = pd.DataFrame({\n",
        "    'loudness': stats.zscore(music.loudness),\n",
        "    'duration': stats.zscore(music.duration)\n",
        "})\n",
        "\n",
        "#Build the model.\n",
        "k2 = 10\n",
        "knn2 = neighbors.KNeighborsRegressor(n_neighbors = k2, weights = 'distance')\n",
        "score2 = cross_val_score(knn2, X2, Y, cv=5)\n",
        "print('Weighted Accuracy: %0.2f (+/- %0.2f)' % (score2.mean(), score2.std() * 2))"
      ],
      "execution_count": 15,
      "outputs": [
        {
          "output_type": "stream",
          "text": [
            "Weighted Accuracy: -0.11 (+/- 1.05)\n"
          ],
          "name": "stdout"
        }
      ]
    },
    {
      "metadata": {
        "id": "jhZT7M00Dx-K",
        "colab_type": "text"
      },
      "cell_type": "markdown",
      "source": [
        "We are able to improve the weighted accuracy when k = 13 or k = 14."
      ]
    },
    {
      "metadata": {
        "id": "Yt0stkafCHQo",
        "colab_type": "code",
        "colab": {
          "base_uri": "https://localhost:8080/",
          "height": 799
        },
        "outputId": "5d71ec4c-d92c-4df0-b5db-64c5f2b96b0c"
      },
      "cell_type": "code",
      "source": [
        "for k2 in range(1, 24, 1):\n",
        "  knn2 = neighbors.KNeighborsRegressor(n_neighbors = k2, weights = 'distance')\n",
        "  score2 = cross_val_score(knn2, X2, Y, cv=5)\n",
        "  knn.fit(X2, Y)\n",
        "  print(\"k = %0.2f\\nWeighted Accuracy: %0.2f (+/- %0.2f)\" % (k2, score2.mean(), score2.std() * 2))"
      ],
      "execution_count": 16,
      "outputs": [
        {
          "output_type": "stream",
          "text": [
            "k = 1.00\n",
            "Weighted Accuracy: -1.73 (+/- 4.45)\n",
            "k = 2.00\n",
            "Weighted Accuracy: -1.06 (+/- 3.27)\n",
            "k = 3.00\n",
            "Weighted Accuracy: -0.62 (+/- 2.29)\n",
            "k = 4.00\n",
            "Weighted Accuracy: -0.44 (+/- 1.91)\n",
            "k = 5.00\n",
            "Weighted Accuracy: -0.43 (+/- 1.99)\n",
            "k = 6.00\n",
            "Weighted Accuracy: -0.38 (+/- 1.84)\n",
            "k = 7.00\n",
            "Weighted Accuracy: -0.37 (+/- 1.86)\n",
            "k = 8.00\n",
            "Weighted Accuracy: -0.23 (+/- 1.48)\n",
            "k = 9.00\n",
            "Weighted Accuracy: -0.17 (+/- 1.23)\n",
            "k = 10.00\n",
            "Weighted Accuracy: -0.11 (+/- 1.05)\n",
            "k = 11.00\n",
            "Weighted Accuracy: -0.11 (+/- 0.98)\n",
            "k = 12.00\n",
            "Weighted Accuracy: -0.12 (+/- 0.98)\n",
            "k = 13.00\n",
            "Weighted Accuracy: -0.10 (+/- 0.91)\n",
            "k = 14.00\n",
            "Weighted Accuracy: -0.10 (+/- 0.90)\n",
            "k = 15.00\n",
            "Weighted Accuracy: -0.11 (+/- 0.85)\n",
            "k = 16.00\n",
            "Weighted Accuracy: -0.11 (+/- 0.80)\n",
            "k = 17.00\n",
            "Weighted Accuracy: -0.12 (+/- 0.79)\n",
            "k = 18.00\n",
            "Weighted Accuracy: -0.11 (+/- 0.75)\n",
            "k = 19.00\n",
            "Weighted Accuracy: -0.13 (+/- 0.71)\n",
            "k = 20.00\n",
            "Weighted Accuracy: -0.13 (+/- 0.71)\n",
            "k = 21.00\n",
            "Weighted Accuracy: -0.13 (+/- 0.67)\n",
            "k = 22.00\n",
            "Weighted Accuracy: -0.13 (+/- 0.67)\n",
            "k = 23.00\n",
            "Weighted Accuracy: -0.14 (+/- 0.68)\n"
          ],
          "name": "stdout"
        }
      ]
    }
  ]
}
