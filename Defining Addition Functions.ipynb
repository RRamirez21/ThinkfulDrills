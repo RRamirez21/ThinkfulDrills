{
  "nbformat": 4,
  "nbformat_minor": 0,
  "metadata": {
    "colab": {
      "name": "Unit1_Logic_Graceful_Addition.ipynb",
      "version": "0.3.2",
      "views": {},
      "default_view": {},
      "provenance": []
    },
    "kernelspec": {
      "name": "python3",
      "display_name": "Python 3"
    }
  },
  "cells": [
    {
      "metadata": {
        "id": "nnpcsZilrPc-",
        "colab_type": "code",
        "colab": {
          "autoexec": {
            "startup": false,
            "wait_interval": 0
          }
        }
      },
      "cell_type": "code",
      "source": [
        "'''You like the way the Python + operator easily handles adding different numeric types, but you need a tool to do that kind of addition without killing your program with a TypeError exception whenever you accidentally try adding incompatible types like strings and lists to numbers.\n",
        "\n",
        "You decide to write a function my_add() that takes two arguments. If the arguments can be added together it returns the sum. If adding the arguments together would raise an error the function should return None instead.\n",
        "\n",
        "For example, my_add(1, 3.414) would return 4.414, but my_add(42, \" is the answer.\") would return None.\n",
        "\n",
        "Hint: using a try / except statement may simplify this kata.'''\n",
        "\n",
        "def my_add(a, b):\n",
        "    try:\n",
        "        result = a + b\n",
        "        return result\n",
        "    except TypeError:\n",
        "        return None  "
      ],
      "execution_count": 0,
      "outputs": []
    }
  ]
}
