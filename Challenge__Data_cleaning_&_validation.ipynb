{
  "nbformat": 4,
  "nbformat_minor": 0,
  "metadata": {
    "colab": {
      "name": "Challenge:_Data_cleaning_&_validation.ipynb",
      "version": "0.3.2",
      "provenance": [],
      "collapsed_sections": []
    },
    "kernelspec": {
      "name": "python3",
      "display_name": "Python 3"
    }
  },
  "cells": [
    {
      "metadata": {
        "id": "aRkCdF2z-k2s",
        "colab_type": "text"
      },
      "cell_type": "markdown",
      "source": [
        "# Contents\n",
        "\n",
        "Data cleaning is definitely a \"practice makes perfect\" skill. Using this dataset of article open-access prices paid by the WELLCOME Trust between 2012 and 2013, [determine the five most common journals and the total articles for each.](#Five Most Common Journals and their Totals) Next, [calculate the mean, median, and standard deviation of the open-access cost per article for each journal.](#Mean, Median, and Standard Deviation of the Cost per Article for each Journal) You will need to do considerable data cleaning in order to extract accurate estimates, and may want to look into data encoding methods if you get stuck."
      ]
    },
    {
      "metadata": {
        "id": "tGZUojoAVto6",
        "colab_type": "code",
        "colab": {}
      },
      "cell_type": "code",
      "source": [
        "import pandas as pd\n",
        "import numpy as np\n",
        "import matplotlib.pyplot as plt\n",
        "import seaborn as sns"
      ],
      "execution_count": 0,
      "outputs": []
    },
    {
      "metadata": {
        "id": "3j_myBzvTV1w",
        "colab_type": "code",
        "colab": {}
      },
      "cell_type": "code",
      "source": [
        "wellcome = pd.read_csv(\"https://raw.githubusercontent.com/RRamirez21/ThinkfulDrills/master/Wellcome%20Trust%20APCspend2013.csv\", encoding='ISO-8859-1')"
      ],
      "execution_count": 0,
      "outputs": []
    },
    {
      "metadata": {
        "id": "p3_lNtMXV02z",
        "colab_type": "code",
        "colab": {
          "base_uri": "https://localhost:8080/",
          "height": 68
        },
        "outputId": "3eb9b9a1-bffc-4397-816f-f25de82f005f"
      },
      "cell_type": "code",
      "source": [
        "wellcome.columns"
      ],
      "execution_count": 56,
      "outputs": [
        {
          "output_type": "execute_result",
          "data": {
            "text/plain": [
              "Index(['PMID/PMCID', 'Publisher', 'Journal title', 'Article title',\n",
              "       'COST (£) charged to Wellcome (inc VAT when charged)'],\n",
              "      dtype='object')"
            ]
          },
          "metadata": {
            "tags": []
          },
          "execution_count": 56
        }
      ]
    },
    {
      "metadata": {
        "id": "z2KyNp_5b5pu",
        "colab_type": "code",
        "colab": {}
      },
      "cell_type": "code",
      "source": [
        "wellcome.rename(columns = {'PMID/PMCID':'PMCID', 'Journal title':'Journttl', \n",
        "                           'Article title':'Article', 'COST (£) charged to Wellcome (inc VAT when charged)': \n",
        "                         'Cost'}, inplace=True)"
      ],
      "execution_count": 0,
      "outputs": []
    },
    {
      "metadata": {
        "id": "u8UQE3CZi962",
        "colab_type": "code",
        "colab": {
          "base_uri": "https://localhost:8080/",
          "height": 119
        },
        "outputId": "fe31456d-505f-406c-bbb8-f2f783a49350"
      },
      "cell_type": "code",
      "source": [
        "wellcome.isnull().sum(axis = 0)"
      ],
      "execution_count": 58,
      "outputs": [
        {
          "output_type": "execute_result",
          "data": {
            "text/plain": [
              "PMCID        199\n",
              "Publisher      0\n",
              "Journttl       1\n",
              "Article        0\n",
              "Cost           0\n",
              "dtype: int64"
            ]
          },
          "metadata": {
            "tags": []
          },
          "execution_count": 58
        }
      ]
    },
    {
      "metadata": {
        "id": "wZntn50P0l-M",
        "colab_type": "code",
        "colab": {}
      },
      "cell_type": "code",
      "source": [
        "wellcome.dropna(inplace=True)"
      ],
      "execution_count": 0,
      "outputs": []
    },
    {
      "metadata": {
        "id": "UzNys3bgF7SQ",
        "colab_type": "code",
        "colab": {}
      },
      "cell_type": "code",
      "source": [
        "wellcome['Journttl'] = [x.lower() for x in wellcome['Journttl']]"
      ],
      "execution_count": 0,
      "outputs": []
    },
    {
      "metadata": {
        "id": "FqxLCXjrLqaj",
        "colab_type": "code",
        "colab": {}
      },
      "cell_type": "code",
      "source": [
        "wellcome['Journttl'] = wellcome['Journttl'].str.strip()"
      ],
      "execution_count": 0,
      "outputs": []
    },
    {
      "metadata": {
        "id": "5FfMijI4Pu0I",
        "colab_type": "code",
        "colab": {}
      },
      "cell_type": "code",
      "source": [
        "wellcome['Journttl'] = wellcome['Journttl'].replace(' ', '', regex=True)"
      ],
      "execution_count": 0,
      "outputs": []
    },
    {
      "metadata": {
        "id": "Nc5gNYSjFzvE",
        "colab_type": "code",
        "colab": {}
      },
      "cell_type": "code",
      "source": [
        "journ_count = wellcome.groupby('Journttl').size()"
      ],
      "execution_count": 0,
      "outputs": []
    },
    {
      "metadata": {
        "id": "H3pNhtWphQER",
        "colab_type": "code",
        "colab": {
          "base_uri": "https://localhost:8080/",
          "height": 170
        },
        "outputId": "1987e5f4-6fbe-4361-a2fe-7a5d73230407"
      },
      "cell_type": "code",
      "source": [
        "journ_count.describe()"
      ],
      "execution_count": 64,
      "outputs": [
        {
          "output_type": "execute_result",
          "data": {
            "text/plain": [
              "count    819.000000\n",
              "mean       2.354090\n",
              "std        7.517487\n",
              "min        1.000000\n",
              "25%        1.000000\n",
              "50%        1.000000\n",
              "75%        2.000000\n",
              "max      197.000000\n",
              "dtype: float64"
            ]
          },
          "metadata": {
            "tags": []
          },
          "execution_count": 64
        }
      ]
    },
    {
      "metadata": {
        "id": "Gv3wyuDYQarC",
        "colab_type": "text"
      },
      "cell_type": "markdown",
      "source": [
        "--------------------\n",
        "#Five Most Common Journals and their Totals"
      ]
    },
    {
      "metadata": {
        "id": "XYcLkuCKDmVN",
        "colab_type": "code",
        "colab": {
          "base_uri": "https://localhost:8080/",
          "height": 136
        },
        "outputId": "e2ad992b-e83b-47ae-99cb-eb3c650dd661"
      },
      "cell_type": "code",
      "source": [
        "journ_count.sort_values(ascending=False)[:5]"
      ],
      "execution_count": 65,
      "outputs": [
        {
          "output_type": "execute_result",
          "data": {
            "text/plain": [
              "Journttl\n",
              "plosone                         197\n",
              "journalofbiologicalchemistry     52\n",
              "neuroimage                       28\n",
              "nucleicacidsresearch             25\n",
              "plospathogens                    24\n",
              "dtype: int64"
            ]
          },
          "metadata": {
            "tags": []
          },
          "execution_count": 65
        }
      ]
    },
    {
      "metadata": {
        "id": "wqpcqZ9OJ0Hy",
        "colab_type": "code",
        "colab": {
          "base_uri": "https://localhost:8080/",
          "height": 51
        },
        "outputId": "6b3c6a1f-ea5e-4e18-e157-dbf3f1b4a71f"
      },
      "cell_type": "code",
      "source": [
        "wellcome['Cost'].unique()"
      ],
      "execution_count": 66,
      "outputs": [
        {
          "output_type": "execute_result",
          "data": {
            "text/plain": [
              "array(['£2381.04', '£642.56', '£669.64', ..., '£2015.72', '£1334.15',\n",
              "       '£2034.75'], dtype=object)"
            ]
          },
          "metadata": {
            "tags": []
          },
          "execution_count": 66
        }
      ]
    },
    {
      "metadata": {
        "id": "ULx9LCTJ0aPP",
        "colab_type": "code",
        "colab": {}
      },
      "cell_type": "code",
      "source": [
        "def numerify(string):\n",
        "  return float(''.join(e for e in string if e.isalnum()))\n",
        "\n",
        "wellcome['Cost'] = wellcome['Cost'].apply(numerify)\n"
      ],
      "execution_count": 0,
      "outputs": []
    },
    {
      "metadata": {
        "id": "1xQjWtRF3C_j",
        "colab_type": "code",
        "colab": {
          "base_uri": "https://localhost:8080/",
          "height": 34
        },
        "outputId": "2f8a6835-8ebb-4e51-9f13-a9ab83c9de04"
      },
      "cell_type": "code",
      "source": [
        "int(wellcome['Cost'].mean())"
      ],
      "execution_count": 68,
      "outputs": [
        {
          "output_type": "execute_result",
          "data": {
            "text/plain": [
              "2272467"
            ]
          },
          "metadata": {
            "tags": []
          },
          "execution_count": 68
        }
      ]
    },
    {
      "metadata": {
        "id": "tXGTvEf1Re2H",
        "colab_type": "text"
      },
      "cell_type": "markdown",
      "source": [
        "--------------------\n",
        "#Mean, Median, and Standard Deviation of the Cost per Article for each Journal"
      ]
    },
    {
      "metadata": {
        "id": "cj1DWljnDt-2",
        "colab_type": "code",
        "colab": {}
      },
      "cell_type": "code",
      "source": [
        "pd.set_option('display.float_format', lambda x: '%.3f' % x)"
      ],
      "execution_count": 0,
      "outputs": []
    },
    {
      "metadata": {
        "id": "pmHUeHgo4Hss",
        "colab_type": "code",
        "colab": {
          "base_uri": "https://localhost:8080/",
          "height": 1969
        },
        "outputId": "22ccda8c-26c4-40ac-8920-b9caafe05262"
      },
      "cell_type": "code",
      "source": [
        "wellcome.groupby('Journttl', as_index=False)['Cost'].mean()"
      ],
      "execution_count": 70,
      "outputs": [
        {
          "output_type": "execute_result",
          "data": {
            "text/html": [
              "<div>\n",
              "<style scoped>\n",
              "    .dataframe tbody tr th:only-of-type {\n",
              "        vertical-align: middle;\n",
              "    }\n",
              "\n",
              "    .dataframe tbody tr th {\n",
              "        vertical-align: top;\n",
              "    }\n",
              "\n",
              "    .dataframe thead th {\n",
              "        text-align: right;\n",
              "    }\n",
              "</style>\n",
              "<table border=\"1\" class=\"dataframe\">\n",
              "  <thead>\n",
              "    <tr style=\"text-align: right;\">\n",
              "      <th></th>\n",
              "      <th>Journttl</th>\n",
              "      <th>Cost</th>\n",
              "    </tr>\n",
              "  </thead>\n",
              "  <tbody>\n",
              "    <tr>\n",
              "      <th>0</th>\n",
              "      <td>academyofnutritionanddietetics</td>\n",
              "      <td>237954.000</td>\n",
              "    </tr>\n",
              "    <tr>\n",
              "      <th>1</th>\n",
              "      <td>acschemicalbiology</td>\n",
              "      <td>153596.500</td>\n",
              "    </tr>\n",
              "    <tr>\n",
              "      <th>2</th>\n",
              "      <td>acschemicalneuroscience</td>\n",
              "      <td>118680.000</td>\n",
              "    </tr>\n",
              "    <tr>\n",
              "      <th>3</th>\n",
              "      <td>acsnano</td>\n",
              "      <td>66814.000</td>\n",
              "    </tr>\n",
              "    <tr>\n",
              "      <th>4</th>\n",
              "      <td>actacrystallographica,sectiond</td>\n",
              "      <td>75718.000</td>\n",
              "    </tr>\n",
              "    <tr>\n",
              "      <th>5</th>\n",
              "      <td>actacrystallographicasectiond,biologicalcrysta...</td>\n",
              "      <td>77142.000</td>\n",
              "    </tr>\n",
              "    <tr>\n",
              "      <th>6</th>\n",
              "      <td>actacrystallographicasectiond:biologicalcrysta...</td>\n",
              "      <td>77374.000</td>\n",
              "    </tr>\n",
              "    <tr>\n",
              "      <th>7</th>\n",
              "      <td>actacrystallographicasectionf:structuralbiolog...</td>\n",
              "      <td>79663.500</td>\n",
              "    </tr>\n",
              "    <tr>\n",
              "      <th>8</th>\n",
              "      <td>actacrystallographyd</td>\n",
              "      <td>77419.000</td>\n",
              "    </tr>\n",
              "    <tr>\n",
              "      <th>9</th>\n",
              "      <td>actad</td>\n",
              "      <td>75016.000</td>\n",
              "    </tr>\n",
              "    <tr>\n",
              "      <th>10</th>\n",
              "      <td>actadermatovenereologica</td>\n",
              "      <td>65396.000</td>\n",
              "    </tr>\n",
              "    <tr>\n",
              "      <th>11</th>\n",
              "      <td>actadiabetologica</td>\n",
              "      <td>233628.000</td>\n",
              "    </tr>\n",
              "    <tr>\n",
              "      <th>12</th>\n",
              "      <td>actaf</td>\n",
              "      <td>75490.000</td>\n",
              "    </tr>\n",
              "    <tr>\n",
              "      <th>13</th>\n",
              "      <td>actaneuropathol</td>\n",
              "      <td>190104.000</td>\n",
              "    </tr>\n",
              "    <tr>\n",
              "      <th>14</th>\n",
              "      <td>actaneuropathologica</td>\n",
              "      <td>229959.000</td>\n",
              "    </tr>\n",
              "    <tr>\n",
              "      <th>15</th>\n",
              "      <td>actaopthalmologica</td>\n",
              "      <td>227016.000</td>\n",
              "    </tr>\n",
              "    <tr>\n",
              "      <th>16</th>\n",
              "      <td>actaphysiol</td>\n",
              "      <td>199150.000</td>\n",
              "    </tr>\n",
              "    <tr>\n",
              "      <th>17</th>\n",
              "      <td>addiction</td>\n",
              "      <td>213622.500</td>\n",
              "    </tr>\n",
              "    <tr>\n",
              "      <th>18</th>\n",
              "      <td>age</td>\n",
              "      <td>217014.000</td>\n",
              "    </tr>\n",
              "    <tr>\n",
              "      <th>19</th>\n",
              "      <td>ageandageing</td>\n",
              "      <td>204000.000</td>\n",
              "    </tr>\n",
              "    <tr>\n",
              "      <th>20</th>\n",
              "      <td>agingcell</td>\n",
              "      <td>197057.000</td>\n",
              "    </tr>\n",
              "    <tr>\n",
              "      <th>21</th>\n",
              "      <td>aids</td>\n",
              "      <td>205930.667</td>\n",
              "    </tr>\n",
              "    <tr>\n",
              "      <th>22</th>\n",
              "      <td>aidsbehav</td>\n",
              "      <td>183477.000</td>\n",
              "    </tr>\n",
              "    <tr>\n",
              "      <th>23</th>\n",
              "      <td>aidscare</td>\n",
              "      <td>229422.500</td>\n",
              "    </tr>\n",
              "    <tr>\n",
              "      <th>24</th>\n",
              "      <td>aidsjournal</td>\n",
              "      <td>201572.000</td>\n",
              "    </tr>\n",
              "    <tr>\n",
              "      <th>25</th>\n",
              "      <td>aidsresearchandtherapy</td>\n",
              "      <td>124000.000</td>\n",
              "    </tr>\n",
              "    <tr>\n",
              "      <th>26</th>\n",
              "      <td>aidsuk</td>\n",
              "      <td>183692.000</td>\n",
              "    </tr>\n",
              "    <tr>\n",
              "      <th>27</th>\n",
              "      <td>alcoholandalcoholism</td>\n",
              "      <td>204000.000</td>\n",
              "    </tr>\n",
              "    <tr>\n",
              "      <th>28</th>\n",
              "      <td>alimentrarypharmacology&amp;therapeutics</td>\n",
              "      <td>237359.000</td>\n",
              "    </tr>\n",
              "    <tr>\n",
              "      <th>29</th>\n",
              "      <td>americaljournalofpsychiatry</td>\n",
              "      <td>235002.000</td>\n",
              "    </tr>\n",
              "    <tr>\n",
              "      <th>...</th>\n",
              "      <td>...</td>\n",
              "      <td>...</td>\n",
              "    </tr>\n",
              "    <tr>\n",
              "      <th>789</th>\n",
              "      <td>thoraxaninternationaljournalforrespiratorymedi...</td>\n",
              "      <td>234000.000</td>\n",
              "    </tr>\n",
              "    <tr>\n",
              "      <th>790</th>\n",
              "      <td>ticksandtick-bornediseases</td>\n",
              "      <td>286373.000</td>\n",
              "    </tr>\n",
              "    <tr>\n",
              "      <th>791</th>\n",
              "      <td>tissueengineering:parta</td>\n",
              "      <td>174132.000</td>\n",
              "    </tr>\n",
              "    <tr>\n",
              "      <th>792</th>\n",
              "      <td>traffic</td>\n",
              "      <td>208147.400</td>\n",
              "    </tr>\n",
              "    <tr>\n",
              "      <th>793</th>\n",
              "      <td>transactionsoftheroyalsocietyoftropicalmedicin...</td>\n",
              "      <td>152408.000</td>\n",
              "    </tr>\n",
              "    <tr>\n",
              "      <th>794</th>\n",
              "      <td>translationalpsychiatry</td>\n",
              "      <td>288000.000</td>\n",
              "    </tr>\n",
              "    <tr>\n",
              "      <th>795</th>\n",
              "      <td>trendsincognitivescience</td>\n",
              "      <td>234063.000</td>\n",
              "    </tr>\n",
              "    <tr>\n",
              "      <th>796</th>\n",
              "      <td>trendsingenetics</td>\n",
              "      <td>237093.500</td>\n",
              "    </tr>\n",
              "    <tr>\n",
              "      <th>797</th>\n",
              "      <td>trendsinmicrobiology</td>\n",
              "      <td>229133.000</td>\n",
              "    </tr>\n",
              "    <tr>\n",
              "      <th>798</th>\n",
              "      <td>trendsinmolecularmedicine</td>\n",
              "      <td>224833.000</td>\n",
              "    </tr>\n",
              "    <tr>\n",
              "      <th>799</th>\n",
              "      <td>trendsinneuroscience</td>\n",
              "      <td>240281.000</td>\n",
              "    </tr>\n",
              "    <tr>\n",
              "      <th>800</th>\n",
              "      <td>trendsinneurosciences</td>\n",
              "      <td>242696.000</td>\n",
              "    </tr>\n",
              "    <tr>\n",
              "      <th>801</th>\n",
              "      <td>trials</td>\n",
              "      <td>20096018.000</td>\n",
              "    </tr>\n",
              "    <tr>\n",
              "      <th>802</th>\n",
              "      <td>tropicalanimalhealth&amp;production</td>\n",
              "      <td>205478.000</td>\n",
              "    </tr>\n",
              "    <tr>\n",
              "      <th>803</th>\n",
              "      <td>tropicalmedicineandinternationalhealth</td>\n",
              "      <td>182193.200</td>\n",
              "    </tr>\n",
              "    <tr>\n",
              "      <th>804</th>\n",
              "      <td>tropmedinthealth</td>\n",
              "      <td>183477.000</td>\n",
              "    </tr>\n",
              "    <tr>\n",
              "      <th>805</th>\n",
              "      <td>tuberculosis</td>\n",
              "      <td>216125.500</td>\n",
              "    </tr>\n",
              "    <tr>\n",
              "      <th>806</th>\n",
              "      <td>urolithiasis</td>\n",
              "      <td>111240.000</td>\n",
              "    </tr>\n",
              "    <tr>\n",
              "      <th>807</th>\n",
              "      <td>vaccine</td>\n",
              "      <td>162339.400</td>\n",
              "    </tr>\n",
              "    <tr>\n",
              "      <th>808</th>\n",
              "      <td>vascularpharmacology</td>\n",
              "      <td>235253.000</td>\n",
              "    </tr>\n",
              "    <tr>\n",
              "      <th>809</th>\n",
              "      <td>veterinarymicrobiology</td>\n",
              "      <td>245149.000</td>\n",
              "    </tr>\n",
              "    <tr>\n",
              "      <th>810</th>\n",
              "      <td>veterinaryparasitology</td>\n",
              "      <td>248817.000</td>\n",
              "    </tr>\n",
              "    <tr>\n",
              "      <th>811</th>\n",
              "      <td>veterinaryrecord</td>\n",
              "      <td>204000.000</td>\n",
              "    </tr>\n",
              "    <tr>\n",
              "      <th>812</th>\n",
              "      <td>veterinaryresearch</td>\n",
              "      <td>993.000</td>\n",
              "    </tr>\n",
              "    <tr>\n",
              "      <th>813</th>\n",
              "      <td>virology</td>\n",
              "      <td>192850.500</td>\n",
              "    </tr>\n",
              "    <tr>\n",
              "      <th>814</th>\n",
              "      <td>virologyjournal</td>\n",
              "      <td>124200.000</td>\n",
              "    </tr>\n",
              "    <tr>\n",
              "      <th>815</th>\n",
              "      <td>virusresearch</td>\n",
              "      <td>194709.000</td>\n",
              "    </tr>\n",
              "    <tr>\n",
              "      <th>816</th>\n",
              "      <td>visionresearch</td>\n",
              "      <td>50072759.000</td>\n",
              "    </tr>\n",
              "    <tr>\n",
              "      <th>817</th>\n",
              "      <td>visualneuroscience</td>\n",
              "      <td>203400.000</td>\n",
              "    </tr>\n",
              "    <tr>\n",
              "      <th>818</th>\n",
              "      <td>zoonosesandpublichealth</td>\n",
              "      <td>227215.000</td>\n",
              "    </tr>\n",
              "  </tbody>\n",
              "</table>\n",
              "<p>819 rows × 2 columns</p>\n",
              "</div>"
            ],
            "text/plain": [
              "                                              Journttl         Cost\n",
              "0                       academyofnutritionanddietetics   237954.000\n",
              "1                                   acschemicalbiology   153596.500\n",
              "2                              acschemicalneuroscience   118680.000\n",
              "3                                              acsnano    66814.000\n",
              "4                       actacrystallographica,sectiond    75718.000\n",
              "5    actacrystallographicasectiond,biologicalcrysta...    77142.000\n",
              "6    actacrystallographicasectiond:biologicalcrysta...    77374.000\n",
              "7    actacrystallographicasectionf:structuralbiolog...    79663.500\n",
              "8                                 actacrystallographyd    77419.000\n",
              "9                                                actad    75016.000\n",
              "10                            actadermatovenereologica    65396.000\n",
              "11                                   actadiabetologica   233628.000\n",
              "12                                               actaf    75490.000\n",
              "13                                     actaneuropathol   190104.000\n",
              "14                                actaneuropathologica   229959.000\n",
              "15                                  actaopthalmologica   227016.000\n",
              "16                                         actaphysiol   199150.000\n",
              "17                                           addiction   213622.500\n",
              "18                                                 age   217014.000\n",
              "19                                        ageandageing   204000.000\n",
              "20                                           agingcell   197057.000\n",
              "21                                                aids   205930.667\n",
              "22                                           aidsbehav   183477.000\n",
              "23                                            aidscare   229422.500\n",
              "24                                         aidsjournal   201572.000\n",
              "25                              aidsresearchandtherapy   124000.000\n",
              "26                                              aidsuk   183692.000\n",
              "27                                alcoholandalcoholism   204000.000\n",
              "28                alimentrarypharmacology&therapeutics   237359.000\n",
              "29                         americaljournalofpsychiatry   235002.000\n",
              "..                                                 ...          ...\n",
              "789  thoraxaninternationaljournalforrespiratorymedi...   234000.000\n",
              "790                         ticksandtick-bornediseases   286373.000\n",
              "791                            tissueengineering:parta   174132.000\n",
              "792                                            traffic   208147.400\n",
              "793  transactionsoftheroyalsocietyoftropicalmedicin...   152408.000\n",
              "794                            translationalpsychiatry   288000.000\n",
              "795                           trendsincognitivescience   234063.000\n",
              "796                                   trendsingenetics   237093.500\n",
              "797                               trendsinmicrobiology   229133.000\n",
              "798                          trendsinmolecularmedicine   224833.000\n",
              "799                               trendsinneuroscience   240281.000\n",
              "800                              trendsinneurosciences   242696.000\n",
              "801                                             trials 20096018.000\n",
              "802                    tropicalanimalhealth&production   205478.000\n",
              "803             tropicalmedicineandinternationalhealth   182193.200\n",
              "804                                   tropmedinthealth   183477.000\n",
              "805                                       tuberculosis   216125.500\n",
              "806                                       urolithiasis   111240.000\n",
              "807                                            vaccine   162339.400\n",
              "808                               vascularpharmacology   235253.000\n",
              "809                             veterinarymicrobiology   245149.000\n",
              "810                             veterinaryparasitology   248817.000\n",
              "811                                   veterinaryrecord   204000.000\n",
              "812                                 veterinaryresearch      993.000\n",
              "813                                           virology   192850.500\n",
              "814                                    virologyjournal   124200.000\n",
              "815                                      virusresearch   194709.000\n",
              "816                                     visionresearch 50072759.000\n",
              "817                                 visualneuroscience   203400.000\n",
              "818                            zoonosesandpublichealth   227215.000\n",
              "\n",
              "[819 rows x 2 columns]"
            ]
          },
          "metadata": {
            "tags": []
          },
          "execution_count": 70
        }
      ]
    },
    {
      "metadata": {
        "id": "94eoLZ0yD6dI",
        "colab_type": "code",
        "colab": {}
      },
      "cell_type": "code",
      "source": [
        ""
      ],
      "execution_count": 0,
      "outputs": []
    }
  ]
}